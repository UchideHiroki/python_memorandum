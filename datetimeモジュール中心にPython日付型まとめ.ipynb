{
 "cells": [
  {
   "cell_type": "markdown",
   "metadata": {},
   "source": [
    "# datetime: 日付と時刻"
   ]
  },
  {
   "cell_type": "markdown",
   "metadata": {},
   "source": [
    "ディレクティブについては以下を参照  \n",
    "[8.1. datetime — 基本的な日付型および時間型](https://docs.python.jp/3/library/datetime.html)"
   ]
  },
  {
   "cell_type": "markdown",
   "metadata": {},
   "source": [
    "timeやcalenderもあるらしいのでそのうち使ってみたい"
   ]
  },
  {
   "cell_type": "markdown",
   "metadata": {},
   "source": [
    "利用可能なデータ型\n",
    "\n",
    "* class datetime.date\n",
    "* class datetime.time\n",
    "* class datetime.datetime\n",
    "* class datetime.timedelta\n",
    "* class datetime.tzinfo\n",
    "* class datetime.timezone"
   ]
  },
  {
   "cell_type": "markdown",
   "metadata": {},
   "source": [
    "変換は基本datetime型にしてから任意の型に変換する"
   ]
  },
  {
   "cell_type": "code",
   "execution_count": 10,
   "metadata": {
    "collapsed": true
   },
   "outputs": [],
   "source": [
    "from datetime import datetime, time, date, timedelta"
   ]
  },
  {
   "cell_type": "code",
   "execution_count": 11,
   "metadata": {},
   "outputs": [],
   "source": [
    "string_date = \"1145年 1月4日 1時9分19秒\"\n",
    "\n",
    "'''\n",
    "文字型からdatetime型に変換するときはdatetime.strptime(\"文字列\", ディレクティブ(変換パターンを示したもの))を使う\n",
    "'''\n",
    "now = datetime.strptime(string_date, \"%Y年 %m月%d日 %H時%M分%S秒\")"
   ]
  },
  {
   "cell_type": "code",
   "execution_count": 12,
   "metadata": {},
   "outputs": [
    {
     "data": {
      "text/plain": [
       "3"
      ]
     },
     "execution_count": 12,
     "metadata": {},
     "output_type": "execute_result"
    }
   ],
   "source": [
    "now.year #年\n",
    "now.month #月\n",
    "now.day # 日\n",
    "now.hour # 時間\n",
    "now.minute # 分\n",
    "now.second # 秒\n",
    "now.microsecond #ミリ秒\n",
    "\n",
    "now.weekday() # 曜日"
   ]
  },
  {
   "cell_type": "code",
   "execution_count": 13,
   "metadata": {},
   "outputs": [
    {
     "data": {
      "text/plain": [
       "datetime.datetime(9999, 12, 31, 23, 59, 59, 999999)"
      ]
     },
     "execution_count": 13,
     "metadata": {},
     "output_type": "execute_result"
    }
   ],
   "source": [
    "datetime.min # datetimeの最小値\n",
    "datetime.max # datetimeの最大値"
   ]
  },
  {
   "cell_type": "code",
   "execution_count": 14,
   "metadata": {},
   "outputs": [
    {
     "data": {
      "text/plain": [
       "datetime.time(1, 9, 19)"
      ]
     },
     "execution_count": 14,
     "metadata": {},
     "output_type": "execute_result"
    }
   ],
   "source": [
    "now.date() # date型\n",
    "now.time() # time型"
   ]
  },
  {
   "cell_type": "code",
   "execution_count": 29,
   "metadata": {},
   "outputs": [
    {
     "data": {
      "text/plain": [
       "datetime.date(1142, 4, 10)"
      ]
     },
     "execution_count": 29,
     "metadata": {},
     "output_type": "execute_result"
    }
   ],
   "source": [
    "'''\n",
    "datetime型同士の計算\n",
    "date型は足せるけどtime型は計算できない\n",
    "'''\n",
    "\n",
    "now.date() - timedelta(days=1000)"
   ]
  },
  {
   "cell_type": "markdown",
   "metadata": {},
   "source": [
    "datetime型はmatplotlibに直接渡せるので便利"
   ]
  },
  {
   "cell_type": "markdown",
   "metadata": {},
   "source": [
    "# timestamp型とのやりとり\n",
    "\n",
    "timestampとはUNIX時間(1979年1月1日)"
   ]
  },
  {
   "cell_type": "code",
   "execution_count": 57,
   "metadata": {},
   "outputs": [
    {
     "data": {
      "text/plain": [
       "114514194.0"
      ]
     },
     "execution_count": 57,
     "metadata": {},
     "output_type": "execute_result"
    }
   ],
   "source": [
    "'''\n",
    "datetime.fromtimestamp(float)でtimestampからdatetimeに変換できる\n",
    "'''\n",
    "tmp = datetime.fromtimestamp(114514194)\n",
    "\n",
    "'''\n",
    "datetime.timestamp()でdatetimeからtimestampに変換できる\n",
    "'''\n",
    "tmp.timestamp()"
   ]
  },
  {
   "cell_type": "markdown",
   "metadata": {},
   "source": [
    "基本的に日付型は全部datetimeで持ってるとよい"
   ]
  }
 ],
 "metadata": {
  "kernelspec": {
   "display_name": "Python 3",
   "language": "python",
   "name": "python3"
  },
  "language_info": {
   "codemirror_mode": {
    "name": "ipython",
    "version": 3
   },
   "file_extension": ".py",
   "mimetype": "text/x-python",
   "name": "python",
   "nbconvert_exporter": "python",
   "pygments_lexer": "ipython3",
   "version": "3.6.3"
  },
  "toc": {
   "nav_menu": {},
   "number_sections": true,
   "sideBar": true,
   "skip_h1_title": false,
   "title_cell": "Table of Contents",
   "title_sidebar": "Contents",
   "toc_cell": false,
   "toc_position": {},
   "toc_section_display": true,
   "toc_window_display": false
  }
 },
 "nbformat": 4,
 "nbformat_minor": 2
}
