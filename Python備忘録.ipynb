{
 "cells": [
  {
   "cell_type": "markdown",
   "metadata": {},
   "source": [
    "# 使える関数まとめ"
   ]
  },
  {
   "cell_type": "markdown",
   "metadata": {},
   "source": [
    "## ライブラリの読み込み"
   ]
  },
  {
   "cell_type": "markdown",
   "metadata": {},
   "source": [
    "### 使用ライブラリ"
   ]
  },
  {
   "cell_type": "code",
   "execution_count": 1,
   "metadata": {},
   "outputs": [
    {
     "name": "stderr",
     "output_type": "stream",
     "text": [
      "/Users/uchidehiroki/anaconda/lib/python3.6/site-packages/sklearn/cross_validation.py:41: DeprecationWarning: This module was deprecated in version 0.18 in favor of the model_selection module into which all the refactored classes and functions are moved. Also note that the interface of the new CV iterators are different from that of this module. This module will be removed in 0.20.\n",
      "  \"This module will be removed in 0.20.\", DeprecationWarning)\n",
      "/Users/uchidehiroki/anaconda/lib/python3.6/site-packages/sklearn/grid_search.py:42: DeprecationWarning: This module was deprecated in version 0.18 in favor of the model_selection module into which all the refactored classes and functions are moved. This module will be removed in 0.20.\n",
      "  DeprecationWarning)\n",
      "/Users/uchidehiroki/anaconda/lib/python3.6/site-packages/sklearn/learning_curve.py:22: DeprecationWarning: This module was deprecated in version 0.18 in favor of the model_selection module into which all the functions are moved. This module will be removed in 0.20\n",
      "  DeprecationWarning)\n"
     ]
    }
   ],
   "source": [
    "##ライブラリの読み込み\n",
    "import pandas as pd\n",
    "import numpy as np\n",
    "import matplotlib.pyplot as plt\n",
    "import seaborn as sns\n",
    "from sklearn import *\n",
    "from tqdm import tqdm\n",
    "from IPython.display import Image, display_png\n",
    "import math\n",
    "\n",
    "%matplotlib inline\n",
    "sns.set_style('darkgrid')\n",
    "plt.rcParams['font.family'] = 'IPAPGothic'\n",
    "plt.rcParams['font.size'] = 18"
   ]
  },
  {
   "cell_type": "markdown",
   "metadata": {},
   "source": [
    "## データの読み込み"
   ]
  },
  {
   "cell_type": "markdown",
   "metadata": {},
   "source": [
    "### CSV読み込みは基本これ"
   ]
  },
  {
   "cell_type": "code",
   "execution_count": null,
   "metadata": {
    "collapsed": true
   },
   "outputs": [],
   "source": [
    "data = pd.read_csv('hoge/hoge.csv')\n",
    "\n",
    "data = {\n",
    "    'hoge': pd.read_csv('hoge/hoge.csv'),\n",
    "    'huga': pd.read_csv('huga/huga.csv')\n",
    "}"
   ]
  },
  {
   "cell_type": "code",
   "execution_count": 10,
   "metadata": {
    "collapsed": true
   },
   "outputs": [],
   "source": [
    "iris = datasets.load_iris()"
   ]
  },
  {
   "cell_type": "code",
   "execution_count": 11,
   "metadata": {
    "collapsed": true
   },
   "outputs": [],
   "source": [
    "data = pd.DataFrame(iris.data, columns=iris.feature_names)"
   ]
  },
  {
   "cell_type": "markdown",
   "metadata": {},
   "source": [
    "## 前処理"
   ]
  },
  {
   "cell_type": "markdown",
   "metadata": {},
   "source": [
    "### NA周り"
   ]
  },
  {
   "cell_type": "code",
   "execution_count": null,
   "metadata": {
    "collapsed": true
   },
   "outputs": [],
   "source": [
    "data.dropna() #欠測値がある行を取り除く\n",
    "data.dropna(axis=1) #欠測値がある列を取り除く\n",
    "data.dropna(subset=['hoge']) #hoge列に欠測値がある行を取り除く\n",
    "data.dropna(subset=['hoge'], axis=1) #hoge行に欠測値がある列を取り除く"
   ]
  },
  {
   "cell_type": "markdown",
   "metadata": {},
   "source": [
    "### データの結合"
   ]
  },
  {
   "cell_type": "code",
   "execution_count": null,
   "metadata": {
    "collapsed": true
   },
   "outputs": [],
   "source": [
    "pd.concat([hoge, huga]) #行結合\n",
    "pd.concat([hoge, huga], axis=1) #列結合"
   ]
  },
  {
   "cell_type": "markdown",
   "metadata": {},
   "source": [
    "### 並び替え"
   ]
  },
  {
   "cell_type": "code",
   "execution_count": null,
   "metadata": {
    "collapsed": true
   },
   "outputs": [],
   "source": [
    "data.sort_values(by='hoge', ascending=True) #昇順\n",
    "data.sort_values(by='hoge', ascending=False) #降順\n",
    "\n",
    "data.sort_index(ascending=True) #インデックスで昇順\n",
    "data.sort_index(ascending=False) #インデックスで降順"
   ]
  },
  {
   "cell_type": "markdown",
   "metadata": {},
   "source": [
    "### 列名の変更"
   ]
  },
  {
   "cell_type": "code",
   "execution_count": null,
   "metadata": {
    "collapsed": true
   },
   "outputs": [],
   "source": [
    "data = data.rename(columns={\"before\" : \"after\"}, inplace=False) #代入したものを変更\n",
    "data.rename(columns={\"age\" : \"Age\"}, inplace=True) #代入せずに直接変更"
   ]
  },
  {
   "cell_type": "markdown",
   "metadata": {},
   "source": [
    "### 行に対して関数の実行"
   ]
  },
  {
   "cell_type": "code",
   "execution_count": null,
   "metadata": {
    "collapsed": true
   },
   "outputs": [],
   "source": [
    "data['str_cd'] = data.apply(lambda x: str(x['str_cd']), axis=1) #applyの使い方,axis=1は行、axis=0は列？"
   ]
  },
  {
   "cell_type": "markdown",
   "metadata": {},
   "source": [
    "### 値の格納"
   ]
  },
  {
   "cell_type": "code",
   "execution_count": null,
   "metadata": {
    "collapsed": true
   },
   "outputs": [],
   "source": [
    "#listの場合\n",
    "a_list = []\n",
    "a_list.append() #オブジェクトをそのまま追加\n",
    "a_list.extend() #オブジェクトを要素単位で追加\n",
    "\n",
    "#dictionaryの場合\n",
    "a_dict = {}\n",
    "a_dict.update(辞書型) #辞書の追加、同じkeyで違うvalueが追加された場合はvalueを上書きする\n",
    "a_dict.keys() #keyの参照\n",
    "a_dict.values() #valueの参照"
   ]
  },
  {
   "cell_type": "markdown",
   "metadata": {},
   "source": [
    "### 型変換"
   ]
  },
  {
   "cell_type": "code",
   "execution_count": null,
   "metadata": {
    "collapsed": true
   },
   "outputs": [],
   "source": [
    "X = np.array(data).reshape(99, 99, 99)"
   ]
  },
  {
   "cell_type": "markdown",
   "metadata": {},
   "source": [
    "### よく使う関数"
   ]
  },
  {
   "cell_type": "code",
   "execution_count": 27,
   "metadata": {
    "scrolled": true
   },
   "outputs": [
    {
     "data": {
      "text/plain": [
       "[('a', 'b', 'c', 'd', 'e'),\n",
       " ('a', 'b', 'c', 'e', 'd'),\n",
       " ('a', 'b', 'd', 'c', 'e'),\n",
       " ('a', 'b', 'd', 'e', 'c'),\n",
       " ('a', 'b', 'e', 'c', 'd'),\n",
       " ('a', 'b', 'e', 'd', 'c'),\n",
       " ('a', 'c', 'b', 'd', 'e'),\n",
       " ('a', 'c', 'b', 'e', 'd'),\n",
       " ('a', 'c', 'd', 'b', 'e'),\n",
       " ('a', 'c', 'd', 'e', 'b'),\n",
       " ('a', 'c', 'e', 'b', 'd'),\n",
       " ('a', 'c', 'e', 'd', 'b'),\n",
       " ('a', 'd', 'b', 'c', 'e'),\n",
       " ('a', 'd', 'b', 'e', 'c'),\n",
       " ('a', 'd', 'c', 'b', 'e'),\n",
       " ('a', 'd', 'c', 'e', 'b'),\n",
       " ('a', 'd', 'e', 'b', 'c'),\n",
       " ('a', 'd', 'e', 'c', 'b'),\n",
       " ('a', 'e', 'b', 'c', 'd'),\n",
       " ('a', 'e', 'b', 'd', 'c'),\n",
       " ('a', 'e', 'c', 'b', 'd'),\n",
       " ('a', 'e', 'c', 'd', 'b'),\n",
       " ('a', 'e', 'd', 'b', 'c'),\n",
       " ('a', 'e', 'd', 'c', 'b'),\n",
       " ('b', 'a', 'c', 'd', 'e'),\n",
       " ('b', 'a', 'c', 'e', 'd'),\n",
       " ('b', 'a', 'd', 'c', 'e'),\n",
       " ('b', 'a', 'd', 'e', 'c'),\n",
       " ('b', 'a', 'e', 'c', 'd'),\n",
       " ('b', 'a', 'e', 'd', 'c'),\n",
       " ('b', 'c', 'a', 'd', 'e'),\n",
       " ('b', 'c', 'a', 'e', 'd'),\n",
       " ('b', 'c', 'd', 'a', 'e'),\n",
       " ('b', 'c', 'd', 'e', 'a'),\n",
       " ('b', 'c', 'e', 'a', 'd'),\n",
       " ('b', 'c', 'e', 'd', 'a'),\n",
       " ('b', 'd', 'a', 'c', 'e'),\n",
       " ('b', 'd', 'a', 'e', 'c'),\n",
       " ('b', 'd', 'c', 'a', 'e'),\n",
       " ('b', 'd', 'c', 'e', 'a'),\n",
       " ('b', 'd', 'e', 'a', 'c'),\n",
       " ('b', 'd', 'e', 'c', 'a'),\n",
       " ('b', 'e', 'a', 'c', 'd'),\n",
       " ('b', 'e', 'a', 'd', 'c'),\n",
       " ('b', 'e', 'c', 'a', 'd'),\n",
       " ('b', 'e', 'c', 'd', 'a'),\n",
       " ('b', 'e', 'd', 'a', 'c'),\n",
       " ('b', 'e', 'd', 'c', 'a'),\n",
       " ('c', 'a', 'b', 'd', 'e'),\n",
       " ('c', 'a', 'b', 'e', 'd'),\n",
       " ('c', 'a', 'd', 'b', 'e'),\n",
       " ('c', 'a', 'd', 'e', 'b'),\n",
       " ('c', 'a', 'e', 'b', 'd'),\n",
       " ('c', 'a', 'e', 'd', 'b'),\n",
       " ('c', 'b', 'a', 'd', 'e'),\n",
       " ('c', 'b', 'a', 'e', 'd'),\n",
       " ('c', 'b', 'd', 'a', 'e'),\n",
       " ('c', 'b', 'd', 'e', 'a'),\n",
       " ('c', 'b', 'e', 'a', 'd'),\n",
       " ('c', 'b', 'e', 'd', 'a'),\n",
       " ('c', 'd', 'a', 'b', 'e'),\n",
       " ('c', 'd', 'a', 'e', 'b'),\n",
       " ('c', 'd', 'b', 'a', 'e'),\n",
       " ('c', 'd', 'b', 'e', 'a'),\n",
       " ('c', 'd', 'e', 'a', 'b'),\n",
       " ('c', 'd', 'e', 'b', 'a'),\n",
       " ('c', 'e', 'a', 'b', 'd'),\n",
       " ('c', 'e', 'a', 'd', 'b'),\n",
       " ('c', 'e', 'b', 'a', 'd'),\n",
       " ('c', 'e', 'b', 'd', 'a'),\n",
       " ('c', 'e', 'd', 'a', 'b'),\n",
       " ('c', 'e', 'd', 'b', 'a'),\n",
       " ('d', 'a', 'b', 'c', 'e'),\n",
       " ('d', 'a', 'b', 'e', 'c'),\n",
       " ('d', 'a', 'c', 'b', 'e'),\n",
       " ('d', 'a', 'c', 'e', 'b'),\n",
       " ('d', 'a', 'e', 'b', 'c'),\n",
       " ('d', 'a', 'e', 'c', 'b'),\n",
       " ('d', 'b', 'a', 'c', 'e'),\n",
       " ('d', 'b', 'a', 'e', 'c'),\n",
       " ('d', 'b', 'c', 'a', 'e'),\n",
       " ('d', 'b', 'c', 'e', 'a'),\n",
       " ('d', 'b', 'e', 'a', 'c'),\n",
       " ('d', 'b', 'e', 'c', 'a'),\n",
       " ('d', 'c', 'a', 'b', 'e'),\n",
       " ('d', 'c', 'a', 'e', 'b'),\n",
       " ('d', 'c', 'b', 'a', 'e'),\n",
       " ('d', 'c', 'b', 'e', 'a'),\n",
       " ('d', 'c', 'e', 'a', 'b'),\n",
       " ('d', 'c', 'e', 'b', 'a'),\n",
       " ('d', 'e', 'a', 'b', 'c'),\n",
       " ('d', 'e', 'a', 'c', 'b'),\n",
       " ('d', 'e', 'b', 'a', 'c'),\n",
       " ('d', 'e', 'b', 'c', 'a'),\n",
       " ('d', 'e', 'c', 'a', 'b'),\n",
       " ('d', 'e', 'c', 'b', 'a'),\n",
       " ('e', 'a', 'b', 'c', 'd'),\n",
       " ('e', 'a', 'b', 'd', 'c'),\n",
       " ('e', 'a', 'c', 'b', 'd'),\n",
       " ('e', 'a', 'c', 'd', 'b'),\n",
       " ('e', 'a', 'd', 'b', 'c'),\n",
       " ('e', 'a', 'd', 'c', 'b'),\n",
       " ('e', 'b', 'a', 'c', 'd'),\n",
       " ('e', 'b', 'a', 'd', 'c'),\n",
       " ('e', 'b', 'c', 'a', 'd'),\n",
       " ('e', 'b', 'c', 'd', 'a'),\n",
       " ('e', 'b', 'd', 'a', 'c'),\n",
       " ('e', 'b', 'd', 'c', 'a'),\n",
       " ('e', 'c', 'a', 'b', 'd'),\n",
       " ('e', 'c', 'a', 'd', 'b'),\n",
       " ('e', 'c', 'b', 'a', 'd'),\n",
       " ('e', 'c', 'b', 'd', 'a'),\n",
       " ('e', 'c', 'd', 'a', 'b'),\n",
       " ('e', 'c', 'd', 'b', 'a'),\n",
       " ('e', 'd', 'a', 'b', 'c'),\n",
       " ('e', 'd', 'a', 'c', 'b'),\n",
       " ('e', 'd', 'b', 'a', 'c'),\n",
       " ('e', 'd', 'b', 'c', 'a'),\n",
       " ('e', 'd', 'c', 'a', 'b'),\n",
       " ('e', 'd', 'c', 'b', 'a')]"
      ]
     },
     "execution_count": 27,
     "metadata": {},
     "output_type": "execute_result"
    }
   ],
   "source": [
    "#階乗(!)\n",
    "import math\n",
    "math.factorial(10)\n",
    "\n",
    "#順列(5! = 5*4*3*2*1 = 120)\n",
    "import itertools\n",
    "seq = ('a', 'b', 'c', 'd', 'e')\n",
    "list(itertools.permutations(seq))\n",
    "\n",
    "#順列(3つを選んで並べる場合, 5P3)\n",
    "list(itertools.permutations(seq, 3))\n",
    "\n",
    "#組み合わせ(5C3)\n",
    " list(itertools.combinations(seq,3))\n",
    "\n",
    "\n",
    "#累積和\n",
    "hoge['hoge'].cumsum()"
   ]
  },
  {
   "cell_type": "markdown",
   "metadata": {},
   "source": [
    "## 基礎集計"
   ]
  },
  {
   "cell_type": "markdown",
   "metadata": {},
   "source": [
    "\n",
    "- データの行数  \n",
    "- NAの数  \n",
    "- NAの割合  \n",
    "- 列の型  \n",
    "    - 数値なら平均、四分位、min、max  \n",
    "    - 非数値ならカテゴリ数、最頻値  \n",
    "    - 日付型ならそれも明記\n",
    "- keyがあればそれも明記"
   ]
  },
  {
   "cell_type": "markdown",
   "metadata": {},
   "source": [
    "### 行の確認"
   ]
  },
  {
   "cell_type": "markdown",
   "metadata": {},
   "source": [
    "### 列の確認"
   ]
  },
  {
   "cell_type": "code",
   "execution_count": null,
   "metadata": {
    "collapsed": true
   },
   "outputs": [],
   "source": [
    "iris[''].nunique() #列のユニーク数を確認\n",
    "iris['hoge'].unique() #列のユニークな値のリストを返す"
   ]
  },
  {
   "cell_type": "code",
   "execution_count": 15,
   "metadata": {},
   "outputs": [
    {
     "data": {
      "text/plain": [
       "Index(['sepal length (cm)', 'sepal width (cm)', 'petal length (cm)',\n",
       "       'petal width (cm)'],\n",
       "      dtype='object')"
      ]
     },
     "execution_count": 15,
     "metadata": {},
     "output_type": "execute_result"
    }
   ],
   "source": [
    "data.columns"
   ]
  },
  {
   "cell_type": "code",
   "execution_count": null,
   "metadata": {
    "collapsed": true
   },
   "outputs": [],
   "source": [
    "hoge.groupby('hoge', as_index = True)['hoge'].count()\\\n",
    ".rename(columns={'before':'count'}).sort_values('count', ascending=False)\\\n",
    ".reset_index(drop=True)#列に対して種類毎の出現数を数える"
   ]
  },
  {
   "cell_type": "markdown",
   "metadata": {},
   "source": [
    "### NA周り"
   ]
  },
  {
   "cell_type": "code",
   "execution_count": null,
   "metadata": {
    "collapsed": true
   },
   "outputs": [],
   "source": [
    "hoge.isnull().sum() #列毎にNAの数を合計"
   ]
  },
  {
   "cell_type": "markdown",
   "metadata": {},
   "source": [
    "### 型の確認"
   ]
  },
  {
   "cell_type": "code",
   "execution_count": null,
   "metadata": {
    "collapsed": true
   },
   "outputs": [],
   "source": [
    "hoge.dtypes #データフレームを列毎に型の確認"
   ]
  },
  {
   "cell_type": "markdown",
   "metadata": {},
   "source": [
    "### 数値型周り"
   ]
  },
  {
   "cell_type": "code",
   "execution_count": null,
   "metadata": {
    "collapsed": true
   },
   "outputs": [],
   "source": [
    "hoge.describe() #要約統計量"
   ]
  },
  {
   "cell_type": "markdown",
   "metadata": {},
   "source": [
    "### 日付型"
   ]
  },
  {
   "cell_type": "code",
   "execution_count": null,
   "metadata": {
    "collapsed": true
   },
   "outputs": [],
   "source": [
    "hoge['datetime'] = pd.to_datetime(hoge['datetime']) #日付型に変換"
   ]
  },
  {
   "cell_type": "markdown",
   "metadata": {},
   "source": [
    "## 描画"
   ]
  },
  {
   "cell_type": "markdown",
   "metadata": {},
   "source": [
    "### 値の出現数の棒グラフ"
   ]
  },
  {
   "cell_type": "code",
   "execution_count": null,
   "metadata": {
    "collapsed": true
   },
   "outputs": [],
   "source": [
    "fig = plt.figure(figsize=(16, 12))\n",
    "ax = fig.add_subplot(111)\n",
    "ax.barh(bottom=shelf_DF.index, width=shelf_DF['count'], tick_label=shelf_DF['shelf_name'], align='center')\n",
    "ax.invert_yaxis()"
   ]
  },
  {
   "cell_type": "markdown",
   "metadata": {},
   "source": [
    "### 積み上げヒストグラム"
   ]
  },
  {
   "cell_type": "code",
   "execution_count": null,
   "metadata": {
    "collapsed": true
   },
   "outputs": [],
   "source": [
    "#出現回数の積み上げヒストグラム+そのライン\n",
    "#X軸:出現回数\n",
    "#y軸:累積カテゴリ数\n",
    "plt.figure(figsize=[16,12])\n",
    "plt.hist(edge_weight_list, bins=100, cumulative=True, normed=True, alpha=0.5)\n",
    "plt.hlines(y=0.90, xmin=0, xmax=2533, color='blue', linestyles='dashed')\n",
    "plt.vlines(x=168.8, ymin=0, ymax=1, color='blue', linestyles='dashed')\n",
    "plt.show()"
   ]
  },
  {
   "cell_type": "markdown",
   "metadata": {},
   "source": [
    "## 文字列処理"
   ]
  },
  {
   "cell_type": "markdown",
   "metadata": {},
   "source": [
    "### 文字と数値の出力"
   ]
  },
  {
   "cell_type": "code",
   "execution_count": 11,
   "metadata": {},
   "outputs": [
    {
     "name": "stdout",
     "output_type": "stream",
     "text": [
      "円周率は3.14です\n"
     ]
    }
   ],
   "source": [
    "print('円周率は{:.2f}です'.format(3.1415)) #formatで代入、{}の中に装飾子入れて出力を調整"
   ]
  },
  {
   "cell_type": "markdown",
   "metadata": {},
   "source": [
    "## 小技"
   ]
  },
  {
   "cell_type": "markdown",
   "metadata": {},
   "source": [
    "### 画像の表示"
   ]
  },
  {
   "cell_type": "code",
   "execution_count": null,
   "metadata": {
    "collapsed": true
   },
   "outputs": [],
   "source": [
    "from IPython.display import Image, display_png\n",
    "display_png(Image('hogehoge.png'))"
   ]
  },
  {
   "cell_type": "markdown",
   "metadata": {},
   "source": [
    "### np.array"
   ]
  },
  {
   "cell_type": "code",
   "execution_count": 6,
   "metadata": {},
   "outputs": [
    {
     "data": {
      "text/plain": [
       "array(['1', '2'],\n",
       "      dtype='<U21')"
      ]
     },
     "execution_count": 6,
     "metadata": {},
     "output_type": "execute_result"
    }
   ],
   "source": [
    "#np.arrayはネストした特定の成分を複数のarrayから持ってこれる\n",
    "#ただしintとstrなど型が違うと変換される(no.array自体がそういうもの)ので注意\n",
    "test = np.array([[1, 'b'], [2, 'd']])\n",
    "test[:, 0]"
   ]
  },
  {
   "cell_type": "markdown",
   "metadata": {},
   "source": [
    "### ループ"
   ]
  },
  {
   "cell_type": "code",
   "execution_count": 20,
   "metadata": {
    "scrolled": false
   },
   "outputs": [
    {
     "name": "stderr",
     "output_type": "stream",
     "text": [
      "\n",
      "  0%|          | 0/3 [00:00<?, ?it/s]\u001b[A\n",
      "100%|██████████| 3/3 [00:00<00:00, 1368.45it/s]\u001b[A"
     ]
    },
    {
     "name": "stdout",
     "output_type": "stream",
     "text": [
      "0\n",
      "1\n",
      "2\n"
     ]
    }
   ],
   "source": [
    "#tqdmを使う\n",
    "#len()で回すよりdata.shape[0]で回した方が高速(DataFrameの場合)\n",
    "from tqdm import tqdm\n",
    "\n",
    "a_DF = pd.DataFrame({'a':[1,2,3], 'b':[4,5,6]})\n",
    "for i in tqdm(range(a_DF.shape[0])):\n",
    "    print(i)"
   ]
  },
  {
   "cell_type": "markdown",
   "metadata": {},
   "source": [
    "### イテレーション"
   ]
  },
  {
   "cell_type": "markdown",
   "metadata": {},
   "source": [
    "イテレータ:要素を反復して取り出すことの出来るインターフェイス"
   ]
  },
  {
   "cell_type": "markdown",
   "metadata": {},
   "source": [
    "#### Pandas"
   ]
  },
  {
   "cell_type": "code",
   "execution_count": 6,
   "metadata": {},
   "outputs": [
    {
     "name": "stdout",
     "output_type": "stream",
     "text": [
      "1\n",
      "2\n",
      "3\n",
      "a\n",
      "1\n",
      "b\n",
      "2\n",
      "c\n",
      "3\n"
     ]
    },
    {
     "data": {
      "image/png": "[encoded data removed]"
     },
     "metadata": {},
     "output_type": "display_data"
    }
   ],
   "source": [
    "#Series\n",
    "s = pd.Series([1, 2, 3], index=['a', 'b', 'c'])\n",
    "\n",
    "for v in s.__iter__():\n",
    "    print(v)\n",
    "    \n",
    "for i, v in s.iteritems():\n",
    "    print(i)\n",
    "    print(v)\n",
    "\n",
    "display_png(Image('./images/Series1.png'))"
   ]
  },
  {
   "cell_type": "code",
   "execution_count": 13,
   "metadata": {},
   "outputs": [
    {
     "name": "stdout",
     "output_type": "stream",
     "text": [
      "A\n",
      "B\n",
      "A\n",
      "a    1\n",
      "b    2\n",
      "c    3\n",
      "Name: A, dtype: int64\n",
      "\n",
      "B\n",
      "a    4\n",
      "b    5\n",
      "c    6\n",
      "Name: B, dtype: int64\n",
      "\n",
      "a\n",
      "A    1\n",
      "B    4\n",
      "Name: a, dtype: int64\n",
      "\n",
      "b\n",
      "A    2\n",
      "B    5\n",
      "Name: b, dtype: int64\n",
      "\n",
      "c\n",
      "A    3\n",
      "B    6\n",
      "Name: c, dtype: int64\n",
      "\n"
     ]
    },
    {
     "data": {
      "image/png": "[encoded data removed]"
     },
     "metadata": {},
     "output_type": "display_data"
    }
   ],
   "source": [
    "#DataFrame\n",
    "df = pd.DataFrame(\n",
    "    {'A': [1, 2, 3],\n",
    "     'B': [4, 5, 6]},\n",
    "    index = ['a', 'b', 'c']\n",
    ")\n",
    "\n",
    "for col in df.__iter__():\n",
    "    print(col)\n",
    "    \n",
    "for key, column in df.iteritems():\n",
    "    print(key)\n",
    "    print(column)\n",
    "    print('')\n",
    "    \n",
    "for key, row in df.iterrows():\n",
    "    print(key)\n",
    "    print(row)\n",
    "    print('')\n",
    "    \n",
    "display_png(Image('./images/DataFrame1.png'))"
   ]
  },
  {
   "cell_type": "code",
   "execution_count": 16,
   "metadata": {},
   "outputs": [
    {
     "name": "stdout",
     "output_type": "stream",
     "text": [
      "g1\n",
      "   A  B group\n",
      "0  1  5    g1\n",
      "2  3  7    g1\n",
      "\n",
      "g2\n",
      "   A  B group\n",
      "1  2  6    g2\n",
      "3  4  8    g2\n",
      "\n"
     ]
    },
    {
     "data": {
      "image/png": "[encoded data removed]"
     },
     "metadata": {},
     "output_type": "display_data"
    }
   ],
   "source": [
    "df = pd.DataFrame(\n",
    "    {'group': ['g1', 'g2', 'g1', 'g2'],\n",
    "     'A': [1, 2, 3, 4],\n",
    "     'B': [5, 6, 7, 8]}, \n",
    ")\n",
    "grouped = df.groupby(by='group')\n",
    "\n",
    "for name, group in grouped:\n",
    "    print(name)\n",
    "    print(group)\n",
    "    print('')\n",
    "    \n",
    "display_png(Image('./images/group1.png'))"
   ]
  },
  {
   "cell_type": "markdown",
   "metadata": {},
   "source": [
    "[「Pandasのデータイテレーション」](http://sinhrks.hatenablog.com/entry/2015/06/18/221747)  \n",
    "[「イテレータとジェネレータ」](https://qiita.com/tomotaka_ito/items/35f3eb108f587022fa09)"
   ]
  },
  {
   "cell_type": "markdown",
   "metadata": {},
   "source": [
    "# 心得"
   ]
  },
  {
   "cell_type": "markdown",
   "metadata": {},
   "source": [
    "## コーディング規約に従う"
   ]
  },
  {
   "cell_type": "markdown",
   "metadata": {},
   "source": [
    "Pythonはpep8というコーディング規約がある  \n",
    "要約サイトがあるので以下参照   \n",
    "https://qiita.com/sartan123/items/7385e907400c4c407eae\n",
    "\n",
    "基本的には、Jupyter notebookのextensionの中にあるautopep8を有効にして、セルを選択した状態で🔨アイコンを押せばよしなに調整してくれる"
   ]
  },
  {
   "cell_type": "markdown",
   "metadata": {},
   "source": [
    "## "
   ]
  },
  {
   "cell_type": "markdown",
   "metadata": {},
   "source": [
    "出来る限りdocumentを読む  \n",
    "関数の中身を読む  \n",
    "常に効率化を考える"
   ]
  },
  {
   "cell_type": "markdown",
   "metadata": {},
   "source": [
    "# Markdown記法"
   ]
  },
  {
   "cell_type": "markdown",
   "metadata": {},
   "source": [
    "## 文字装飾"
   ]
  },
  {
   "cell_type": "markdown",
   "metadata": {},
   "source": [
    "斜体は*こう*  \n",
    "強調は**こう**  \n",
    "両方やりたければ**_こう_**  \n",
    "取り消しは~~こう~~こう"
   ]
  },
  {
   "cell_type": "markdown",
   "metadata": {},
   "source": [
    "## List表記"
   ]
  },
  {
   "cell_type": "markdown",
   "metadata": {},
   "source": [
    "1. まず初めに\n",
    "2. 次に\n",
    "\n",
    " このように内容を書く  \n",
    " 改行は半角空白を2つ\n",
    " \n",
    " 段落変えたければ改行を2つ  \n",
    "\n",
    "\n",
    "\n",
    "\n",
    "\n",
    "\n",
    "\n",
    "* アスタリスクでドットを書ける\n",
    "* 2つ目のドット\n",
    " * 3つ目のドット"
   ]
  },
  {
   "cell_type": "markdown",
   "metadata": {},
   "source": [
    "## 画像"
   ]
  },
  {
   "cell_type": "markdown",
   "metadata": {},
   "source": [
    "こんな感じ:\n",
    "![earth1][logo]\n",
    "[logo]: https://img.discogs.com/YaUCllWyiT1XohOe3yhFQ_hFJWk=/fit-in/600x606/filters:strip_icc():format(jpeg):mode_rgb():quality(90)/discogs-images/R-670301-1412747605-8517.jpeg.jpg"
   ]
  },
  {
   "cell_type": "markdown",
   "metadata": {},
   "source": [
    "## コード"
   ]
  },
  {
   "cell_type": "markdown",
   "metadata": {},
   "source": [
    "```python\n",
    "s = 'Python Syntax highlighting'\n",
    "print(s)\n",
    "```"
   ]
  },
  {
   "cell_type": "markdown",
   "metadata": {},
   "source": [
    "## リンク"
   ]
  },
  {
   "cell_type": "markdown",
   "metadata": {},
   "source": [
    "このように書く \n",
    "\n",
    "Markdownシートの他の書き方は、以下を参照  \n",
    "[「Markdown cheatsheet」](https://github.com/adam-p/markdown-here/wiki/Markdown-Cheatsheet)"
   ]
  },
  {
   "cell_type": "markdown",
   "metadata": {},
   "source": [
    "# モジュール"
   ]
  },
  {
   "cell_type": "markdown",
   "metadata": {},
   "source": [
    "## モジュールとは"
   ]
  },
  {
   "cell_type": "markdown",
   "metadata": {},
   "source": [
    "関数のような機能をまとめ、必要なときに読み込んで使うスクリプトファイル  \n",
    "プログラムでよく使うデータ、関数はPythonに内蔵されており、「組み込み型」、「組み込みファイル」などと呼ばれている (Built in)\n",
    "\n",
    "一方、限られた用途で使う定型の処理はモジュールから読み込んで使う  \n",
    "Pythonに付属しているモジュールの集合体である標準ライブラリの他にも、ネット上からDLして使うサードパーティのモジュールがある"
   ]
  },
  {
   "cell_type": "markdown",
   "metadata": {},
   "source": [
    "## モジュールとアトリビュート"
   ]
  },
  {
   "cell_type": "markdown",
   "metadata": {},
   "source": [
    "Pythonのスクリプトファイルやモジュールでは、何種類かの組み込み属性(アトリビュート)が定義される。組み込み属性は、プログラムを実行すると自動的に定義される変数のようなもの。"
   ]
  },
  {
   "cell_type": "code",
   "execution_count": null,
   "metadata": {
    "collapsed": true
   },
   "outputs": [],
   "source": []
  },
  {
   "cell_type": "markdown",
   "metadata": {},
   "source": [
    "## モジュール一覧"
   ]
  },
  {
   "cell_type": "code",
   "execution_count": null,
   "metadata": {
    "collapsed": true
   },
   "outputs": [],
   "source": [
    "### "
   ]
  },
  {
   "cell_type": "markdown",
   "metadata": {
    "collapsed": true
   },
   "source": [
    "# オブジェクト指向"
   ]
  },
  {
   "cell_type": "markdown",
   "metadata": {},
   "source": [
    "> * 型があり、アトリビュートを持つのがPythonオブジェクト\n",
    "> * Pythonは全てがオブジェクトである  \n",
    "\n",
    "> ~みんなのPython P327~\n",
    "\n",
    " `int('20')` というコードは、文字列の20を引数で与えて、int型のクラスインスタンスを作っている、という処理"
   ]
  },
  {
   "cell_type": "markdown",
   "metadata": {},
   "source": [
    "モジュール | クラス\n",
    ":---: | :---:\n",
    "モジュールの関数 | メソッド\n",
    "モジュールの変数 | クラスのアトリビュート\n",
    "関数内で使う変数 | インスタンスのアトリビュート"
   ]
  },
  {
   "cell_type": "code",
   "execution_count": 4,
   "metadata": {
    "collapsed": true
   },
   "outputs": [
    {
     "data": {
      "text/plain": [
       "['__class__',\n",
       " '__delattr__',\n",
       " '__dict__',\n",
       " '__dir__',\n",
       " '__doc__',\n",
       " '__eq__',\n",
       " '__format__',\n",
       " '__ge__',\n",
       " '__getattribute__',\n",
       " '__gt__',\n",
       " '__hash__',\n",
       " '__init__',\n",
       " '__init_subclass__',\n",
       " '__le__',\n",
       " '__lt__',\n",
       " '__module__',\n",
       " '__ne__',\n",
       " '__new__',\n",
       " '__reduce__',\n",
       " '__reduce_ex__',\n",
       " '__repr__',\n",
       " '__setattr__',\n",
       " '__sizeof__',\n",
       " '__str__',\n",
       " '__subclasshook__',\n",
       " '__weakref__',\n",
       " 'spam']"
      ]
     },
     "execution_count": 4,
     "metadata": {},
     "output_type": "execute_result"
    }
   ],
   "source": [
    "class Aklass:\n",
    "    def __init__(self):　#初期化メソッドを定義\n",
    "        self.spam = 1 #インスタンスにアトリビュートを追加\n",
    "\n",
    "\n",
    "i = Aklass()\n",
    "dir(i)  # Pythonのオブジェクトに登録されているアトリビュート名の一覧を取り出すための組み込み関数"
   ]
  },
  {
   "cell_type": "code",
   "execution_count": 5,
   "metadata": {},
   "outputs": [
    {
     "name": "stdout",
     "output_type": "stream",
     "text": [
      "this is foo method!\n"
     ]
    }
   ],
   "source": [
    "class Atomklass:\n",
    "    def foo(self):\n",
    "        print('this is foo method!')\n",
    "\n",
    "i1 = Atomklass()\n",
    "i2 = Atomklass()\n",
    "\n",
    "i1.bar = i1.foo\n",
    "i1.bar()"
   ]
  },
  {
   "cell_type": "code",
   "execution_count": 6,
   "metadata": {},
   "outputs": [
    {
     "ename": "AttributeError",
     "evalue": "'Atomklass' object has no attribute 'bar'",
     "output_type": "error",
     "traceback": [
      "\u001b[0;31m---------------------------------------------------------------------------\u001b[0m",
      "\u001b[0;31mAttributeError\u001b[0m                            Traceback (most recent call last)",
      "\u001b[0;32m<ipython-input-6-89589b307501>\u001b[0m in \u001b[0;36m<module>\u001b[0;34m()\u001b[0m\n\u001b[0;32m----> 1\u001b[0;31m \u001b[0mi2\u001b[0m\u001b[0;34m.\u001b[0m\u001b[0mbar\u001b[0m\u001b[0;34m(\u001b[0m\u001b[0;34m)\u001b[0m\u001b[0;34m\u001b[0m\u001b[0m\n\u001b[0m",
      "\u001b[0;31mAttributeError\u001b[0m: 'Atomklass' object has no attribute 'bar'"
     ]
    }
   ],
   "source": [
    "i2.bar()"
   ]
  },
  {
   "cell_type": "code",
   "execution_count": null,
   "metadata": {
    "collapsed": true
   },
   "outputs": [],
   "source": []
  }
 ],
 "metadata": {
  "kernelspec": {
   "display_name": "Python 3",
   "language": "python",
   "name": "python3"
  },
  "language_info": {
   "codemirror_mode": {
    "name": "ipython",
    "version": 3
   },
   "file_extension": ".py",
   "mimetype": "text/x-python",
   "name": "python",
   "nbconvert_exporter": "python",
   "pygments_lexer": "ipython3",
   "version": "3.6.2"
  },
  "toc": {
   "nav_menu": {},
   "number_sections": true,
   "sideBar": true,
   "skip_h1_title": false,
   "toc_cell": false,
   "toc_position": {
    "height": "733px",
    "left": "0px",
    "right": "1191px",
    "top": "106px",
    "width": "249px"
   },
   "toc_section_display": "block",
   "toc_window_display": true
  }
 },
 "nbformat": 4,
 "nbformat_minor": 2
}
