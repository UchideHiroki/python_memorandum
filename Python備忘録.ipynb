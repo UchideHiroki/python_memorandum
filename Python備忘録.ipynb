{
 "cells": [
  {
   "cell_type": "markdown",
   "metadata": {},
   "source": [
    "# 環境構築"
   ]
  },
  {
   "cell_type": "markdown",
   "metadata": {},
   "source": [
    "標準Python3 + venv(2系も使うならvirtualenv)がいいらしい  \n",
    "Anacondaは邪悪  \n",
    "brew + python3(含むvenv) + jupyter noebookの環境を作りたいけど、root権限周りのエラーが頻発する  \n",
    "→しばらくは環境構築をしやすいpyenv + anacondaで(pyenv上なので環境変数を汚さない)  \n",
    "\n",
    "2018/1/28追記  \n",
    "分析するだけならAnaconda邪悪じゃない  \n",
    "直Anacondaも悪くないらしい"
   ]
  },
  {
   "cell_type": "markdown",
   "metadata": {},
   "source": [
    "## 仮想環境の構築"
   ]
  },
  {
   "cell_type": "markdown",
   "metadata": {},
   "source": [
    "```bash\n",
    "python3 -m venv 'ディレクトリ名'\n",
    "```"
   ]
  },
  {
   "cell_type": "markdown",
   "metadata": {},
   "source": [
    "## 仮想環境に入る"
   ]
  },
  {
   "cell_type": "markdown",
   "metadata": {},
   "source": [
    "```bash\n",
    ". (半角スペース) '仮想環境ディレクトリ'/bin/activate\n",
    "```"
   ]
  },
  {
   "cell_type": "markdown",
   "metadata": {},
   "source": [
    "## 仮想環境から抜ける"
   ]
  },
  {
   "cell_type": "markdown",
   "metadata": {},
   "source": [
    "```bash\n",
    "deactivate\n",
    "```"
   ]
  },
  {
   "cell_type": "markdown",
   "metadata": {},
   "source": [
    "## よく詰まるポイント"
   ]
  },
  {
   "cell_type": "markdown",
   "metadata": {},
   "source": [
    "matplotlib系を動かすために必要な追加パッケージ\n",
    "\n",
    "```bash\n",
    "sudo apt-get install python-tk\n",
    "```"
   ]
  },
  {
   "cell_type": "markdown",
   "metadata": {},
   "source": [
    "# パッケージ管理"
   ]
  },
  {
   "cell_type": "markdown",
   "metadata": {},
   "source": [
    "pipを使う"
   ]
  },
  {
   "cell_type": "markdown",
   "metadata": {},
   "source": [
    "## pip"
   ]
  },
  {
   "cell_type": "code",
   "execution_count": null,
   "metadata": {
    "collapsed": true
   },
   "outputs": [],
   "source": [
    "# バージョン確認\n",
    "pip -V\n",
    "\n",
    "# パッケージの確認\n",
    "pip freeze # 'パッケージ名' == 'バージョン', ライブラリの状態を出力したいときはこっちを使うと良い\n",
    "pip list   # 'パッケージ名' ('バージョン')\n",
    "\n",
    "# パッケージのインストール\n",
    "pip install 'パッケージ名'\n",
    "\n",
    "# パッケージのアンインストール\n",
    "pip uninstall 'パッケージ名'\n",
    "\n",
    "# pipのバージョンアップ\n",
    "pip install --upgrade pip"
   ]
  },
  {
   "cell_type": "markdown",
   "metadata": {},
   "source": [
    "# よく使う関数・記法"
   ]
  },
  {
   "cell_type": "markdown",
   "metadata": {},
   "source": [
    "## ライブラリの読み込み"
   ]
  },
  {
   "cell_type": "markdown",
   "metadata": {},
   "source": [
    "### 使用ライブラリ"
   ]
  },
  {
   "cell_type": "code",
   "execution_count": 6,
   "metadata": {},
   "outputs": [
    {
     "name": "stderr",
     "output_type": "stream",
     "text": [
      "/Users/uchide/.pyenv/versions/anaconda3-5.0.0/lib/python3.6/site-packages/sklearn/cross_validation.py:41: DeprecationWarning: This module was deprecated in version 0.18 in favor of the model_selection module into which all the refactored classes and functions are moved. Also note that the interface of the new CV iterators are different from that of this module. This module will be removed in 0.20.\n",
      "  \"This module will be removed in 0.20.\", DeprecationWarning)\n",
      "/Users/uchide/.pyenv/versions/anaconda3-5.0.0/lib/python3.6/site-packages/sklearn/grid_search.py:42: DeprecationWarning: This module was deprecated in version 0.18 in favor of the model_selection module into which all the refactored classes and functions are moved. This module will be removed in 0.20.\n",
      "  DeprecationWarning)\n",
      "/Users/uchide/.pyenv/versions/anaconda3-5.0.0/lib/python3.6/site-packages/sklearn/learning_curve.py:22: DeprecationWarning: This module was deprecated in version 0.18 in favor of the model_selection module into which all the functions are moved. This module will be removed in 0.20\n",
      "  DeprecationWarning)\n"
     ]
    }
   ],
   "source": [
    "## ライブラリの読み込み\n",
    "import pandas as pd\n",
    "import numpy as np\n",
    "import matplotlib.pyplot as plt\n",
    "import seaborn as sns\n",
    "from sklearn import *\n",
    "from tqdm import tqdm\n",
    "import glob\n",
    "from IPython.display import Image, display_png\n",
    "import math\n",
    "\n",
    "# 2018/1/26五十嵐さんが教えてくれた便利な関数\n",
    "from IPython.core.display import display\n",
    "pd.set_option('display.max_columns', None) # 列を無制限に表示する\n",
    "pd.set_option('display.max_rows', 500) # rows は None にするとどえらいことになるので 500くらいにしとく\n",
    "sns.set_context('talk')\n",
    "pd.set_option('display.max_colwidth', 0)\n",
    "\n",
    "%matplotlib inline\n",
    "sns.set_style('darkgrid')\n",
    "plt.rcParams['font.family'] = 'IPAPGothic'\n",
    "plt.rcParams['font.size'] = 18"
   ]
  },
  {
   "cell_type": "markdown",
   "metadata": {},
   "source": [
    "### ライブラリの保管場所"
   ]
  },
  {
   "cell_type": "code",
   "execution_count": 1,
   "metadata": {},
   "outputs": [
    {
     "data": {
      "text/plain": [
       "['',\n",
       " '/Users/uchide/.pyenv/versions/anaconda3-5.0.0/lib/python36.zip',\n",
       " '/Users/uchide/.pyenv/versions/anaconda3-5.0.0/lib/python3.6',\n",
       " '/Users/uchide/.pyenv/versions/anaconda3-5.0.0/lib/python3.6/lib-dynload',\n",
       " '/Users/uchide/.pyenv/versions/anaconda3-5.0.0/lib/python3.6/site-packages',\n",
       " '/Users/uchide/.pyenv/versions/anaconda3-5.0.0/lib/python3.6/site-packages/aeosa',\n",
       " '/Users/uchide/.pyenv/versions/anaconda3-5.0.0/lib/python3.6/site-packages/pyknp-0.3-py3.6.egg',\n",
       " '/Users/uchide/.pyenv/versions/anaconda3-5.0.0/lib/python3.6/site-packages/IPython/extensions',\n",
       " '/Users/uchide/.ipython']"
      ]
     },
     "execution_count": 1,
     "metadata": {},
     "output_type": "execute_result"
    }
   ],
   "source": [
    "# sys.pathでPYTHON PASSの一覧を確認する\n",
    "# 自作ファイル、モジュールは/Users/uchide/.ipythonにしまってある\n",
    "import sys\n",
    "sys.path"
   ]
  },
  {
   "cell_type": "markdown",
   "metadata": {},
   "source": [
    "## データの読み込み"
   ]
  },
  {
   "cell_type": "markdown",
   "metadata": {},
   "source": [
    "### CSV読み込みは基本これ"
   ]
  },
  {
   "cell_type": "code",
   "execution_count": null,
   "metadata": {
    "collapsed": true
   },
   "outputs": [],
   "source": [
    "data = pd.read_csv('hoge/hoge.csv')\n",
    "\n",
    "data = {\n",
    "    'hoge': pd.read_csv('hoge/hoge.csv'),\n",
    "    'huga': pd.read_csv('huga/huga.csv')\n",
    "}"
   ]
  },
  {
   "cell_type": "markdown",
   "metadata": {},
   "source": [
    " ### ファイル読み込み周り"
   ]
  },
  {
   "cell_type": "code",
   "execution_count": 3,
   "metadata": {},
   "outputs": [
    {
     "data": {
      "text/plain": [
       "PosixPath('/Users/uchide/Documents/GitHub/python_memorandum/../input/hoge.csv')"
      ]
     },
     "execution_count": 3,
     "metadata": {},
     "output_type": "execute_result"
    }
   ],
   "source": [
    "# pathlib, globを使う\n",
    "import pathlib\n",
    "import glob\n",
    "\n",
    "#スクリプトのあるディレクトリの絶対パスを取得\n",
    "root_path = pathlib.Path('__file__').resolve().parent\n",
    "#ファイル相対パス一覧\n",
    "csv_names = glob.glob('../input/*.csv')\n",
    "#ファイル絶対パス\n",
    "csv_path = root_path / csv_names[0]"
   ]
  },
  {
   "cell_type": "code",
   "execution_count": 10,
   "metadata": {
    "collapsed": true
   },
   "outputs": [],
   "source": [
    "iris = datasets.load_iris()"
   ]
  },
  {
   "cell_type": "code",
   "execution_count": 11,
   "metadata": {
    "collapsed": true
   },
   "outputs": [],
   "source": [
    "data = pd.DataFrame(iris.data, columns=iris.feature_names)"
   ]
  },
  {
   "cell_type": "code",
   "execution_count": null,
   "metadata": {
    "collapsed": true
   },
   "outputs": [],
   "source": [
    "# ファイルの上部を表示\n",
    "from IPython.core.display import display\n",
    "pd.set_option('display.max_columns', None) # 列を無制限に表示する\n",
    "pd.set_option('display.max_rows', 500) # rows は None にするとどえらいことになるので 500くらいにしとく\n",
    "\n",
    "display(data.head())"
   ]
  },
  {
   "cell_type": "markdown",
   "metadata": {},
   "source": [
    "## 前処理"
   ]
  },
  {
   "cell_type": "markdown",
   "metadata": {},
   "source": [
    "### NA周り"
   ]
  },
  {
   "cell_type": "code",
   "execution_count": null,
   "metadata": {
    "collapsed": true
   },
   "outputs": [],
   "source": [
    "data.dropna()  # 欠測値がある行を取り除く\n",
    "data.dropna(thresh=3) #  欠測値が3個以上ある行を取り除く\n",
    "data.dropna(axis=1)  # 欠測値がある列を取り除く\n",
    "data.dropna(subset=['hoge'])  # hoge列に欠測値がある行を取り除く\n",
    "data.dropna(subset=['hoge'], axis=1)  # hoge行に欠測値がある列を取り除く\n",
    "data.fillna(0)  # 欠測値を0で埋める\n",
    "data.fillna({'name': 'XXX', 'age': 20, 'point': 0}) # 欠測値を列ごとに指定した値で埋める"
   ]
  },
  {
   "cell_type": "markdown",
   "metadata": {},
   "source": [
    "### 通常フィルター, loc, iloc"
   ]
  },
  {
   "cell_type": "markdown",
   "metadata": {},
   "source": [
    "切り出し、参照は通常フィルター(でもいい)  \n",
    "値の代入はloc, iloc(Warningが出るため)"
   ]
  },
  {
   "cell_type": "code",
   "execution_count": null,
   "metadata": {
    "collapsed": true
   },
   "outputs": [],
   "source": [
    "df.columns.map(lambda x: x.startswith('N')) # Nから始まるカラム名を選択"
   ]
  },
  {
   "cell_type": "code",
   "execution_count": null,
   "metadata": {
    "collapsed": true
   },
   "outputs": [],
   "source": [
    "df[df['A'].isin([3, 6])] # listでfilterができる\n",
    "df[~df['A'].isin([3, 6])] # ~でTrue/Falseを反転"
   ]
  },
  {
   "cell_type": "code",
   "execution_count": null,
   "metadata": {
    "collapsed": true
   },
   "outputs": [],
   "source": [
    "stru[(stru['URL_1'] == 'area') & (stru['URL_2'] == 'hoge')] # 複数条件"
   ]
  },
  {
   "cell_type": "code",
   "execution_count": null,
   "metadata": {
    "collapsed": true
   },
   "outputs": [],
   "source": [
    "#  .copy() つけないと参照渡しになるため、複製した df を更新するタイミングで警告（SettingWithCopyWarning）が出る。.copy() つけると値渡しになる。\n",
    "data_select = data[columns].copy() "
   ]
  },
  {
   "cell_type": "code",
   "execution_count": null,
   "metadata": {
    "collapsed": true
   },
   "outputs": [],
   "source": [
    "# 値の取り出しはat/iat\n",
    "df.at['行名', '列名'] \n",
    "df.iat['行番号', '列番号']"
   ]
  },
  {
   "cell_type": "markdown",
   "metadata": {},
   "source": [
    "### データの結合"
   ]
  },
  {
   "cell_type": "code",
   "execution_count": null,
   "metadata": {
    "collapsed": true
   },
   "outputs": [],
   "source": [
    "pd.concat([hoge, huga]) #行結合\n",
    "pd.concat([hoge, huga], axis=1) #列結合\n",
    "\n",
    "pd.merge(left, right, how='left', on=['hoge']) # merge結合、how={inner, left, right, outer}\n",
    "pd.merge(left, right, how='inner', left_on='key', right_index=True) # 列(左)とindex(右)の結合\n",
    "\n",
    "left.join(right, how='inner') # indexによる結合、pd.merge()でもできる"
   ]
  },
  {
   "cell_type": "markdown",
   "metadata": {},
   "source": [
    "### 並び替え"
   ]
  },
  {
   "cell_type": "code",
   "execution_count": null,
   "metadata": {
    "collapsed": true
   },
   "outputs": [],
   "source": [
    "data.sort_values(by='hoge', ascending=True) #昇順\n",
    "data.sort_values(by='hoge', ascending=False) #降順\n",
    "\n",
    "data.sort_index(ascending=True) #インデックスで昇順\n",
    "data.sort_index(ascending=False) #インデックスで降順"
   ]
  },
  {
   "cell_type": "markdown",
   "metadata": {},
   "source": [
    "### 行名、列名の変更"
   ]
  },
  {
   "cell_type": "code",
   "execution_count": null,
   "metadata": {
    "collapsed": true
   },
   "outputs": [],
   "source": [
    "data = data.rename(columns={\"before\" : \"after\"}, index = {'before' : 'after'}, inplace=False) #代入したものを変更\n",
    "data.rename(columns={\"age\" : \"Age\"}, inplace=True) #代入せずに直接変更\n",
    "\n",
    "data.columns = ['hoge', 'huga'] # 列名をまとめて指定\n",
    "data.index = [1, 2, 3] # 行名をまとめて指定"
   ]
  },
  {
   "cell_type": "markdown",
   "metadata": {},
   "source": [
    "### 列の入れ替え"
   ]
  },
  {
   "cell_type": "code",
   "execution_count": null,
   "metadata": {
    "collapsed": true
   },
   "outputs": [],
   "source": [
    "# listで順番を入れ替える\n",
    "df[['b', 'a', 'c', 'd']]\n",
    "\n",
    "# あるいは、列名を取り出していじって戻す\n",
    "lst = df.columns.tolist()\n",
    "lst.remove('c')\n",
    "lst.insert(0, 'c')\n",
    "df[lst]"
   ]
  },
  {
   "cell_type": "markdown",
   "metadata": {},
   "source": [
    "### 行に対して関数の実行"
   ]
  },
  {
   "cell_type": "code",
   "execution_count": null,
   "metadata": {
    "collapsed": true
   },
   "outputs": [],
   "source": [
    "data['str_cd'] = data.apply(lambda x: str(x['str_cd']), axis=1) #applyの使い方,axis=1は行、axis=0は列？"
   ]
  },
  {
   "cell_type": "markdown",
   "metadata": {},
   "source": [
    "### 列をずらして結合"
   ]
  },
  {
   "cell_type": "code",
   "execution_count": null,
   "metadata": {
    "collapsed": true
   },
   "outputs": [],
   "source": [
    "# transform(func) で、DF/Series を、グループごとに、 func の引数として処理することができる\n",
    "# shift() で、指定した行だけずらした DF/Series を取得できる\n",
    "d['from'] = d.groupby(by=['cookie'])['to'].transform(lambda x: x.shift(1))"
   ]
  },
  {
   "cell_type": "markdown",
   "metadata": {},
   "source": [
    "### カラムをインデックスに引き当て"
   ]
  },
  {
   "cell_type": "code",
   "execution_count": null,
   "metadata": {
    "collapsed": true
   },
   "outputs": [],
   "source": [
    "df.set_index(['column_name'])\n",
    "\n",
    "# 逆のことをしたければreset_index()を使う\n",
    "df.reset_index(drop=False)"
   ]
  },
  {
   "cell_type": "markdown",
   "metadata": {},
   "source": [
    "### 連番の付与"
   ]
  },
  {
   "cell_type": "code",
   "execution_count": null,
   "metadata": {
    "collapsed": true
   },
   "outputs": [],
   "source": [
    "df['index_column'] = range(df.shape[0])"
   ]
  },
  {
   "cell_type": "markdown",
   "metadata": {},
   "source": [
    "### 行、列の削除"
   ]
  },
  {
   "cell_type": "code",
   "execution_count": null,
   "metadata": {
    "collapsed": true
   },
   "outputs": [],
   "source": [
    "# DataFrame.drop()を使用\n",
    "# 行はaxis=0(デフォルト)、列はaxis=1(要指定)\n",
    "df.drop([3,4]) # 行削除\n",
    "df.drop(\"A\", axis=1) # 列削除\n",
    "\n",
    "del df['A']　# これでも可"
   ]
  },
  {
   "cell_type": "markdown",
   "metadata": {},
   "source": [
    "### list"
   ]
  },
  {
   "cell_type": "code",
   "execution_count": null,
   "metadata": {
    "collapsed": true
   },
   "outputs": [],
   "source": [
    "a_list = ['hoge', 'huga']\n",
    "a_list.append() # オブジェクトをそのまま追加\n",
    "a_list.extend() # オブジェクトを要素単位で追加\n",
    "a_list.drop('hoge') # オブジェクトから要素を削除"
   ]
  },
  {
   "cell_type": "markdown",
   "metadata": {},
   "source": [
    "### tuple"
   ]
  },
  {
   "cell_type": "markdown",
   "metadata": {},
   "source": [
    "dictionaryなどのkeyに使う  \n",
    "後から要素の変更が出来ない"
   ]
  },
  {
   "cell_type": "code",
   "execution_count": null,
   "metadata": {
    "collapsed": true
   },
   "outputs": [],
   "source": [
    "a_tuple = ('hoge', 'fuga')\n",
    "a_tuple[0] # 要素の取り出し\n",
    "new_tuple = a_tuple + ('fizz', 'buzz') # タプルの連結"
   ]
  },
  {
   "cell_type": "markdown",
   "metadata": {},
   "source": [
    "### dictionary"
   ]
  },
  {
   "cell_type": "code",
   "execution_count": null,
   "metadata": {
    "collapsed": true
   },
   "outputs": [],
   "source": [
    "a_dict = {'hoge':0, 'huga':1}\n",
    "a_dict.update(辞書型) #辞書の追加、同じkeyで違うvalueが追加された場合はvalueを上書きする\n",
    "a_dict.keys() #keyの参照\n",
    "a_dict.values() #valueの参照\n",
    "\n",
    "sorted(d.items(), key=lambda x: x[0]) # keyでソート\n",
    "sorted(d.items(), key=lambda x: x[1]) # valueでソート"
   ]
  },
  {
   "cell_type": "markdown",
   "metadata": {},
   "source": [
    "### set"
   ]
  },
  {
   "cell_type": "code",
   "execution_count": 8,
   "metadata": {
    "collapsed": true
   },
   "outputs": [],
   "source": [
    "#setの作成\n",
    "a_set = {'hoge', 'huga'}\n",
    "a_set = set() #空のセット作るときはこれ\n",
    "set({'dog':'inu', 'cat':'neko', 'bird':'tori'}) #dictonary入れると、keyがsetになる\n",
    "\n",
    "#setの要素数\n",
    "len(set)\n",
    "\n",
    "#setの変更\n",
    "a_set.add(1) #要素の追加\n",
    "a_set.emove(1) #要素の削除\n",
    "a_set.clear() #要素の全削除\n",
    "\n",
    "#setの演算\n",
    "a_set | b_set #和集合\n",
    "a_set & b_set #積集合\n",
    "a_set - b_set #差集合\n",
    "a_set.issubset(b_set) #aがbの部分集合ならTrueを返す\n",
    "a_set.isuperset(b_set) #aがbの親集合ならTrueを返す"
   ]
  },
  {
   "cell_type": "markdown",
   "metadata": {},
   "source": [
    "### 型変換"
   ]
  },
  {
   "cell_type": "code",
   "execution_count": null,
   "metadata": {
    "collapsed": true
   },
   "outputs": [],
   "source": [
    "X = np.array(data).reshape(99, 99, 99)"
   ]
  },
  {
   "cell_type": "markdown",
   "metadata": {},
   "source": [
    "### 値の置換"
   ]
  },
  {
   "cell_type": "code",
   "execution_count": null,
   "metadata": {
    "collapsed": true
   },
   "outputs": [],
   "source": [
    "# pd.whereを使う\n",
    "# pd.whereは該当しないものを変換する\n",
    "import numpy as np\n",
    "import pandas as pd\n",
    "\n",
    "cols = ['var1', 'var2', 'var3', 'var4']\n",
    "df1 = pd.DataFrame(np.random.randn(4, 4), columns=cols)\n",
    "df2 = pd.DataFrame(np.arange(16).reshape(4, 4), columns=cols)\n",
    "\n",
    "df1.where(df1 >= 0, df2)\n",
    "df1['var1'].where(df1['var2'] >= 0, df1['var3'])\n",
    "\n",
    "# pd.maskは該当するものを変換する"
   ]
  },
  {
   "cell_type": "markdown",
   "metadata": {},
   "source": [
    "### 文字列処理"
   ]
  },
  {
   "cell_type": "markdown",
   "metadata": {},
   "source": [
    "#### 文字列を特定の文字で分割して列を増やす"
   ]
  },
  {
   "cell_type": "code",
   "execution_count": null,
   "metadata": {
    "collapsed": true
   },
   "outputs": [],
   "source": [
    "# 半角空白で分割\n",
    "for i in range(10):\n",
    "    df['long_str'+str(i)] = df['long_str'].map(lambda x: str(str(x).split(' ')[i]) if len(str(x).split(' '))>i else '')"
   ]
  },
  {
   "cell_type": "markdown",
   "metadata": {},
   "source": [
    "#### 特定の文字を含む行を選択"
   ]
  },
  {
   "cell_type": "code",
   "execution_count": 1,
   "metadata": {
    "collapsed": true
   },
   "outputs": [
    {
     "ename": "NameError",
     "evalue": "name 'long_df' is not defined",
     "output_type": "error",
     "traceback": [
      "\u001b[0;31m---------------------------------------------------------------------------\u001b[0m",
      "\u001b[0;31mNameError\u001b[0m                                 Traceback (most recent call last)",
      "\u001b[0;32m<ipython-input-1-fdba4d982c0e>\u001b[0m in \u001b[0;36m<module>\u001b[0;34m()\u001b[0m\n\u001b[1;32m      1\u001b[0m \u001b[0;31m# str.contains('/文字/文字/')を使う\u001b[0m\u001b[0;34m\u001b[0m\u001b[0;34m\u001b[0m\u001b[0m\n\u001b[0;32m----> 2\u001b[0;31m \u001b[0mlong_df\u001b[0m\u001b[0;34m[\u001b[0m\u001b[0mlong_df\u001b[0m\u001b[0;34m[\u001b[0m\u001b[0;34m'request_url_path'\u001b[0m\u001b[0;34m]\u001b[0m\u001b[0;34m.\u001b[0m\u001b[0mstr\u001b[0m\u001b[0;34m.\u001b[0m\u001b[0mcontains\u001b[0m\u001b[0;34m(\u001b[0m\u001b[0;34m'/img/|/css/'\u001b[0m\u001b[0;34m)\u001b[0m\u001b[0;34m]\u001b[0m\u001b[0;34m\u001b[0m\u001b[0m\n\u001b[0m",
      "\u001b[0;31mNameError\u001b[0m: name 'long_df' is not defined"
     ]
    }
   ],
   "source": [
    "# str.contains('文字')を使う\n",
    "# 複数選択は'文字　|文字'\n",
    "# 特定の文字を含む合計n文字の場合は\"..x..\"(xを含む5文字)\n",
    "# 特定の文字から始まる場合は\"hoge.*\"(hogeから始まる任意の文字列)\n",
    "# 特定の文字で終わる場合は\".*s$\"(sで終わる任意の文字列、$を付けないとsで終わらないものを含める)\n",
    "# AAかBBから始まる文字列の場合は\"(AA|BB)....\"\n",
    "long_df[long_df['request_url_path'].str.contains('/img/|/css/')]"
   ]
  },
  {
   "cell_type": "markdown",
   "metadata": {},
   "source": [
    "### 文字ラベルを数値に変換"
   ]
  },
  {
   "cell_type": "code",
   "execution_count": 6,
   "metadata": {},
   "outputs": [
    {
     "data": {
      "text/plain": [
       "LabelEncoder()"
      ]
     },
     "execution_count": 6,
     "metadata": {},
     "output_type": "execute_result"
    }
   ],
   "source": [
    "# sklearn.preprocessing.labelencoderを使う\n",
    "from sklearn import preprocessing\n",
    "\n",
    "# インスタンスの作成\n",
    "lbl = preprocessing.LabelEncoder()\n",
    "# 学習\n",
    "lbl.fit([\"paris\", \"paris\", \"tokyo\", \"amsterdam\"])"
   ]
  },
  {
   "cell_type": "code",
   "execution_count": 7,
   "metadata": {},
   "outputs": [
    {
     "data": {
      "text/plain": [
       "['amsterdam', 'paris', 'tokyo']"
      ]
     },
     "execution_count": 7,
     "metadata": {},
     "output_type": "execute_result"
    }
   ],
   "source": [
    "# クラス一覧の表示\n",
    "list(lbl.classes_)"
   ]
  },
  {
   "cell_type": "code",
   "execution_count": 8,
   "metadata": {},
   "outputs": [
    {
     "data": {
      "text/plain": [
       "array([2, 2, 1])"
      ]
     },
     "execution_count": 8,
     "metadata": {},
     "output_type": "execute_result"
    }
   ],
   "source": [
    "# 変換\n",
    "lbl.transform([\"tokyo\", \"tokyo\", \"paris\"])"
   ]
  },
  {
   "cell_type": "code",
   "execution_count": 10,
   "metadata": {},
   "outputs": [
    {
     "data": {
      "text/plain": [
       "['tokyo', 'tokyo', 'paris']"
      ]
     },
     "execution_count": 10,
     "metadata": {},
     "output_type": "execute_result"
    }
   ],
   "source": [
    "# 逆変換\n",
    "list(lbl.inverse_transform([2, 2, 1]))"
   ]
  },
  {
   "cell_type": "code",
   "execution_count": 11,
   "metadata": {},
   "outputs": [
    {
     "data": {
      "text/plain": [
       "array([1, 1, 2, 0])"
      ]
     },
     "execution_count": 11,
     "metadata": {},
     "output_type": "execute_result"
    }
   ],
   "source": [
    "# 実際は学習と変換を同時に行うこれを一番よく使う\n",
    "lbl.fit_transform([\"paris\", \"paris\", \"tokyo\", \"amsterdam\"])"
   ]
  },
  {
   "cell_type": "code",
   "execution_count": null,
   "metadata": {
    "collapsed": true
   },
   "outputs": [],
   "source": [
    "# 複数カラムはループ噛ませると便利\n",
    "for column in ['sex', 'class']:\n",
    "    # print(titanic[column].shape)\n",
    "    le = preprocessing.LabelEncoder()\n",
    "    le.fit(titanic[column])\n",
    "    titanic[column] = le.transform(titanic[column])"
   ]
  },
  {
   "cell_type": "markdown",
   "metadata": {},
   "source": [
    "### 行持ち/列持ち変換"
   ]
  },
  {
   "cell_type": "code",
   "execution_count": null,
   "metadata": {
    "collapsed": true
   },
   "outputs": [],
   "source": [
    "# 列→行はpd.melt\n",
    "# DataFrame.meltではないので注意\n",
    "melted = pd.melt(iris, id_vars=['Species'],\n",
    "                 var_name='variable', value_name='value')\n",
    "\n",
    "# 行→列はpd.pivot\n",
    "# pivotするデータの準備。Species (列にする値) と variable (行にする値) の組がユニークでないとダメ。\n",
    "unpivot = melted.groupby(['Species', 'variable']).sum()\n",
    "unpivot = unpivot.reset_index()\n",
    "unpivot.pivot(index='variable', columns='Species', values='value')"
   ]
  },
  {
   "cell_type": "markdown",
   "metadata": {},
   "source": [
    "### ループ"
   ]
  },
  {
   "cell_type": "code",
   "execution_count": 3,
   "metadata": {},
   "outputs": [
    {
     "name": "stdout",
     "output_type": "stream",
     "text": [
      "1 a\n",
      "2 b\n",
      "3 c\n",
      "4 d\n",
      "0 a\n",
      "1 b\n",
      "2 c\n",
      "3 d\n"
     ]
    }
   ],
   "source": [
    "# 2つのシーケンスを使ったループ\n",
    "for item1, item2 in zip([1, 2, 3, 4], ['a', 'b', 'c', 'd']):\n",
    "    print(item1, item2)\n",
    "    \n",
    "# index付きのループ\n",
    "for index, item1 in enumerate(['a', 'b', 'c', 'd']):\n",
    "    print(index, item1)"
   ]
  },
  {
   "cell_type": "markdown",
   "metadata": {},
   "source": [
    "### 複数列uniqueインデックス"
   ]
  },
  {
   "cell_type": "code",
   "execution_count": null,
   "metadata": {
    "collapsed": true
   },
   "outputs": [],
   "source": [
    "# レジ番号とレシート番号でユニークになる場合\n",
    "tmp = data[['reji_no', 'receipt_no']].drop_duplicates()\n",
    "tmp['buy_cd'] = tmp.index\n",
    "\n",
    "data = pd.merge(data, tmp, how='left', on=['reji_no', 'receipt_no'])"
   ]
  },
  {
   "cell_type": "markdown",
   "metadata": {},
   "source": [
    "### genreに対してnumを代入"
   ]
  },
  {
   "cell_type": "code",
   "execution_count": 23,
   "metadata": {
    "collapsed": true
   },
   "outputs": [],
   "source": [
    "# 辞書型を使う場合\n",
    "# itemsで代入していくと行列処理出来るので処理が早くなる\n",
    "\n",
    "import pandas as pd\n",
    "df = pd.DataFrame({\n",
    "    'genre': ['hoge', 'hoge', 'huga']\n",
    "})\n",
    "\n",
    "#対応表はdictionaryで渡す\n",
    "dic = {\n",
    "    'hoge': 1,\n",
    "    'huga': 2\n",
    "}\n",
    "\n",
    "df['num'] = 0\n",
    "for g, v in dic.items():\n",
    "    df.loc[df['genre']==g,'num'] = v"
   ]
  },
  {
   "cell_type": "code",
   "execution_count": 16,
   "metadata": {},
   "outputs": [
    {
     "name": "stdout",
     "output_type": "stream",
     "text": [
      "genre\n",
      "\n",
      "0    hoge\n",
      "1    huga\n",
      "Name: genre, dtype: object\n",
      "num\n",
      "\n",
      "0    1\n",
      "1    2\n",
      "Name: num, dtype: int64\n"
     ]
    }
   ],
   "source": [
    "for g, v in genre.items():\n",
    "    print(g)\n",
    "    print()\n",
    "    print(v)"
   ]
  },
  {
   "cell_type": "markdown",
   "metadata": {},
   "source": [
    "### range"
   ]
  },
  {
   "cell_type": "code",
   "execution_count": null,
   "metadata": {
    "collapsed": true
   },
   "outputs": [],
   "source": [
    "range('開始する数値', '終了する数値', 'ステップ')"
   ]
  },
  {
   "cell_type": "markdown",
   "metadata": {},
   "source": [
    "### その他関数"
   ]
  },
  {
   "cell_type": "code",
   "execution_count": 12,
   "metadata": {
    "scrolled": true
   },
   "outputs": [
    {
     "ename": "NameError",
     "evalue": "name 'hoge' is not defined",
     "output_type": "error",
     "traceback": [
      "\u001b[0;31m---------------------------------------------------------------------------\u001b[0m",
      "\u001b[0;31mNameError\u001b[0m                                 Traceback (most recent call last)",
      "\u001b[0;32m<ipython-input-12-6aa1ba961b24>\u001b[0m in \u001b[0;36m<module>\u001b[0;34m()\u001b[0m\n\u001b[1;32m     16\u001b[0m \u001b[0;34m\u001b[0m\u001b[0m\n\u001b[1;32m     17\u001b[0m \u001b[0;31m#累積和\u001b[0m\u001b[0;34m\u001b[0m\u001b[0;34m\u001b[0m\u001b[0m\n\u001b[0;32m---> 18\u001b[0;31m \u001b[0mhoge\u001b[0m\u001b[0;34m[\u001b[0m\u001b[0;34m'hoge'\u001b[0m\u001b[0;34m]\u001b[0m\u001b[0;34m.\u001b[0m\u001b[0mcumsum\u001b[0m\u001b[0;34m(\u001b[0m\u001b[0;34m)\u001b[0m\u001b[0;34m\u001b[0m\u001b[0m\n\u001b[0m",
      "\u001b[0;31mNameError\u001b[0m: name 'hoge' is not defined"
     ]
    }
   ],
   "source": [
    "#階乗(!)\n",
    "import math\n",
    "math.factorial(10)\n",
    "\n",
    "#順列(5! = 5*4*3*2*1 = 120)\n",
    "import itertools\n",
    "seq = ('a', 'b', 'c', 'd', 'e')\n",
    "list(itertools.permutations(seq))\n",
    "\n",
    "#順列(3つを選んで並べる場合, 5P3)\n",
    "list(itertools.permutations(seq, 3))\n",
    "\n",
    "#組み合わせ(5C3)\n",
    "list(itertools.combinations(seq,3))\n",
    "\n",
    "\n",
    "#累積和\n",
    "hoge['hoge'].cumsum()"
   ]
  },
  {
   "cell_type": "markdown",
   "metadata": {},
   "source": [
    "## 基礎集計"
   ]
  },
  {
   "cell_type": "markdown",
   "metadata": {},
   "source": [
    "- データの行数  \n",
    "- NAの数  \n",
    "- NAの割合  \n",
    "- 列の型  \n",
    "    - 数値なら平均、四分位、min、max  \n",
    "    - 非数値ならカテゴリ数、最頻値  \n",
    "    - 日付型ならそれも明記\n",
    "- keyがあればそれも明記"
   ]
  },
  {
   "cell_type": "markdown",
   "metadata": {},
   "source": [
    "### 行の確認"
   ]
  },
  {
   "cell_type": "markdown",
   "metadata": {},
   "source": [
    "### 列の確認"
   ]
  },
  {
   "cell_type": "code",
   "execution_count": null,
   "metadata": {
    "collapsed": true
   },
   "outputs": [],
   "source": [
    "iris[''].nunique() #列のユニーク数を確認\n",
    "iris['hoge'].unique() #列のユニークな値のリストを返す"
   ]
  },
  {
   "cell_type": "code",
   "execution_count": 15,
   "metadata": {},
   "outputs": [
    {
     "data": {
      "text/plain": [
       "Index(['sepal length (cm)', 'sepal width (cm)', 'petal length (cm)',\n",
       "       'petal width (cm)'],\n",
       "      dtype='object')"
      ]
     },
     "execution_count": 15,
     "metadata": {},
     "output_type": "execute_result"
    }
   ],
   "source": [
    "data.columns"
   ]
  },
  {
   "cell_type": "code",
   "execution_count": null,
   "metadata": {
    "collapsed": true
   },
   "outputs": [],
   "source": [
    "# 注意、as_indexにgroupbyした文字が落ちない場合は、as_index=Falseした後に他の列をcountする\n",
    "\n",
    "hoge.groupby('hoge', as_index = True)[['hoge']].count()\\\n",
    ".rename(columns={'before':'count'}).sort_values('count', ascending=False)\\\n",
    ".reset_index(drop=True)#列に対して種類毎の出現数を数える\n",
    "\n",
    "# もっとうまい方法が見つかった\n",
    "hoge['fuga'].value_counts() #fuga列のユニークな値に対して出現数を数え上げ\n",
    "hoge.counts # hogeのindexのユニークな値に対して出現数を数え上げ\n",
    "\n",
    "# groupbyするやり方もある\n",
    "hoge.groupby(\"fuga\", as_index=False).size() # value_counts()はユニークな値をindexに入れてしまうがこれなら行に残しておける"
   ]
  },
  {
   "cell_type": "markdown",
   "metadata": {},
   "source": [
    "### NA周り"
   ]
  },
  {
   "cell_type": "code",
   "execution_count": null,
   "metadata": {
    "collapsed": true
   },
   "outputs": [],
   "source": [
    "hoge.isnull().sum() #列毎にNAの数を合計"
   ]
  },
  {
   "cell_type": "markdown",
   "metadata": {},
   "source": [
    "### 型の確認"
   ]
  },
  {
   "cell_type": "code",
   "execution_count": null,
   "metadata": {
    "collapsed": true
   },
   "outputs": [],
   "source": [
    "hoge.dtypes #データフレームを列毎に型の確認"
   ]
  },
  {
   "cell_type": "markdown",
   "metadata": {},
   "source": [
    "### 数値型周り"
   ]
  },
  {
   "cell_type": "code",
   "execution_count": null,
   "metadata": {
    "collapsed": true
   },
   "outputs": [],
   "source": [
    "hoge.describe() #要約統計量"
   ]
  },
  {
   "cell_type": "markdown",
   "metadata": {},
   "source": [
    "### 日付型"
   ]
  },
  {
   "cell_type": "code",
   "execution_count": null,
   "metadata": {
    "collapsed": true
   },
   "outputs": [],
   "source": [
    "hoge['datetime'] = pd.to_datetime(hoge['datetime']) #日付型に変換"
   ]
  },
  {
   "cell_type": "markdown",
   "metadata": {},
   "source": [
    "## 算術関数/集約関数/統計関数"
   ]
  },
  {
   "cell_type": "markdown",
   "metadata": {},
   "source": [
    "ソース  \n",
    "\n",
    "[Python pandasの算術関数/集約関数/統計関数まとめ](http://sinhrks.hatenablog.com/entry/2014/11/27/232150)"
   ]
  },
  {
   "cell_type": "markdown",
   "metadata": {},
   "source": [
    "### 準備"
   ]
  },
  {
   "cell_type": "code",
   "execution_count": null,
   "metadata": {
    "collapsed": true
   },
   "outputs": [],
   "source": [
    "import numpy as np\n",
    "import pandas as pd\n",
    "\n",
    "df = pd.DataFrame({'C1': [1, 1, 1],\n",
    "                   'C2': [1, 1, 1],\n",
    "                   'C3': [1, 1, 1]})"
   ]
  },
  {
   "cell_type": "markdown",
   "metadata": {},
   "source": [
    "### 四則演算"
   ]
  },
  {
   "cell_type": "code",
   "execution_count": null,
   "metadata": {
    "collapsed": true
   },
   "outputs": [],
   "source": [
    "# スカラーの加算はデータ全体に対して適用 ( ブロードキャスト ) される\n",
    "df + 1\n",
    "\n",
    "# np.array の加算は 各行に対する加算\n",
    "df + np.array([1, 2, 3])\n",
    "\n",
    "# 要素の長さが違う場合は ValueError\n",
    "df + np.array([1, 2])\n",
    "\n",
    "# 1列目に [1, 2, 3] を足す\n",
    "df['C1'] = df['C1'] + np.array([1, 2, 3])\n",
    "\n",
    "# 3行目 / 3列目の値に 5 を足す\n",
    "df.iloc[2, 2] += 5\n",
    "\n",
    "# 複数列に対する演算も OK\n",
    "# (裏側では DataFrame 選択 -> 計算 -> 代入 をしているだけなので)\n",
    "df[['C1', 'C2']] -= 5\n",
    "\n",
    "# データは元に戻す\n",
    "df = pd.DataFrame({'C1': [1, 1, 1],\n",
    "                   'C2': [1, 1, 1],\n",
    "                   'C3': [1, 1, 1]})"
   ]
  },
  {
   "cell_type": "markdown",
   "metadata": {},
   "source": [
    "### 算術演算メソッド"
   ]
  },
  {
   "cell_type": "code",
   "execution_count": null,
   "metadata": {
    "collapsed": true
   },
   "outputs": [],
   "source": [
    "#列に対するブロードキャスト\n",
    "#DataFrame.add()はaxis=0で列に対する演算、axis=1で行に対する演算(デフォルト)\n",
    "df.add(np.array([1, 2, 3]), axis=0)\n",
    "\n",
    "df.add(np.array([1, 2, 3]), axis='index')"
   ]
  },
  {
   "cell_type": "markdown",
   "metadata": {},
   "source": [
    "### 欠測要素へのパディング(埋める)"
   ]
  },
  {
   "cell_type": "code",
   "execution_count": null,
   "metadata": {
    "collapsed": true
   },
   "outputs": [],
   "source": [
    "# numpy の挙動\n",
    "np.nan + 1\n",
    "\n",
    "# NaN を含む DataFrame を定義する\n",
    "df_nan = pd.DataFrame({'C1': [1, np.nan, np.nan],\n",
    "                       'C2': [np.nan, 1, np.nan],\n",
    "                       'C3': [np.nan, np.nan, 1]})\n",
    "\n",
    "# NaN を含むセルの演算結果は NaN \n",
    "df.add(df_nan)\n",
    "\n",
    "# これを回避するには、fill_valueを使う\n",
    "df.add(df_nan, fill_value=0)\n",
    "\n",
    "# データの順序が変わっても有効 ( fill_value は演算対象 両方のデータに適用される)\n",
    "df_nan.add(df, fill_value=0)\n",
    "\n",
    "# 要素が 両方とも NaN の場合はパディングされない\n",
    "df_nan.add(df_nan, fill_value=0)"
   ]
  },
  {
   "cell_type": "markdown",
   "metadata": {},
   "source": [
    "### 行列積"
   ]
  },
  {
   "cell_type": "code",
   "execution_count": 28,
   "metadata": {},
   "outputs": [
    {
     "data": {
      "text/html": [
       "<div>\n",
       "<style>\n",
       "    .dataframe thead tr:only-child th {\n",
       "        text-align: right;\n",
       "    }\n",
       "\n",
       "    .dataframe thead th {\n",
       "        text-align: left;\n",
       "    }\n",
       "\n",
       "    .dataframe tbody tr th {\n",
       "        vertical-align: top;\n",
       "    }\n",
       "</style>\n",
       "<table border=\"1\" class=\"dataframe\">\n",
       "  <thead>\n",
       "    <tr style=\"text-align: right;\">\n",
       "      <th></th>\n",
       "      <th>0</th>\n",
       "      <th>1</th>\n",
       "    </tr>\n",
       "  </thead>\n",
       "  <tbody>\n",
       "    <tr>\n",
       "      <th>0</th>\n",
       "      <td>-10</td>\n",
       "      <td>12</td>\n",
       "    </tr>\n",
       "    <tr>\n",
       "      <th>1</th>\n",
       "      <td>-12</td>\n",
       "      <td>14</td>\n",
       "    </tr>\n",
       "  </tbody>\n",
       "</table>\n",
       "</div>"
      ],
      "text/plain": [
       "    0   1\n",
       "0 -10  12\n",
       "1 -12  14"
      ]
     },
     "execution_count": 28,
     "metadata": {},
     "output_type": "execute_result"
    }
   ],
   "source": [
    "df2 = pd.DataFrame({'C1': [2, 3],\n",
    "                    'C2': [4, 5]})\n",
    "df3 = pd.DataFrame({'C1': [1, -2],\n",
    "                    'C2': [-3, 4]})\n",
    "\n",
    "# *でDataFrameの積を取ると、各要素同士の積になる\n",
    "df2 * df3\n",
    "\n",
    "# 行列の積を取りたい場合はDataFrame.dot\n",
    "# 元データのcolumnと引数のindexのラベルが一致している必要があるので、DataFrame.valuesで中身を取り出すか引数を転地させる\n",
    "# ただし以下2つは計算結果が変わってくるので注意\n",
    "df2.dot(df3.values)\n",
    "df2.dot(df3.T)"
   ]
  },
  {
   "cell_type": "markdown",
   "metadata": {},
   "source": [
    "### 集約関数"
   ]
  },
  {
   "cell_type": "markdown",
   "metadata": {},
   "source": [
    "力尽きたのでまた"
   ]
  },
  {
   "cell_type": "markdown",
   "metadata": {},
   "source": [
    "## 集計"
   ]
  },
  {
   "cell_type": "markdown",
   "metadata": {},
   "source": [
    "### クロス集計"
   ]
  },
  {
   "cell_type": "code",
   "execution_count": 5,
   "metadata": {},
   "outputs": [
    {
     "data": {
      "text/html": [
       "<div>\n",
       "<style>\n",
       "    .dataframe thead tr:only-child th {\n",
       "        text-align: right;\n",
       "    }\n",
       "\n",
       "    .dataframe thead th {\n",
       "        text-align: left;\n",
       "    }\n",
       "\n",
       "    .dataframe tbody tr th {\n",
       "        vertical-align: top;\n",
       "    }\n",
       "</style>\n",
       "<table border=\"1\" class=\"dataframe\">\n",
       "  <thead>\n",
       "    <tr>\n",
       "      <th>b</th>\n",
       "      <th colspan=\"2\" halign=\"left\">one</th>\n",
       "      <th colspan=\"2\" halign=\"left\">two</th>\n",
       "    </tr>\n",
       "    <tr>\n",
       "      <th>c</th>\n",
       "      <th>dull</th>\n",
       "      <th>shiny</th>\n",
       "      <th>dull</th>\n",
       "      <th>shiny</th>\n",
       "    </tr>\n",
       "    <tr>\n",
       "      <th>a</th>\n",
       "      <th></th>\n",
       "      <th></th>\n",
       "      <th></th>\n",
       "      <th></th>\n",
       "    </tr>\n",
       "  </thead>\n",
       "  <tbody>\n",
       "    <tr>\n",
       "      <th>bar</th>\n",
       "      <td>1</td>\n",
       "      <td>2</td>\n",
       "      <td>1</td>\n",
       "      <td>0</td>\n",
       "    </tr>\n",
       "    <tr>\n",
       "      <th>foo</th>\n",
       "      <td>2</td>\n",
       "      <td>2</td>\n",
       "      <td>1</td>\n",
       "      <td>2</td>\n",
       "    </tr>\n",
       "  </tbody>\n",
       "</table>\n",
       "</div>"
      ],
      "text/plain": [
       "b    one        two      \n",
       "c   dull shiny dull shiny\n",
       "a                        \n",
       "bar    1     2    1     0\n",
       "foo    2     2    1     2"
      ]
     },
     "execution_count": 5,
     "metadata": {},
     "output_type": "execute_result"
    }
   ],
   "source": [
    "# pandas.crosstabを使う\n",
    "import pandas as pd\n",
    "import numpy as np\n",
    "a = np.array([\"foo\", \"foo\", \"foo\", \"foo\", \"bar\", \"bar\",\n",
    "              \"bar\", \"bar\", \"foo\", \"foo\", \"foo\"], dtype=object)\n",
    "b = np.array([\"one\", \"one\", \"one\", \"two\", \"one\", \"one\",\n",
    "              \"one\", \"two\", \"two\", \"two\", \"one\"], dtype=object)\n",
    "c = np.array([\"dull\", \"dull\", \"shiny\", \"dull\", \"dull\", \"shiny\",\n",
    "              \"shiny\", \"dull\", \"shiny\", \"shiny\", \"shiny\"],\n",
    "             dtype=object)\n",
    "\n",
    "pd.crosstab(a, [b, c], rownames=['a'], colnames=['b', 'c']) # rownamesとcolnamesはつけなくてもよい\n",
    "\n",
    "pd.pivot_table(flights, values=\"passengers\", index=\"month\", columns=\"year\") # これでもOK"
   ]
  },
  {
   "cell_type": "markdown",
   "metadata": {},
   "source": [
    "## 分析・検定"
   ]
  },
  {
   "cell_type": "markdown",
   "metadata": {},
   "source": [
    "### カイ二乗検定"
   ]
  },
  {
   "cell_type": "markdown",
   "metadata": {},
   "source": [
    "ソース\n",
    "\n",
    "[漸近理論とシミュレーション(2)](https://qiita.com/ynakayama/items/6b89cb451a73ae7a8990)  "
   ]
  },
  {
   "cell_type": "code",
   "execution_count": 4,
   "metadata": {},
   "outputs": [
    {
     "name": "stdout",
     "output_type": "stream",
     "text": [
      "カイ二乗値は 0.16\n",
      "確率は 0.689156516779\n",
      "有意です\n"
     ]
    }
   ],
   "source": [
    "# scipy.stats.chilsquareを使う\n",
    "import numpy as np\n",
    "import scipy.stats\n",
    "\n",
    "s = 204  # 表が出る回数\n",
    "f = 196  # 裏が出る回数\n",
    "e = 200  # 期待される回数\n",
    "\n",
    "# 帰無仮説 (204:196)\n",
    "observed = np.array([s, f])\n",
    "# 対立仮説 (200:200)\n",
    "expected = np.array([e, e])\n",
    "\n",
    "# カイ二乗検定をおこなう\n",
    "x2, p = scipy.stats.chisquare(observed, expected)\n",
    "\n",
    "print(\"カイ二乗値は %(x2)s\" % locals())\n",
    "print(\"確率は %(p)s\" % locals())\n",
    "\n",
    "# 統計学的有意水準 0.05 より高いかどうか調べる\n",
    "if p > 0.05:\n",
    "    print(\"有意です\")\n",
    "else:\n",
    "    print(\"有意ではありません\")"
   ]
  },
  {
   "cell_type": "markdown",
   "metadata": {},
   "source": [
    "### 独立性のカイ二乗検定"
   ]
  },
  {
   "cell_type": "markdown",
   "metadata": {},
   "source": [
    "ソース  \n",
    "\n",
    "[クロス集計とカイ二乗検定](https://qiita.com/ynakayama/items/67ddb321a8ce5b07274c)\n",
    "\n",
    "独立性のカイ二乗検定が適用できるかどうかは\n",
    "\n",
    "* カテゴリー別に見てもサンプル数が十分に確保されているか\n",
    "* 実際にどのカテゴリーとどのカテゴリーが関連しているのか  \n",
    "\n",
    "を確認する必要がある\n",
    "\n",
    "また\n",
    "> 2×2 分割表ならば、全体の観察数（N）が20未満、または、20<N<40かつ最小期待値が5未満の時は、フィッシャー正確確率検定を使う  \n",
    "\n",
    "[~統計学の基準値の由来：5%有意水準，カイ二乗検定，相関係数の出典と引用~](https://sites.google.com/site/fishermultiplecomparison/statistics-5-percent)\n",
    "\n",
    "という話もある"
   ]
  },
  {
   "cell_type": "code",
   "execution_count": null,
   "metadata": {
    "collapsed": true
   },
   "outputs": [],
   "source": [
    "# クロス集計結果をchi2_contingencyに渡す\n",
    "import pandas as pd\n",
    "from scipy import stats\n",
    "\n",
    "# タブ区切りのテキストデータを読み込む\n",
    "data = pd.read_csv(\"data.txt\", sep=\"\\t\")\n",
    "\n",
    "# クロス集計をする\n",
    "crossed = pd.crosstab(data['columnA'], data['columnB'])\n",
    "\n",
    "# 独立性のカイ二乗検定の関数に渡す\n",
    "x2, p, dof, expected = stats.chi2_contingency(crossed)\n",
    "\n",
    "print(\"カイ二乗値は %(x2)s\" % locals())\n",
    "print(\"確率は %(p)s\" % locals())\n",
    "print(\"自由度は %(dof)s\" % locals())\n",
    "print(expected)\n",
    "\n",
    "if p < 0.05:\n",
    "    print(\"有意な差があります\")\n",
    "else:\n",
    "    print(\"有意な差がありません\")"
   ]
  },
  {
   "cell_type": "markdown",
   "metadata": {},
   "source": [
    "### フィッシャーの正確確率検定"
   ]
  },
  {
   "cell_type": "markdown",
   "metadata": {},
   "source": [
    "> 2×2 分割表ならば、全体の観察数（N）が20未満、または、20<N<40かつ最小期待値が5未満の時は、フィッシャー正確確率検定を使う  \n",
    "\n",
    "[~統計学の基準値の由来：5%有意水準，カイ二乗検定，相関係数の出典と引用~](https://sites.google.com/site/fishermultiplecomparison/statistics-5-percent)\n",
    "\n",
    "ソース \n",
    "\n",
    "理論  \n",
    "[統計学の基準値の由来：5%有意水準，カイ二乗検定，相関係数の出典と引用](https://sites.google.com/site/fishermultiplecomparison/statistics-5-percent)  \n",
    "[フィッシャーの正確確率検定](https://ja.wikipedia.org/wiki/フィッシャーの正確確率検定)  "
   ]
  },
  {
   "cell_type": "markdown",
   "metadata": {},
   "source": [
    "実装  \n",
    "[データサイエンスをPythonで試す](http://esu-ko.hatenablog.com/entry/2016/03/07/データサイエンスをPythonで試す%281%3A検定%29)"
   ]
  },
  {
   "cell_type": "code",
   "execution_count": null,
   "metadata": {
    "collapsed": true
   },
   "outputs": [],
   "source": [
    "# 基本的な構文は独立性のカイ二乗検定と一緒\n",
    "odds, p = stats.fisher_exact(dat_edit)\n",
    "print(\"odds ratio:\" + str(odds))\n",
    "print(\"p値:\" + str(p))"
   ]
  },
  {
   "cell_type": "markdown",
   "metadata": {},
   "source": [
    "### 残差分析"
   ]
  },
  {
   "cell_type": "markdown",
   "metadata": {},
   "source": [
    "ソース\n",
    "\n",
    "[Pythonで残差分析](https://qiita.com/Hiroyuki1993/items/dd859913ed8c6d5191e6)"
   ]
  },
  {
   "cell_type": "markdown",
   "metadata": {},
   "source": [
    "## 描画"
   ]
  },
  {
   "cell_type": "markdown",
   "metadata": {},
   "source": [
    "日付型の設定は以下  \n",
    "[dates(公式ドキュメント)](https://matplotlib.org/api/dates_api.html)"
   ]
  },
  {
   "cell_type": "raw",
   "metadata": {},
   "source": [
    "### 図の保存"
   ]
  },
  {
   "cell_type": "code",
   "execution_count": null,
   "metadata": {
    "collapsed": true
   },
   "outputs": [],
   "source": [
    "plt.savefig('path.png')"
   ]
  },
  {
   "cell_type": "markdown",
   "metadata": {},
   "source": [
    "### 複数の描画"
   ]
  },
  {
   "cell_type": "code",
   "execution_count": null,
   "metadata": {
    "collapsed": true
   },
   "outputs": [],
   "source": [
    "fig = plt.figure(figsize=(9, 15))\n",
    "fig.subplots_adjust(left=0, right=1, bottom=0, top=0.5)\n",
    "\n",
    "for i in range(9):\n",
    "    ax = fig.add_subplot(1, 9, i + 1, xticks=[], yticks=[]) # add_subplot(行数、列数、何番目の図を指すか)\n",
    "    ax.imshow(train_X[i])"
   ]
  },
  {
   "cell_type": "markdown",
   "metadata": {},
   "source": [
    "### 値の出現数の棒グラフ"
   ]
  },
  {
   "cell_type": "code",
   "execution_count": null,
   "metadata": {
    "collapsed": true
   },
   "outputs": [],
   "source": [
    "fig = plt.figure(figsize=(16, 12))\n",
    "ax = fig.add_subplot(111)\n",
    "ax.barh(bottom=shelf_DF.index, width=shelf_DF['count'], tick_label=shelf_DF['shelf_name'], align='center')\n",
    "ax.invert_yaxis()"
   ]
  },
  {
   "cell_type": "markdown",
   "metadata": {},
   "source": [
    "#### pd.Seriesを棒グラフにしたい場合"
   ]
  },
  {
   "cell_type": "code",
   "execution_count": null,
   "metadata": {
    "collapsed": true
   },
   "outputs": [],
   "source": [
    "fig = plt.figure(figsize=(16, 12))\n",
    "ax = fig.add_subplot(111)\n",
    "data.plot.barh() #pandas plotを使う\n",
    "ax.invert_yaxis()"
   ]
  },
  {
   "cell_type": "markdown",
   "metadata": {},
   "source": [
    "#### 任意の棒だけを塗り分けたいとき"
   ]
  },
  {
   "cell_type": "code",
   "execution_count": null,
   "metadata": {
    "collapsed": true
   },
   "outputs": [],
   "source": [
    "barlist=plt.bar([1,2,3,4], [1,2,3,4])\n",
    "barlist[0].set_color('r')\n",
    "plt.show()"
   ]
  },
  {
   "cell_type": "markdown",
   "metadata": {},
   "source": [
    "### 積み上げヒストグラム"
   ]
  },
  {
   "cell_type": "code",
   "execution_count": null,
   "metadata": {
    "collapsed": true
   },
   "outputs": [],
   "source": [
    "#出現回数の積み上げヒストグラム+そのライン\n",
    "#X軸:出現回数\n",
    "#y軸:累積カテゴリ数\n",
    "plt.figure(figsize=[16,12])\n",
    "plt.hist(edge_weight_list, bins=100, cumulative=True, normed=True, alpha=0.5)\n",
    "plt.hlines(y=0.90, xmin=0, xmax=2533, color='blue', linestyles='dashed')\n",
    "plt.vlines(x=168.8, ymin=0, ymax=1, color='blue', linestyles='dashed')\n",
    "plt.show()"
   ]
  },
  {
   "cell_type": "markdown",
   "metadata": {},
   "source": [
    "### 散布図行列"
   ]
  },
  {
   "cell_type": "code",
   "execution_count": null,
   "metadata": {
    "collapsed": true
   },
   "outputs": [],
   "source": [
    "sns.pairplot(iris, hue='species');"
   ]
  },
  {
   "cell_type": "markdown",
   "metadata": {},
   "source": [
    "### histgramの正規化がうまく行かない場合の対処法"
   ]
  },
  {
   "cell_type": "code",
   "execution_count": null,
   "metadata": {
    "collapsed": true
   },
   "outputs": [],
   "source": [
    "# matplotlibのnormed=Trueは面積が1になるように正規化するため、各binの幅が小さい場合高さが1を越えることがある\n",
    "# 正規化した重みを別に定義してあげる\n",
    "weights = np.ones_like(\n",
    "    data['walkin_rate']) / float(len(data['walkin_rate']))\n",
    "\n",
    "plt.figure(figsize=[20, 10])\n",
    "plt.hist(data['walkin_rate'], bins=50, color='blue', alpha=0.8, weights=weights_other, label='hoge')\n",
    "plt.legend(loc='upper left')\n",
    "plt.savefig('../output/hogehoge.png')"
   ]
  },
  {
   "cell_type": "markdown",
   "metadata": {},
   "source": [
    "## 文字列処理"
   ]
  },
  {
   "cell_type": "markdown",
   "metadata": {},
   "source": [
    "### 文字と数値の出力"
   ]
  },
  {
   "cell_type": "code",
   "execution_count": 11,
   "metadata": {},
   "outputs": [
    {
     "name": "stdout",
     "output_type": "stream",
     "text": [
      "円周率は3.14です\n"
     ]
    }
   ],
   "source": [
    "print('円周率は{:.2f}です'.format(3.1415)) #formatで代入、{}の中に装飾子入れて出力を調整"
   ]
  },
  {
   "cell_type": "markdown",
   "metadata": {},
   "source": [
    "### 文字の削除"
   ]
  },
  {
   "cell_type": "code",
   "execution_count": null,
   "metadata": {
    "collapsed": true
   },
   "outputs": [],
   "source": [
    "\"文字列\".strip(\"削除したい文字列\") # 先頭と末尾から削除\n",
    "\"文字列\".lstrip(\"削除したい文字列\") # 先頭から削除\n",
    "\"文字列\".rstrip(\"削除したい文字列\") # 末尾から削除"
   ]
  },
  {
   "cell_type": "markdown",
   "metadata": {},
   "source": [
    "## Keras"
   ]
  },
  {
   "cell_type": "markdown",
   "metadata": {},
   "source": [
    "### 学習経過のプロット"
   ]
  },
  {
   "cell_type": "code",
   "execution_count": null,
   "metadata": {
    "collapsed": true
   },
   "outputs": [],
   "source": [
    "fig, (axL, axR) = plt.subplots(ncols=2, figsize=(10,4))\n",
    "\n",
    "# loss\n",
    "def plot_history_loss(fit):\n",
    "    # Plot the loss in the history\n",
    "    axL.plot(fit.history['loss'],label=\"loss for training\")\n",
    "    axL.plot(fit.history['val_loss'],label=\"loss for validation\")\n",
    "    axL.set_title('model loss')\n",
    "    axL.set_xlabel('epoch')\n",
    "    axL.set_ylabel('loss')\n",
    "    axL.legend(loc='upper right')\n",
    "\n",
    "# acc\n",
    "def plot_history_acc(fit):\n",
    "    # Plot the loss in the history\n",
    "    axR.plot(fit.history['acc'],label=\"loss for training\")\n",
    "    axR.plot(fit.history['val_acc'],label=\"loss for validation\")\n",
    "    axR.set_title('model accuracy')\n",
    "    axR.set_xlabel('epoch')\n",
    "    axR.set_ylabel('accuracy')\n",
    "    axR.legend(loc='upper right')\n",
    "\n",
    "plot_history_loss(fit)\n",
    "plot_history_acc(fit)"
   ]
  },
  {
   "cell_type": "markdown",
   "metadata": {},
   "source": [
    "## JSON"
   ]
  },
  {
   "cell_type": "markdown",
   "metadata": {},
   "source": [
    "### JSONファイルの書き込み"
   ]
  },
  {
   "cell_type": "code",
   "execution_count": null,
   "metadata": {
    "collapsed": true
   },
   "outputs": [],
   "source": [
    "savepath = 'sample.json'\n",
    "with pen(savepath, 'w') as outfile:\n",
    "    json.dump(data, outfile)"
   ]
  },
  {
   "cell_type": "markdown",
   "metadata": {},
   "source": [
    "### JSONファイルの読み込み"
   ]
  },
  {
   "cell_type": "code",
   "execution_count": null,
   "metadata": {
    "collapsed": true
   },
   "outputs": [],
   "source": [
    "try:\n",
    "    # ローカルJSONファイルの読み込み\n",
    "    with open('sample.json', 'r') as f:\n",
    "        data = json.load(f)\n",
    "        print(data)\n",
    "except json.JSONDecodeError as e:\n",
    "    print('JSONDecodeError: ', e)"
   ]
  },
  {
   "cell_type": "markdown",
   "metadata": {},
   "source": [
    "## 小技"
   ]
  },
  {
   "cell_type": "markdown",
   "metadata": {},
   "source": [
    "### 画像の表示"
   ]
  },
  {
   "cell_type": "code",
   "execution_count": null,
   "metadata": {
    "collapsed": true
   },
   "outputs": [],
   "source": [
    "from IPython.display import Image, display_png\n",
    "display_png(Image('hogehoge.png'))"
   ]
  },
  {
   "cell_type": "markdown",
   "metadata": {},
   "source": [
    "### np.array"
   ]
  },
  {
   "cell_type": "code",
   "execution_count": 6,
   "metadata": {},
   "outputs": [
    {
     "data": {
      "text/plain": [
       "array(['1', '2'],\n",
       "      dtype='<U21')"
      ]
     },
     "execution_count": 6,
     "metadata": {},
     "output_type": "execute_result"
    }
   ],
   "source": [
    "#np.arrayはネストした特定の成分を複数のarrayから持ってこれる\n",
    "#ただしintとstrなど型が違うと変換される(no.array自体がそういうもの)ので注意\n",
    "test = np.array([[1, 'b'], [2, 'd']])\n",
    "test[:, 0]"
   ]
  },
  {
   "cell_type": "markdown",
   "metadata": {},
   "source": [
    "### ループ"
   ]
  },
  {
   "cell_type": "code",
   "execution_count": 20,
   "metadata": {
    "scrolled": false
   },
   "outputs": [
    {
     "name": "stderr",
     "output_type": "stream",
     "text": [
      "\n",
      "  0%|          | 0/3 [00:00<?, ?it/s]\u001b[A\n",
      "100%|██████████| 3/3 [00:00<00:00, 1368.45it/s]\u001b[A"
     ]
    },
    {
     "name": "stdout",
     "output_type": "stream",
     "text": [
      "0\n",
      "1\n",
      "2\n"
     ]
    }
   ],
   "source": [
    "#tqdmを使う\n",
    "#len()で回すよりdata.shape[0]で回した方が高速(DataFrameの場合)\n",
    "from tqdm import tqdm\n",
    "\n",
    "a_DF = pd.DataFrame({'a':[1,2,3], 'b':[4,5,6]})\n",
    "for i in tqdm(range(a_DF.shape[0])):\n",
    "    print(i)"
   ]
  },
  {
   "cell_type": "code",
   "execution_count": null,
   "metadata": {
    "collapsed": true
   },
   "outputs": [],
   "source": [
    "# \n",
    "import collections\n",
    "dic = collections.defaultdict(list)\n",
    "\n",
    "items = [item for item in pivot.columns if item != '購買']\n",
    "for i, item1 in enumerate(items):\n",
    "    for item2 in items[i + 1:]:\n",
    "        dic['item1'].append(item1)\n",
    "        dic['item2'].append(item2)\n",
    "        # クロス集計\n",
    "        cross = #よしなにする\n",
    "        display(cross)\n",
    "        dic['right-top'].append(cross.iloc[0, 1])\n",
    "        dic['left-bottom'].append(cross.iloc[1, 0])\n",
    "pd.DataFrame(dic)"
   ]
  },
  {
   "cell_type": "markdown",
   "metadata": {},
   "source": [
    "### イテレーション"
   ]
  },
  {
   "cell_type": "markdown",
   "metadata": {},
   "source": [
    "イテレータ:要素を反復して取り出すことの出来るインターフェイス"
   ]
  },
  {
   "cell_type": "markdown",
   "metadata": {},
   "source": [
    "#### Pandas"
   ]
  },
  {
   "cell_type": "code",
   "execution_count": 6,
   "metadata": {},
   "outputs": [
    {
     "name": "stdout",
     "output_type": "stream",
     "text": [
      "1\n",
      "2\n",
      "3\n",
      "a\n",
      "1\n",
      "b\n",
      "2\n",
      "c\n",
      "3\n"
     ]
    },
    {
     "data": {
      "image/png": "[encoded data removed]"
     },
     "metadata": {},
     "output_type": "display_data"
    }
   ],
   "source": [
    "#Series\n",
    "s = pd.Series([1, 2, 3], index=['a', 'b', 'c'])\n",
    "\n",
    "for v in s.__iter__():\n",
    "    print(v)\n",
    "    \n",
    "for i, v in s.iteritems():\n",
    "    print(i)\n",
    "    print(v)\n",
    "\n",
    "display_png(Image('./images/Series1.png'))"
   ]
  },
  {
   "cell_type": "code",
   "execution_count": 13,
   "metadata": {},
   "outputs": [
    {
     "name": "stdout",
     "output_type": "stream",
     "text": [
      "A\n",
      "B\n",
      "A\n",
      "a    1\n",
      "b    2\n",
      "c    3\n",
      "Name: A, dtype: int64\n",
      "\n",
      "B\n",
      "a    4\n",
      "b    5\n",
      "c    6\n",
      "Name: B, dtype: int64\n",
      "\n",
      "a\n",
      "A    1\n",
      "B    4\n",
      "Name: a, dtype: int64\n",
      "\n",
      "b\n",
      "A    2\n",
      "B    5\n",
      "Name: b, dtype: int64\n",
      "\n",
      "c\n",
      "A    3\n",
      "B    6\n",
      "Name: c, dtype: int64\n",
      "\n"
     ]
    },
    {
     "data": {
      "image/png": "[encoded data removed]"
     },
     "metadata": {},
     "output_type": "display_data"
    }
   ],
   "source": [
    "#DataFrame\n",
    "df = pd.DataFrame(\n",
    "    {'A': [1, 2, 3],\n",
    "     'B': [4, 5, 6]},\n",
    "    index = ['a', 'b', 'c']\n",
    ")\n",
    "\n",
    "for col in df.__iter__():\n",
    "    print(col)\n",
    "    \n",
    "for key, column in df.iteritems():\n",
    "    print(key)\n",
    "    print(column)\n",
    "    print('')\n",
    "    \n",
    "for key, row in df.iterrows():\n",
    "    print(key)\n",
    "    print(row)\n",
    "    print('')\n",
    "    \n",
    "display_png(Image('./images/DataFrame1.png'))"
   ]
  },
  {
   "cell_type": "code",
   "execution_count": 7,
   "metadata": {},
   "outputs": [
    {
     "name": "stdout",
     "output_type": "stream",
     "text": [
      "g1\n",
      "   A  B group\n",
      "0  1  5    g1\n",
      "2  3  7    g1\n",
      "\n",
      "g2\n",
      "   A  B group\n",
      "1  2  6    g2\n",
      "3  4  8    g2\n",
      "\n"
     ]
    },
    {
     "data": {
      "image/png": "[encoded data removed]"
     },
     "metadata": {},
     "output_type": "display_data"
    }
   ],
   "source": [
    "df = pd.DataFrame(\n",
    "    {'group': ['g1', 'g2', 'g1', 'g2'],\n",
    "     'A': [1, 2, 3, 4],\n",
    "     'B': [5, 6, 7, 8]}, \n",
    ")\n",
    "grouped = df.groupby(by='group')\n",
    "\n",
    "for name, group in grouped:\n",
    "    print(name)\n",
    "    print(group)\n",
    "    print('')\n",
    "    \n",
    "display_png(Image('./images/group1.png'))"
   ]
  },
  {
   "cell_type": "markdown",
   "metadata": {},
   "source": [
    "[「Pandasのデータイテレーション」](http://sinhrks.hatenablog.com/entry/2015/06/18/221747)  \n",
    "[「イテレータとジェネレータ」](https://qiita.com/tomotaka_ito/items/35f3eb108f587022fa09)"
   ]
  },
  {
   "cell_type": "markdown",
   "metadata": {},
   "source": [
    "## Numpy"
   ]
  },
  {
   "cell_type": "markdown",
   "metadata": {},
   "source": [
    "### ファイルの読み書き"
   ]
  },
  {
   "cell_type": "code",
   "execution_count": null,
   "metadata": {
    "collapsed": true
   },
   "outputs": [],
   "source": [
    "np.save('filepath.npy', '保存したいもの') # 任意のオブジェクトの保存、拡張子は.npy\n",
    "hoge = np.load('filepath.npy') # 任意の.npyファイルをロード"
   ]
  },
  {
   "cell_type": "markdown",
   "metadata": {},
   "source": [
    "### arrayの結合"
   ]
  },
  {
   "cell_type": "code",
   "execution_count": null,
   "metadata": {
    "collapsed": true
   },
   "outputs": [],
   "source": [
    "np.r_[left, right] # 行結合\n",
    "np.c_[up, down] # 列結合"
   ]
  },
  {
   "cell_type": "markdown",
   "metadata": {},
   "source": [
    "### sort"
   ]
  },
  {
   "cell_type": "code",
   "execution_count": null,
   "metadata": {
    "collapsed": true
   },
   "outputs": [],
   "source": [
    "np.sort(\"np.arrayオブジェクト\") # 昇順のソート\n",
    "np.sort(\"np.arrayオブジェクト\")[:-1] # 降順のソート"
   ]
  },
  {
   "cell_type": "markdown",
   "metadata": {},
   "source": [
    " ## networkx"
   ]
  },
  {
   "cell_type": "code",
   "execution_count": null,
   "metadata": {
    "collapsed": true
   },
   "outputs": [],
   "source": [
    "import networkx as nx"
   ]
  },
  {
   "cell_type": "markdown",
   "metadata": {},
   "source": [
    "### 基本動作"
   ]
  },
  {
   "cell_type": "code",
   "execution_count": null,
   "metadata": {
    "collapsed": true
   },
   "outputs": [],
   "source": [
    "# ネットワークの描画\n",
    "G = nx.Graph()\n",
    "# 有向グラフ\n",
    "DG = nx.DiGraph()\n",
    "# 有向グラフを無向グラフに変換\n",
    "H = nx.Graph(G)\n",
    "# 多向グラフ\n",
    "MG = nx.MultiGraph\n",
    "\n",
    "# ノードの追加\n",
    "G.add_nodes_from([(item, {'count': count}) for item, count in zip(node_count_DF['item_x'], node_count_DF['sum_x'])])\n",
    "\n",
    "# エッジの追加\n",
    "G.add_edges_from([(item1, item2) for item1, item2 in zip(edge_DF['item_x'], edge_DF['item_y'])])\n",
    "\n",
    "G.number_of_nodes() # ノード数の確認\n",
    "G.number_of_edges() # エッジ数の確認\n",
    "\n",
    "G.degree() # 繋がっているエッジの数の確認\n",
    "G.degree([0,1,2]) # 特定のノードについてのみ調べる\n",
    "\n",
    "G.adj  # 全てのノードに対して繋がっているノードを確認\n",
    "G[0] #ノード0に対して繋がっているノードを確認\n",
    "G.adj.items() # ノードと繋がっているノードをitemで抽出\n",
    "\n",
    "\n",
    "G[1][3]['color'] = \"blue\" # エッジに属性を付与\n",
    "G.edges[1, 2]['color'] = \"red\" # エッジに属性を付与\n",
    "\n",
    "list(nx.connected_components(G)) # グラフをまとまり単位でlist化\n",
    "\n",
    "nx.clustering(G) # クラスター係数を計算？要調査\n",
    "\n",
    "for path in nx.all_simple_paths(G, source=10, target=101): # sourceからtargetの全てのパスを返す\n",
    "    print(path)"
   ]
  },
  {
   "cell_type": "markdown",
   "metadata": {},
   "source": [
    "### 中心性指標"
   ]
  },
  {
   "cell_type": "markdown",
   "metadata": {},
   "source": [
    "* グラフの最短距離\n",
    " * 離心中心性(eccentricity centrality)\n",
    " * 近接中心性(closeness centrality)\n",
    " * 調和中心性(?)(harmonic centrality)\n",
    " \n",
    "* グラフ内の繋がりの多さ\n",
    " * 次数中心性(degree centrality)\n",
    " * 固有ベクトル中心性(eigenvector centrality)\n",
    " * ボナチッチのパワー中心性(power centrality)\n",
    " * Page Rank\n",
    "\n",
    "* 情報の媒介や伝達\n",
    " * 媒介中心性(betweenness centrality)\n",
    " * 情報中心性(information cenotrality)"
   ]
  },
  {
   "cell_type": "code",
   "execution_count": null,
   "metadata": {
    "collapsed": true
   },
   "outputs": [],
   "source": [
    "G = nx.Graph()\n",
    "\n",
    "# 離心中心性\n",
    "nx.eccentricity(G)\n",
    "# 近接中心性\n",
    "nx.closeness_centrality(G)\n",
    "# 調和中心性\n",
    "nx.harmonic_centrality(G)\n",
    "\n",
    "# 次数中心性\n",
    "nx.degree_centrality(G)\n",
    "# 固有ベクトル中心性\n",
    "nx.eigenvector_centrality(G)\n",
    "# ボナチッチのパワー中心性\n",
    "# 見つからない\n",
    "# Page Rank\n",
    "nx.pagerank(G)\n",
    "\n",
    "# 媒介中心性\n",
    "nx.betweenness_centrality(G) \n",
    "# 情報中心性\n",
    "# 見つからない"
   ]
  },
  {
   "cell_type": "markdown",
   "metadata": {},
   "source": [
    "## MeCab"
   ]
  },
  {
   "cell_type": "markdown",
   "metadata": {},
   "source": [
    "### NEologdの更新"
   ]
  },
  {
   "cell_type": "markdown",
   "metadata": {},
   "source": [
    "ターミナル上で以下のコードを実行する\n",
    "\n",
    "```bash\n",
    "# NEologdをクローンしたリポジトリに移動\n",
    "cd mecab-ipadic-neologd\n",
    "# 更新\n",
    "./bin/install-mecab-ipadic-neologd -n\n",
    "```"
   ]
  },
  {
   "cell_type": "markdown",
   "metadata": {},
   "source": [
    "# 心得"
   ]
  },
  {
   "cell_type": "markdown",
   "metadata": {},
   "source": [
    "## コーディング規約に従う"
   ]
  },
  {
   "cell_type": "markdown",
   "metadata": {},
   "source": [
    "Pythonはpep8というコーディング規約がある  \n",
    "要約サイトがあるので以下参照   \n",
    "https://qiita.com/sartan123/items/7385e907400c4c407eae\n",
    "\n",
    "基本的には、Jupyter notebookのextensionの中にあるautopep8を有効にして、セルを選択した状態で🔨アイコンを押せばよしなに調整してくれる"
   ]
  },
  {
   "cell_type": "markdown",
   "metadata": {},
   "source": [
    "## 関数の中身を把握する"
   ]
  },
  {
   "cell_type": "markdown",
   "metadata": {},
   "source": [
    "`inspect`というモジュールの`getfile`という関数を使って関数が書いてあるpyファイルのパスを見つける  \n",
    "任意のエディターで開く(自分の場合はatom)\n",
    "\n",
    "参考 [ターミナルから、Atomでファイルを開いてみる](https://qiita.com/kumewata/items/5967849208f0671a725a)\n",
    "\n",
    "```python\n",
    "import inspect\n",
    "print(inspect.getfile('関数')))\n",
    "```\n",
    "\n",
    "```terminal\n",
    "atom 'ファイルパス'\n",
    "```\n",
    "\n",
    "ドキュメント読んだ方が効率がいい場合もあるが、直接ソースコード読むとドキュメントも書いてあるから二度美味しい"
   ]
  },
  {
   "cell_type": "markdown",
   "metadata": {},
   "source": [
    "## 出来る限りdocumentを読む"
   ]
  },
  {
   "cell_type": "markdown",
   "metadata": {},
   "source": [
    "## 常に効率化を考える"
   ]
  },
  {
   "cell_type": "markdown",
   "metadata": {},
   "source": [
    "同じ処理をするコードでも、工夫次第でより短くなったり早くなったりする  \n",
    "for文の代わりに行列で処理をしたり、len()の代わりにhoge.shape[0]を使ったり、工夫は尽きない"
   ]
  },
  {
   "cell_type": "markdown",
   "metadata": {},
   "source": [
    "# Markdown記法"
   ]
  },
  {
   "cell_type": "markdown",
   "metadata": {},
   "source": [
    "## 文字装飾"
   ]
  },
  {
   "cell_type": "markdown",
   "metadata": {},
   "source": [
    "斜体は*こう*  \n",
    "強調は**こう**  \n",
    "両方やりたければ**_こう_**  \n",
    "取り消しは~~こう~~こう"
   ]
  },
  {
   "cell_type": "markdown",
   "metadata": {},
   "source": [
    "## List表記"
   ]
  },
  {
   "cell_type": "markdown",
   "metadata": {},
   "source": [
    "1. まず初めに\n",
    "2. 次に\n",
    "\n",
    " このように内容を書く  \n",
    " 改行は半角空白を2つ\n",
    " \n",
    " 段落変えたければ改行を2つ  \n",
    "\n",
    "\n",
    "\n",
    "\n",
    "\n",
    "\n",
    "\n",
    "* アスタリスクでドットを書ける\n",
    "* 2つ目のドット\n",
    " * 3つ目のドット"
   ]
  },
  {
   "cell_type": "markdown",
   "metadata": {},
   "source": [
    "## 画像"
   ]
  },
  {
   "cell_type": "markdown",
   "metadata": {},
   "source": [
    "こんな感じ:\n",
    "![earth1][logo]\n",
    "[logo]: https://img.discogs.com/YaUCllWyiT1XohOe3yhFQ_hFJWk=/fit-in/600x606/filters:strip_icc():format(jpeg):mode_rgb():quality(90)/discogs-images/R-670301-1412747605-8517.jpeg.jpg"
   ]
  },
  {
   "cell_type": "markdown",
   "metadata": {},
   "source": [
    "## コード"
   ]
  },
  {
   "cell_type": "markdown",
   "metadata": {},
   "source": [
    "```python\n",
    "s = 'Python Syntax highlighting'\n",
    "print(s)\n",
    "```"
   ]
  },
  {
   "cell_type": "markdown",
   "metadata": {},
   "source": [
    "## 表"
   ]
  },
  {
   "cell_type": "markdown",
   "metadata": {},
   "source": [
    "このように書く\n",
    "\n",
    "モジュール | クラス\n",
    ":---: | :---:\n",
    "モジュールの関数 | メソッド\n",
    "モジュールの変数 | クラスのアトリビュート\n",
    "関数内で使う変数 | インスタンスのアトリビュート"
   ]
  },
  {
   "cell_type": "markdown",
   "metadata": {},
   "source": [
    "## リンク"
   ]
  },
  {
   "cell_type": "markdown",
   "metadata": {},
   "source": [
    "このように書く \n",
    "\n",
    "Markdownシートの他の書き方は、以下を参照  \n",
    "[「Markdown cheatsheet」](https://github.com/adam-p/markdown-here/wiki/Markdown-Cheatsheet)"
   ]
  },
  {
   "cell_type": "markdown",
   "metadata": {},
   "source": [
    "# モジュール"
   ]
  },
  {
   "cell_type": "markdown",
   "metadata": {},
   "source": [
    "## モジュールとは"
   ]
  },
  {
   "cell_type": "markdown",
   "metadata": {},
   "source": [
    "関数のような機能をまとめ、必要なときに読み込んで使うスクリプトファイル  \n",
    "プログラムでよく使うデータ、関数はPythonに内蔵されており、「組み込み型」、「組み込みファイル」などと呼ばれている (Built in)\n",
    "\n",
    "一方、限られた用途で使う定型の処理はモジュールから読み込んで使う  \n",
    "Pythonに付属しているモジュールの集合体である標準ライブラリの他にも、ネット上からDLして使うサードパーティのモジュールがある"
   ]
  },
  {
   "cell_type": "markdown",
   "metadata": {},
   "source": [
    "## モジュールとアトリビュート"
   ]
  },
  {
   "cell_type": "markdown",
   "metadata": {},
   "source": [
    "Pythonのスクリプトファイルやモジュールでは、何種類かの組み込み属性(アトリビュート)が定義される。組み込み属性は、プログラムを実行すると自動的に定義される変数のようなもの。"
   ]
  },
  {
   "cell_type": "markdown",
   "metadata": {},
   "source": [
    "## モジュール一覧"
   ]
  },
  {
   "cell_type": "markdown",
   "metadata": {},
   "source": [
    "## アトリビュート一覧"
   ]
  },
  {
   "cell_type": "markdown",
   "metadata": {},
   "source": [
    "### `__name__`"
   ]
  },
  {
   "cell_type": "markdown",
   "metadata": {},
   "source": [
    "ファイルがモジュールとしてインポートされた場合、この変数にモジュール名を代入する。  \n",
    "ファイルを直接実行した場合には、`__main__`という文字列を代入する。  \n",
    "モジュールが正しく動くかどうかテストする際などに使う\n",
    "\n",
    "```python\n",
    "if __name__ == ‘__main__’: #ファイルを直接実行した場合\n",
    "    print('モジュール名:'.format(__name__))\n",
    "```"
   ]
  },
  {
   "cell_type": "markdown",
   "metadata": {},
   "source": [
    "# オブジェクト指向"
   ]
  },
  {
   "cell_type": "markdown",
   "metadata": {},
   "source": [
    "> * 型があり、アトリビュートを持つのがPythonオブジェクト\n",
    "> * Pythonは全てがオブジェクトである  \n",
    "\n",
    "> ~みんなのPython P327~\n",
    "\n",
    " `int('20')` というコードは、文字列の20を引数で与えて、int型のクラスインスタンスを作っている、という処理"
   ]
  },
  {
   "cell_type": "markdown",
   "metadata": {},
   "source": [
    "モジュール | クラス\n",
    ":---: | :---:\n",
    "モジュールの関数 | メソッド\n",
    "モジュールの変数 | クラスのアトリビュート\n",
    "関数内で使う変数 | インスタンスのアトリビュート"
   ]
  },
  {
   "cell_type": "markdown",
   "metadata": {},
   "source": [
    "# 高階関数とデコレータ"
   ]
  },
  {
   "cell_type": "markdown",
   "metadata": {},
   "source": [
    "## 高階関数とは"
   ]
  },
  {
   "cell_type": "markdown",
   "metadata": {},
   "source": [
    "関数を変数として渡して処理をする関数や、戻り値として関数を返す関数"
   ]
  },
  {
   "cell_type": "code",
   "execution_count": 13,
   "metadata": {},
   "outputs": [
    {
     "name": "stdout",
     "output_type": "stream",
     "text": [
      "100\n"
     ]
    }
   ],
   "source": [
    "#関数を受け取り実行する関数\n",
    "def execute(func, arg):\n",
    "    return func(arg)\n",
    "\n",
    "print(execute(int, '100'))"
   ]
  },
  {
   "cell_type": "code",
   "execution_count": 23,
   "metadata": {},
   "outputs": [
    {
     "name": "stdout",
     "output_type": "stream",
     "text": [
      "3\n",
      "\n",
      "引数: (1, 2)\n",
      "3\n"
     ]
    }
   ],
   "source": [
    "# 関数を受け取り実行する関数\n",
    "def logger(func):\n",
    "    def inner(*args):\n",
    "        print('引数:', args)\n",
    "        return func(*args)\n",
    "    return inner\n",
    "\n",
    "\n",
    "# 元の関数\n",
    "def accumulate(a, b):\n",
    "    return a + b\n",
    "\n",
    "\n",
    "# 関数が追加された関数\n",
    "newfunc = logger(accumulate)\n",
    "print(accumulate(1, 2))\n",
    "print()\n",
    "print(newfunc(1, 2))"
   ]
  },
  {
   "cell_type": "markdown",
   "metadata": {},
   "source": [
    "## デコレータとは"
   ]
  },
  {
   "cell_type": "markdown",
   "metadata": {},
   "source": [
    "高階関数を使った処理をスマートに記述する機能"
   ]
  },
  {
   "cell_type": "code",
   "execution_count": 25,
   "metadata": {},
   "outputs": [
    {
     "name": "stdout",
     "output_type": "stream",
     "text": [
      "引数: (1, 2)\n",
      "3\n"
     ]
    }
   ],
   "source": [
    "# logger()とaccumulate()を組み合わせた上のコードを、デコレータで書き直す\n",
    "@logger\n",
    "def accumulate(a, b):\n",
    "    return a + b\n",
    "\n",
    "\n",
    "print(accumulate(1, 2))"
   ]
  },
  {
   "cell_type": "markdown",
   "metadata": {},
   "source": [
    "# クラスの継承"
   ]
  },
  {
   "cell_type": "markdown",
   "metadata": {},
   "source": [
    "## クラスの継承とは"
   ]
  },
  {
   "cell_type": "markdown",
   "metadata": {},
   "source": [
    "あるクラスを雛形にして、別のクラスを作ること。  \n",
    "すでにある設計図をもとに機能を強化した別の設計図を作れる  \n",
    "Pythonは多重継承に対応  \n",
    "雛形となるクラスをスーパークラス、それをもとに作られたクラスをサブクラスという"
   ]
  },
  {
   "cell_type": "code",
   "execution_count": 30,
   "metadata": {},
   "outputs": [
    {
     "name": "stdout",
     "output_type": "stream",
     "text": [
      "角柱の体積:6㎤\n",
      "立方体の体積:8㎤\n"
     ]
    }
   ],
   "source": [
    "# クラスの継承の例\n",
    "# まずはスーパークラスを定義する\n",
    "class Prism:  # 角柱を表現するクラス\n",
    "    def __init__(self, width, height, depth):\n",
    "        self.width = width\n",
    "        self.height = height\n",
    "        self.depth = depth\n",
    "\n",
    "    def content(self):\n",
    "        return self.width * self.height * self.depth\n",
    "\n",
    "\n",
    "# 次にサブクラスを定義する\n",
    "# 立方体を表現するクラス\n",
    "class Cube(Prism):\n",
    "    def __init__(self, length):\n",
    "        self.width = self.height = self.depth = length\n",
    "        \n",
    "p = Prism(1, 2, 3)\n",
    "c = Cube(2)\n",
    "\n",
    "print('角柱の体積:{}㎤'.format(p.content()))\n",
    "print('立方体の体積:{}㎤'.format(c.content())) #Prismのcontent()が受け継がれているのがわかる"
   ]
  },
  {
   "cell_type": "code",
   "execution_count": 37,
   "metadata": {},
   "outputs": [
    {
     "data": {
      "text/plain": [
       "-2.3025850929940455"
      ]
     },
     "execution_count": 37,
     "metadata": {},
     "output_type": "execute_result"
    }
   ],
   "source": [
    "np.log(0.1)"
   ]
  },
  {
   "cell_type": "markdown",
   "metadata": {},
   "source": [
    "# GCPとの接続"
   ]
  },
  {
   "cell_type": "markdown",
   "metadata": {},
   "source": [
    "## GCE"
   ]
  },
  {
   "cell_type": "markdown",
   "metadata": {},
   "source": [
    "Google Compute Engineの略称  \n",
    "好きなOSの仮想マシンを立てられる  \n",
    "米鯖のf1microならタダで永遠に使える  \n",
    "スペックの確認は``lscpu``コマンド"
   ]
  },
  {
   "cell_type": "markdown",
   "metadata": {},
   "source": [
    "### GCEにログイン"
   ]
  },
  {
   "cell_type": "markdown",
   "metadata": {},
   "source": [
    "ターミナルで\n",
    "\n",
    "```bash\n",
    "gcloud compute ssh 'インスタンス名'\n",
    "```"
   ]
  },
  {
   "cell_type": "markdown",
   "metadata": {},
   "source": [
    "### GCEからログアウト"
   ]
  },
  {
   "cell_type": "markdown",
   "metadata": {},
   "source": [
    "ログインしている状態のターミナルで\n",
    "```bash\n",
    "exit\n",
    "```"
   ]
  },
  {
   "cell_type": "markdown",
   "metadata": {},
   "source": [
    "### GCEインスタンスの停止"
   ]
  },
  {
   "cell_type": "markdown",
   "metadata": {},
   "source": [
    "ターミナルで\n",
    "```bash\n",
    "gcloud compute instances stop 'インスタンス名前'\n",
    "```"
   ]
  },
  {
   "cell_type": "markdown",
   "metadata": {},
   "source": [
    "### GCEとのファイルのやりとり"
   ]
  },
  {
   "cell_type": "markdown",
   "metadata": {},
   "source": [
    "ローカルからGCEへファイルをコピー、パスの順を逆にすればGCEからファイルをコピーする事もできる  \n",
    "ローカルファイルパスは/Users/uchide/~  \n",
    "\n",
    "```bash\n",
    "gcloud compute copy-files [LOCAL_FILE_PATH] [INSTANCE_NAME]:~/\n",
    "```"
   ]
  },
  {
   "cell_type": "markdown",
   "metadata": {},
   "source": [
    "## GCSとの接続"
   ]
  },
  {
   "cell_type": "markdown",
   "metadata": {},
   "source": [
    "Google Cloud Storageの略称  \n",
    "自由に使えるストレージ  \n",
    "米鯖なら5GBまでタダで永遠に使える"
   ]
  },
  {
   "cell_type": "markdown",
   "metadata": {},
   "source": [
    "シェルスクリプトからアクセスしたい場合、公式の説明はこちら  \n",
    "[クイックスタート:gsutilの使用](https://cloud.google.com/storage/docs/quickstart-gsutil?hl=ja)"
   ]
  },
  {
   "cell_type": "markdown",
   "metadata": {},
   "source": [
    "PythonでアクセスするにはCloud Strage クライアントライブラリを使う  \n",
    "いまいち理解しきれていないけど詳細は[ここ](https://cloud.google.com/storage/docs/object-basics?hl=ja#storage-upload-object-python)"
   ]
  },
  {
   "cell_type": "markdown",
   "metadata": {},
   "source": [
    "### APIを使うためのセッティング "
   ]
  },
  {
   "cell_type": "markdown",
   "metadata": {},
   "source": [
    "まず、Python用のCloud StrageクライアントアプリをDL  \n",
    "詳しくはこちら   \n",
    "[Cloud Storage Client Libraries](https://cloud.google.com/storage/docs/reference/libraries?hl=ja) \n",
    "\n",
    "```bash\n",
    "pip install --upgrade google-cloud-storage\n",
    "```\n",
    "\n",
    "次に、APIを使うために環境変数の設定を行う  \n",
    "詳しくはこちら  \n",
    "[Getting Started with Authentication](https://cloud.google.com/docs/authentication/getting-started?hl=ja)"
   ]
  },
  {
   "cell_type": "markdown",
   "metadata": {},
   "source": [
    "### データのインポート、エクスポート"
   ]
  },
  {
   "cell_type": "markdown",
   "metadata": {},
   "source": [
    "```bash\n",
    "gsutil cp -r '移したいフォルダ絶対パス' gs://'インポート先のフォルダ絶対パス'\n",
    "```\n",
    "macのホームディレクトリは`/Users/uchide`  \n",
    "ディレクトリなら`-r`をつける  \n",
    "エクスポートしたいときはローカルマシンのパスとGCSのパスを入れ替える  \n",
    "GCSに存在しないパスを入力した場合、新しくそのフォルダが作られる"
   ]
  },
  {
   "cell_type": "markdown",
   "metadata": {},
   "source": [
    "### データの削除"
   ]
  },
  {
   "cell_type": "markdown",
   "metadata": {},
   "source": [
    "```bash\n",
    "gstil rm gs://'削除したいファイルやフォルダの絶対パス'\n",
    "```"
   ]
  },
  {
   "cell_type": "markdown",
   "metadata": {},
   "source": [
    "### バケットまたはフォルダの内容の一覧表示"
   ]
  },
  {
   "cell_type": "markdown",
   "metadata": {},
   "source": [
    "```bash\n",
    "gsutil ls gs://'確認したいフォルダの絶対パス'\n",
    "```"
   ]
  },
  {
   "cell_type": "markdown",
   "metadata": {},
   "source": [
    "# Vim"
   ]
  },
  {
   "cell_type": "markdown",
   "metadata": {},
   "source": [
    "ソースはここ  \n",
    "[よく使うVimのコマンドまとめ](https://qiita.com/hide/items/5bfe5b322872c61a6896)"
   ]
  },
  {
   "cell_type": "markdown",
   "metadata": {},
   "source": [
    "## ファイル操作"
   ]
  },
  {
   "cell_type": "markdown",
   "metadata": {},
   "source": [
    "| key       | 内容           |\n",
    "|:----------|:---------------|\n",
    "| ZZ | 上書き保存し、viを終了\n",
    "| :w |  内容を保存 |\n",
    "| :q! | 保存せずに終了 |"
   ]
  },
  {
   "cell_type": "markdown",
   "metadata": {},
   "source": [
    "## モード"
   ]
  },
  {
   "cell_type": "markdown",
   "metadata": {},
   "source": [
    "| key       | 内容           |\n",
    "|:----------|:---------------|\n",
    "| i | 挿入モードへ\n",
    "| o | 新しい行を追加し挿入モードへ\n",
    "| R | 上書きモードへ\n",
    "| v | ビジュアルモードへ\n",
    "| Ctrl + v | 矩形選択のビジュアルモードへ\n",
    "| ESC | コマンドモードに戻る\n",
    "| ctrl + \\[ | コマンドモードに戻る\n",
    "| ctrl + z | vim を一時停止する"
   ]
  },
  {
   "cell_type": "markdown",
   "metadata": {},
   "source": [
    "## カーソル移動"
   ]
  },
  {
   "cell_type": "markdown",
   "metadata": {},
   "source": [
    " key       | 内容           \n",
    ":----------|:---------------\n",
    "w | 次の単語 (Word)\n",
    "b | 前の単語\n",
    "f(文字) | カーソルがある行の(文字)に移動 (Find)\n",
    "F(文字) | カーソルがある行の(文字)に移動(逆向き)\n",
    "0 | 行頭\n",
    "＾ | 行頭\n",
    "$ | 行末\n",
    "% | 対応する括弧に移動\n",
    "Ctrl + u | 半画面上 (Up)\n",
    "Ctrl + d | 半画面下 (Down)\n",
    "zz | カーソルが画面中央になるようにスクロール\n",
    "Ctrl + o | 古いカーソル位置に戻る。 (Old)|\n",
    "Ctrl + i | 新しいカーソル位置に進む。 |"
   ]
  },
  {
   "cell_type": "markdown",
   "metadata": {},
   "source": [
    "## 行移動"
   ]
  },
  {
   "cell_type": "markdown",
   "metadata": {},
   "source": [
    " key       | 内容           |\n",
    ":----------|:---------------|\n",
    "gg | 最初の行\n",
    "88G | 88行目\n",
    "G | 最終行\n",
    "H | 画面上の最初の行 (Home)\n",
    "M | 画面上の中央の行 (Middle)\n",
    "L | 画面上の最後の行 (Last)"
   ]
  },
  {
   "cell_type": "markdown",
   "metadata": {},
   "source": [
    "## 検索と置換"
   ]
  },
  {
   "cell_type": "markdown",
   "metadata": {},
   "source": [
    "| key       | 内容           |\n",
    "|:----------|:---------------|\n",
    "| * | カーソル下の単語を検索\n",
    "| # | カーソル下の単語を検索 (上方向に検索)\n",
    "|:%s/hage/hoge/g | 単語の置換(hageをhogeへ置換)。`%` はファイル全体を表す。\n"
   ]
  },
  {
   "cell_type": "markdown",
   "metadata": {},
   "source": [
    "## 編集"
   ]
  },
  {
   "cell_type": "markdown",
   "metadata": {},
   "source": [
    " key       | 内容           |\n",
    ":-----------|:---------------|\n",
    ". | 直前の変更を繰り返す\n",
    "u | Undo\n",
    "Ctrl + r | Redo"
   ]
  },
  {
   "cell_type": "markdown",
   "metadata": {},
   "source": [
    "## コピー&ペースト"
   ]
  },
  {
   "cell_type": "markdown",
   "metadata": {},
   "source": [
    " key       | 内容           |\n",
    ":-----------|:----------------|\n",
    "yy | 今いる行をコピー (yank)\n",
    "p | カーソルの場所に、ペースト\n",
    "yy5p | 現在の行をコピーし、下に5行追加する\n",
    "gv | 直前の選択範囲を再選択"
   ]
  },
  {
   "cell_type": "markdown",
   "metadata": {},
   "source": [
    "## 特殊文字"
   ]
  },
  {
   "cell_type": "markdown",
   "metadata": {},
   "source": [
    "key       | 内容           |\n",
    ":-----------|:---------------|\n",
    "Ctrl-v return | 改行文字の入力\n",
    "Ctrl-v tab | Tab 文字の入力"
   ]
  },
  {
   "cell_type": "markdown",
   "metadata": {},
   "source": [
    "## ウィンドウ"
   ]
  },
  {
   "cell_type": "markdown",
   "metadata": {},
   "source": [
    " key       | 内容           |\n",
    ":----------|:---------------|\n",
    ":vsplit | 画面を左右に分割する\n",
    ":e filename | 今いるWindowにファイルを開く (Edit)\n",
    ":e test\\*.cc | ワイルドカードを指定してファイルを開く\n",
    "Ctrl +w h | 左のWindowへ移動\n",
    "Ctrl + w l | 右のWindowへ移動"
   ]
  },
  {
   "cell_type": "markdown",
   "metadata": {},
   "source": [
    "## バッファ"
   ]
  },
  {
   "cell_type": "markdown",
   "metadata": {},
   "source": [
    " key       | 内容           |\n",
    ":----------|:---------------|\n",
    ":buffers | 編集中のバッファ一覧を表示\n",
    ":bn | 次のバッファに移動\n",
    ":bd[elete] | バッファを削除"
   ]
  },
  {
   "cell_type": "markdown",
   "metadata": {},
   "source": [
    "## 単語補完"
   ]
  },
  {
   "cell_type": "markdown",
   "metadata": {},
   "source": [
    " key       | 内容           |\n",
    ":----------|:--------------|\n",
    "Ctrl + p | 単語補完(前方検索)"
   ]
  },
  {
   "cell_type": "markdown",
   "metadata": {},
   "source": [
    "## マクロ"
   ]
  },
  {
   "cell_type": "markdown",
   "metadata": {},
   "source": [
    " key       | 内容           |\n",
    " :----------|:---------------|\n",
    "q\\<letter\\> | マクロの記録開始 |\n",
    "q           | マクロの記録停止 |\n",
    "@\\<letter\\> | マクロの実行     |"
   ]
  },
  {
   "cell_type": "markdown",
   "metadata": {},
   "source": [
    "## レジスタ"
   ]
  },
  {
   "cell_type": "markdown",
   "metadata": {},
   "source": [
    "| key | 機能 |\n",
    "|:-------|:-------|\n",
    "| :reg | レジスタの一覧表示 |\n",
    "| Ctrl + r \" | ヤンクした文字列をペースト |"
   ]
  },
  {
   "cell_type": "markdown",
   "metadata": {},
   "source": [
    "## コマンドの意味"
   ]
  },
  {
   "cell_type": "markdown",
   "metadata": {},
   "source": [
    "| key       | 意味           |\n",
    "|:----------|:---------------|\n",
    "| g | 繰り返し |\n",
    "| c | 1回毎に確認 |"
   ]
  },
  {
   "cell_type": "markdown",
   "metadata": {},
   "source": [
    "## その他"
   ]
  },
  {
   "cell_type": "markdown",
   "metadata": {},
   "source": [
    " key       | 内容           |\n",
    ":----------|:---------------|\n",
    ":!command | 外部コマンドの実行\n",
    ": | 範囲選択中に `:` を入力すると、選択領域の範囲指定( `’<,’>` )が自動で挿入された状態でコマンドモードに入る。これを置換に利用すると便利。 (例: :'<,'>s/old/new/g)\n",
    "Ctrl + a | 数値のインクリメント\n",
    "Ctrl + x | 数値のデクリメント"
   ]
  },
  {
   "cell_type": "markdown",
   "metadata": {},
   "source": [
    "# Unix"
   ]
  },
  {
   "cell_type": "markdown",
   "metadata": {},
   "source": [
    "## 代表的なUnixコマンド"
   ]
  },
  {
   "cell_type": "markdown",
   "metadata": {},
   "source": [
    "番号 | コマンド | 役割\n",
    "---: | :--- | :---\n",
    "1 | mkdir | ディレクトリを作成\n",
    "2 | cd | カレントディレクトリを作成\n",
    "3 | pwd | カレントディレクトリを取得\n",
    "4 | ls | ファイル一覧を取得\n",
    "5 | rm | ファイルを削除\n",
    "6 | mv | ファイルを移動\n",
    "7 | cp | ファイルをコピー\n",
    "8 | less | ファイルを少しずつ出力\n",
    "9 | cat | ファイルを結合して出力\n",
    "10 | echo | 文字列を出力\n",
    "11 | iconv | 文字コードを変換\n",
    "12 | curl | ファイルをダウンロード\n",
    "13 | date | 日付・時刻を表示\n",
    "14 | tar |アーカイブファイルを処理\n",
    "15 | unzip | zipファイルを解凍\n",
    "16 | find | ファイルを検索\n",
    "17 | grep | 文字列を検索\n",
    "18 | touch | ファイル属性を変更\n",
    "19 | file | ファイルの種類を判別\n",
    "20 | df | ディスク容量を確認\n",
    "21 | ps | プロセス一覧を表示\n",
    "22 | ssh | sshでサーバーに接続\n",
    "23 | scp | sshでサーバーにファイルコピー\n",
    "24 | sudo |rootユーザーとしてコマンドを実行\n",
    "25 | man | コマンドのマニュアルを表示\n",
    "26 | exit | シェルを終了する"
   ]
  },
  {
   "cell_type": "markdown",
   "metadata": {},
   "source": [
    "ls -1 | wc -l : ファイル数をカウント"
   ]
  },
  {
   "cell_type": "markdown",
   "metadata": {},
   "source": [
    "# メモ"
   ]
  },
  {
   "cell_type": "markdown",
   "metadata": {},
   "source": [
    "## 気になる勉強会"
   ]
  },
  {
   "cell_type": "markdown",
   "metadata": {},
   "source": [
    "初心者でも参加したり運営やったりLT出来るPythonコミュニティないよねっていうお話  \n",
    "[Gunosyデータマイニング研究会](https://gunosy-dm.connpass.com)  \n",
    "[fin-py](https://fin-py.connpass.com)"
   ]
  },
  {
   "cell_type": "markdown",
   "metadata": {},
   "source": [
    "## IPアドレスについて"
   ]
  },
  {
   "cell_type": "markdown",
   "metadata": {},
   "source": [
    "IPアドレスにはグローバルIPアドレスとローカルIPアドレスがある  \n",
    "グローバルIPアドレスはプロバイダから契約に応じて(基本ルーター単位)割り振られる  \n",
    "ローカルIPアドレスはルーターに接続している機器毎に割り振られる  \n",
    "どちらのIPアドレスも定期的に更新される(固定する事も出来る)\n",
    "\n",
    "詳細はこちら  \n",
    "[【グローバルIPアドレス】と【プライベート（ローカル）IPアドレス】の違いと、確認方法についてまとめてみた](http://viral-community.com/other-it/global-private-ip-2004/)"
   ]
  },
  {
   "cell_type": "markdown",
   "metadata": {},
   "source": [
    "![IPaddress](./images/IPaddress.jpg)"
   ]
  },
  {
   "cell_type": "markdown",
   "metadata": {},
   "source": [
    "## 自作関数の命名規則"
   ]
  },
  {
   "cell_type": "markdown",
   "metadata": {},
   "source": [
    "read~:内部/外部のデータを読み込む関数  \n",
    "get~: 外部からデータを抽出する関数  \n",
    "make~: 内部のデータを使って新しいものを作る関数  \n",
    "plot~: 内部/外部のデータを使って新しいものを描画する関数  \n",
    "\n",
    "説明文  \n",
    "1文目: その関数は何をするものなのか端的に述べる、「〜から〜で〜する」という形式で書く  \n",
    "引数の説明は、一行改行してから書き始める、「引数: 説明」の形で書く"
   ]
  },
  {
   "cell_type": "code",
   "execution_count": null,
   "metadata": {
    "collapsed": true
   },
   "outputs": [],
   "source": []
  }
 ],
 "metadata": {
  "kernelspec": {
   "display_name": "Python 3",
   "language": "python",
   "name": "python3"
  },
  "language_info": {
   "codemirror_mode": {
    "name": "ipython",
    "version": 3
   },
   "file_extension": ".py",
   "mimetype": "text/x-python",
   "name": "python",
   "nbconvert_exporter": "python",
   "pygments_lexer": "ipython3",
   "version": "3.6.2"
  },
  "toc": {
   "nav_menu": {},
   "number_sections": true,
   "sideBar": true,
   "skip_h1_title": false,
   "title_cell": "Table of Contents",
   "title_sidebar": "Contents",
   "toc_cell": false,
   "toc_position": {
    "height": "715px",
    "left": "0px",
    "right": "1191px",
    "top": "111px",
    "width": "249px"
   },
   "toc_section_display": "block",
   "toc_window_display": true
  }
 },
 "nbformat": 4,
 "nbformat_minor": 2
}
