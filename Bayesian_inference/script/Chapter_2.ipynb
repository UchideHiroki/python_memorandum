{
 "cells": [
  {
   "cell_type": "code",
   "execution_count": 1,
   "metadata": {
    "collapsed": true
   },
   "outputs": [],
   "source": [
    "import numpy as np\n",
    "import pandas as pd\n",
    "import matplotlib.pyplot as plt\n",
    "import seaborn as sns\n",
    "\n",
    "%matplotlib inline\n",
    "sns.set_style('darkgrid')\n",
    "plt.rcParams['font.family'] = 'IPAPGothic'\n",
    "plt.rcParams['font.size'] = 18"
   ]
  },
  {
   "cell_type": "markdown",
   "metadata": {},
   "source": [
    "xをベクトルとしたとき、確率分布p(x)に対してある関数f(x)の期待値は、以下のように表せる\n",
    "$$\n",
    "\\langle f\\bigl( \\mathbf{x} \\bigr) \\rangle_{p\\bigl( \\mathbf{x} \\bigr)} = \\int f\\bigl( \\mathbf{x} \\bigr) p\\bigl( \\mathbf{x} \\bigr) d\\mathbf{x}\n",
    "$$\n",
    "\n",
    "これはxの関数ではなく確率分布p(x)の関数である事に注意"
   ]
  },
  {
   "cell_type": "code",
   "execution_count": 2,
   "metadata": {
    "collapsed": true
   },
   "outputs": [],
   "source": [
    "# 離散分布における期待値\n",
    "def expected_value(values, probabilities):\n",
    "    '''\n",
    "    離散分布の期待値\n",
    "    values: 取りうる値を格納した1次元np.array\n",
    "    probabilities: 取りうる値に対する確率を格納した1次元np.array\n",
    "    '''\n",
    "    expected_value = np.sum(values * probabilities)\n",
    "    return expected_value"
   ]
  },
  {
   "cell_type": "code",
   "execution_count": 3,
   "metadata": {
    "collapsed": true
   },
   "outputs": [],
   "source": [
    "v = np.array([1,2])"
   ]
  },
  {
   "cell_type": "code",
   "execution_count": 4,
   "metadata": {
    "collapsed": true
   },
   "outputs": [],
   "source": [
    "px = np.array([1/3, 2/3])"
   ]
  },
  {
   "cell_type": "code",
   "execution_count": 5,
   "metadata": {},
   "outputs": [
    {
     "data": {
      "text/plain": [
       "1.6666666666666665"
      ]
     },
     "execution_count": 5,
     "metadata": {},
     "output_type": "execute_result"
    }
   ],
   "source": [
    "expected_value(v, px)"
   ]
  },
  {
   "cell_type": "markdown",
   "metadata": {},
   "source": [
    "エントロピー\n",
    "$$\n",
    "\\begin{split}\n",
    "H\\bigl[ p\\bigl( \\mathbf{x} \\bigr) \\bigr] &= - \\int p\\bigl( \\mathbf{x} \\bigr) \\ln{p\\bigl( \\mathbf{x} \\bigr)} d\\mathbf{x} \\\\\n",
    "&= - \\langle \\ln{p}\\bigl( \\mathbf{x} \\bigr) \\rangle_{p\\bigl( \\mathbf{x} \\bigr)}\n",
    "\\end{split}\n",
    "$$\n",
    "これは確率分布の乱雑さを示す  \n",
    "個々のxに対する確率p(x)が均一であれば、ln(p(x))の平均は大きくなるし、逆なら逆になる"
   ]
  },
  {
   "cell_type": "code",
   "execution_count": 6,
   "metadata": {
    "collapsed": true
   },
   "outputs": [],
   "source": [
    "# 離散分布におけるエントロピー\n",
    "def entropy(px):\n",
    "    '''\n",
    "    離散分布のエントロピー\n",
    "    px: 1次元のarray、全ての取りうる値に対する確率を格納\n",
    "    '''\n",
    "    entropy = - np.sum(px * np.log(px))\n",
    "    return entropy"
   ]
  },
  {
   "cell_type": "code",
   "execution_count": 7,
   "metadata": {},
   "outputs": [
    {
     "data": {
      "text/plain": [
       "0.63651416829481278"
      ]
     },
     "execution_count": 7,
     "metadata": {},
     "output_type": "execute_result"
    }
   ],
   "source": [
    "entropy(px)"
   ]
  },
  {
   "cell_type": "markdown",
   "metadata": {},
   "source": [
    "KLダイバージェンス\n",
    "$$\n",
    "\\begin{split}\n",
    "  KL\\bigl[ p\\bigl( \\mathbf{x} \\bigr) \\parallel q\\bigl( \\mathbf{x} \\bigr) \\bigr] &= \\int p\\bigl( \\mathbf{x} \\bigr) \\ln \\frac{p\\bigl( \\mathbf{x} \\bigr)}{q\\bigl( \\mathbf{x} \\bigr)} d\\mathbf{x} \\\\\n",
    "  &= \\langle \\ln p\\bigl( \\mathbf{x} \\bigr) \\rangle_{p\\bigl( \\mathbf{x} \\bigr)} - \\langle \\ln q\\bigl( \\mathbf{x} \\bigr) \\rangle_{p\\bigl( \\mathbf{x} \\bigr)}\n",
    "\\end{split}\n",
    "$$"
   ]
  },
  {
   "cell_type": "code",
   "execution_count": 8,
   "metadata": {
    "collapsed": true
   },
   "outputs": [],
   "source": [
    "# 離散分布におけるKLダイバージェンス\n",
    "def kl_divergence(px, qx):\n",
    "    '''\n",
    "    2つの離散分布におけるKLダイバージェンスを求める\n",
    "    px, qx: 全ての取り得る値に対する確率を格納した1次元のarray\n",
    "    '''\n",
    "    kl_divergence = np.sum(px * np.log(px / qx))\n",
    "    return kl_divergence"
   ]
  },
  {
   "cell_type": "code",
   "execution_count": 9,
   "metadata": {
    "collapsed": true
   },
   "outputs": [],
   "source": [
    "qx = np.array([1/4, 3/4])"
   ]
  },
  {
   "cell_type": "code",
   "execution_count": 10,
   "metadata": {},
   "outputs": [
    {
     "data": {
      "text/plain": [
       "0.017372000379671279"
      ]
     },
     "execution_count": 10,
     "metadata": {},
     "output_type": "execute_result"
    }
   ],
   "source": [
    "kl_divergence(px, qx)"
   ]
  },
  {
   "cell_type": "code",
   "execution_count": 11,
   "metadata": {},
   "outputs": [
    {
     "data": {
      "text/plain": [
       "0.01641675862934236"
      ]
     },
     "execution_count": 11,
     "metadata": {},
     "output_type": "execute_result"
    }
   ],
   "source": [
    "kl_divergence(qx, px)"
   ]
  },
  {
   "cell_type": "markdown",
   "metadata": {},
   "source": [
    "サンプリングによる期待値の近似計算  \n",
    "$$\n",
    "\\langle f\\bigl( \\mathbf{x} \\bigr) \\rangle_{p\\bigl( \\mathbf{x} \\bigr)} \\approx \\frac{1}{L} \\sum_{l=1}^{L} f\\bigl( \\mathbf{x} \\bigr) d\\mathbf{x}\n",
    "$$"
   ]
  },
  {
   "cell_type": "markdown",
   "metadata": {},
   "source": [
    "要するに確率分布pxの関数をpxから取り出したxによる計算で近似出来ますよというお話  \n",
    "サンプリング結果xから確率分布pxを近似的に求めれば、後は今まで通り確率分布pxの関数を解いてあげれば良い"
   ]
  },
  {
   "cell_type": "markdown",
   "metadata": {},
   "source": [
    "確率分布"
   ]
  },
  {
   "cell_type": "markdown",
   "metadata": {},
   "source": [
    "ベルヌーイ分布  \n",
    "2値{0, 1}をとるxの個数は、[0, 1]のパラメータμを用いて\n",
    "$$\n",
    "Bern\\bigl(x \\mid \\mu \\bigr) = \\mu^{x} \\bigl( 1 - \\mu \\bigr)^{1 - x}\n",
    "$$\n",
    "と表される。  \n",
    "\n",
    "x, x^2の期待値は、それぞれ\n",
    "$$\n",
    "\\begin{align}\n",
    "  \\langle x \\rangle = \\mu \\\\\n",
    "  \\langle x^2 \\rangle = \\mu\n",
    "\\end{align}\n",
    "$$\n",
    "となる"
   ]
  },
  {
   "cell_type": "markdown",
   "metadata": {},
   "source": [
    "試しに、ベルヌーイ分布のパラメータμを変えながらエントロピーH[p(x)]を描画する"
   ]
  },
  {
   "cell_type": "code",
   "execution_count": 12,
   "metadata": {
    "collapsed": true
   },
   "outputs": [],
   "source": [
    "from numpy.random import binomial"
   ]
  },
  {
   "cell_type": "code",
   "execution_count": 13,
   "metadata": {},
   "outputs": [
    {
     "data": {
      "text/plain": [
       "array([0, 1, 1, 1, 1, 1, 0, 1, 0, 1])"
      ]
     },
     "execution_count": 13,
     "metadata": {},
     "output_type": "execute_result"
    }
   ],
   "source": [
    "binomial(1, 0.7, 10)"
   ]
  },
  {
   "cell_type": "code",
   "execution_count": 14,
   "metadata": {
    "collapsed": true
   },
   "outputs": [],
   "source": [
    "x_list = np.arange(0.0001, 0.9999, 0.0001)\n",
    "px_list = [[i, 1-i] for i in x_list]\n",
    "ent_list = [entropy(np.array(px)) for px in px_list]"
   ]
  },
  {
   "cell_type": "code",
   "execution_count": 15,
   "metadata": {},
   "outputs": [
    {
     "data": {
      "image/png": "[encoded data removed]",
      "text/plain": [
       "<matplotlib.figure.Figure at 0x1a0ca33dd8>"
      ]
     },
     "metadata": {},
     "output_type": "display_data"
    }
   ],
   "source": [
    "fig = plt.figure(figsize=(12, 8))\n",
    "ax = fig.add_subplot(111)\n",
    "ax.plot(x_list, ent_list)\n",
    "\n",
    "ax.set_title('μを0から1に動かしたときのベルヌーイ分布のエントロピー')\n",
    "ax.set_xlabel('μ')\n",
    "ax.set_ylabel('エントロピー')\n",
    "plt.show()"
   ]
  },
  {
   "cell_type": "markdown",
   "metadata": {},
   "source": [
    "二項分布\n",
    "$$\n",
    "Bin(m | M, \\mu) = {}_M C_m \\mu^m (M - \\mu)^{(M - \\mu)}\n",
    "$$\n",
    "m, m^2の期待値はそれぞれ\n",
    "$$\n",
    "\\begin{align}\n",
    "  \\langle m \\rangle = M\\mu \\\\\n",
    "  \\langle m^2 \\rangle = M\\mu{(M-1)\\mu+1}\n",
    "\\end{align}\n",
    "$$"
   ]
  },
  {
   "cell_type": "markdown",
   "metadata": {
    "collapsed": true
   },
   "source": [
    "ベータ分布をBokehにスライドバーつけてグリグリ動かす"
   ]
  },
  {
   "cell_type": "code",
   "execution_count": 17,
   "metadata": {
    "collapsed": true
   },
   "outputs": [],
   "source": [
    "from bokeh.layouts import row, widgetbox\n",
    "from bokeh.models import CustomJS, Slider\n",
    "from bokeh.plotting import figure, output_file, show, ColumnDataSource\n",
    "\n",
    "x = np.linspace(0, 10, 500)\n",
    "y = np.sin(x)\n",
    "\n",
    "source = ColumnDataSource(data=dict(x=x, y=y))\n",
    "\n",
    "plot = figure(y_range=(-10, 10), plot_width=400, plot_height=400)\n",
    "\n",
    "plot.line('x', 'y', source=source, line_width=3, line_alpha=0.6)\n",
    "\n",
    "callback = CustomJS(args=dict(source=source), code=\"\"\"\n",
    "    var data = source.data;\n",
    "    var A = amp.value;\n",
    "    var k = freq.value;\n",
    "    var phi = phase.value;\n",
    "    var B = offset.value;\n",
    "    x = data['x']\n",
    "    y = data['y']\n",
    "    for (i = 0; i < x.length; i++) {\n",
    "        y[i] = B + A*Math.sin(k*x[i]+phi);\n",
    "    }\n",
    "    source.change.emit();\n",
    "\"\"\")\n",
    "\n",
    "amp_slider = Slider(start=0.1, end=10, value=1, step=.1,\n",
    "                    title=\"Amplitude\", callback=callback)\n",
    "callback.args[\"amp\"] = amp_slider\n",
    "\n",
    "freq_slider = Slider(start=0.1, end=10, value=1, step=.1,\n",
    "                     title=\"Frequency\", callback=callback)\n",
    "callback.args[\"freq\"] = freq_slider\n",
    "\n",
    "phase_slider = Slider(start=0, end=6.4, value=0, step=.1,\n",
    "                      title=\"Phase\", callback=callback)\n",
    "callback.args[\"phase\"] = phase_slider\n",
    "\n",
    "offset_slider = Slider(start=-5, end=5, value=0, step=.1,\n",
    "                       title=\"Offset\", callback=callback)\n",
    "callback.args[\"offset\"] = offset_slider\n",
    "\n",
    "layout = row(\n",
    "    plot,\n",
    "    widgetbox(amp_slider, freq_slider, phase_slider, offset_slider),\n",
    ")\n",
    "\n",
    "output_file(\"slider.html\", title=\"slider.py example\")\n",
    "\n",
    "show(layout)"
   ]
  },
  {
   "cell_type": "code",
   "execution_count": null,
   "metadata": {
    "collapsed": true
   },
   "outputs": [],
   "source": []
  }
 ],
 "metadata": {
  "kernelspec": {
   "display_name": "Python 3",
   "language": "python",
   "name": "python3"
  },
  "language_info": {
   "codemirror_mode": {
    "name": "ipython",
    "version": 3
   },
   "file_extension": ".py",
   "mimetype": "text/x-python",
   "name": "python",
   "nbconvert_exporter": "python",
   "pygments_lexer": "ipython3",
   "version": "3.6.3"
  },
  "toc": {
   "nav_menu": {},
   "number_sections": true,
   "sideBar": true,
   "skip_h1_title": false,
   "title_cell": "Table of Contents",
   "title_sidebar": "Contents",
   "toc_cell": false,
   "toc_position": {},
   "toc_section_display": true,
   "toc_window_display": false
  }
 },
 "nbformat": 4,
 "nbformat_minor": 2
}
