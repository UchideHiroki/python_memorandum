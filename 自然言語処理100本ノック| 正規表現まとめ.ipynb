{
 "cells": [
  {
   "cell_type": "markdown",
   "metadata": {},
   "source": [
    "自然言語処理周りが弱いので、これをやる  \n",
    "[素人の自然言語処理100本ノック: まとめ](https://qiita.com/segavvy/items/fb50ba8097d59475f760)"
   ]
  },
  {
   "cell_type": "markdown",
   "metadata": {},
   "source": [
    "先にPython公式の[正規表現How to](https://docs.python.jp/3/howto/regex.html)を終わらせる"
   ]
  },
  {
   "cell_type": "markdown",
   "metadata": {},
   "source": [
    "# 文字のマッチング\n",
    "\n",
    "特殊文字 | 説明 | 例・定義 | \n",
    ":---: | :---: | :---:\n",
    "[] | 文字クラスの指定 | [a-c]: a, b, cのいずれか\n",
    "^ | 否定論理記号 | [^5]: \"5\"を除く任意の文字\n",
    "\\ | 特殊シーケンスの合図や特殊文字のエスケープ | \\[: \"[\"の検索\n",
    "\\w | 任意の英数字文字 | [a-zA-Z0-9_]\n",
    "\\W | 任意の非英数字文字 | [^a-zA-Z0-9_]\n",
    "\\d | 任意の10進数 | [0-9]\n",
    "\\D | 任意の非数字文字 | [^0-9]\n",
    "\\s | 任意の空白文字 | [ \\t\\n\\r\\f\\v]\n",
    "\\S | 任意の非空白文字 | [^ \\t\\n\\r\\f\\v]\n"
   ]
  },
  {
   "cell_type": "markdown",
   "metadata": {},
   "source": [
    "これらのシーケンスは文字クラスの中に含められる 例) [\\s,.]: 空白文字 or \",\" or \".\"にマッチ"
   ]
  },
  {
   "cell_type": "markdown",
   "metadata": {},
   "source": [
    "# 繰り返し"
   ]
  },
  {
   "cell_type": "markdown",
   "metadata": {},
   "source": [
    "清水、植田、鈴木章？、"
   ]
  },
  {
   "cell_type": "markdown",
   "metadata": {},
   "source": [
    "特殊文字 | 説明 | 例・定義\n",
    ":---: | :---: | :---:\n",
    "\\* | 該当文字数がいくつでも反応 | ca*t: ct, cat, caat, とかとか\n",
    "\\+ | 該当文字数が0の場合には反応しない | ca+t: cat, caat, とかとか\n",
    "\\? | 該当文字数が0, 1の場合にのみ反応する | home-?brew: homebrew, home-brew (該当文字数が0, 1の場合にのみ反応する)\n",
    "\\{m, n} | 文字集合の\n",
    "\n",
    "\n",
    "* **\\*の発展的な書き方**  \n",
    " a[bcd]*b をabcbdにマッチされる場合、  \n",
    " aが正規表現にマッチ  \n",
    " ⇩  \n",
    " abcbdまで読み込み  \n",
    " ⇩  \n",
    " 終わりにbが無い  \n",
    " ⇩  \n",
    " abcbまで読み込み  \n",
    " ⇩  \n",
    " 終わりがd  \n",
    " ⇩  \n",
    " abcまで読み込み  \n",
    " ⇩  \n",
    " 終わりがb  \n",
    " ⇩  \n",
    " マッチ成功    \n",
    " という風に動く"
   ]
  },
  {
   "cell_type": "code",
   "execution_count": null,
   "metadata": {
    "collapsed": true
   },
   "outputs": [],
   "source": []
  }
 ],
 "metadata": {
  "kernelspec": {
   "display_name": "Python 3",
   "language": "python",
   "name": "python3"
  },
  "language_info": {
   "codemirror_mode": {
    "name": "ipython",
    "version": 3
   },
   "file_extension": ".py",
   "mimetype": "text/x-python",
   "name": "python",
   "nbconvert_exporter": "python",
   "pygments_lexer": "ipython3",
   "version": "3.6.3"
  },
  "toc": {
   "nav_menu": {},
   "number_sections": true,
   "sideBar": true,
   "skip_h1_title": false,
   "title_cell": "Table of Contents",
   "title_sidebar": "Contents",
   "toc_cell": false,
   "toc_position": {},
   "toc_section_display": true,
   "toc_window_display": false
  }
 },
 "nbformat": 4,
 "nbformat_minor": 2
}
