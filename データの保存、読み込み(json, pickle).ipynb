{
 "cells": [
  {
   "cell_type": "markdown",
   "metadata": {},
   "source": [
    "# open関数について"
   ]
  },
  {
   "cell_type": "markdown",
   "metadata": {},
   "source": [
    "`open()`はfileを開き、対応するファイルオブジェクトを返す。  \n",
    "`open(file, mode='r', buffering=-1, encoding=None, errors=None, newline=None, closefd=True, opener=None)`  \n",
    "\n",
    "file: path-like object  \n",
    "mode: ファイルが開かれるモードを指定する\n",
    "\n",
    "文字 | 意味\n",
    ":--- | :---\n",
    "`r` | 読み込み用に開く(デフォルト)\n",
    "`w` | 書き込み用に開く\n",
    "`x` | 排他的な生成、ファイルが存在する場合は失敗\n",
    "`a` | 書き込み用、ファイルが存在する場合は末尾に追加\n",
    "`b` | バイナリモード\n",
    "`t` | テキストモード(デフォルト)\n",
    "\n",
    "デフォルトは`r`(`rt`と同義)  \n",
    "`b`はファイル内容をデコードせずにbytesオブジェクトとして返すが、`t`はファイル内容をプラットフォーム依存のエンコーディングかencodingが指定された時はそのエンコーディングを使ってデコードし、strで返す"
   ]
  },
  {
   "cell_type": "markdown",
   "metadata": {},
   "source": [
    "# with文について"
   ]
  },
  {
   "cell_type": "markdown",
   "metadata": {},
   "source": [
    "`with`は例外とよく似た機能を持ち、条件がTrueだったときwith下のブロックを実行する。  \n",
    "また、ブロックから抜けるときに終了処理を自動で実行する。\n",
    "\n",
    "開始と終了に必ずしなければならない一連の作業があるときに使うとコードを綺麗に書ける"
   ]
  },
  {
   "cell_type": "markdown",
   "metadata": {},
   "source": [
    "# json"
   ]
  },
  {
   "cell_type": "markdown",
   "metadata": {},
   "source": [
    "jsonはPythonのdictionary型を保存するときに使う。  \n",
    "JSONで保存されているデータを使うことも多い。"
   ]
  },
  {
   "cell_type": "code",
   "execution_count": 40,
   "metadata": {},
   "outputs": [],
   "source": [
    "# 下準備\n",
    "import json\n",
    "\n",
    "savepath = './outputs/hoge.json'\n",
    "\n",
    "test_dict = {2: [\"ふー\", 5]}"
   ]
  },
  {
   "cell_type": "markdown",
   "metadata": {},
   "source": [
    "## 保存"
   ]
  },
  {
   "cell_type": "code",
   "execution_count": 41,
   "metadata": {},
   "outputs": [],
   "source": [
    "with open(savepath, 'w') as f:\n",
    "    json.dump(test_dict, f, sort_keys=True, indent=2, ensure_ascii=True)\n",
    "    \n",
    "# sort_keys: keyで順番を整理するかどうか\n",
    "# indent: JSONファイルをよしなに改行して可読性を上げる際、 ネストされたオブジェクトを改行するときに半角スペースを何個入れるか\n",
    "# ensure_ascii: strデータを保存する際、unicode型に変換して保存するかどうか"
   ]
  },
  {
   "cell_type": "markdown",
   "metadata": {},
   "source": [
    "## 読み込み"
   ]
  },
  {
   "cell_type": "code",
   "execution_count": 42,
   "metadata": {},
   "outputs": [],
   "source": [
    "with open(savepath, 'r') as f:\n",
    "    test_dict = json.load(f)"
   ]
  },
  {
   "cell_type": "code",
   "execution_count": 43,
   "metadata": {},
   "outputs": [
    {
     "data": {
      "text/plain": [
       "{'2': ['ふー', 5]}"
      ]
     },
     "execution_count": 43,
     "metadata": {},
     "output_type": "execute_result"
    }
   ],
   "source": [
    "test_dict"
   ]
  },
  {
   "cell_type": "markdown",
   "metadata": {},
   "source": [
    "jsonはkeyを文字列で持つため、2は\"2\"と保存される"
   ]
  },
  {
   "cell_type": "markdown",
   "metadata": {},
   "source": [
    "## その他"
   ]
  },
  {
   "cell_type": "markdown",
   "metadata": {},
   "source": [
    "JSONの文字列を書き込み・読み込みたい場合は`json.dumps()`, `json.loads()`と後ろにsをつければ良い"
   ]
  },
  {
   "cell_type": "markdown",
   "metadata": {},
   "source": [
    "# pickle"
   ]
  },
  {
   "cell_type": "markdown",
   "metadata": {},
   "source": [
    "pickleはPythonのオブジェクトの永続化やシリアライズを行うモジュール  \n",
    "オブジェクトをファイルにする動作を**pickle化**、ファイルをオブジェクトにする動作を**unpickle化**と呼ぶ"
   ]
  },
  {
   "cell_type": "code",
   "execution_count": 35,
   "metadata": {},
   "outputs": [],
   "source": [
    "import pickle\n",
    "\n",
    "savepath = './outputs/hoge.json'\n",
    "\n",
    "test_dict = {2: [\"ふー\", 5]}"
   ]
  },
  {
   "cell_type": "markdown",
   "metadata": {},
   "source": [
    "## 保存"
   ]
  },
  {
   "cell_type": "code",
   "execution_count": 37,
   "metadata": {},
   "outputs": [],
   "source": [
    "with open(savepath, 'wb') as f:\n",
    "    pickle.dump(test_dict, f)"
   ]
  },
  {
   "cell_type": "markdown",
   "metadata": {},
   "source": [
    "## 読み込み"
   ]
  },
  {
   "cell_type": "code",
   "execution_count": 38,
   "metadata": {},
   "outputs": [],
   "source": [
    "with open(savepath, 'rb') as f:\n",
    "    test_dict = pickle.load(f)"
   ]
  },
  {
   "cell_type": "code",
   "execution_count": 39,
   "metadata": {},
   "outputs": [
    {
     "data": {
      "text/plain": [
       "{2: ['ふー', 5]}"
      ]
     },
     "execution_count": 39,
     "metadata": {},
     "output_type": "execute_result"
    }
   ],
   "source": [
    "test_dict"
   ]
  },
  {
   "cell_type": "markdown",
   "metadata": {},
   "source": [
    "pickleはkeyのオブジェクト型をそのまま保持する"
   ]
  },
  {
   "cell_type": "markdown",
   "metadata": {},
   "source": [
    "## その他"
   ]
  },
  {
   "cell_type": "markdown",
   "metadata": {},
   "source": [
    "jsonと同じくバイト型の文字列で保存したいとき、pickle化した文字列を読み込みたいときには`pickle.dumps()`、`pickle.loads()`と後ろにsを付ける"
   ]
  }
 ],
 "metadata": {
  "kernelspec": {
   "display_name": "Python 3",
   "language": "python",
   "name": "python3"
  },
  "language_info": {
   "codemirror_mode": {
    "name": "ipython",
    "version": 3
   },
   "file_extension": ".py",
   "mimetype": "text/x-python",
   "name": "python",
   "nbconvert_exporter": "python",
   "pygments_lexer": "ipython3",
   "version": "3.6.2"
  },
  "toc": {
   "nav_menu": {},
   "number_sections": true,
   "sideBar": true,
   "skip_h1_title": false,
   "toc_cell": false,
   "toc_position": {},
   "toc_section_display": "block",
   "toc_window_display": false
  }
 },
 "nbformat": 4,
 "nbformat_minor": 2
}
