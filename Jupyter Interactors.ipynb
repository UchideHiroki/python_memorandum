{
 "cells": [
  {
   "cell_type": "markdown",
   "metadata": {},
   "source": [
    "Basic Interactor Demo\n",
    "---------------------\n",
    "\n",
    "This demo shows off an interactive visualization using [Bokeh](https://bokeh.pydata.org) for plotting, and Ipython interactors for widgets. The demo runs entirely inside the Ipython notebook, with no Bokeh server required.\n",
    "\n",
    "The dropdown offers a choice of trig functions to plot, and the sliders control the frequency, amplitude, and phase. \n",
    "\n",
    "To run, click on, `Cell->Run All` in the top menu, then scroll to the bottom and move the sliders. "
   ]
  },
  {
   "cell_type": "code",
   "execution_count": 7,
   "metadata": {},
   "outputs": [
    {
     "data": {
      "text/html": [
       "\n",
       "    <div class=\"bk-root\">\n",
       "        <a href=\"https://bokeh.pydata.org\" target=\"_blank\" class=\"bk-logo bk-logo-small bk-logo-notebook\"></a>\n",
       "        <span id=\"f82b2c46-fcef-4337-af46-ea06400354cf\">Loading BokehJS ...</span>\n",
       "    </div>"
      ]
     },
     "metadata": {},
     "output_type": "display_data"
    },
    {
     "data": {
      "application/javascript": [
       "\n",
       "(function(root) {\n",
       "  function now() {\n",
       "    return new Date();\n",
       "  }\n",
       "\n",
       "  var force = true;\n",
       "\n",
       "  if (typeof (root._bokeh_onload_callbacks) === \"undefined\" || force === true) {\n",
       "    root._bokeh_onload_callbacks = [];\n",
       "    root._bokeh_is_loading = undefined;\n",
       "  }\n",
       "\n",
       "  var JS_MIME_TYPE = 'application/javascript';\n",
       "  var HTML_MIME_TYPE = 'text/html';\n",
       "  var EXEC_MIME_TYPE = 'application/vnd.bokehjs_exec.v0+json';\n",
       "  var CLASS_NAME = 'output_bokeh rendered_html';\n",
       "\n",
       "  /**\n",
       "   * Render data to the DOM node\n",
       "   */\n",
       "  function render(props, node) {\n",
       "    var script = document.createElement(\"script\");\n",
       "    node.appendChild(script);\n",
       "  }\n",
       "\n",
       "  /**\n",
       "   * Handle when an output is cleared or removed\n",
       "   */\n",
       "  function handleClearOutput(event, handle) {\n",
       "    var cell = handle.cell;\n",
       "\n",
       "    var id = cell.output_area._bokeh_element_id;\n",
       "    var server_id = cell.output_area._bokeh_server_id;\n",
       "    // Clean up Bokeh references\n",
       "    if (id !== undefined) {\n",
       "      Bokeh.index[id].model.document.clear();\n",
       "      delete Bokeh.index[id];\n",
       "    }\n",
       "\n",
       "    if (server_id !== undefined) {\n",
       "      // Clean up Bokeh references\n",
       "      var cmd = \"from bokeh.io.state import curstate; print(curstate().uuid_to_server['\" + server_id + \"'].get_sessions()[0].document.roots[0]._id)\";\n",
       "      cell.notebook.kernel.execute(cmd, {\n",
       "        iopub: {\n",
       "          output: function(msg) {\n",
       "            var element_id = msg.content.text.trim();\n",
       "            Bokeh.index[element_id].model.document.clear();\n",
       "            delete Bokeh.index[element_id];\n",
       "          }\n",
       "        }\n",
       "      });\n",
       "      // Destroy server and session\n",
       "      var cmd = \"import bokeh.io.notebook as ion; ion.destroy_server('\" + server_id + \"')\";\n",
       "      cell.notebook.kernel.execute(cmd);\n",
       "    }\n",
       "  }\n",
       "\n",
       "  /**\n",
       "   * Handle when a new output is added\n",
       "   */\n",
       "  function handleAddOutput(event, handle) {\n",
       "    var output_area = handle.output_area;\n",
       "    var output = handle.output;\n",
       "\n",
       "    // limit handleAddOutput to display_data with EXEC_MIME_TYPE content only\n",
       "    if ((output.output_type != \"display_data\") || (!output.data.hasOwnProperty(EXEC_MIME_TYPE))) {\n",
       "      return\n",
       "    }\n",
       "\n",
       "    var toinsert = output_area.element.find(`.${CLASS_NAME.split(' ')[0]}`);\n",
       "\n",
       "    if (output.metadata[EXEC_MIME_TYPE][\"id\"] !== undefined) {\n",
       "      toinsert[0].firstChild.textContent = output.data[JS_MIME_TYPE];\n",
       "      // store reference to embed id on output_area\n",
       "      output_area._bokeh_element_id = output.metadata[EXEC_MIME_TYPE][\"id\"];\n",
       "    }\n",
       "    if (output.metadata[EXEC_MIME_TYPE][\"server_id\"] !== undefined) {\n",
       "      var bk_div = document.createElement(\"div\");\n",
       "      bk_div.innerHTML = output.data[HTML_MIME_TYPE];\n",
       "      var script_attrs = bk_div.children[0].attributes;\n",
       "      for (var i = 0; i < script_attrs.length; i++) {\n",
       "        toinsert[0].firstChild.setAttribute(script_attrs[i].name, script_attrs[i].value);\n",
       "      }\n",
       "      // store reference to server id on output_area\n",
       "      output_area._bokeh_server_id = output.metadata[EXEC_MIME_TYPE][\"server_id\"];\n",
       "    }\n",
       "  }\n",
       "\n",
       "  function register_renderer(events, OutputArea) {\n",
       "\n",
       "    function append_mime(data, metadata, element) {\n",
       "      // create a DOM node to render to\n",
       "      var toinsert = this.create_output_subarea(\n",
       "        metadata,\n",
       "        CLASS_NAME,\n",
       "        EXEC_MIME_TYPE\n",
       "      );\n",
       "      this.keyboard_manager.register_events(toinsert);\n",
       "      // Render to node\n",
       "      var props = {data: data, metadata: metadata[EXEC_MIME_TYPE]};\n",
       "      render(props, toinsert[0]);\n",
       "      element.append(toinsert);\n",
       "      return toinsert\n",
       "    }\n",
       "\n",
       "    /* Handle when an output is cleared or removed */\n",
       "    events.on('clear_output.CodeCell', handleClearOutput);\n",
       "    events.on('delete.Cell', handleClearOutput);\n",
       "\n",
       "    /* Handle when a new output is added */\n",
       "    events.on('output_added.OutputArea', handleAddOutput);\n",
       "\n",
       "    /**\n",
       "     * Register the mime type and append_mime function with output_area\n",
       "     */\n",
       "    OutputArea.prototype.register_mime_type(EXEC_MIME_TYPE, append_mime, {\n",
       "      /* Is output safe? */\n",
       "      safe: true,\n",
       "      /* Index of renderer in `output_area.display_order` */\n",
       "      index: 0\n",
       "    });\n",
       "  }\n",
       "\n",
       "  // register the mime type if in Jupyter Notebook environment and previously unregistered\n",
       "  if (root.Jupyter !== undefined) {\n",
       "    var events = require('base/js/events');\n",
       "    var OutputArea = require('notebook/js/outputarea').OutputArea;\n",
       "\n",
       "    if (OutputArea.prototype.mime_types().indexOf(EXEC_MIME_TYPE) == -1) {\n",
       "      register_renderer(events, OutputArea);\n",
       "    }\n",
       "  }\n",
       "\n",
       "  \n",
       "  if (typeof (root._bokeh_timeout) === \"undefined\" || force === true) {\n",
       "    root._bokeh_timeout = Date.now() + 5000;\n",
       "    root._bokeh_failed_load = false;\n",
       "  }\n",
       "\n",
       "  var NB_LOAD_WARNING = {'data': {'text/html':\n",
       "     \"<div style='background-color: #fdd'>\\n\"+\n",
       "     \"<p>\\n\"+\n",
       "     \"BokehJS does not appear to have successfully loaded. If loading BokehJS from CDN, this \\n\"+\n",
       "     \"may be due to a slow or bad network connection. Possible fixes:\\n\"+\n",
       "     \"</p>\\n\"+\n",
       "     \"<ul>\\n\"+\n",
       "     \"<li>re-rerun `output_notebook()` to attempt to load from CDN again, or</li>\\n\"+\n",
       "     \"<li>use INLINE resources instead, as so:</li>\\n\"+\n",
       "     \"</ul>\\n\"+\n",
       "     \"<code>\\n\"+\n",
       "     \"from bokeh.resources import INLINE\\n\"+\n",
       "     \"output_notebook(resources=INLINE)\\n\"+\n",
       "     \"</code>\\n\"+\n",
       "     \"</div>\"}};\n",
       "\n",
       "  function display_loaded() {\n",
       "    var el = document.getElementById(\"f82b2c46-fcef-4337-af46-ea06400354cf\");\n",
       "    if (el != null) {\n",
       "      el.textContent = \"BokehJS is loading...\";\n",
       "    }\n",
       "    if (root.Bokeh !== undefined) {\n",
       "      if (el != null) {\n",
       "        el.textContent = \"BokehJS \" + root.Bokeh.version + \" successfully loaded.\";\n",
       "      }\n",
       "    } else if (Date.now() < root._bokeh_timeout) {\n",
       "      setTimeout(display_loaded, 100)\n",
       "    }\n",
       "  }\n",
       "\n",
       "\n",
       "  function run_callbacks() {\n",
       "    try {\n",
       "      root._bokeh_onload_callbacks.forEach(function(callback) { callback() });\n",
       "    }\n",
       "    finally {\n",
       "      delete root._bokeh_onload_callbacks\n",
       "    }\n",
       "    console.info(\"Bokeh: all callbacks have finished\");\n",
       "  }\n",
       "\n",
       "  function load_libs(js_urls, callback) {\n",
       "    root._bokeh_onload_callbacks.push(callback);\n",
       "    if (root._bokeh_is_loading > 0) {\n",
       "      console.log(\"Bokeh: BokehJS is being loaded, scheduling callback at\", now());\n",
       "      return null;\n",
       "    }\n",
       "    if (js_urls == null || js_urls.length === 0) {\n",
       "      run_callbacks();\n",
       "      return null;\n",
       "    }\n",
       "    console.log(\"Bokeh: BokehJS not loaded, scheduling load and callback at\", now());\n",
       "    root._bokeh_is_loading = js_urls.length;\n",
       "    for (var i = 0; i < js_urls.length; i++) {\n",
       "      var url = js_urls[i];\n",
       "      var s = document.createElement('script');\n",
       "      s.src = url;\n",
       "      s.async = false;\n",
       "      s.onreadystatechange = s.onload = function() {\n",
       "        root._bokeh_is_loading--;\n",
       "        if (root._bokeh_is_loading === 0) {\n",
       "          console.log(\"Bokeh: all BokehJS libraries loaded\");\n",
       "          run_callbacks()\n",
       "        }\n",
       "      };\n",
       "      s.onerror = function() {\n",
       "        console.warn(\"failed to load library \" + url);\n",
       "      };\n",
       "      console.log(\"Bokeh: injecting script tag for BokehJS library: \", url);\n",
       "      document.getElementsByTagName(\"head\")[0].appendChild(s);\n",
       "    }\n",
       "  };var element = document.getElementById(\"f82b2c46-fcef-4337-af46-ea06400354cf\");\n",
       "  if (element == null) {\n",
       "    console.log(\"Bokeh: ERROR: autoload.js configured with elementid 'f82b2c46-fcef-4337-af46-ea06400354cf' but no matching script tag was found. \")\n",
       "    return false;\n",
       "  }\n",
       "\n",
       "  var js_urls = [\"https://cdn.pydata.org/bokeh/release/bokeh-0.12.10.min.js\", \"https://cdn.pydata.org/bokeh/release/bokeh-widgets-0.12.10.min.js\", \"https://cdn.pydata.org/bokeh/release/bokeh-tables-0.12.10.min.js\", \"https://cdn.pydata.org/bokeh/release/bokeh-gl-0.12.10.min.js\"];\n",
       "\n",
       "  var inline_js = [\n",
       "    function(Bokeh) {\n",
       "      Bokeh.set_log_level(\"info\");\n",
       "    },\n",
       "    \n",
       "    function(Bokeh) {\n",
       "      \n",
       "    },\n",
       "    function(Bokeh) {\n",
       "      console.log(\"Bokeh: injecting CSS: https://cdn.pydata.org/bokeh/release/bokeh-0.12.10.min.css\");\n",
       "      Bokeh.embed.inject_css(\"https://cdn.pydata.org/bokeh/release/bokeh-0.12.10.min.css\");\n",
       "      console.log(\"Bokeh: injecting CSS: https://cdn.pydata.org/bokeh/release/bokeh-widgets-0.12.10.min.css\");\n",
       "      Bokeh.embed.inject_css(\"https://cdn.pydata.org/bokeh/release/bokeh-widgets-0.12.10.min.css\");\n",
       "      console.log(\"Bokeh: injecting CSS: https://cdn.pydata.org/bokeh/release/bokeh-tables-0.12.10.min.css\");\n",
       "      Bokeh.embed.inject_css(\"https://cdn.pydata.org/bokeh/release/bokeh-tables-0.12.10.min.css\");\n",
       "    }\n",
       "  ];\n",
       "\n",
       "  function run_inline_js() {\n",
       "    \n",
       "    if ((root.Bokeh !== undefined) || (force === true)) {\n",
       "      for (var i = 0; i < inline_js.length; i++) {\n",
       "        inline_js[i].call(root, root.Bokeh);\n",
       "      }if (force === true) {\n",
       "        display_loaded();\n",
       "      }} else if (Date.now() < root._bokeh_timeout) {\n",
       "      setTimeout(run_inline_js, 100);\n",
       "    } else if (!root._bokeh_failed_load) {\n",
       "      console.log(\"Bokeh: BokehJS failed to load within specified timeout.\");\n",
       "      root._bokeh_failed_load = true;\n",
       "    } else if (force !== true) {\n",
       "      var cell = $(document.getElementById(\"f82b2c46-fcef-4337-af46-ea06400354cf\")).parents('.cell').data().cell;\n",
       "      cell.output_area.append_execute_result(NB_LOAD_WARNING)\n",
       "    }\n",
       "\n",
       "  }\n",
       "\n",
       "  if (root._bokeh_is_loading === 0) {\n",
       "    console.log(\"Bokeh: BokehJS loaded, going straight to plotting\");\n",
       "    run_inline_js();\n",
       "  } else {\n",
       "    load_libs(js_urls, function() {\n",
       "      console.log(\"Bokeh: BokehJS plotting callback run at\", now());\n",
       "      run_inline_js();\n",
       "    });\n",
       "  }\n",
       "}(window));"
      ],
      "application/vnd.bokehjs_load.v0+json": "\n(function(root) {\n  function now() {\n    return new Date();\n  }\n\n  var force = true;\n\n  if (typeof (root._bokeh_onload_callbacks) === \"undefined\" || force === true) {\n    root._bokeh_onload_callbacks = [];\n    root._bokeh_is_loading = undefined;\n  }\n\n  \n\n  \n  if (typeof (root._bokeh_timeout) === \"undefined\" || force === true) {\n    root._bokeh_timeout = Date.now() + 5000;\n    root._bokeh_failed_load = false;\n  }\n\n  var NB_LOAD_WARNING = {'data': {'text/html':\n     \"<div style='background-color: #fdd'>\\n\"+\n     \"<p>\\n\"+\n     \"BokehJS does not appear to have successfully loaded. If loading BokehJS from CDN, this \\n\"+\n     \"may be due to a slow or bad network connection. Possible fixes:\\n\"+\n     \"</p>\\n\"+\n     \"<ul>\\n\"+\n     \"<li>re-rerun `output_notebook()` to attempt to load from CDN again, or</li>\\n\"+\n     \"<li>use INLINE resources instead, as so:</li>\\n\"+\n     \"</ul>\\n\"+\n     \"<code>\\n\"+\n     \"from bokeh.resources import INLINE\\n\"+\n     \"output_notebook(resources=INLINE)\\n\"+\n     \"</code>\\n\"+\n     \"</div>\"}};\n\n  function display_loaded() {\n    var el = document.getElementById(\"f82b2c46-fcef-4337-af46-ea06400354cf\");\n    if (el != null) {\n      el.textContent = \"BokehJS is loading...\";\n    }\n    if (root.Bokeh !== undefined) {\n      if (el != null) {\n        el.textContent = \"BokehJS \" + root.Bokeh.version + \" successfully loaded.\";\n      }\n    } else if (Date.now() < root._bokeh_timeout) {\n      setTimeout(display_loaded, 100)\n    }\n  }\n\n\n  function run_callbacks() {\n    try {\n      root._bokeh_onload_callbacks.forEach(function(callback) { callback() });\n    }\n    finally {\n      delete root._bokeh_onload_callbacks\n    }\n    console.info(\"Bokeh: all callbacks have finished\");\n  }\n\n  function load_libs(js_urls, callback) {\n    root._bokeh_onload_callbacks.push(callback);\n    if (root._bokeh_is_loading > 0) {\n      console.log(\"Bokeh: BokehJS is being loaded, scheduling callback at\", now());\n      return null;\n    }\n    if (js_urls == null || js_urls.length === 0) {\n      run_callbacks();\n      return null;\n    }\n    console.log(\"Bokeh: BokehJS not loaded, scheduling load and callback at\", now());\n    root._bokeh_is_loading = js_urls.length;\n    for (var i = 0; i < js_urls.length; i++) {\n      var url = js_urls[i];\n      var s = document.createElement('script');\n      s.src = url;\n      s.async = false;\n      s.onreadystatechange = s.onload = function() {\n        root._bokeh_is_loading--;\n        if (root._bokeh_is_loading === 0) {\n          console.log(\"Bokeh: all BokehJS libraries loaded\");\n          run_callbacks()\n        }\n      };\n      s.onerror = function() {\n        console.warn(\"failed to load library \" + url);\n      };\n      console.log(\"Bokeh: injecting script tag for BokehJS library: \", url);\n      document.getElementsByTagName(\"head\")[0].appendChild(s);\n    }\n  };var element = document.getElementById(\"f82b2c46-fcef-4337-af46-ea06400354cf\");\n  if (element == null) {\n    console.log(\"Bokeh: ERROR: autoload.js configured with elementid 'f82b2c46-fcef-4337-af46-ea06400354cf' but no matching script tag was found. \")\n    return false;\n  }\n\n  var js_urls = [\"https://cdn.pydata.org/bokeh/release/bokeh-0.12.10.min.js\", \"https://cdn.pydata.org/bokeh/release/bokeh-widgets-0.12.10.min.js\", \"https://cdn.pydata.org/bokeh/release/bokeh-tables-0.12.10.min.js\", \"https://cdn.pydata.org/bokeh/release/bokeh-gl-0.12.10.min.js\"];\n\n  var inline_js = [\n    function(Bokeh) {\n      Bokeh.set_log_level(\"info\");\n    },\n    \n    function(Bokeh) {\n      \n    },\n    function(Bokeh) {\n      console.log(\"Bokeh: injecting CSS: https://cdn.pydata.org/bokeh/release/bokeh-0.12.10.min.css\");\n      Bokeh.embed.inject_css(\"https://cdn.pydata.org/bokeh/release/bokeh-0.12.10.min.css\");\n      console.log(\"Bokeh: injecting CSS: https://cdn.pydata.org/bokeh/release/bokeh-widgets-0.12.10.min.css\");\n      Bokeh.embed.inject_css(\"https://cdn.pydata.org/bokeh/release/bokeh-widgets-0.12.10.min.css\");\n      console.log(\"Bokeh: injecting CSS: https://cdn.pydata.org/bokeh/release/bokeh-tables-0.12.10.min.css\");\n      Bokeh.embed.inject_css(\"https://cdn.pydata.org/bokeh/release/bokeh-tables-0.12.10.min.css\");\n    }\n  ];\n\n  function run_inline_js() {\n    \n    if ((root.Bokeh !== undefined) || (force === true)) {\n      for (var i = 0; i < inline_js.length; i++) {\n        inline_js[i].call(root, root.Bokeh);\n      }if (force === true) {\n        display_loaded();\n      }} else if (Date.now() < root._bokeh_timeout) {\n      setTimeout(run_inline_js, 100);\n    } else if (!root._bokeh_failed_load) {\n      console.log(\"Bokeh: BokehJS failed to load within specified timeout.\");\n      root._bokeh_failed_load = true;\n    } else if (force !== true) {\n      var cell = $(document.getElementById(\"f82b2c46-fcef-4337-af46-ea06400354cf\")).parents('.cell').data().cell;\n      cell.output_area.append_execute_result(NB_LOAD_WARNING)\n    }\n\n  }\n\n  if (root._bokeh_is_loading === 0) {\n    console.log(\"Bokeh: BokehJS loaded, going straight to plotting\");\n    run_inline_js();\n  } else {\n    load_libs(js_urls, function() {\n      console.log(\"Bokeh: BokehJS plotting callback run at\", now());\n      run_inline_js();\n    });\n  }\n}(window));"
     },
     "metadata": {},
     "output_type": "display_data"
    }
   ],
   "source": [
    "from ipywidgets import interact\n",
    "import numpy as np\n",
    "\n",
    "from bokeh.io import push_notebook, show, output_notebook\n",
    "from bokeh.plotting import figure\n",
    "output_notebook()"
   ]
  },
  {
   "cell_type": "code",
   "execution_count": 8,
   "metadata": {},
   "outputs": [],
   "source": [
    "x = np.linspace(0, 2*np.pi, 2000)\n",
    "y = np.sin(x)"
   ]
  },
  {
   "cell_type": "code",
   "execution_count": 9,
   "metadata": {},
   "outputs": [],
   "source": [
    "p = figure(title=\"simple line example\", plot_height=300, plot_width=600, y_range=(-5,5))\n",
    "r = p.line(x, y, color=\"#2222aa\", line_width=3)"
   ]
  },
  {
   "cell_type": "code",
   "execution_count": 13,
   "metadata": {},
   "outputs": [],
   "source": [
    "def update(f, w=1, A=1, phi=0):\n",
    "    if   f == \"sin\": func = np.sin\n",
    "    elif f == \"cos\": func = np.cos\n",
    "    elif f == \"tan\": func = np.tan\n",
    "    r.data_source.data['y'] = A * func(w * x + phi)\n",
    "    push_notebook()"
   ]
  },
  {
   "cell_type": "code",
   "execution_count": 14,
   "metadata": {},
   "outputs": [
    {
     "data": {
      "text/html": [
       "\n",
       "<div class=\"bk-root\">\n",
       "    <div class=\"bk-plotdiv\" id=\"0d586bb5-0ffc-416a-bae0-8c39acdb63da\"></div>\n",
       "</div>"
      ]
     },
     "metadata": {},
     "output_type": "display_data"
    },
    {
     "data": {
      "application/javascript": [
       "(function(root) {\n",
       "  function embed_document(root) {\n",
       "    var docs_json = {\"2e7165ec-b3a4-4e0e-8eee-eb73fa81ea1e\":{\"roots\":{\"references\":[{\"attributes\":{},\"id\":\"52b14b35-f855-49bc-94d4-214e404bca4e\",\"type\":\"BasicTickFormatter\"},{\"attributes\":{\"plot\":null,\"text\":\"simple line example\"},\"id\":\"0f662f4d-db5c-40c3-ab3e-94bffd8e9cc9\",\"type\":\"Title\"},{\"attributes\":{},\"id\":\"d92a31f3-f9c7-4dfd-b2dd-9254ed01a13f\",\"type\":\"BasicTickFormatter\"},{\"attributes\":{\"dimension\":1,\"plot\":{\"id\":\"715d39e8-dc30-4a3a-b7db-2ff8da35994b\",\"subtype\":\"Figure\",\"type\":\"Plot\"},\"ticker\":{\"id\":\"12809a6f-e68f-4f92-bd82-7bb2f77667a0\",\"type\":\"BasicTicker\"}},\"id\":\"b00c674f-45a5-4aa5-8e1e-bf667700055b\",\"type\":\"Grid\"},{\"attributes\":{\"active_drag\":\"auto\",\"active_inspect\":\"auto\",\"active_scroll\":\"auto\",\"active_tap\":\"auto\",\"tools\":[{\"id\":\"dd484091-7c2d-44e6-b8b4-eb525b955535\",\"type\":\"PanTool\"},{\"id\":\"6652bf1a-cfde-441f-9747-48b17829e971\",\"type\":\"WheelZoomTool\"},{\"id\":\"2f03476b-fa6b-4d12-be53-2a94a0c021d8\",\"type\":\"BoxZoomTool\"},{\"id\":\"6c4498ff-556c-409f-801e-d2cafa8e055f\",\"type\":\"SaveTool\"},{\"id\":\"aa24f727-966e-4a9f-a5a9-048974845d23\",\"type\":\"ResetTool\"},{\"id\":\"5c2dfc38-602a-4954-918f-c2b78baa4e60\",\"type\":\"HelpTool\"}]},\"id\":\"7c6ab113-b445-4881-838e-86b7d132a02c\",\"type\":\"Toolbar\"},{\"attributes\":{},\"id\":\"12809a6f-e68f-4f92-bd82-7bb2f77667a0\",\"type\":\"BasicTicker\"},{\"attributes\":{},\"id\":\"e26153d7-feb6-4520-af2f-a8c8ccd5d621\",\"type\":\"LinearScale\"},{\"attributes\":{\"data_source\":{\"id\":\"cd86c88e-d081-4cdd-92b7-6daaf8684ee6\",\"type\":\"ColumnDataSource\"},\"glyph\":{\"id\":\"9c3879ed-a475-441b-8d15-f030fc092099\",\"type\":\"Line\"},\"hover_glyph\":null,\"muted_glyph\":null,\"nonselection_glyph\":{\"id\":\"5562d7e3-094b-4046-85c2-2f294012efb3\",\"type\":\"Line\"},\"selection_glyph\":null,\"view\":{\"id\":\"2d7bff4d-2da7-46d7-9d4f-08246ca2955c\",\"type\":\"CDSView\"}},\"id\":\"0767bc45-f25c-4c2b-a9b3-a4ed3054c4f0\",\"type\":\"GlyphRenderer\"},{\"attributes\":{\"formatter\":{\"id\":\"52b14b35-f855-49bc-94d4-214e404bca4e\",\"type\":\"BasicTickFormatter\"},\"plot\":{\"id\":\"715d39e8-dc30-4a3a-b7db-2ff8da35994b\",\"subtype\":\"Figure\",\"type\":\"Plot\"},\"ticker\":{\"id\":\"12809a6f-e68f-4f92-bd82-7bb2f77667a0\",\"type\":\"BasicTicker\"}},\"id\":\"860d03c5-9627-42a5-b324-9f1aff1e97f9\",\"type\":\"LinearAxis\"},{\"attributes\":{\"callback\":null,\"column_names\":[\"x\",\"y\"],\"data\":{\"x\":{\"__ndarray__\":\"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\",\"dtype\":\"float64\",\"shape\":[2000]},\"y\":{\"__ndarray__\":\"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\",\"dtype\":\"float64\",\"shape\":[2000]}}},\"id\":\"cd86c88e-d081-4cdd-92b7-6daaf8684ee6\",\"type\":\"ColumnDataSource\"},{\"attributes\":{\"plot\":{\"id\":\"715d39e8-dc30-4a3a-b7db-2ff8da35994b\",\"subtype\":\"Figure\",\"type\":\"Plot\"},\"ticker\":{\"id\":\"7e2f7540-b953-4320-bcde-85a847f8bd9c\",\"type\":\"BasicTicker\"}},\"id\":\"2fd57046-9394-48af-a5b9-a9a8470b79e3\",\"type\":\"Grid\"},{\"attributes\":{},\"id\":\"6c4498ff-556c-409f-801e-d2cafa8e055f\",\"type\":\"SaveTool\"},{\"attributes\":{\"formatter\":{\"id\":\"d92a31f3-f9c7-4dfd-b2dd-9254ed01a13f\",\"type\":\"BasicTickFormatter\"},\"plot\":{\"id\":\"715d39e8-dc30-4a3a-b7db-2ff8da35994b\",\"subtype\":\"Figure\",\"type\":\"Plot\"},\"ticker\":{\"id\":\"7e2f7540-b953-4320-bcde-85a847f8bd9c\",\"type\":\"BasicTicker\"}},\"id\":\"dccf01b6-0d30-4996-91aa-1030d0b5cb21\",\"type\":\"LinearAxis\"},{\"attributes\":{\"line_alpha\":{\"value\":0.1},\"line_color\":{\"value\":\"#1f77b4\"},\"line_width\":{\"value\":3},\"x\":{\"field\":\"x\"},\"y\":{\"field\":\"y\"}},\"id\":\"5562d7e3-094b-4046-85c2-2f294012efb3\",\"type\":\"Line\"},{\"attributes\":{},\"id\":\"7e2f7540-b953-4320-bcde-85a847f8bd9c\",\"type\":\"BasicTicker\"},{\"attributes\":{},\"id\":\"a3c89ed1-15c4-4ceb-92d1-1a0110568010\",\"type\":\"LinearScale\"},{\"attributes\":{},\"id\":\"aa24f727-966e-4a9f-a5a9-048974845d23\",\"type\":\"ResetTool\"},{\"attributes\":{\"bottom_units\":\"screen\",\"fill_alpha\":{\"value\":0.5},\"fill_color\":{\"value\":\"lightgrey\"},\"left_units\":\"screen\",\"level\":\"overlay\",\"line_alpha\":{\"value\":1.0},\"line_color\":{\"value\":\"black\"},\"line_dash\":[4,4],\"line_width\":{\"value\":2},\"plot\":null,\"render_mode\":\"css\",\"right_units\":\"screen\",\"top_units\":\"screen\"},\"id\":\"af981e04-f0d8-4e6e-8599-541606d66372\",\"type\":\"BoxAnnotation\"},{\"attributes\":{\"line_color\":{\"value\":\"#2222aa\"},\"line_width\":{\"value\":3},\"x\":{\"field\":\"x\"},\"y\":{\"field\":\"y\"}},\"id\":\"9c3879ed-a475-441b-8d15-f030fc092099\",\"type\":\"Line\"},{\"attributes\":{},\"id\":\"5c2dfc38-602a-4954-918f-c2b78baa4e60\",\"type\":\"HelpTool\"},{\"attributes\":{\"below\":[{\"id\":\"dccf01b6-0d30-4996-91aa-1030d0b5cb21\",\"type\":\"LinearAxis\"}],\"left\":[{\"id\":\"860d03c5-9627-42a5-b324-9f1aff1e97f9\",\"type\":\"LinearAxis\"}],\"plot_height\":300,\"renderers\":[{\"id\":\"dccf01b6-0d30-4996-91aa-1030d0b5cb21\",\"type\":\"LinearAxis\"},{\"id\":\"2fd57046-9394-48af-a5b9-a9a8470b79e3\",\"type\":\"Grid\"},{\"id\":\"860d03c5-9627-42a5-b324-9f1aff1e97f9\",\"type\":\"LinearAxis\"},{\"id\":\"b00c674f-45a5-4aa5-8e1e-bf667700055b\",\"type\":\"Grid\"},{\"id\":\"af981e04-f0d8-4e6e-8599-541606d66372\",\"type\":\"BoxAnnotation\"},{\"id\":\"0767bc45-f25c-4c2b-a9b3-a4ed3054c4f0\",\"type\":\"GlyphRenderer\"}],\"title\":{\"id\":\"0f662f4d-db5c-40c3-ab3e-94bffd8e9cc9\",\"type\":\"Title\"},\"toolbar\":{\"id\":\"7c6ab113-b445-4881-838e-86b7d132a02c\",\"type\":\"Toolbar\"},\"x_range\":{\"id\":\"511c79b6-cae3-426a-b157-0a866824c661\",\"type\":\"DataRange1d\"},\"x_scale\":{\"id\":\"a3c89ed1-15c4-4ceb-92d1-1a0110568010\",\"type\":\"LinearScale\"},\"y_range\":{\"id\":\"05b9c655-ea75-415d-a7d7-07b74023cbd5\",\"type\":\"Range1d\"},\"y_scale\":{\"id\":\"e26153d7-feb6-4520-af2f-a8c8ccd5d621\",\"type\":\"LinearScale\"}},\"id\":\"715d39e8-dc30-4a3a-b7db-2ff8da35994b\",\"subtype\":\"Figure\",\"type\":\"Plot\"},{\"attributes\":{},\"id\":\"dd484091-7c2d-44e6-b8b4-eb525b955535\",\"type\":\"PanTool\"},{\"attributes\":{\"callback\":null},\"id\":\"511c79b6-cae3-426a-b157-0a866824c661\",\"type\":\"DataRange1d\"},{\"attributes\":{\"source\":{\"id\":\"cd86c88e-d081-4cdd-92b7-6daaf8684ee6\",\"type\":\"ColumnDataSource\"}},\"id\":\"2d7bff4d-2da7-46d7-9d4f-08246ca2955c\",\"type\":\"CDSView\"},{\"attributes\":{},\"id\":\"6652bf1a-cfde-441f-9747-48b17829e971\",\"type\":\"WheelZoomTool\"},{\"attributes\":{\"overlay\":{\"id\":\"af981e04-f0d8-4e6e-8599-541606d66372\",\"type\":\"BoxAnnotation\"}},\"id\":\"2f03476b-fa6b-4d12-be53-2a94a0c021d8\",\"type\":\"BoxZoomTool\"},{\"attributes\":{\"callback\":null,\"end\":5,\"start\":-5},\"id\":\"05b9c655-ea75-415d-a7d7-07b74023cbd5\",\"type\":\"Range1d\"}],\"root_ids\":[\"715d39e8-dc30-4a3a-b7db-2ff8da35994b\"]},\"title\":\"Bokeh Application\",\"version\":\"0.12.10\"}};\n",
       "    var render_items = [{\"docid\":\"2e7165ec-b3a4-4e0e-8eee-eb73fa81ea1e\",\"elementid\":\"0d586bb5-0ffc-416a-bae0-8c39acdb63da\",\"modelid\":\"715d39e8-dc30-4a3a-b7db-2ff8da35994b\",\"notebook_comms_target\":\"c83dfb7c-2dd0-4a4d-86e0-dd9ce9e29cf9\"}];\n",
       "\n",
       "    root.Bokeh.embed.embed_items(docs_json, render_items);\n",
       "  }\n",
       "\n",
       "  if (root.Bokeh !== undefined) {\n",
       "    embed_document(root);\n",
       "  } else {\n",
       "    var attempts = 0;\n",
       "    var timer = setInterval(function(root) {\n",
       "      if (root.Bokeh !== undefined) {\n",
       "        embed_document(root);\n",
       "        clearInterval(timer);\n",
       "      }\n",
       "      attempts++;\n",
       "      if (attempts > 100) {\n",
       "        console.log(\"Bokeh: ERROR: Unable to embed document because BokehJS library is missing\")\n",
       "        clearInterval(timer);\n",
       "      }\n",
       "    }, 10, root)\n",
       "  }\n",
       "})(window);"
      ],
      "application/vnd.bokehjs_exec.v0+json": ""
     },
     "metadata": {
      "application/vnd.bokehjs_exec.v0+json": {
       "id": "715d39e8-dc30-4a3a-b7db-2ff8da35994b"
      }
     },
     "output_type": "display_data"
    },
    {
     "data": {
      "text/html": [
       "<p><code>&lt;Bokeh Notebook handle for <strong>In[14]</strong>&gt;</code></p>"
      ],
      "text/plain": [
       "<bokeh.io.notebook.CommsHandle at 0x10e6c1be0>"
      ]
     },
     "execution_count": 14,
     "metadata": {},
     "output_type": "execute_result"
    }
   ],
   "source": [
    "show(p, notebook_handle=True)"
   ]
  },
  {
   "cell_type": "code",
   "execution_count": 12,
   "metadata": {},
   "outputs": [
    {
     "data": {
      "application/vnd.jupyter.widget-view+json": {
       "model_id": "fe5e22894ea14167a84c365a8726f75b",
       "version_major": 2,
       "version_minor": 0
      },
      "text/plain": [
       "A Jupyter Widget"
      ]
     },
     "metadata": {},
     "output_type": "display_data"
    },
    {
     "data": {
      "text/plain": [
       "<function __main__.update>"
      ]
     },
     "execution_count": 12,
     "metadata": {},
     "output_type": "execute_result"
    }
   ],
   "source": [
    "interact(update, f=[\"sin\", \"cos\", \"tan\"], w=(0,100), A=(1,5), phi=(0, 20, 0.1))"
   ]
  },
  {
   "cell_type": "code",
   "execution_count": null,
   "metadata": {},
   "outputs": [],
   "source": []
  },
  {
   "cell_type": "code",
   "execution_count": null,
   "metadata": {
    "collapsed": true
   },
   "outputs": [],
   "source": []
  }
 ],
 "metadata": {
  "kernelspec": {
   "display_name": "Python 3",
   "language": "python",
   "name": "python3"
  },
  "language_info": {
   "codemirror_mode": {
    "name": "ipython",
    "version": 3
   },
   "file_extension": ".py",
   "mimetype": "text/x-python",
   "name": "python",
   "nbconvert_exporter": "python",
   "pygments_lexer": "ipython3",
   "version": "3.6.2"
  },
  "toc": {
   "nav_menu": {},
   "number_sections": true,
   "sideBar": true,
   "skip_h1_title": false,
   "title_cell": "Table of Contents",
   "title_sidebar": "Contents",
   "toc_cell": false,
   "toc_position": {},
   "toc_section_display": true,
   "toc_window_display": false
  }
 },
 "nbformat": 4,
 "nbformat_minor": 2
}
