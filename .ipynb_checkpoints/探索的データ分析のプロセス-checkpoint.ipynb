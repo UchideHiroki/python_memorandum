{
 "cells": [
  {
   "cell_type": "markdown",
   "metadata": {},
   "source": [
    "# 探索的データ分析とは"
   ]
  },
  {
   "cell_type": "markdown",
   "metadata": {},
   "source": [
    "データ分析のアプローチは仮説をデータで検証する「仮説検証型」とデータから仮説を生み出す「探索型」の2つがある。  \n",
    "二つを行き来しつつ知見を見出していく。  \n",
    "\n",
    "\n",
    "データ解析には検証すべき仮説（目的）を設定することが必要だが、仮説を持てない場合も多いので、まず仮説を作る為にデータ解析をする必要がある。  \n",
    "そこで探索的データ分析を行う。"
   ]
  },
  {
   "cell_type": "markdown",
   "metadata": {},
   "source": [
    "# 探索的データ解析の基礎概念"
   ]
  },
  {
   "cell_type": "markdown",
   "metadata": {},
   "source": [
    "探索的データ解析を行うにあたって意識する3つの概念がある。\n",
    "\n",
    "**可視化**  \n",
    "データの性質や傾向が不明であるという前提に立ち、可視化に重点を置く  \n",
    "よく使う手法はヒストグラム(比較対象が少ない場合)、箱ひげ図(比較対象が多い場合)、散布図など  \n",
    "\n",
    "**再表現**  \n",
    "データに何らかの変換や計算を用いて理解しやすくしたり、違った側面から見られるようにする  \n",
    "データや目的によっては不適切な手法適用もあるので注意が必要\n",
    "\n",
    "**抵抗性**  \n",
    "統計量などが外れ値に影響されにくい性質  \n",
    "データが想定している性質に沿わない時にどれくらい影響されにくいかという**頑健性**も大事"
   ]
  },
  {
   "cell_type": "markdown",
   "metadata": {},
   "source": [
    "# 探索的データ解析の基本的な取り組み方"
   ]
  },
  {
   "cell_type": "markdown",
   "metadata": {},
   "source": [
    "上記基礎概念を元に、次の6つのアプローチを行う。  \n",
    "\n",
    "1. **データの分布を見る**  \n",
    "分布を把握することで、正しい現状認識が可能になり、曖昧な認識を補強したり想定とのズレを修正することが出来る  \n",
    "複数の図を比較することもある  \n",
    "得られた知見の原因を考えることで仮説を立てていく  \n",
    "よく使う手法はヒストグラムや箱ひげ図  \n",
    "\n",
    "2. **データとの関係性を見る**  \n",
    "変数間の関係を把握することで、目的変数にどの変数がどの程度影響を及ぼしているのかを知ることが出来る  \n",
    "想定する変数が影響を与えているか、他の変数が影響していないか、また変数同士の優先順位を確認する  \n",
    "よく使う手法は散布図や相関分析  \n",
    "\n",
    "3. **データを縮約する**  \n",
    "**データ縮約**という  \n",
    "データの平均や合計を出すことで特徴や傾向を一目で読み取れるようにする  \n",
    "\n",
    "4. **データを層別にする**  \n",
    "**スライシング**という  \n",
    "データを様々な軸の水準で区切り、層別にすることで、意味付けした各層ごとにデータの特徴を把握することが出来る  \n",
    "ヒストグラムが一つの変数の把握に用いるのに対し、スライシングは一つの変数を軸に他の変数がどうなるかを把握する  \n",
    "\n",
    "5. **データを詳細化する**  \n",
    "**ドリルダウン**という  \n",
    "データを様々な軸で詳細化することで、全体と部分との比較をすることができる  \n",
    "\n",
    "6. **データを時系列で見る**  \n",
    "データを時系列で並べてその変化を見ることで、時系列の変化を把握する  \n",
    "よく使う手法は折れ線グラフ  "
   ]
  },
  {
   "cell_type": "markdown",
   "metadata": {},
   "source": [
    "# 可視化手法"
   ]
  },
  {
   "cell_type": "markdown",
   "metadata": {},
   "source": [
    "データを可視化する様々な方法と用途をまとめる。"
   ]
  },
  {
   "cell_type": "code",
   "execution_count": 14,
   "metadata": {
    "collapsed": true
   },
   "outputs": [],
   "source": [
    "import pandas as pd\n",
    "import numpy as np\n",
    "from sklearn import datasets\n",
    "import matplotlib.pyplot as plt\n",
    "import seaborn as sns\n",
    "from IPython.core.display import display\n",
    "\n",
    "sns.set_context('talk')\n",
    "pd.set_option('display.max_colwidth', 0)\n",
    "sns.set_style('darkgrid')\n",
    "plt.rcParams['font.family'] = 'IPAPGothic'\n",
    "plt.rcParams['font.size'] = 18\n",
    "\n",
    "%matplotlib inline"
   ]
  },
  {
   "cell_type": "code",
   "execution_count": 15,
   "metadata": {},
   "outputs": [],
   "source": [
    "# 今回使うサンプルデータ\n",
    "iris=sns.load_dataset(\"iris\")"
   ]
  },
  {
   "cell_type": "code",
   "execution_count": 17,
   "metadata": {},
   "outputs": [
    {
     "data": {
      "text/html": [
       "<div>\n",
       "<style>\n",
       "    .dataframe thead tr:only-child th {\n",
       "        text-align: right;\n",
       "    }\n",
       "\n",
       "    .dataframe thead th {\n",
       "        text-align: left;\n",
       "    }\n",
       "\n",
       "    .dataframe tbody tr th {\n",
       "        vertical-align: top;\n",
       "    }\n",
       "</style>\n",
       "<table border=\"1\" class=\"dataframe\">\n",
       "  <thead>\n",
       "    <tr style=\"text-align: right;\">\n",
       "      <th></th>\n",
       "      <th>sepal_length</th>\n",
       "      <th>sepal_width</th>\n",
       "      <th>petal_length</th>\n",
       "      <th>petal_width</th>\n",
       "      <th>species</th>\n",
       "    </tr>\n",
       "  </thead>\n",
       "  <tbody>\n",
       "    <tr>\n",
       "      <th>0</th>\n",
       "      <td>5.1</td>\n",
       "      <td>3.5</td>\n",
       "      <td>1.4</td>\n",
       "      <td>0.2</td>\n",
       "      <td>setosa</td>\n",
       "    </tr>\n",
       "    <tr>\n",
       "      <th>1</th>\n",
       "      <td>4.9</td>\n",
       "      <td>3.0</td>\n",
       "      <td>1.4</td>\n",
       "      <td>0.2</td>\n",
       "      <td>setosa</td>\n",
       "    </tr>\n",
       "    <tr>\n",
       "      <th>2</th>\n",
       "      <td>4.7</td>\n",
       "      <td>3.2</td>\n",
       "      <td>1.3</td>\n",
       "      <td>0.2</td>\n",
       "      <td>setosa</td>\n",
       "    </tr>\n",
       "    <tr>\n",
       "      <th>3</th>\n",
       "      <td>4.6</td>\n",
       "      <td>3.1</td>\n",
       "      <td>1.5</td>\n",
       "      <td>0.2</td>\n",
       "      <td>setosa</td>\n",
       "    </tr>\n",
       "    <tr>\n",
       "      <th>4</th>\n",
       "      <td>5.0</td>\n",
       "      <td>3.6</td>\n",
       "      <td>1.4</td>\n",
       "      <td>0.2</td>\n",
       "      <td>setosa</td>\n",
       "    </tr>\n",
       "  </tbody>\n",
       "</table>\n",
       "</div>"
      ],
      "text/plain": [
       "   sepal_length  sepal_width  petal_length  petal_width species\n",
       "0  5.1           3.5          1.4           0.2          setosa\n",
       "1  4.9           3.0          1.4           0.2          setosa\n",
       "2  4.7           3.2          1.3           0.2          setosa\n",
       "3  4.6           3.1          1.5           0.2          setosa\n",
       "4  5.0           3.6          1.4           0.2          setosa"
      ]
     },
     "metadata": {},
     "output_type": "display_data"
    }
   ],
   "source": [
    "display(iris.head())"
   ]
  },
  {
   "cell_type": "markdown",
   "metadata": {},
   "source": [
    "## 大きさの比を見る: 棒グラフ"
   ]
  },
  {
   "cell_type": "markdown",
   "metadata": {},
   "source": [
    "各項目の大きさを比べるのに使う。  \n",
    "比の関係を知りたいので、縦軸の値の一部を省略してはいけない。  "
   ]
  },
  {
   "cell_type": "code",
   "execution_count": 24,
   "metadata": {},
   "outputs": [
    {
     "data": {
      "text/html": [
       "<div>\n",
       "<style>\n",
       "    .dataframe thead tr:only-child th {\n",
       "        text-align: right;\n",
       "    }\n",
       "\n",
       "    .dataframe thead th {\n",
       "        text-align: left;\n",
       "    }\n",
       "\n",
       "    .dataframe tbody tr th {\n",
       "        vertical-align: top;\n",
       "    }\n",
       "</style>\n",
       "<table border=\"1\" class=\"dataframe\">\n",
       "  <thead>\n",
       "    <tr style=\"text-align: right;\">\n",
       "      <th></th>\n",
       "      <th>species</th>\n",
       "      <th>sepal_length</th>\n",
       "    </tr>\n",
       "  </thead>\n",
       "  <tbody>\n",
       "    <tr>\n",
       "      <th>0</th>\n",
       "      <td>setosa</td>\n",
       "      <td>5.006</td>\n",
       "    </tr>\n",
       "    <tr>\n",
       "      <th>1</th>\n",
       "      <td>versicolor</td>\n",
       "      <td>5.936</td>\n",
       "    </tr>\n",
       "    <tr>\n",
       "      <th>2</th>\n",
       "      <td>virginica</td>\n",
       "      <td>6.588</td>\n",
       "    </tr>\n",
       "  </tbody>\n",
       "</table>\n",
       "</div>"
      ],
      "text/plain": [
       "      species  sepal_length\n",
       "0  setosa      5.006       \n",
       "1  versicolor  5.936       \n",
       "2  virginica   6.588       "
      ]
     },
     "execution_count": 24,
     "metadata": {},
     "output_type": "execute_result"
    }
   ],
   "source": [
    "data = iris.groupby(by=[\"species\"], as_index=False)[[\"species\", \"sepal_length\"]].mean()\n",
    "data"
   ]
  },
  {
   "cell_type": "code",
   "execution_count": 35,
   "metadata": {},
   "outputs": [
    {
     "data": {
      "text/plain": [
       "<Container object of 3 artists>"
      ]
     },
     "execution_count": 35,
     "metadata": {},
     "output_type": "execute_result"
    },
    {
     "data": {
      "image/png": "[encoded data removed]",
      "text/plain": [
       "<matplotlib.figure.Figure at 0x11329a780>"
      ]
     },
     "metadata": {},
     "output_type": "display_data"
    }
   ],
   "source": [
    "data = iris.groupby(by=[\"species\"], as_index=False)[[\"species\", \"sepal_length\"]].mean()\n",
    "\n",
    "fig = plt.figure(figsize=(12, 8))\n",
    "ax = fig.add_subplot(111)\n",
    "ax.bar(x=data.species, height=data.sepal_length)"
   ]
  },
  {
   "cell_type": "markdown",
   "metadata": {},
   "source": [
    "## 分布を見る: ヒストグラム/箱ひげ図"
   ]
  },
  {
   "cell_type": "markdown",
   "metadata": {},
   "source": [
    "データの特徴を把握するのに使う。  \n",
    "例えば、データにどの程度バラツキがあるのか、どの範囲にデータが集まっているのか、ある範囲のデータの個数はどの程度か、などが挙げられる。  \n",
    "ヒストグラムは比較対象が少ない場合、箱ひげ図は比較対象が多い場合に用いる。  \n",
    "ヒストグラムが多峰な場合、クラスタリングの必要があることがわかる。  "
   ]
  },
  {
   "cell_type": "code",
   "execution_count": 64,
   "metadata": {},
   "outputs": [
    {
     "data": {
      "text/plain": [
       "(array([  0.,   5.,  11.,  25.,  11.,  21.,  10.,  16.,  21.,  13.,   6.,\n",
       "          5.,   5.,   1.]),\n",
       " array([ 4.        ,  4.28571429,  4.57142857,  4.85714286,  5.14285714,\n",
       "         5.42857143,  5.71428571,  6.        ,  6.28571429,  6.57142857,\n",
       "         6.85714286,  7.14285714,  7.42857143,  7.71428571,  8.        ]),\n",
       " <a list of 14 Patch objects>)"
      ]
     },
     "execution_count": 64,
     "metadata": {},
     "output_type": "execute_result"
    },
    {
     "data": {
      "image/png": "[encoded data removed]",
      "text/plain": [
       "<matplotlib.figure.Figure at 0x1a1bc92d30>"
      ]
     },
     "metadata": {},
     "output_type": "display_data"
    }
   ],
   "source": [
    "fig = plt.figure(figsize=(12, 8))\n",
    "ax = fig.add_subplot(111)\n",
    "ax.hist(x=iris[\"sepal_length\"], bins=14, range=(4, 8))"
   ]
  },
  {
   "cell_type": "markdown",
   "metadata": {},
   "source": [
    "分布が多峰になっているので、class毎に分割してみる"
   ]
  },
  {
   "cell_type": "code",
   "execution_count": null,
   "metadata": {
    "collapsed": true
   },
   "outputs": [],
   "source": [
    "# 行→列はpd.pivot\n",
    "# pivotするデータの準備。Species (列にする値) と variable (行にする値) の組がユニークでないとダメ。\n",
    "unpivot = melted.groupby(['Species', 'variable']).sum()\n",
    "unpivot = unpivot.reset_index()\n",
    "unpivot.pivot(index='variable', columns='Species', values='value')"
   ]
  },
  {
   "cell_type": "code",
   "execution_count": 78,
   "metadata": {},
   "outputs": [
    {
     "data": {
      "text/plain": [
       "setosa        50\n",
       "versicolor    50\n",
       "virginica     50\n",
       "Name: species, dtype: int64"
      ]
     },
     "execution_count": 78,
     "metadata": {},
     "output_type": "execute_result"
    }
   ],
   "source": [
    "iris.species.value_counts()"
   ]
  },
  {
   "cell_type": "code",
   "execution_count": 84,
   "metadata": {},
   "outputs": [
    {
     "data": {
      "text/html": [
       "<div>\n",
       "<style>\n",
       "    .dataframe thead tr:only-child th {\n",
       "        text-align: right;\n",
       "    }\n",
       "\n",
       "    .dataframe thead th {\n",
       "        text-align: left;\n",
       "    }\n",
       "\n",
       "    .dataframe tbody tr th {\n",
       "        vertical-align: top;\n",
       "    }\n",
       "</style>\n",
       "<table border=\"1\" class=\"dataframe\">\n",
       "  <thead>\n",
       "    <tr style=\"text-align: right;\">\n",
       "      <th></th>\n",
       "      <th>sepal_length</th>\n",
       "      <th>sepal_length</th>\n",
       "      <th>sepal_length</th>\n",
       "    </tr>\n",
       "  </thead>\n",
       "  <tbody>\n",
       "    <tr>\n",
       "      <th>0</th>\n",
       "      <td>5.1</td>\n",
       "      <td>7.0</td>\n",
       "      <td>6.3</td>\n",
       "    </tr>\n",
       "    <tr>\n",
       "      <th>1</th>\n",
       "      <td>4.9</td>\n",
       "      <td>6.4</td>\n",
       "      <td>5.8</td>\n",
       "    </tr>\n",
       "    <tr>\n",
       "      <th>2</th>\n",
       "      <td>4.7</td>\n",
       "      <td>6.9</td>\n",
       "      <td>7.1</td>\n",
       "    </tr>\n",
       "    <tr>\n",
       "      <th>3</th>\n",
       "      <td>4.6</td>\n",
       "      <td>5.5</td>\n",
       "      <td>6.3</td>\n",
       "    </tr>\n",
       "    <tr>\n",
       "      <th>4</th>\n",
       "      <td>5.0</td>\n",
       "      <td>6.5</td>\n",
       "      <td>6.5</td>\n",
       "    </tr>\n",
       "    <tr>\n",
       "      <th>5</th>\n",
       "      <td>5.4</td>\n",
       "      <td>5.7</td>\n",
       "      <td>7.6</td>\n",
       "    </tr>\n",
       "    <tr>\n",
       "      <th>6</th>\n",
       "      <td>4.6</td>\n",
       "      <td>6.3</td>\n",
       "      <td>4.9</td>\n",
       "    </tr>\n",
       "    <tr>\n",
       "      <th>7</th>\n",
       "      <td>5.0</td>\n",
       "      <td>4.9</td>\n",
       "      <td>7.3</td>\n",
       "    </tr>\n",
       "    <tr>\n",
       "      <th>8</th>\n",
       "      <td>4.4</td>\n",
       "      <td>6.6</td>\n",
       "      <td>6.7</td>\n",
       "    </tr>\n",
       "    <tr>\n",
       "      <th>9</th>\n",
       "      <td>4.9</td>\n",
       "      <td>5.2</td>\n",
       "      <td>7.2</td>\n",
       "    </tr>\n",
       "    <tr>\n",
       "      <th>10</th>\n",
       "      <td>5.4</td>\n",
       "      <td>5.0</td>\n",
       "      <td>6.5</td>\n",
       "    </tr>\n",
       "    <tr>\n",
       "      <th>11</th>\n",
       "      <td>4.8</td>\n",
       "      <td>5.9</td>\n",
       "      <td>6.4</td>\n",
       "    </tr>\n",
       "    <tr>\n",
       "      <th>12</th>\n",
       "      <td>4.8</td>\n",
       "      <td>6.0</td>\n",
       "      <td>6.8</td>\n",
       "    </tr>\n",
       "    <tr>\n",
       "      <th>13</th>\n",
       "      <td>4.3</td>\n",
       "      <td>6.1</td>\n",
       "      <td>5.7</td>\n",
       "    </tr>\n",
       "    <tr>\n",
       "      <th>14</th>\n",
       "      <td>5.8</td>\n",
       "      <td>5.6</td>\n",
       "      <td>5.8</td>\n",
       "    </tr>\n",
       "    <tr>\n",
       "      <th>15</th>\n",
       "      <td>5.7</td>\n",
       "      <td>6.7</td>\n",
       "      <td>6.4</td>\n",
       "    </tr>\n",
       "    <tr>\n",
       "      <th>16</th>\n",
       "      <td>5.4</td>\n",
       "      <td>5.6</td>\n",
       "      <td>6.5</td>\n",
       "    </tr>\n",
       "    <tr>\n",
       "      <th>17</th>\n",
       "      <td>5.1</td>\n",
       "      <td>5.8</td>\n",
       "      <td>7.7</td>\n",
       "    </tr>\n",
       "    <tr>\n",
       "      <th>18</th>\n",
       "      <td>5.7</td>\n",
       "      <td>6.2</td>\n",
       "      <td>7.7</td>\n",
       "    </tr>\n",
       "    <tr>\n",
       "      <th>19</th>\n",
       "      <td>5.1</td>\n",
       "      <td>5.6</td>\n",
       "      <td>6.0</td>\n",
       "    </tr>\n",
       "    <tr>\n",
       "      <th>20</th>\n",
       "      <td>5.4</td>\n",
       "      <td>5.9</td>\n",
       "      <td>6.9</td>\n",
       "    </tr>\n",
       "    <tr>\n",
       "      <th>21</th>\n",
       "      <td>5.1</td>\n",
       "      <td>6.1</td>\n",
       "      <td>5.6</td>\n",
       "    </tr>\n",
       "    <tr>\n",
       "      <th>22</th>\n",
       "      <td>4.6</td>\n",
       "      <td>6.3</td>\n",
       "      <td>7.7</td>\n",
       "    </tr>\n",
       "    <tr>\n",
       "      <th>23</th>\n",
       "      <td>5.1</td>\n",
       "      <td>6.1</td>\n",
       "      <td>6.3</td>\n",
       "    </tr>\n",
       "    <tr>\n",
       "      <th>24</th>\n",
       "      <td>4.8</td>\n",
       "      <td>6.4</td>\n",
       "      <td>6.7</td>\n",
       "    </tr>\n",
       "    <tr>\n",
       "      <th>25</th>\n",
       "      <td>5.0</td>\n",
       "      <td>6.6</td>\n",
       "      <td>7.2</td>\n",
       "    </tr>\n",
       "    <tr>\n",
       "      <th>26</th>\n",
       "      <td>5.0</td>\n",
       "      <td>6.8</td>\n",
       "      <td>6.2</td>\n",
       "    </tr>\n",
       "    <tr>\n",
       "      <th>27</th>\n",
       "      <td>5.2</td>\n",
       "      <td>6.7</td>\n",
       "      <td>6.1</td>\n",
       "    </tr>\n",
       "    <tr>\n",
       "      <th>28</th>\n",
       "      <td>5.2</td>\n",
       "      <td>6.0</td>\n",
       "      <td>6.4</td>\n",
       "    </tr>\n",
       "    <tr>\n",
       "      <th>29</th>\n",
       "      <td>4.7</td>\n",
       "      <td>5.7</td>\n",
       "      <td>7.2</td>\n",
       "    </tr>\n",
       "    <tr>\n",
       "      <th>30</th>\n",
       "      <td>4.8</td>\n",
       "      <td>5.5</td>\n",
       "      <td>7.4</td>\n",
       "    </tr>\n",
       "    <tr>\n",
       "      <th>31</th>\n",
       "      <td>5.4</td>\n",
       "      <td>5.5</td>\n",
       "      <td>7.9</td>\n",
       "    </tr>\n",
       "    <tr>\n",
       "      <th>32</th>\n",
       "      <td>5.2</td>\n",
       "      <td>5.8</td>\n",
       "      <td>6.4</td>\n",
       "    </tr>\n",
       "    <tr>\n",
       "      <th>33</th>\n",
       "      <td>5.5</td>\n",
       "      <td>6.0</td>\n",
       "      <td>6.3</td>\n",
       "    </tr>\n",
       "    <tr>\n",
       "      <th>34</th>\n",
       "      <td>4.9</td>\n",
       "      <td>5.4</td>\n",
       "      <td>6.1</td>\n",
       "    </tr>\n",
       "    <tr>\n",
       "      <th>35</th>\n",
       "      <td>5.0</td>\n",
       "      <td>6.0</td>\n",
       "      <td>7.7</td>\n",
       "    </tr>\n",
       "    <tr>\n",
       "      <th>36</th>\n",
       "      <td>5.5</td>\n",
       "      <td>6.7</td>\n",
       "      <td>6.3</td>\n",
       "    </tr>\n",
       "    <tr>\n",
       "      <th>37</th>\n",
       "      <td>4.9</td>\n",
       "      <td>6.3</td>\n",
       "      <td>6.4</td>\n",
       "    </tr>\n",
       "    <tr>\n",
       "      <th>38</th>\n",
       "      <td>4.4</td>\n",
       "      <td>5.6</td>\n",
       "      <td>6.0</td>\n",
       "    </tr>\n",
       "    <tr>\n",
       "      <th>39</th>\n",
       "      <td>5.1</td>\n",
       "      <td>5.5</td>\n",
       "      <td>6.9</td>\n",
       "    </tr>\n",
       "    <tr>\n",
       "      <th>40</th>\n",
       "      <td>5.0</td>\n",
       "      <td>5.5</td>\n",
       "      <td>6.7</td>\n",
       "    </tr>\n",
       "    <tr>\n",
       "      <th>41</th>\n",
       "      <td>4.5</td>\n",
       "      <td>6.1</td>\n",
       "      <td>6.9</td>\n",
       "    </tr>\n",
       "    <tr>\n",
       "      <th>42</th>\n",
       "      <td>4.4</td>\n",
       "      <td>5.8</td>\n",
       "      <td>5.8</td>\n",
       "    </tr>\n",
       "    <tr>\n",
       "      <th>43</th>\n",
       "      <td>5.0</td>\n",
       "      <td>5.0</td>\n",
       "      <td>6.8</td>\n",
       "    </tr>\n",
       "    <tr>\n",
       "      <th>44</th>\n",
       "      <td>5.1</td>\n",
       "      <td>5.6</td>\n",
       "      <td>6.7</td>\n",
       "    </tr>\n",
       "    <tr>\n",
       "      <th>45</th>\n",
       "      <td>4.8</td>\n",
       "      <td>5.7</td>\n",
       "      <td>6.7</td>\n",
       "    </tr>\n",
       "    <tr>\n",
       "      <th>46</th>\n",
       "      <td>5.1</td>\n",
       "      <td>5.7</td>\n",
       "      <td>6.3</td>\n",
       "    </tr>\n",
       "    <tr>\n",
       "      <th>47</th>\n",
       "      <td>4.6</td>\n",
       "      <td>6.2</td>\n",
       "      <td>6.5</td>\n",
       "    </tr>\n",
       "    <tr>\n",
       "      <th>48</th>\n",
       "      <td>5.3</td>\n",
       "      <td>5.1</td>\n",
       "      <td>6.2</td>\n",
       "    </tr>\n",
       "    <tr>\n",
       "      <th>49</th>\n",
       "      <td>5.0</td>\n",
       "      <td>5.7</td>\n",
       "      <td>5.9</td>\n",
       "    </tr>\n",
       "  </tbody>\n",
       "</table>\n",
       "</div>"
      ],
      "text/plain": [
       "    sepal_length  sepal_length  sepal_length\n",
       "0   5.1           7.0           6.3         \n",
       "1   4.9           6.4           5.8         \n",
       "2   4.7           6.9           7.1         \n",
       "3   4.6           5.5           6.3         \n",
       "4   5.0           6.5           6.5         \n",
       "5   5.4           5.7           7.6         \n",
       "6   4.6           6.3           4.9         \n",
       "7   5.0           4.9           7.3         \n",
       "8   4.4           6.6           6.7         \n",
       "9   4.9           5.2           7.2         \n",
       "10  5.4           5.0           6.5         \n",
       "11  4.8           5.9           6.4         \n",
       "12  4.8           6.0           6.8         \n",
       "13  4.3           6.1           5.7         \n",
       "14  5.8           5.6           5.8         \n",
       "15  5.7           6.7           6.4         \n",
       "16  5.4           5.6           6.5         \n",
       "17  5.1           5.8           7.7         \n",
       "18  5.7           6.2           7.7         \n",
       "19  5.1           5.6           6.0         \n",
       "20  5.4           5.9           6.9         \n",
       "21  5.1           6.1           5.6         \n",
       "22  4.6           6.3           7.7         \n",
       "23  5.1           6.1           6.3         \n",
       "24  4.8           6.4           6.7         \n",
       "25  5.0           6.6           7.2         \n",
       "26  5.0           6.8           6.2         \n",
       "27  5.2           6.7           6.1         \n",
       "28  5.2           6.0           6.4         \n",
       "29  4.7           5.7           7.2         \n",
       "30  4.8           5.5           7.4         \n",
       "31  5.4           5.5           7.9         \n",
       "32  5.2           5.8           6.4         \n",
       "33  5.5           6.0           6.3         \n",
       "34  4.9           5.4           6.1         \n",
       "35  5.0           6.0           7.7         \n",
       "36  5.5           6.7           6.3         \n",
       "37  4.9           6.3           6.4         \n",
       "38  4.4           5.6           6.0         \n",
       "39  5.1           5.5           6.9         \n",
       "40  5.0           5.5           6.7         \n",
       "41  4.5           6.1           6.9         \n",
       "42  4.4           5.8           5.8         \n",
       "43  5.0           5.0           6.8         \n",
       "44  5.1           5.6           6.7         \n",
       "45  4.8           5.7           6.7         \n",
       "46  5.1           5.7           6.3         \n",
       "47  4.6           6.2           6.5         \n",
       "48  5.3           5.1           6.2         \n",
       "49  5.0           5.7           5.9         "
      ]
     },
     "execution_count": 84,
     "metadata": {},
     "output_type": "execute_result"
    }
   ],
   "source": [
    "data"
   ]
  },
  {
   "cell_type": "code",
   "execution_count": 89,
   "metadata": {
    "collapsed": true
   },
   "outputs": [],
   "source": [
    "x = np.random.normal(1, 2, 5000)\n",
    "y = np.random.normal(-1, 3, 5000)\n",
    "data = np.vstack([x, y]).T"
   ]
  },
  {
   "cell_type": "code",
   "execution_count": 90,
   "metadata": {},
   "outputs": [
    {
     "data": {
      "text/plain": [
       "array([[ 4.11974662, -0.4165884 ],\n",
       "       [ 1.75395264, -2.81814419],\n",
       "       [-0.54138757, -3.63851911],\n",
       "       ..., \n",
       "       [ 4.40970836, -0.31292246],\n",
       "       [-0.30796504, -6.04058976],\n",
       "       [ 0.96888766, -6.15603656]])"
      ]
     },
     "execution_count": 90,
     "metadata": {},
     "output_type": "execute_result"
    }
   ],
   "source": [
    "data"
   ]
  },
  {
   "cell_type": "code",
   "execution_count": 92,
   "metadata": {},
   "outputs": [
    {
     "data": {
      "text/plain": [
       "[array([ 0.69521348,  1.46769746,  0.34799288, ...,  0.35962508,\n",
       "        -1.61756127, -2.91708022]),\n",
       " array([-0.62157512,  2.1892364 ,  0.5055775 , ...,  2.16108142,\n",
       "        -0.86854659, -0.45993982]),\n",
       " array([ 0.9479768 , -0.79379083, -2.19773727, ...,  0.30333569,\n",
       "         0.79200912, -0.72832992])]"
      ]
     },
     "execution_count": 92,
     "metadata": {},
     "output_type": "execute_result"
    }
   ],
   "source": [
    "# Make a multiple-histogram of data-sets with different length.\n",
    "x_multi = [np.random.randn(n) for n in [10000, 5000, 2000]]\n",
    "x_multi"
   ]
  },
  {
   "cell_type": "code",
   "execution_count": 93,
   "metadata": {
    "collapsed": true
   },
   "outputs": [],
   "source": [
    "tmp = np.array(iris.loc[iris[\"species\"]==\"setosa\", \"sepal_length\"])"
   ]
  },
  {
   "cell_type": "code",
   "execution_count": 96,
   "metadata": {},
   "outputs": [],
   "source": [
    "tmp2 = np.array(iris.loc[iris[\"species\"]==\"versicolor\", \"sepal_length\"])"
   ]
  },
  {
   "cell_type": "code",
   "execution_count": 98,
   "metadata": {},
   "outputs": [],
   "source": [
    "tmp3 = [tmp, tmp2]"
   ]
  },
  {
   "cell_type": "code",
   "execution_count": 104,
   "metadata": {},
   "outputs": [
    {
     "data": {
      "text/plain": [
       "<matplotlib.legend.Legend at 0x1a1aff9b00>"
      ]
     },
     "execution_count": 104,
     "metadata": {},
     "output_type": "execute_result"
    },
    {
     "data": {
      "image/png": "[encoded data removed]",
      "text/plain": [
       "<matplotlib.figure.Figure at 0x1130e8b70>"
      ]
     },
     "metadata": {},
     "output_type": "display_data"
    }
   ],
   "source": [
    "data = [np.array(iris.loc[iris[\"species\"]==\"setosa\", \"sepal_length\"]),\n",
    "        np.array(iris.loc[iris[\"species\"]==\"versicolor\", \"sepal_length\"]),\n",
    "        np.array(iris.loc[iris[\"species\"]==\"virginica\", \"sepal_length\"])]\n",
    "\n",
    "fig = plt.figure(figsize=(12, 8))\n",
    "ax = fig.add_subplot(111)\n",
    "ax.hist(x=data, color=[\"red\", \"blue\", \"green\"], bins=10, label=[\"setosa\", \"versicolor\", \"virginica\"], range=(4, 8))\n",
    "ax.legend(prop={'size': 20})"
   ]
  },
  {
   "cell_type": "code",
   "execution_count": 62,
   "metadata": {},
   "outputs": [
    {
     "data": {
      "text/plain": [
       "(array([  0.,   0.,   1.,   0.,   6.,  12.,  16.,   4.,   5.,   6.]),\n",
       " array([ 4. ,  4.4,  4.8,  5.2,  5.6,  6. ,  6.4,  6.8,  7.2,  7.6,  8. ]),\n",
       " <a list of 10 Patch objects>)"
      ]
     },
     "execution_count": 62,
     "metadata": {},
     "output_type": "execute_result"
    },
    {
     "data": {
      "image/png": "[encoded data removed]",
      "text/plain": [
       "<matplotlib.figure.Figure at 0x1a1bf25cc0>"
      ]
     },
     "metadata": {},
     "output_type": "display_data"
    }
   ],
   "source": [
    "fig = plt.figure(figsize=(12, 12))\n",
    "\n",
    "ax1 = fig.add_subplot(311)\n",
    "ax2 = fig.add_subplot(312)\n",
    "ax3 = fig.add_subplot(313)\n",
    "\n",
    "ax1.hist(x=iris.loc[iris[\"species\"]==\"setosa\", \"sepal_length\"], range=(4, 8))\n",
    "ax2.hist(x=iris.loc[iris[\"species\"]==\"versicolor\", \"sepal_length\"], range=(4, 8))\n",
    "ax3.hist(x=iris.loc[iris[\"species\"]==\"virginica\", \"sepal_length\"], range=(4, 8))"
   ]
  },
  {
   "cell_type": "markdown",
   "metadata": {},
   "source": [
    "品種のクラスタで分析した方が良い事がわかる。  \n"
   ]
  },
  {
   "cell_type": "markdown",
   "metadata": {},
   "source": [
    "## 量的変数の関係を見る: 散布図"
   ]
  },
  {
   "cell_type": "markdown",
   "metadata": {},
   "source": [
    "二つの量的変数の関係を見るのに使う。  \n",
    "正の相関、負の相関や、その強弱を見る。  "
   ]
  },
  {
   "cell_type": "markdown",
   "metadata": {},
   "source": [
    "## 時系列データを見る: 折れ線グラフ"
   ]
  },
  {
   "cell_type": "markdown",
   "metadata": {},
   "source": [
    "主に時系列変化を見るのに使う。  \n",
    "折れ線の傾きによって増減の有無とその度合いを一覧する。  \n",
    "変化の程度を見ることが目的なので、縦軸の値を省略しても壊れる心配がないため、省略しても構わない。  \n",
    "ただし、折れ線グラフを棒グラフの代わりに使っている場合は省略してはいけない。"
   ]
  },
  {
   "cell_type": "markdown",
   "metadata": {},
   "source": [
    "## 時系列のデータの変化と分布を見る: ロウソク足チャート"
   ]
  },
  {
   "cell_type": "markdown",
   "metadata": {},
   "source": [
    "主に金融業界で使われるグラフ  \n",
    "本来は株価の4本値(始値・高値・安値・終値)を時系列に沿って描画するために使う。  \n",
    "一つ一つのロウソク足を箱ひげと見なせば、時系列に沿って分布を表現することも出来る。  "
   ]
  },
  {
   "cell_type": "markdown",
   "metadata": {},
   "source": [
    "##  割合を見る: 帯グラフ"
   ]
  },
  {
   "cell_type": "markdown",
   "metadata": {},
   "source": [
    "割合を見るために使う。  "
   ]
  },
  {
   "cell_type": "markdown",
   "metadata": {},
   "source": [
    "## 大きさとその内訳を見る: 積み上げ棒グラフ"
   ]
  },
  {
   "cell_type": "markdown",
   "metadata": {},
   "source": [
    "棒グラフと帯グラフを合体させたグラフ。  \n",
    "複数のデータの大きさの比とその内訳を同時に表現するために使う。"
   ]
  },
  {
   "cell_type": "markdown",
   "metadata": {},
   "source": [
    "## 質的変数の関係を見る: クロス集計とヒートマップ"
   ]
  },
  {
   "cell_type": "markdown",
   "metadata": {},
   "source": [
    "一方、あるいは両方に質的変数を含む変数同士の関係を見るときに使う。  \n",
    "ヒートマップはクロス集計のセルが多いときに威力を発揮する。  "
   ]
  },
  {
   "cell_type": "markdown",
   "metadata": {},
   "source": [
    "# 使うべきではない可視化手法"
   ]
  },
  {
   "cell_type": "markdown",
   "metadata": {},
   "source": [
    "## 円グラフ"
   ]
  },
  {
   "cell_type": "markdown",
   "metadata": {},
   "source": [
    "内訳の構成比を円の弧・面積で表すグラフ。  \n",
    "人間は長さと比べ面積の大小を把握しにくい。また各要素が円状に並んでいるため大きさを比較しづらい。  \n",
    "割合を表したいのなら帯グラフや積み上げ棒グラフを使うべき。"
   ]
  },
  {
   "cell_type": "markdown",
   "metadata": {},
   "source": [
    "## 3Dグラフ"
   ]
  },
  {
   "cell_type": "markdown",
   "metadata": {},
   "source": [
    "見た目のインパクトが大きいのでよく使われる。  \n",
    "手前のオブジェクトで奥のオブジェクトが隠れてしまったり、角度によって受ける印象が変わってしまう。  \n",
    "2Dにするべき。"
   ]
  },
  {
   "cell_type": "markdown",
   "metadata": {},
   "source": [
    "## 目盛がないグラフ"
   ]
  },
  {
   "cell_type": "markdown",
   "metadata": {},
   "source": [
    "目盛りの上限・下限・幅などを変えることで印象を変えることが出来てしまう。  \n",
    "スパークラインや一部の折れ線グラフを除けば、目盛は必ず付与するべき。"
   ]
  },
  {
   "cell_type": "markdown",
   "metadata": {},
   "source": []
  }
 ],
 "metadata": {
  "kernelspec": {
   "display_name": "Python 3",
   "language": "python",
   "name": "python3"
  },
  "toc": {
   "nav_menu": {},
   "number_sections": true,
   "sideBar": true,
   "skip_h1_title": false,
   "title_cell": "Table of Contents",
   "title_sidebar": "Contents",
   "toc_cell": false,
   "toc_position": {},
   "toc_section_display": true,
   "toc_window_display": false
  }
 },
 "nbformat": 4,
 "nbformat_minor": 2
}
