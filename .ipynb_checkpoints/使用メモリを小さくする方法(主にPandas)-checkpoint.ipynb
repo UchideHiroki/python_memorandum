{
 "cells": [
  {
   "cell_type": "markdown",
   "metadata": {},
   "source": [
    "# DataFrame構築時にdtypeを指定する"
   ]
  },
  {
   "cell_type": "markdown",
   "metadata": {},
   "source": [
    "dtypeを指定しないと、int64orfloat64で型を持ってしまう。  \n",
    "詳細や代表的な型一覧は[以下](https://qiita.com/nannoki/items/2a8934de31ad2258439d)"
   ]
  },
  {
   "cell_type": "markdown",
   "metadata": {},
   "source": [
    "# カラムを追加したりカラム全体に値を代入したときは後から型変換する"
   ]
  },
  {
   "cell_type": "markdown",
   "metadata": {},
   "source": [
    "DFに後からカラムを追加したり、カラム全体(一部の場合は大丈夫)に値を追加すると、型がint64prfloat64になってしまう  \n",
    "後から最適な型に変換する  \n",
    "詳細は[以下](https://qiita.com/nannoki/items/2a8934de31ad2258439d)"
   ]
  },
  {
   "cell_type": "markdown",
   "metadata": {},
   "source": [
    "# DataFrameの処理の戻り値を他の変数で受ける際は余分な変数を作りすぎない"
   ]
  },
  {
   "cell_type": "markdown",
   "metadata": {},
   "source": [
    "作った変数の数だけメモリは消費される。  \n",
    "元のオブジェクトを上書きするか、`inplace=True`で再帰代入する。  \n",
    "作ったオブジェクトも要らなくなったら`del オブジェクト`で消去する。  \n",
    "更に`gc.collect()`で削除した部分のメモリを強制解放するのも奥の手。  \n",
    "詳細は[以下](https://qiita.com/nannoki/items/2a8934de31ad2258439d)"
   ]
  },
  {
   "cell_type": "markdown",
   "metadata": {},
   "source": [
    "# pd.mergeをする際はcopy=Falseのオプションをつける"
   ]
  },
  {
   "cell_type": "markdown",
   "metadata": {},
   "source": [
    "copy=Trueの場合、データフレームを凸合させる際そのコピーを参照しているっぽい？  \n",
    "詳細は[以下](http://kefism.hatenablog.com/entry/2017/09/24/014327)"
   ]
  },
  {
   "cell_type": "markdown",
   "metadata": {},
   "source": [
    "# 必要な時以外はデータをfloatで保持しない"
   ]
  },
  {
   "cell_type": "markdown",
   "metadata": {},
   "source": [
    "必要なとき以外はデータを保持しないようにする。  \n",
    "例えばバッチ毎にfloatに変換しなければいけないときは一部分ずつfloatにする。  \n",
    "詳細は[以下](http://nonbiri-tereka.hatenablog.com/entry/2016/01/03/230429)"
   ]
  },
  {
   "cell_type": "markdown",
   "metadata": {},
   "source": [
    "[ともにゃん大先生のブログにあったメモリ節約法](http://kefism.hatenablog.com/entry/2017/09/24/014327)"
   ]
  }
 ],
 "metadata": {
  "kernelspec": {
   "display_name": "Python 3",
   "language": "python",
   "name": "python3"
  },
  "language_info": {
   "codemirror_mode": {
    "name": "ipython",
    "version": 3
   },
   "file_extension": ".py",
   "mimetype": "text/x-python",
   "name": "python",
   "nbconvert_exporter": "python",
   "pygments_lexer": "ipython3",
   "version": "3.6.2"
  },
  "toc": {
   "nav_menu": {},
   "number_sections": true,
   "sideBar": true,
   "skip_h1_title": false,
   "toc_cell": false,
   "toc_position": {},
   "toc_section_display": "block",
   "toc_window_display": false
  }
 },
 "nbformat": 4,
 "nbformat_minor": 2
}
