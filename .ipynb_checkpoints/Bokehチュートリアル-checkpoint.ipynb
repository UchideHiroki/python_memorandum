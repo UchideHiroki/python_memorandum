{
 "cells": [
  {
   "cell_type": "markdown",
   "metadata": {},
   "source": [
    "何をやるのか:  \n",
    "URL: https://bokeh.pydata.org/en/latest/docs/user_guide/quickstart.html#userguide-quickstart  \n",
    "これを出来るところまでやる\n",
    "\n",
    "目的:\n",
    "* Bokehを使った対話型作図が出来るようになる\n",
    "* Bokehで何がどこまで出来るのか把握する\n",
    "\n",
    "これが出来ると何が嬉しいか:\n",
    "* お客さんに「こいつ出来る」って思わせられる\n",
    "* パラメーター調整が面倒な作図の手間を削減出来る"
   ]
  },
  {
   "cell_type": "markdown",
   "metadata": {},
   "source": [
    "Bokehは  \n",
    "* Bokeh.models(低レベル、自由度高)\n",
    "* Bokeh.plotting(高レベル、自由度低)  \n",
    "\n",
    "のAPIがある。  \n",
    "今回のチュートリアルは、Bokeh.plottingを用いる。"
   ]
  },
  {
   "cell_type": "markdown",
   "metadata": {},
   "source": [
    "# bokehのインストール\n",
    "```bash\n",
    "pip install bokeh\n",
    "```"
   ]
  },
  {
   "cell_type": "code",
   "execution_count": 7,
   "metadata": {
    "scrolled": true
   },
   "outputs": [
    {
     "data": {
      "text/html": [
       "\n",
       "    <div class=\"bk-root\">\n",
       "        <a href=\"https://bokeh.pydata.org\" target=\"_blank\" class=\"bk-logo bk-logo-small bk-logo-notebook\"></a>\n",
       "        <span id=\"71e18324-c954-4474-9b84-3b3857fbd911\">Loading BokehJS ...</span>\n",
       "    </div>"
      ]
     },
     "metadata": {},
     "output_type": "display_data"
    },
    {
     "data": {
      "application/javascript": [
       "\n",
       "(function(root) {\n",
       "  function now() {\n",
       "    return new Date();\n",
       "  }\n",
       "\n",
       "  var force = true;\n",
       "\n",
       "  if (typeof (root._bokeh_onload_callbacks) === \"undefined\" || force === true) {\n",
       "    root._bokeh_onload_callbacks = [];\n",
       "    root._bokeh_is_loading = undefined;\n",
       "  }\n",
       "\n",
       "  var JS_MIME_TYPE = 'application/javascript';\n",
       "  var HTML_MIME_TYPE = 'text/html';\n",
       "  var EXEC_MIME_TYPE = 'application/vnd.bokehjs_exec.v0+json';\n",
       "  var CLASS_NAME = 'output_bokeh rendered_html';\n",
       "\n",
       "  /**\n",
       "   * Render data to the DOM node\n",
       "   */\n",
       "  function render(props, node) {\n",
       "    var script = document.createElement(\"script\");\n",
       "    node.appendChild(script);\n",
       "  }\n",
       "\n",
       "  /**\n",
       "   * Handle when an output is cleared or removed\n",
       "   */\n",
       "  function handleClearOutput(event, handle) {\n",
       "    var cell = handle.cell;\n",
       "\n",
       "    var id = cell.output_area._bokeh_element_id;\n",
       "    var server_id = cell.output_area._bokeh_server_id;\n",
       "    // Clean up Bokeh references\n",
       "    if (id !== undefined) {\n",
       "      Bokeh.index[id].model.document.clear();\n",
       "      delete Bokeh.index[id];\n",
       "    }\n",
       "\n",
       "    if (server_id !== undefined) {\n",
       "      // Clean up Bokeh references\n",
       "      var cmd = \"from bokeh.io.state import curstate; print(curstate().uuid_to_server['\" + server_id + \"'].get_sessions()[0].document.roots[0]._id)\";\n",
       "      cell.notebook.kernel.execute(cmd, {\n",
       "        iopub: {\n",
       "          output: function(msg) {\n",
       "            var element_id = msg.content.text.trim();\n",
       "            Bokeh.index[element_id].model.document.clear();\n",
       "            delete Bokeh.index[element_id];\n",
       "          }\n",
       "        }\n",
       "      });\n",
       "      // Destroy server and session\n",
       "      var cmd = \"import bokeh.io.notebook as ion; ion.destroy_server('\" + server_id + \"')\";\n",
       "      cell.notebook.kernel.execute(cmd);\n",
       "    }\n",
       "  }\n",
       "\n",
       "  /**\n",
       "   * Handle when a new output is added\n",
       "   */\n",
       "  function handleAddOutput(event, handle) {\n",
       "    var output_area = handle.output_area;\n",
       "    var output = handle.output;\n",
       "\n",
       "    // limit handleAddOutput to display_data with EXEC_MIME_TYPE content only\n",
       "    if ((output.output_type != \"display_data\") || (!output.data.hasOwnProperty(EXEC_MIME_TYPE))) {\n",
       "      return\n",
       "    }\n",
       "\n",
       "    var toinsert = output_area.element.find(\".\" + CLASS_NAME.split(' ')[0]);\n",
       "\n",
       "    if (output.metadata[EXEC_MIME_TYPE][\"id\"] !== undefined) {\n",
       "      toinsert[0].firstChild.textContent = output.data[JS_MIME_TYPE];\n",
       "      // store reference to embed id on output_area\n",
       "      output_area._bokeh_element_id = output.metadata[EXEC_MIME_TYPE][\"id\"];\n",
       "    }\n",
       "    if (output.metadata[EXEC_MIME_TYPE][\"server_id\"] !== undefined) {\n",
       "      var bk_div = document.createElement(\"div\");\n",
       "      bk_div.innerHTML = output.data[HTML_MIME_TYPE];\n",
       "      var script_attrs = bk_div.children[0].attributes;\n",
       "      for (var i = 0; i < script_attrs.length; i++) {\n",
       "        toinsert[0].firstChild.setAttribute(script_attrs[i].name, script_attrs[i].value);\n",
       "      }\n",
       "      // store reference to server id on output_area\n",
       "      output_area._bokeh_server_id = output.metadata[EXEC_MIME_TYPE][\"server_id\"];\n",
       "    }\n",
       "  }\n",
       "\n",
       "  function register_renderer(events, OutputArea) {\n",
       "\n",
       "    function append_mime(data, metadata, element) {\n",
       "      // create a DOM node to render to\n",
       "      var toinsert = this.create_output_subarea(\n",
       "        metadata,\n",
       "        CLASS_NAME,\n",
       "        EXEC_MIME_TYPE\n",
       "      );\n",
       "      this.keyboard_manager.register_events(toinsert);\n",
       "      // Render to node\n",
       "      var props = {data: data, metadata: metadata[EXEC_MIME_TYPE]};\n",
       "      render(props, toinsert[0]);\n",
       "      element.append(toinsert);\n",
       "      return toinsert\n",
       "    }\n",
       "\n",
       "    /* Handle when an output is cleared or removed */\n",
       "    events.on('clear_output.CodeCell', handleClearOutput);\n",
       "    events.on('delete.Cell', handleClearOutput);\n",
       "\n",
       "    /* Handle when a new output is added */\n",
       "    events.on('output_added.OutputArea', handleAddOutput);\n",
       "\n",
       "    /**\n",
       "     * Register the mime type and append_mime function with output_area\n",
       "     */\n",
       "    OutputArea.prototype.register_mime_type(EXEC_MIME_TYPE, append_mime, {\n",
       "      /* Is output safe? */\n",
       "      safe: true,\n",
       "      /* Index of renderer in `output_area.display_order` */\n",
       "      index: 0\n",
       "    });\n",
       "  }\n",
       "\n",
       "  // register the mime type if in Jupyter Notebook environment and previously unregistered\n",
       "  if (root.Jupyter !== undefined) {\n",
       "    var events = require('base/js/events');\n",
       "    var OutputArea = require('notebook/js/outputarea').OutputArea;\n",
       "\n",
       "    if (OutputArea.prototype.mime_types().indexOf(EXEC_MIME_TYPE) == -1) {\n",
       "      register_renderer(events, OutputArea);\n",
       "    }\n",
       "  }\n",
       "\n",
       "  \n",
       "  if (typeof (root._bokeh_timeout) === \"undefined\" || force === true) {\n",
       "    root._bokeh_timeout = Date.now() + 5000;\n",
       "    root._bokeh_failed_load = false;\n",
       "  }\n",
       "\n",
       "  var NB_LOAD_WARNING = {'data': {'text/html':\n",
       "     \"<div style='background-color: #fdd'>\\n\"+\n",
       "     \"<p>\\n\"+\n",
       "     \"BokehJS does not appear to have successfully loaded. If loading BokehJS from CDN, this \\n\"+\n",
       "     \"may be due to a slow or bad network connection. Possible fixes:\\n\"+\n",
       "     \"</p>\\n\"+\n",
       "     \"<ul>\\n\"+\n",
       "     \"<li>re-rerun `output_notebook()` to attempt to load from CDN again, or</li>\\n\"+\n",
       "     \"<li>use INLINE resources instead, as so:</li>\\n\"+\n",
       "     \"</ul>\\n\"+\n",
       "     \"<code>\\n\"+\n",
       "     \"from bokeh.resources import INLINE\\n\"+\n",
       "     \"output_notebook(resources=INLINE)\\n\"+\n",
       "     \"</code>\\n\"+\n",
       "     \"</div>\"}};\n",
       "\n",
       "  function display_loaded() {\n",
       "    var el = document.getElementById(\"71e18324-c954-4474-9b84-3b3857fbd911\");\n",
       "    if (el != null) {\n",
       "      el.textContent = \"BokehJS is loading...\";\n",
       "    }\n",
       "    if (root.Bokeh !== undefined) {\n",
       "      if (el != null) {\n",
       "        el.textContent = \"BokehJS \" + root.Bokeh.version + \" successfully loaded.\";\n",
       "      }\n",
       "    } else if (Date.now() < root._bokeh_timeout) {\n",
       "      setTimeout(display_loaded, 100)\n",
       "    }\n",
       "  }\n",
       "\n",
       "\n",
       "  function run_callbacks() {\n",
       "    try {\n",
       "      root._bokeh_onload_callbacks.forEach(function(callback) { callback() });\n",
       "    }\n",
       "    finally {\n",
       "      delete root._bokeh_onload_callbacks\n",
       "    }\n",
       "    console.info(\"Bokeh: all callbacks have finished\");\n",
       "  }\n",
       "\n",
       "  function load_libs(js_urls, callback) {\n",
       "    root._bokeh_onload_callbacks.push(callback);\n",
       "    if (root._bokeh_is_loading > 0) {\n",
       "      console.log(\"Bokeh: BokehJS is being loaded, scheduling callback at\", now());\n",
       "      return null;\n",
       "    }\n",
       "    if (js_urls == null || js_urls.length === 0) {\n",
       "      run_callbacks();\n",
       "      return null;\n",
       "    }\n",
       "    console.log(\"Bokeh: BokehJS not loaded, scheduling load and callback at\", now());\n",
       "    root._bokeh_is_loading = js_urls.length;\n",
       "    for (var i = 0; i < js_urls.length; i++) {\n",
       "      var url = js_urls[i];\n",
       "      var s = document.createElement('script');\n",
       "      s.src = url;\n",
       "      s.async = false;\n",
       "      s.onreadystatechange = s.onload = function() {\n",
       "        root._bokeh_is_loading--;\n",
       "        if (root._bokeh_is_loading === 0) {\n",
       "          console.log(\"Bokeh: all BokehJS libraries loaded\");\n",
       "          run_callbacks()\n",
       "        }\n",
       "      };\n",
       "      s.onerror = function() {\n",
       "        console.warn(\"failed to load library \" + url);\n",
       "      };\n",
       "      console.log(\"Bokeh: injecting script tag for BokehJS library: \", url);\n",
       "      document.getElementsByTagName(\"head\")[0].appendChild(s);\n",
       "    }\n",
       "  };var element = document.getElementById(\"71e18324-c954-4474-9b84-3b3857fbd911\");\n",
       "  if (element == null) {\n",
       "    console.log(\"Bokeh: ERROR: autoload.js configured with elementid '71e18324-c954-4474-9b84-3b3857fbd911' but no matching script tag was found. \")\n",
       "    return false;\n",
       "  }\n",
       "\n",
       "  var js_urls = [\"https://cdn.pydata.org/bokeh/release/bokeh-0.12.14.min.js\", \"https://cdn.pydata.org/bokeh/release/bokeh-widgets-0.12.14.min.js\", \"https://cdn.pydata.org/bokeh/release/bokeh-tables-0.12.14.min.js\", \"https://cdn.pydata.org/bokeh/release/bokeh-gl-0.12.14.min.js\"];\n",
       "\n",
       "  var inline_js = [\n",
       "    function(Bokeh) {\n",
       "      Bokeh.set_log_level(\"info\");\n",
       "    },\n",
       "    \n",
       "    function(Bokeh) {\n",
       "      \n",
       "    },\n",
       "    function(Bokeh) {\n",
       "      console.log(\"Bokeh: injecting CSS: https://cdn.pydata.org/bokeh/release/bokeh-0.12.14.min.css\");\n",
       "      Bokeh.embed.inject_css(\"https://cdn.pydata.org/bokeh/release/bokeh-0.12.14.min.css\");\n",
       "      console.log(\"Bokeh: injecting CSS: https://cdn.pydata.org/bokeh/release/bokeh-widgets-0.12.14.min.css\");\n",
       "      Bokeh.embed.inject_css(\"https://cdn.pydata.org/bokeh/release/bokeh-widgets-0.12.14.min.css\");\n",
       "      console.log(\"Bokeh: injecting CSS: https://cdn.pydata.org/bokeh/release/bokeh-tables-0.12.14.min.css\");\n",
       "      Bokeh.embed.inject_css(\"https://cdn.pydata.org/bokeh/release/bokeh-tables-0.12.14.min.css\");\n",
       "    }\n",
       "  ];\n",
       "\n",
       "  function run_inline_js() {\n",
       "    \n",
       "    if ((root.Bokeh !== undefined) || (force === true)) {\n",
       "      for (var i = 0; i < inline_js.length; i++) {\n",
       "        inline_js[i].call(root, root.Bokeh);\n",
       "      }if (force === true) {\n",
       "        display_loaded();\n",
       "      }} else if (Date.now() < root._bokeh_timeout) {\n",
       "      setTimeout(run_inline_js, 100);\n",
       "    } else if (!root._bokeh_failed_load) {\n",
       "      console.log(\"Bokeh: BokehJS failed to load within specified timeout.\");\n",
       "      root._bokeh_failed_load = true;\n",
       "    } else if (force !== true) {\n",
       "      var cell = $(document.getElementById(\"71e18324-c954-4474-9b84-3b3857fbd911\")).parents('.cell').data().cell;\n",
       "      cell.output_area.append_execute_result(NB_LOAD_WARNING)\n",
       "    }\n",
       "\n",
       "  }\n",
       "\n",
       "  if (root._bokeh_is_loading === 0) {\n",
       "    console.log(\"Bokeh: BokehJS loaded, going straight to plotting\");\n",
       "    run_inline_js();\n",
       "  } else {\n",
       "    load_libs(js_urls, function() {\n",
       "      console.log(\"Bokeh: BokehJS plotting callback run at\", now());\n",
       "      run_inline_js();\n",
       "    });\n",
       "  }\n",
       "}(window));"
      ],
      "application/vnd.bokehjs_load.v0+json": "\n(function(root) {\n  function now() {\n    return new Date();\n  }\n\n  var force = true;\n\n  if (typeof (root._bokeh_onload_callbacks) === \"undefined\" || force === true) {\n    root._bokeh_onload_callbacks = [];\n    root._bokeh_is_loading = undefined;\n  }\n\n  \n\n  \n  if (typeof (root._bokeh_timeout) === \"undefined\" || force === true) {\n    root._bokeh_timeout = Date.now() + 5000;\n    root._bokeh_failed_load = false;\n  }\n\n  var NB_LOAD_WARNING = {'data': {'text/html':\n     \"<div style='background-color: #fdd'>\\n\"+\n     \"<p>\\n\"+\n     \"BokehJS does not appear to have successfully loaded. If loading BokehJS from CDN, this \\n\"+\n     \"may be due to a slow or bad network connection. Possible fixes:\\n\"+\n     \"</p>\\n\"+\n     \"<ul>\\n\"+\n     \"<li>re-rerun `output_notebook()` to attempt to load from CDN again, or</li>\\n\"+\n     \"<li>use INLINE resources instead, as so:</li>\\n\"+\n     \"</ul>\\n\"+\n     \"<code>\\n\"+\n     \"from bokeh.resources import INLINE\\n\"+\n     \"output_notebook(resources=INLINE)\\n\"+\n     \"</code>\\n\"+\n     \"</div>\"}};\n\n  function display_loaded() {\n    var el = document.getElementById(\"71e18324-c954-4474-9b84-3b3857fbd911\");\n    if (el != null) {\n      el.textContent = \"BokehJS is loading...\";\n    }\n    if (root.Bokeh !== undefined) {\n      if (el != null) {\n        el.textContent = \"BokehJS \" + root.Bokeh.version + \" successfully loaded.\";\n      }\n    } else if (Date.now() < root._bokeh_timeout) {\n      setTimeout(display_loaded, 100)\n    }\n  }\n\n\n  function run_callbacks() {\n    try {\n      root._bokeh_onload_callbacks.forEach(function(callback) { callback() });\n    }\n    finally {\n      delete root._bokeh_onload_callbacks\n    }\n    console.info(\"Bokeh: all callbacks have finished\");\n  }\n\n  function load_libs(js_urls, callback) {\n    root._bokeh_onload_callbacks.push(callback);\n    if (root._bokeh_is_loading > 0) {\n      console.log(\"Bokeh: BokehJS is being loaded, scheduling callback at\", now());\n      return null;\n    }\n    if (js_urls == null || js_urls.length === 0) {\n      run_callbacks();\n      return null;\n    }\n    console.log(\"Bokeh: BokehJS not loaded, scheduling load and callback at\", now());\n    root._bokeh_is_loading = js_urls.length;\n    for (var i = 0; i < js_urls.length; i++) {\n      var url = js_urls[i];\n      var s = document.createElement('script');\n      s.src = url;\n      s.async = false;\n      s.onreadystatechange = s.onload = function() {\n        root._bokeh_is_loading--;\n        if (root._bokeh_is_loading === 0) {\n          console.log(\"Bokeh: all BokehJS libraries loaded\");\n          run_callbacks()\n        }\n      };\n      s.onerror = function() {\n        console.warn(\"failed to load library \" + url);\n      };\n      console.log(\"Bokeh: injecting script tag for BokehJS library: \", url);\n      document.getElementsByTagName(\"head\")[0].appendChild(s);\n    }\n  };var element = document.getElementById(\"71e18324-c954-4474-9b84-3b3857fbd911\");\n  if (element == null) {\n    console.log(\"Bokeh: ERROR: autoload.js configured with elementid '71e18324-c954-4474-9b84-3b3857fbd911' but no matching script tag was found. \")\n    return false;\n  }\n\n  var js_urls = [\"https://cdn.pydata.org/bokeh/release/bokeh-0.12.14.min.js\", \"https://cdn.pydata.org/bokeh/release/bokeh-widgets-0.12.14.min.js\", \"https://cdn.pydata.org/bokeh/release/bokeh-tables-0.12.14.min.js\", \"https://cdn.pydata.org/bokeh/release/bokeh-gl-0.12.14.min.js\"];\n\n  var inline_js = [\n    function(Bokeh) {\n      Bokeh.set_log_level(\"info\");\n    },\n    \n    function(Bokeh) {\n      \n    },\n    function(Bokeh) {\n      console.log(\"Bokeh: injecting CSS: https://cdn.pydata.org/bokeh/release/bokeh-0.12.14.min.css\");\n      Bokeh.embed.inject_css(\"https://cdn.pydata.org/bokeh/release/bokeh-0.12.14.min.css\");\n      console.log(\"Bokeh: injecting CSS: https://cdn.pydata.org/bokeh/release/bokeh-widgets-0.12.14.min.css\");\n      Bokeh.embed.inject_css(\"https://cdn.pydata.org/bokeh/release/bokeh-widgets-0.12.14.min.css\");\n      console.log(\"Bokeh: injecting CSS: https://cdn.pydata.org/bokeh/release/bokeh-tables-0.12.14.min.css\");\n      Bokeh.embed.inject_css(\"https://cdn.pydata.org/bokeh/release/bokeh-tables-0.12.14.min.css\");\n    }\n  ];\n\n  function run_inline_js() {\n    \n    if ((root.Bokeh !== undefined) || (force === true)) {\n      for (var i = 0; i < inline_js.length; i++) {\n        inline_js[i].call(root, root.Bokeh);\n      }if (force === true) {\n        display_loaded();\n      }} else if (Date.now() < root._bokeh_timeout) {\n      setTimeout(run_inline_js, 100);\n    } else if (!root._bokeh_failed_load) {\n      console.log(\"Bokeh: BokehJS failed to load within specified timeout.\");\n      root._bokeh_failed_load = true;\n    } else if (force !== true) {\n      var cell = $(document.getElementById(\"71e18324-c954-4474-9b84-3b3857fbd911\")).parents('.cell').data().cell;\n      cell.output_area.append_execute_result(NB_LOAD_WARNING)\n    }\n\n  }\n\n  if (root._bokeh_is_loading === 0) {\n    console.log(\"Bokeh: BokehJS loaded, going straight to plotting\");\n    run_inline_js();\n  } else {\n    load_libs(js_urls, function() {\n      console.log(\"Bokeh: BokehJS plotting callback run at\", now());\n      run_inline_js();\n    });\n  }\n}(window));"
     },
     "metadata": {},
     "output_type": "display_data"
    }
   ],
   "source": [
    "# アクティベート\n",
    "import bokeh.plotting as bp\n",
    "\n",
    "bp.output_notebook()"
   ]
  },
  {
   "cell_type": "markdown",
   "metadata": {},
   "source": [
    "# とりあえず描画"
   ]
  },
  {
   "cell_type": "code",
   "execution_count": 8,
   "metadata": {
    "scrolled": false
   },
   "outputs": [
    {
     "data": {
      "text/html": [
       "\n",
       "<div class=\"bk-root\">\n",
       "    <div class=\"bk-plotdiv\" id=\"72119d71-c42e-4a32-8de7-e9baadad61f0\"></div>\n",
       "</div>"
      ]
     },
     "metadata": {},
     "output_type": "display_data"
    },
    {
     "data": {
      "application/javascript": [
       "(function(root) {\n",
       "  function embed_document(root) {\n",
       "    \n",
       "  var docs_json = {\"984abcee-d6af-4680-87d1-d4ca0852f94d\":{\"roots\":{\"references\":[{\"attributes\":{},\"id\":\"86df4a56-e005-4ec4-92da-3f0800e92a35\",\"type\":\"LinearScale\"},{\"attributes\":{\"line_alpha\":0.1,\"line_color\":\"#1f77b4\",\"line_width\":2,\"x\":{\"field\":\"x\"},\"y\":{\"field\":\"y\"}},\"id\":\"c918d354-bb92-4d69-8cb6-61c4f48883d8\",\"type\":\"Line\"},{\"attributes\":{},\"id\":\"73268bf7-7f0a-4858-ad5c-40f67e07975b\",\"type\":\"LinearScale\"},{\"attributes\":{\"items\":[{\"id\":\"fe9b1c10-69a3-41b8-abc9-1500c866cf07\",\"type\":\"LegendItem\"}],\"plot\":{\"id\":\"48c9fd55-4877-4f93-8b32-119042a5eae8\",\"subtype\":\"Figure\",\"type\":\"Plot\"}},\"id\":\"df5ee6d3-9e56-4873-806e-6e60bf7e250f\",\"type\":\"Legend\"},{\"attributes\":{},\"id\":\"f4d356b8-5d65-4b32-b837-42e5ae23fcfc\",\"type\":\"BasicTickFormatter\"},{\"attributes\":{\"axis_label\":\"y\",\"formatter\":{\"id\":\"b7dde26a-3bda-4b89-8800-96812b784ca3\",\"type\":\"BasicTickFormatter\"},\"plot\":{\"id\":\"48c9fd55-4877-4f93-8b32-119042a5eae8\",\"subtype\":\"Figure\",\"type\":\"Plot\"},\"ticker\":{\"id\":\"f3a4dbde-6721-4e91-a82f-7f0ee8d7a25a\",\"type\":\"BasicTicker\"}},\"id\":\"b3800e8f-b96e-4424-89c7-a9556d83f4a5\",\"type\":\"LinearAxis\"},{\"attributes\":{},\"id\":\"6633fe6b-7ba9-4b47-a994-ef5ef80722bf\",\"type\":\"BasicTicker\"},{\"attributes\":{\"label\":{\"value\":\"Temp\"},\"renderers\":[{\"id\":\"16cfedd3-07bc-466b-98c0-4f33abce358d\",\"type\":\"GlyphRenderer\"}]},\"id\":\"fe9b1c10-69a3-41b8-abc9-1500c866cf07\",\"type\":\"LegendItem\"},{\"attributes\":{},\"id\":\"f3a4dbde-6721-4e91-a82f-7f0ee8d7a25a\",\"type\":\"BasicTicker\"},{\"attributes\":{\"callback\":null,\"column_names\":[\"x\",\"y\"],\"data\":{\"x\":[1,2,3,4,5],\"y\":[6,7,2,4,5]}},\"id\":\"aee91aaf-62ec-4ff0-8761-5ac3cb6833f6\",\"type\":\"ColumnDataSource\"},{\"attributes\":{\"callback\":null},\"id\":\"f0043ef3-fa24-4d19-86e5-16edb763351c\",\"type\":\"DataRange1d\"},{\"attributes\":{\"dimension\":1,\"plot\":{\"id\":\"48c9fd55-4877-4f93-8b32-119042a5eae8\",\"subtype\":\"Figure\",\"type\":\"Plot\"},\"ticker\":{\"id\":\"f3a4dbde-6721-4e91-a82f-7f0ee8d7a25a\",\"type\":\"BasicTicker\"}},\"id\":\"c18fc875-d601-47d7-b65f-71ded3b99e8e\",\"type\":\"Grid\"},{\"attributes\":{\"data_source\":{\"id\":\"aee91aaf-62ec-4ff0-8761-5ac3cb6833f6\",\"type\":\"ColumnDataSource\"},\"glyph\":{\"id\":\"55dc089c-7cf3-4a2b-939c-88f9f50f735c\",\"type\":\"Line\"},\"hover_glyph\":null,\"muted_glyph\":null,\"nonselection_glyph\":{\"id\":\"c918d354-bb92-4d69-8cb6-61c4f48883d8\",\"type\":\"Line\"},\"selection_glyph\":null,\"view\":{\"id\":\"e84b602f-e930-4a2c-ad1c-026c87227919\",\"type\":\"CDSView\"}},\"id\":\"16cfedd3-07bc-466b-98c0-4f33abce358d\",\"type\":\"GlyphRenderer\"},{\"attributes\":{\"below\":[{\"id\":\"cd104f43-b307-4637-837b-9588bbc39343\",\"type\":\"LinearAxis\"}],\"left\":[{\"id\":\"b3800e8f-b96e-4424-89c7-a9556d83f4a5\",\"type\":\"LinearAxis\"}],\"renderers\":[{\"id\":\"cd104f43-b307-4637-837b-9588bbc39343\",\"type\":\"LinearAxis\"},{\"id\":\"4329f5c5-ab0c-46de-a757-bf684cf91a48\",\"type\":\"Grid\"},{\"id\":\"b3800e8f-b96e-4424-89c7-a9556d83f4a5\",\"type\":\"LinearAxis\"},{\"id\":\"c18fc875-d601-47d7-b65f-71ded3b99e8e\",\"type\":\"Grid\"},{\"id\":\"098436ab-d96b-4bf5-af90-df8e7545949e\",\"type\":\"BoxAnnotation\"},{\"id\":\"df5ee6d3-9e56-4873-806e-6e60bf7e250f\",\"type\":\"Legend\"},{\"id\":\"16cfedd3-07bc-466b-98c0-4f33abce358d\",\"type\":\"GlyphRenderer\"}],\"title\":{\"id\":\"ae95efb7-6750-48d8-a339-52d91c10df03\",\"type\":\"Title\"},\"toolbar\":{\"id\":\"f815948d-3624-4fbe-9b7a-1e5f473b1750\",\"type\":\"Toolbar\"},\"x_range\":{\"id\":\"f0043ef3-fa24-4d19-86e5-16edb763351c\",\"type\":\"DataRange1d\"},\"x_scale\":{\"id\":\"86df4a56-e005-4ec4-92da-3f0800e92a35\",\"type\":\"LinearScale\"},\"y_range\":{\"id\":\"3bc7670f-20a0-4896-aa97-48c1d5aa0aa1\",\"type\":\"DataRange1d\"},\"y_scale\":{\"id\":\"73268bf7-7f0a-4858-ad5c-40f67e07975b\",\"type\":\"LinearScale\"}},\"id\":\"48c9fd55-4877-4f93-8b32-119042a5eae8\",\"subtype\":\"Figure\",\"type\":\"Plot\"},{\"attributes\":{\"line_color\":\"#1f77b4\",\"line_width\":2,\"x\":{\"field\":\"x\"},\"y\":{\"field\":\"y\"}},\"id\":\"55dc089c-7cf3-4a2b-939c-88f9f50f735c\",\"type\":\"Line\"},{\"attributes\":{\"callback\":null},\"id\":\"3bc7670f-20a0-4896-aa97-48c1d5aa0aa1\",\"type\":\"DataRange1d\"},{\"attributes\":{\"bottom_units\":\"screen\",\"fill_alpha\":{\"value\":0.5},\"fill_color\":{\"value\":\"lightgrey\"},\"left_units\":\"screen\",\"level\":\"overlay\",\"line_alpha\":{\"value\":1.0},\"line_color\":{\"value\":\"black\"},\"line_dash\":[4,4],\"line_width\":{\"value\":2},\"plot\":null,\"render_mode\":\"css\",\"right_units\":\"screen\",\"top_units\":\"screen\"},\"id\":\"098436ab-d96b-4bf5-af90-df8e7545949e\",\"type\":\"BoxAnnotation\"},{\"attributes\":{},\"id\":\"89a48a87-0bb0-4126-aab0-e3fff48122cf\",\"type\":\"PanTool\"},{\"attributes\":{},\"id\":\"b7dde26a-3bda-4b89-8800-96812b784ca3\",\"type\":\"BasicTickFormatter\"},{\"attributes\":{},\"id\":\"1999f810-7bb5-4a7d-932c-cc2ff595559d\",\"type\":\"WheelZoomTool\"},{\"attributes\":{\"source\":{\"id\":\"aee91aaf-62ec-4ff0-8761-5ac3cb6833f6\",\"type\":\"ColumnDataSource\"}},\"id\":\"e84b602f-e930-4a2c-ad1c-026c87227919\",\"type\":\"CDSView\"},{\"attributes\":{\"overlay\":{\"id\":\"098436ab-d96b-4bf5-af90-df8e7545949e\",\"type\":\"BoxAnnotation\"}},\"id\":\"6e9e74dd-1b93-4942-ab16-f1961cae07f3\",\"type\":\"BoxZoomTool\"},{\"attributes\":{\"plot\":null,\"text\":\"simple line example\"},\"id\":\"ae95efb7-6750-48d8-a339-52d91c10df03\",\"type\":\"Title\"},{\"attributes\":{\"active_drag\":\"auto\",\"active_inspect\":\"auto\",\"active_scroll\":\"auto\",\"active_tap\":\"auto\",\"tools\":[{\"id\":\"89a48a87-0bb0-4126-aab0-e3fff48122cf\",\"type\":\"PanTool\"},{\"id\":\"1999f810-7bb5-4a7d-932c-cc2ff595559d\",\"type\":\"WheelZoomTool\"},{\"id\":\"6e9e74dd-1b93-4942-ab16-f1961cae07f3\",\"type\":\"BoxZoomTool\"},{\"id\":\"a344a302-ea14-433c-859d-466b2e14b908\",\"type\":\"SaveTool\"},{\"id\":\"7319f17d-d776-45dc-91e2-555acf9cfc4a\",\"type\":\"ResetTool\"},{\"id\":\"178559a7-af9e-4d2f-b951-73b1b5f0812e\",\"type\":\"HelpTool\"}]},\"id\":\"f815948d-3624-4fbe-9b7a-1e5f473b1750\",\"type\":\"Toolbar\"},{\"attributes\":{},\"id\":\"a344a302-ea14-433c-859d-466b2e14b908\",\"type\":\"SaveTool\"},{\"attributes\":{},\"id\":\"7319f17d-d776-45dc-91e2-555acf9cfc4a\",\"type\":\"ResetTool\"},{\"attributes\":{\"axis_label\":\"x\",\"formatter\":{\"id\":\"f4d356b8-5d65-4b32-b837-42e5ae23fcfc\",\"type\":\"BasicTickFormatter\"},\"plot\":{\"id\":\"48c9fd55-4877-4f93-8b32-119042a5eae8\",\"subtype\":\"Figure\",\"type\":\"Plot\"},\"ticker\":{\"id\":\"6633fe6b-7ba9-4b47-a994-ef5ef80722bf\",\"type\":\"BasicTicker\"}},\"id\":\"cd104f43-b307-4637-837b-9588bbc39343\",\"type\":\"LinearAxis\"},{\"attributes\":{},\"id\":\"178559a7-af9e-4d2f-b951-73b1b5f0812e\",\"type\":\"HelpTool\"},{\"attributes\":{\"plot\":{\"id\":\"48c9fd55-4877-4f93-8b32-119042a5eae8\",\"subtype\":\"Figure\",\"type\":\"Plot\"},\"ticker\":{\"id\":\"6633fe6b-7ba9-4b47-a994-ef5ef80722bf\",\"type\":\"BasicTicker\"}},\"id\":\"4329f5c5-ab0c-46de-a757-bf684cf91a48\",\"type\":\"Grid\"}],\"root_ids\":[\"48c9fd55-4877-4f93-8b32-119042a5eae8\"]},\"title\":\"Bokeh Application\",\"version\":\"0.12.14\"}};\n",
       "  var render_items = [{\"docid\":\"984abcee-d6af-4680-87d1-d4ca0852f94d\",\"elementid\":\"72119d71-c42e-4a32-8de7-e9baadad61f0\",\"modelid\":\"48c9fd55-4877-4f93-8b32-119042a5eae8\"}];\n",
       "  root.Bokeh.embed.embed_items_notebook(docs_json, render_items);\n",
       "\n",
       "  }\n",
       "  if (root.Bokeh !== undefined) {\n",
       "    embed_document(root);\n",
       "  } else {\n",
       "    var attempts = 0;\n",
       "    var timer = setInterval(function(root) {\n",
       "      if (root.Bokeh !== undefined) {\n",
       "        embed_document(root);\n",
       "        clearInterval(timer);\n",
       "      }\n",
       "      attempts++;\n",
       "      if (attempts > 100) {\n",
       "        console.log(\"Bokeh: ERROR: Unable to run BokehJS code because BokehJS library is missing\")\n",
       "        clearInterval(timer);\n",
       "      }\n",
       "    }, 10, root)\n",
       "  }\n",
       "})(window);"
      ],
      "application/vnd.bokehjs_exec.v0+json": ""
     },
     "metadata": {
      "application/vnd.bokehjs_exec.v0+json": {
       "id": "48c9fd55-4877-4f93-8b32-119042a5eae8"
      }
     },
     "output_type": "display_data"
    }
   ],
   "source": [
    "# 折れ線グラフを描画する\n",
    "from bokeh.plotting import figure, output_file, show\n",
    "\n",
    "# データの作成\n",
    "x = [1, 2, 3, 4, 5]\n",
    "y = [6, 7, 2, 4, 5]\n",
    "\n",
    "# 出力HTMLファイルパスを指定\n",
    "output_file(\"outputs/lines.html\")\n",
    "\n",
    "# タイトルと軸ラベルを指定したプロットを定義\n",
    "p = figure(title = \"simple line example\", x_axis_label = \"x\", y_axis_label = \"y\")\n",
    "\n",
    "# プロットに判例と線の暑さを指定した折れ線グラフを追加\n",
    "p.line(x, y, legend = \"Temp\", line_width = 2)\n",
    "\n",
    "# 結果を描画\n",
    "show(p)"
   ]
  },
  {
   "cell_type": "markdown",
   "metadata": {},
   "source": [
    "出力したhtmlファイルを開けばいつでもグラフを見れる"
   ]
  },
  {
   "cell_type": "markdown",
   "metadata": {},
   "source": [
    "bokeh.plottingの基本的な流れは\n",
    "1. データの準備(list, numpy.array, pandas.Series, etc)\n",
    "2. 出力先の指定(output_file(\"filepath\")でhtml出力 or output_notebook()でnotebook埋め込み出力)\n",
    "3. figure()を宣言\n",
    "4. renderer(形式的なデータを適切なルールに従って描画するためのシステム)を宣言\n",
    "5. 結果をshow()かsave()する\n",
    "\n",
    "となっている。  \n",
    "output_notebook()を宣言するときは、ノートブックの冒頭で宣言する必要がある。  \n",
    "複数の図を描画したりフォーマットを整えたいときは、例えば以下のように調整する。"
   ]
  },
  {
   "cell_type": "code",
   "execution_count": 3,
   "metadata": {},
   "outputs": [
    {
     "data": {
      "text/html": [
       "\n",
       "<div class=\"bk-root\">\n",
       "    <div class=\"bk-plotdiv\" id=\"bebf1fe3-af41-432a-a9dc-a1fead2f9ff9\"></div>\n",
       "</div>"
      ]
     },
     "metadata": {},
     "output_type": "display_data"
    },
    {
     "data": {
      "application/javascript": [
       "(function(root) {\n",
       "  function embed_document(root) {\n",
       "    \n",
       "  var docs_json = {\"51fb3570-7fb8-4ec4-aa3a-21e1437f5cbd\":{\"roots\":{\"references\":[{\"attributes\":{\"line_alpha\":0.1,\"line_color\":\"#1f77b4\",\"line_width\":3,\"x\":{\"field\":\"x\"},\"y\":{\"field\":\"y\"}},\"id\":\"ed3125dc-7621-4e91-8051-ad1ef33a010b\",\"type\":\"Line\"},{\"attributes\":{\"below\":[{\"id\":\"454ef324-5107-4936-976b-1db2f965eb98\",\"type\":\"LinearAxis\"}],\"left\":[{\"id\":\"4df4235b-bcf4-4219-aadd-baf34ff91ee7\",\"type\":\"LogAxis\"}],\"renderers\":[{\"id\":\"454ef324-5107-4936-976b-1db2f965eb98\",\"type\":\"LinearAxis\"},{\"id\":\"6ac8c271-e02c-46e2-b11b-5c196faebebc\",\"type\":\"Grid\"},{\"id\":\"4df4235b-bcf4-4219-aadd-baf34ff91ee7\",\"type\":\"LogAxis\"},{\"id\":\"48500e0b-95b0-4ca4-8c1b-7e2ef5042730\",\"type\":\"Grid\"},{\"id\":\"4436f2c8-03ef-4591-8659-ed4392c21b0d\",\"type\":\"BoxAnnotation\"},{\"id\":\"72d924d0-ea74-467d-9e85-db2f166ea229\",\"type\":\"Legend\"},{\"id\":\"f3c69c75-77ef-4263-9734-1b49f1cd59ba\",\"type\":\"GlyphRenderer\"},{\"id\":\"b7aa4814-1273-4844-942a-ffeedbb6dc09\",\"type\":\"GlyphRenderer\"},{\"id\":\"e9164d64-bd9d-4536-b1c9-b95de7dc1f8d\",\"type\":\"GlyphRenderer\"},{\"id\":\"2bb1f784-1797-40e4-906a-c0a209d95a40\",\"type\":\"GlyphRenderer\"},{\"id\":\"1639bd27-9d3d-49f5-8e2d-4263f1b9a5f9\",\"type\":\"GlyphRenderer\"},{\"id\":\"06b52ebf-5f15-4031-8359-6e8d46329a0e\",\"type\":\"GlyphRenderer\"}],\"title\":{\"id\":\"ab717d47-1244-4b86-90f6-81c4fc837611\",\"type\":\"Title\"},\"toolbar\":{\"id\":\"cd2c668a-e7e9-4f44-8418-763da76af7bc\",\"type\":\"Toolbar\"},\"x_range\":{\"id\":\"97a9d08b-4070-4e4c-bce1-d9d3cd995aab\",\"type\":\"DataRange1d\"},\"x_scale\":{\"id\":\"c7d238e4-4d2f-4566-a363-1669ec92410d\",\"type\":\"LinearScale\"},\"y_range\":{\"id\":\"03f82306-6162-4fb0-8a1a-c77a2b5acc43\",\"type\":\"Range1d\"},\"y_scale\":{\"id\":\"71698012-4587-453b-a20c-885fc0dfdd04\",\"type\":\"LogScale\"}},\"id\":\"3e41652e-bd34-4fde-b1f8-11c85ad21a5f\",\"subtype\":\"Figure\",\"type\":\"Plot\"},{\"attributes\":{\"line_color\":\"#1f77b4\",\"line_width\":3,\"x\":{\"field\":\"x\"},\"y\":{\"field\":\"y\"}},\"id\":\"87de9c7a-20a1-406b-9fdb-9e09ccd535db\",\"type\":\"Line\"},{\"attributes\":{\"line_alpha\":0.1,\"line_color\":\"#1f77b4\",\"x\":{\"field\":\"x\"},\"y\":{\"field\":\"y\"}},\"id\":\"aed682e2-3959-4b09-b848-673eca143899\",\"type\":\"Line\"},{\"attributes\":{\"callback\":null,\"column_names\":[\"x\",\"y\"],\"data\":{\"x\":[0.1,0.5,1.0,1.5,2.0,2.5,3.0],\"y\":[1.2589254117941673,3.1622776601683795,10.0,31.622776601683793,100.0,316.22776601683796,1000.0]}},\"id\":\"de1e888d-dbf9-4dc5-8c6b-ff2d1f62f3f1\",\"type\":\"ColumnDataSource\"},{\"attributes\":{\"plot\":null,\"text\":\"log axis sample\"},\"id\":\"ab717d47-1244-4b86-90f6-81c4fc837611\",\"type\":\"Title\"},{\"attributes\":{\"line_color\":\"red\",\"x\":{\"field\":\"x\"},\"y\":{\"field\":\"y\"}},\"id\":\"0526c1ec-1753-4353-b84e-ba16e065b610\",\"type\":\"Line\"},{\"attributes\":{\"callback\":null},\"id\":\"97a9d08b-4070-4e4c-bce1-d9d3cd995aab\",\"type\":\"DataRange1d\"},{\"attributes\":{\"data_source\":{\"id\":\"b0d68db1-3e60-4007-b252-3db234858b0a\",\"type\":\"ColumnDataSource\"},\"glyph\":{\"id\":\"87de9c7a-20a1-406b-9fdb-9e09ccd535db\",\"type\":\"Line\"},\"hover_glyph\":null,\"muted_glyph\":null,\"nonselection_glyph\":{\"id\":\"ed3125dc-7621-4e91-8051-ad1ef33a010b\",\"type\":\"Line\"},\"selection_glyph\":null,\"view\":{\"id\":\"d104862b-d937-4b5a-8565-9b3c6a36de7c\",\"type\":\"CDSView\"}},\"id\":\"e9164d64-bd9d-4536-b1c9-b95de7dc1f8d\",\"type\":\"GlyphRenderer\"},{\"attributes\":{\"active_drag\":\"auto\",\"active_inspect\":\"auto\",\"active_scroll\":\"auto\",\"active_tap\":\"auto\",\"tools\":[{\"id\":\"516963ba-7655-4c27-8d4a-e24849a0ff60\",\"type\":\"PanTool\"},{\"id\":\"8d2ba2e2-b797-407e-b753-ce3c37b983d3\",\"type\":\"BoxZoomTool\"},{\"id\":\"ff52b656-cdac-4932-a9c2-b0517cb5c334\",\"type\":\"ResetTool\"},{\"id\":\"344bcd02-1213-48c8-90ca-92a36b0b2981\",\"type\":\"SaveTool\"}]},\"id\":\"cd2c668a-e7e9-4f44-8418-763da76af7bc\",\"type\":\"Toolbar\"},{\"attributes\":{\"source\":{\"id\":\"b0d68db1-3e60-4007-b252-3db234858b0a\",\"type\":\"ColumnDataSource\"}},\"id\":\"d104862b-d937-4b5a-8565-9b3c6a36de7c\",\"type\":\"CDSView\"},{\"attributes\":{\"num_minor_ticks\":10},\"id\":\"c61a5a56-0720-4264-b226-1012c26305a6\",\"type\":\"LogTicker\"},{\"attributes\":{\"label\":{\"value\":\"y = 10^x\"},\"renderers\":[{\"id\":\"2bb1f784-1797-40e4-906a-c0a209d95a40\",\"type\":\"GlyphRenderer\"},{\"id\":\"1639bd27-9d3d-49f5-8e2d-4263f1b9a5f9\",\"type\":\"GlyphRenderer\"}]},\"id\":\"5a76abe3-c86c-4b14-8cc5-a8940b3f4c8c\",\"type\":\"LegendItem\"},{\"attributes\":{},\"id\":\"c7d238e4-4d2f-4566-a363-1669ec92410d\",\"type\":\"LinearScale\"},{\"attributes\":{\"callback\":null,\"column_names\":[\"x\",\"y\"],\"data\":{\"x\":[0.1,0.5,1.0,1.5,2.0,2.5,3.0],\"y\":[0.1,0.5,1.0,1.5,2.0,2.5,3.0]}},\"id\":\"97db88c8-8b2b-45ed-873e-f57ab1fdd1a4\",\"type\":\"ColumnDataSource\"},{\"attributes\":{\"source\":{\"id\":\"08318882-38a9-4a27-8ffb-ef5ce6ce72f2\",\"type\":\"ColumnDataSource\"}},\"id\":\"d684be32-fa15-4d60-9bfd-160754e79236\",\"type\":\"CDSView\"},{\"attributes\":{\"callback\":null,\"end\":100000000000,\"start\":0.001},\"id\":\"03f82306-6162-4fb0-8a1a-c77a2b5acc43\",\"type\":\"Range1d\"},{\"attributes\":{\"line_alpha\":0.1,\"line_color\":\"#1f77b4\",\"x\":{\"field\":\"x\"},\"y\":{\"field\":\"y\"}},\"id\":\"3c9485cb-8c54-4e65-8b89-fccc1e2448be\",\"type\":\"Line\"},{\"attributes\":{\"callback\":null,\"column_names\":[\"x\",\"y\"],\"data\":{\"x\":[0.1,0.5,1.0,1.5,2.0,2.5,3.0],\"y\":[0.1,0.5,1.0,1.5,2.0,2.5,3.0]}},\"id\":\"c8719f24-bb02-4c93-b0bb-36ac63802f42\",\"type\":\"ColumnDataSource\"},{\"attributes\":{\"line_color\":\"orange\",\"line_dash\":[4,4],\"x\":{\"field\":\"x\"},\"y\":{\"field\":\"y\"}},\"id\":\"a4351228-6488-4480-9991-feada6c1cd5d\",\"type\":\"Line\"},{\"attributes\":{\"plot\":{\"id\":\"3e41652e-bd34-4fde-b1f8-11c85ad21a5f\",\"subtype\":\"Figure\",\"type\":\"Plot\"},\"ticker\":{\"id\":\"5c372147-19a3-4302-bbe8-b4fee130eedd\",\"type\":\"BasicTicker\"}},\"id\":\"6ac8c271-e02c-46e2-b11b-5c196faebebc\",\"type\":\"Grid\"},{\"attributes\":{\"callback\":null,\"column_names\":[\"x\",\"y\"],\"data\":{\"x\":[0.1,0.5,1.0,1.5,2.0,2.5,3.0],\"y\":[1.023292992280754,1.7782794100389228,10.0,177.82794100389228,10000.0,1778279.410038923,1000000000.0]}},\"id\":\"b4fe5416-7746-4590-bd4a-7c3687bbabac\",\"type\":\"ColumnDataSource\"},{\"attributes\":{\"axis_label\":\"sections\",\"formatter\":{\"id\":\"42b859fc-507a-4b56-a335-4add97ec799d\",\"type\":\"BasicTickFormatter\"},\"plot\":{\"id\":\"3e41652e-bd34-4fde-b1f8-11c85ad21a5f\",\"subtype\":\"Figure\",\"type\":\"Plot\"},\"ticker\":{\"id\":\"5c372147-19a3-4302-bbe8-b4fee130eedd\",\"type\":\"BasicTicker\"}},\"id\":\"454ef324-5107-4936-976b-1db2f965eb98\",\"type\":\"LinearAxis\"},{\"attributes\":{\"source\":{\"id\":\"de1e888d-dbf9-4dc5-8c6b-ff2d1f62f3f1\",\"type\":\"ColumnDataSource\"}},\"id\":\"93a155d4-8b01-4199-8891-ae5062556cd2\",\"type\":\"CDSView\"},{\"attributes\":{},\"id\":\"5c372147-19a3-4302-bbe8-b4fee130eedd\",\"type\":\"BasicTicker\"},{\"attributes\":{\"source\":{\"id\":\"b4fe5416-7746-4590-bd4a-7c3687bbabac\",\"type\":\"ColumnDataSource\"}},\"id\":\"f715d613-54f6-485f-b1c4-b7275a0ff3e7\",\"type\":\"CDSView\"},{\"attributes\":{},\"id\":\"71698012-4587-453b-a20c-885fc0dfdd04\",\"type\":\"LogScale\"},{\"attributes\":{\"fill_alpha\":{\"value\":0.1},\"fill_color\":{\"value\":\"#1f77b4\"},\"line_alpha\":{\"value\":0.1},\"line_color\":{\"value\":\"#1f77b4\"},\"size\":{\"units\":\"screen\",\"value\":6},\"x\":{\"field\":\"x\"},\"y\":{\"field\":\"y\"}},\"id\":\"622cfa69-bc6f-4710-91eb-71743292434b\",\"type\":\"Circle\"},{\"attributes\":{\"axis_label\":\"particles\",\"formatter\":{\"id\":\"806dd01b-4a3f-40e8-8d9c-7ed96b790c0e\",\"type\":\"LogTickFormatter\"},\"plot\":{\"id\":\"3e41652e-bd34-4fde-b1f8-11c85ad21a5f\",\"subtype\":\"Figure\",\"type\":\"Plot\"},\"ticker\":{\"id\":\"c61a5a56-0720-4264-b226-1012c26305a6\",\"type\":\"LogTicker\"}},\"id\":\"4df4235b-bcf4-4219-aadd-baf34ff91ee7\",\"type\":\"LogAxis\"},{\"attributes\":{\"data_source\":{\"id\":\"de1e888d-dbf9-4dc5-8c6b-ff2d1f62f3f1\",\"type\":\"ColumnDataSource\"},\"glyph\":{\"id\":\"025042de-146c-42de-9d85-e39027ad4c86\",\"type\":\"Circle\"},\"hover_glyph\":null,\"muted_glyph\":null,\"nonselection_glyph\":{\"id\":\"622cfa69-bc6f-4710-91eb-71743292434b\",\"type\":\"Circle\"},\"selection_glyph\":null,\"view\":{\"id\":\"93a155d4-8b01-4199-8891-ae5062556cd2\",\"type\":\"CDSView\"}},\"id\":\"1639bd27-9d3d-49f5-8e2d-4263f1b9a5f9\",\"type\":\"GlyphRenderer\"},{\"attributes\":{\"dimension\":1,\"plot\":{\"id\":\"3e41652e-bd34-4fde-b1f8-11c85ad21a5f\",\"subtype\":\"Figure\",\"type\":\"Plot\"},\"ticker\":{\"id\":\"c61a5a56-0720-4264-b226-1012c26305a6\",\"type\":\"LogTicker\"}},\"id\":\"48500e0b-95b0-4ca4-8c1b-7e2ef5042730\",\"type\":\"Grid\"},{\"attributes\":{\"items\":[{\"id\":\"7d88fca8-1011-4864-a2d9-b5a9d0a6aba9\",\"type\":\"LegendItem\"},{\"id\":\"515e27c6-0986-4701-a3b9-46221e8240f2\",\"type\":\"LegendItem\"},{\"id\":\"5a76abe3-c86c-4b14-8cc5-a8940b3f4c8c\",\"type\":\"LegendItem\"},{\"id\":\"64868906-d967-43c2-9893-108dd37c1644\",\"type\":\"LegendItem\"}],\"plot\":{\"id\":\"3e41652e-bd34-4fde-b1f8-11c85ad21a5f\",\"subtype\":\"Figure\",\"type\":\"Plot\"}},\"id\":\"72d924d0-ea74-467d-9e85-db2f166ea229\",\"type\":\"Legend\"},{\"attributes\":{},\"id\":\"42b859fc-507a-4b56-a335-4add97ec799d\",\"type\":\"BasicTickFormatter\"},{\"attributes\":{\"label\":{\"value\":\"y = 10^x^2\"},\"renderers\":[{\"id\":\"06b52ebf-5f15-4031-8359-6e8d46329a0e\",\"type\":\"GlyphRenderer\"}]},\"id\":\"64868906-d967-43c2-9893-108dd37c1644\",\"type\":\"LegendItem\"},{\"attributes\":{},\"id\":\"516963ba-7655-4c27-8d4a-e24849a0ff60\",\"type\":\"PanTool\"},{\"attributes\":{\"line_alpha\":0.1,\"line_color\":\"#1f77b4\",\"line_dash\":[4,4],\"x\":{\"field\":\"x\"},\"y\":{\"field\":\"y\"}},\"id\":\"df9cf45b-da5a-41ca-a4e7-b11003c7f2be\",\"type\":\"Line\"},{\"attributes\":{\"ticker\":null},\"id\":\"806dd01b-4a3f-40e8-8d9c-7ed96b790c0e\",\"type\":\"LogTickFormatter\"},{\"attributes\":{\"data_source\":{\"id\":\"b4fe5416-7746-4590-bd4a-7c3687bbabac\",\"type\":\"ColumnDataSource\"},\"glyph\":{\"id\":\"a4351228-6488-4480-9991-feada6c1cd5d\",\"type\":\"Line\"},\"hover_glyph\":null,\"muted_glyph\":null,\"nonselection_glyph\":{\"id\":\"df9cf45b-da5a-41ca-a4e7-b11003c7f2be\",\"type\":\"Line\"},\"selection_glyph\":null,\"view\":{\"id\":\"f715d613-54f6-485f-b1c4-b7275a0ff3e7\",\"type\":\"CDSView\"}},\"id\":\"06b52ebf-5f15-4031-8359-6e8d46329a0e\",\"type\":\"GlyphRenderer\"},{\"attributes\":{\"overlay\":{\"id\":\"4436f2c8-03ef-4591-8659-ed4392c21b0d\",\"type\":\"BoxAnnotation\"}},\"id\":\"8d2ba2e2-b797-407e-b753-ce3c37b983d3\",\"type\":\"BoxZoomTool\"},{\"attributes\":{},\"id\":\"ff52b656-cdac-4932-a9c2-b0517cb5c334\",\"type\":\"ResetTool\"},{\"attributes\":{},\"id\":\"344bcd02-1213-48c8-90ca-92a36b0b2981\",\"type\":\"SaveTool\"},{\"attributes\":{\"bottom_units\":\"screen\",\"fill_alpha\":{\"value\":0.5},\"fill_color\":{\"value\":\"lightgrey\"},\"left_units\":\"screen\",\"level\":\"overlay\",\"line_alpha\":{\"value\":1.0},\"line_color\":{\"value\":\"black\"},\"line_dash\":[4,4],\"line_width\":{\"value\":2},\"plot\":null,\"render_mode\":\"css\",\"right_units\":\"screen\",\"top_units\":\"screen\"},\"id\":\"4436f2c8-03ef-4591-8659-ed4392c21b0d\",\"type\":\"BoxAnnotation\"},{\"attributes\":{\"data_source\":{\"id\":\"97db88c8-8b2b-45ed-873e-f57ab1fdd1a4\",\"type\":\"ColumnDataSource\"},\"glyph\":{\"id\":\"4e122a7e-c0c6-41e8-80f3-39eaa612287e\",\"type\":\"Line\"},\"hover_glyph\":null,\"muted_glyph\":null,\"nonselection_glyph\":{\"id\":\"aed682e2-3959-4b09-b848-673eca143899\",\"type\":\"Line\"},\"selection_glyph\":null,\"view\":{\"id\":\"91bbbe46-4f2d-4f26-88d7-4c4d60bb9d12\",\"type\":\"CDSView\"}},\"id\":\"f3c69c75-77ef-4263-9734-1b49f1cd59ba\",\"type\":\"GlyphRenderer\"},{\"attributes\":{\"source\":{\"id\":\"97db88c8-8b2b-45ed-873e-f57ab1fdd1a4\",\"type\":\"ColumnDataSource\"}},\"id\":\"91bbbe46-4f2d-4f26-88d7-4c4d60bb9d12\",\"type\":\"CDSView\"},{\"attributes\":{\"callback\":null,\"column_names\":[\"x\",\"y\"],\"data\":{\"x\":[0.1,0.5,1.0,1.5,2.0,2.5,3.0],\"y\":[0.010000000000000002,0.25,1.0,2.25,4.0,6.25,9.0]}},\"id\":\"b0d68db1-3e60-4007-b252-3db234858b0a\",\"type\":\"ColumnDataSource\"},{\"attributes\":{\"data_source\":{\"id\":\"08318882-38a9-4a27-8ffb-ef5ce6ce72f2\",\"type\":\"ColumnDataSource\"},\"glyph\":{\"id\":\"0526c1ec-1753-4353-b84e-ba16e065b610\",\"type\":\"Line\"},\"hover_glyph\":null,\"muted_glyph\":null,\"nonselection_glyph\":{\"id\":\"3c9485cb-8c54-4e65-8b89-fccc1e2448be\",\"type\":\"Line\"},\"selection_glyph\":null,\"view\":{\"id\":\"d684be32-fa15-4d60-9bfd-160754e79236\",\"type\":\"CDSView\"}},\"id\":\"2bb1f784-1797-40e4-906a-c0a209d95a40\",\"type\":\"GlyphRenderer\"},{\"attributes\":{\"source\":{\"id\":\"c8719f24-bb02-4c93-b0bb-36ac63802f42\",\"type\":\"ColumnDataSource\"}},\"id\":\"953d7c1c-7e37-440d-9eb8-3174ea2eabeb\",\"type\":\"CDSView\"},{\"attributes\":{\"label\":{\"value\":\"y = x\"},\"renderers\":[{\"id\":\"f3c69c75-77ef-4263-9734-1b49f1cd59ba\",\"type\":\"GlyphRenderer\"},{\"id\":\"b7aa4814-1273-4844-942a-ffeedbb6dc09\",\"type\":\"GlyphRenderer\"}]},\"id\":\"7d88fca8-1011-4864-a2d9-b5a9d0a6aba9\",\"type\":\"LegendItem\"},{\"attributes\":{\"fill_color\":{\"value\":\"white\"},\"line_color\":{\"value\":\"#1f77b4\"},\"size\":{\"units\":\"screen\",\"value\":8},\"x\":{\"field\":\"x\"},\"y\":{\"field\":\"y\"}},\"id\":\"e888169a-a128-4caf-8b18-8893311ada77\",\"type\":\"Circle\"},{\"attributes\":{\"label\":{\"value\":\"y = x^2\"},\"renderers\":[{\"id\":\"e9164d64-bd9d-4536-b1c9-b95de7dc1f8d\",\"type\":\"GlyphRenderer\"}]},\"id\":\"515e27c6-0986-4701-a3b9-46221e8240f2\",\"type\":\"LegendItem\"},{\"attributes\":{\"fill_alpha\":{\"value\":0.1},\"fill_color\":{\"value\":\"#1f77b4\"},\"line_alpha\":{\"value\":0.1},\"line_color\":{\"value\":\"#1f77b4\"},\"size\":{\"units\":\"screen\",\"value\":8},\"x\":{\"field\":\"x\"},\"y\":{\"field\":\"y\"}},\"id\":\"a15348fe-d2f8-42ef-af01-80e6fb81dea9\",\"type\":\"Circle\"},{\"attributes\":{\"data_source\":{\"id\":\"c8719f24-bb02-4c93-b0bb-36ac63802f42\",\"type\":\"ColumnDataSource\"},\"glyph\":{\"id\":\"e888169a-a128-4caf-8b18-8893311ada77\",\"type\":\"Circle\"},\"hover_glyph\":null,\"muted_glyph\":null,\"nonselection_glyph\":{\"id\":\"a15348fe-d2f8-42ef-af01-80e6fb81dea9\",\"type\":\"Circle\"},\"selection_glyph\":null,\"view\":{\"id\":\"953d7c1c-7e37-440d-9eb8-3174ea2eabeb\",\"type\":\"CDSView\"}},\"id\":\"b7aa4814-1273-4844-942a-ffeedbb6dc09\",\"type\":\"GlyphRenderer\"},{\"attributes\":{\"callback\":null,\"column_names\":[\"x\",\"y\"],\"data\":{\"x\":[0.1,0.5,1.0,1.5,2.0,2.5,3.0],\"y\":[1.2589254117941673,3.1622776601683795,10.0,31.622776601683793,100.0,316.22776601683796,1000.0]}},\"id\":\"08318882-38a9-4a27-8ffb-ef5ce6ce72f2\",\"type\":\"ColumnDataSource\"},{\"attributes\":{\"line_color\":\"#1f77b4\",\"x\":{\"field\":\"x\"},\"y\":{\"field\":\"y\"}},\"id\":\"4e122a7e-c0c6-41e8-80f3-39eaa612287e\",\"type\":\"Line\"},{\"attributes\":{\"fill_color\":{\"value\":\"red\"},\"line_color\":{\"value\":\"red\"},\"size\":{\"units\":\"screen\",\"value\":6},\"x\":{\"field\":\"x\"},\"y\":{\"field\":\"y\"}},\"id\":\"025042de-146c-42de-9d85-e39027ad4c86\",\"type\":\"Circle\"}],\"root_ids\":[\"3e41652e-bd34-4fde-b1f8-11c85ad21a5f\"]},\"title\":\"Bokeh Application\",\"version\":\"0.12.14\"}};\n",
       "  var render_items = [{\"docid\":\"51fb3570-7fb8-4ec4-aa3a-21e1437f5cbd\",\"elementid\":\"bebf1fe3-af41-432a-a9dc-a1fead2f9ff9\",\"modelid\":\"3e41652e-bd34-4fde-b1f8-11c85ad21a5f\"}];\n",
       "  root.Bokeh.embed.embed_items_notebook(docs_json, render_items);\n",
       "\n",
       "  }\n",
       "  if (root.Bokeh !== undefined) {\n",
       "    embed_document(root);\n",
       "  } else {\n",
       "    var attempts = 0;\n",
       "    var timer = setInterval(function(root) {\n",
       "      if (root.Bokeh !== undefined) {\n",
       "        embed_document(root);\n",
       "        clearInterval(timer);\n",
       "      }\n",
       "      attempts++;\n",
       "      if (attempts > 100) {\n",
       "        console.log(\"Bokeh: ERROR: Unable to run BokehJS code because BokehJS library is missing\")\n",
       "        clearInterval(timer);\n",
       "      }\n",
       "    }, 10, root)\n",
       "  }\n",
       "})(window);"
      ],
      "application/vnd.bokehjs_exec.v0+json": ""
     },
     "metadata": {
      "application/vnd.bokehjs_exec.v0+json": {
       "id": "3e41652e-bd34-4fde-b1f8-11c85ad21a5f"
      }
     },
     "output_type": "display_data"
    }
   ],
   "source": [
    "from bokeh.plotting import figure, output_file, show\n",
    "\n",
    "# データの準備\n",
    "x = [0.1, 0.5, 1.0, 1.5, 2.0, 2.5, 3.0]\n",
    "y0 = [i**2 for i in x]\n",
    "y1 = [10**i for i in x]\n",
    "y2 = [10**(i**2) for i in x]\n",
    "\n",
    "# 出力先の指定\n",
    "output_file(\"log_lines.html\")\n",
    "\n",
    "# figure()を宣言\n",
    "p = figure(\n",
    "    tools = \"pan, box_zoom, reset, save\",\n",
    "    y_axis_type = \"log\",\n",
    "    y_range = [10**(-3), 10**11],\n",
    "    title = \"log axis sample\",\n",
    "    x_axis_label = \"sections\",\n",
    "    y_axis_label = \"particles\")\n",
    "\n",
    "# rendererを追加\n",
    "p.line(x, x, legend = \"y = x\")\n",
    "p.circle(x, x, legend = \"y = x\", fill_color = \"white\", size = 8)\n",
    "p.line(x, y0, legend = \"y = x^2\", line_width = 3)\n",
    "p.line(x, y1, legend = \"y = 10^x\", color =\"red\")\n",
    "p.circle(x, y1, legend = \"y = 10^x\", fill_color = \"red\", line_color = \"red\", size = 6)\n",
    "p.line(x, y2, legend = \"y = 10^x^2\", line_color = \"orange\", line_dash = \"4 4\")\n",
    "\n",
    "# 結果をshow()\n",
    "show(p)"
   ]
  },
  {
   "cell_type": "markdown",
   "metadata": {},
   "source": [
    "# Jupyter notebookとの連携について"
   ]
  },
  {
   "cell_type": "markdown",
   "metadata": {},
   "source": [
    "BokehはJupyter notebookと連携している。  \n",
    "特に、Jupyterを用いたBokehの対話的な描画については、[ここ](https://github.com/bokeh/bokeh/tree/master/examples/howto/notebook_comms)にある  \n",
    "\"Jupyter Interactors.ipynb\", \"Numba Image Example.ipynb\"  \n",
    "を実行してみるとよい。  \n",
    "\n",
    "上記ファイルをGitHub上で開き、画面右側にある「Raw」ボタンのURLをコピーし、ターミナルで```wget COPIED_URL```と実行すれば、ローカル環境にipynbファイルをダウンロード出来る。  \n",
    "後は、jupyter notebookを起動し、落としたファイルがあるディレクトリに移動し、クリックすれば実行できる。  \n",
    "\n",
    "とはいえ、せっかくなので上記2ファイルの内容もまとめていく。"
   ]
  },
  {
   "cell_type": "markdown",
   "metadata": {},
   "source": [
    "## Jupyter Interactions.ipynb  "
   ]
  },
  {
   "cell_type": "markdown",
   "metadata": {},
   "source": [
    "BokehとIpython interactorを用いて、ローカル環境で動く対話型の描画をする方法例"
   ]
  },
  {
   "cell_type": "code",
   "execution_count": 1,
   "metadata": {},
   "outputs": [
    {
     "data": {
      "text/html": [
       "\n",
       "    <div class=\"bk-root\">\n",
       "        <a href=\"https://bokeh.pydata.org\" target=\"_blank\" class=\"bk-logo bk-logo-small bk-logo-notebook\"></a>\n",
       "        <span id=\"c8344d1b-e86a-426c-8dbd-e106e217b205\">Loading BokehJS ...</span>\n",
       "    </div>"
      ]
     },
     "metadata": {},
     "output_type": "display_data"
    },
    {
     "data": {
      "application/javascript": [
       "\n",
       "(function(root) {\n",
       "  function now() {\n",
       "    return new Date();\n",
       "  }\n",
       "\n",
       "  var force = true;\n",
       "\n",
       "  if (typeof (root._bokeh_onload_callbacks) === \"undefined\" || force === true) {\n",
       "    root._bokeh_onload_callbacks = [];\n",
       "    root._bokeh_is_loading = undefined;\n",
       "  }\n",
       "\n",
       "  var JS_MIME_TYPE = 'application/javascript';\n",
       "  var HTML_MIME_TYPE = 'text/html';\n",
       "  var EXEC_MIME_TYPE = 'application/vnd.bokehjs_exec.v0+json';\n",
       "  var CLASS_NAME = 'output_bokeh rendered_html';\n",
       "\n",
       "  /**\n",
       "   * Render data to the DOM node\n",
       "   */\n",
       "  function render(props, node) {\n",
       "    var script = document.createElement(\"script\");\n",
       "    node.appendChild(script);\n",
       "  }\n",
       "\n",
       "  /**\n",
       "   * Handle when an output is cleared or removed\n",
       "   */\n",
       "  function handleClearOutput(event, handle) {\n",
       "    var cell = handle.cell;\n",
       "\n",
       "    var id = cell.output_area._bokeh_element_id;\n",
       "    var server_id = cell.output_area._bokeh_server_id;\n",
       "    // Clean up Bokeh references\n",
       "    if (id !== undefined) {\n",
       "      Bokeh.index[id].model.document.clear();\n",
       "      delete Bokeh.index[id];\n",
       "    }\n",
       "\n",
       "    if (server_id !== undefined) {\n",
       "      // Clean up Bokeh references\n",
       "      var cmd = \"from bokeh.io.state import curstate; print(curstate().uuid_to_server['\" + server_id + \"'].get_sessions()[0].document.roots[0]._id)\";\n",
       "      cell.notebook.kernel.execute(cmd, {\n",
       "        iopub: {\n",
       "          output: function(msg) {\n",
       "            var element_id = msg.content.text.trim();\n",
       "            Bokeh.index[element_id].model.document.clear();\n",
       "            delete Bokeh.index[element_id];\n",
       "          }\n",
       "        }\n",
       "      });\n",
       "      // Destroy server and session\n",
       "      var cmd = \"import bokeh.io.notebook as ion; ion.destroy_server('\" + server_id + \"')\";\n",
       "      cell.notebook.kernel.execute(cmd);\n",
       "    }\n",
       "  }\n",
       "\n",
       "  /**\n",
       "   * Handle when a new output is added\n",
       "   */\n",
       "  function handleAddOutput(event, handle) {\n",
       "    var output_area = handle.output_area;\n",
       "    var output = handle.output;\n",
       "\n",
       "    // limit handleAddOutput to display_data with EXEC_MIME_TYPE content only\n",
       "    if ((output.output_type != \"display_data\") || (!output.data.hasOwnProperty(EXEC_MIME_TYPE))) {\n",
       "      return\n",
       "    }\n",
       "\n",
       "    var toinsert = output_area.element.find(\".\" + CLASS_NAME.split(' ')[0]);\n",
       "\n",
       "    if (output.metadata[EXEC_MIME_TYPE][\"id\"] !== undefined) {\n",
       "      toinsert[0].firstChild.textContent = output.data[JS_MIME_TYPE];\n",
       "      // store reference to embed id on output_area\n",
       "      output_area._bokeh_element_id = output.metadata[EXEC_MIME_TYPE][\"id\"];\n",
       "    }\n",
       "    if (output.metadata[EXEC_MIME_TYPE][\"server_id\"] !== undefined) {\n",
       "      var bk_div = document.createElement(\"div\");\n",
       "      bk_div.innerHTML = output.data[HTML_MIME_TYPE];\n",
       "      var script_attrs = bk_div.children[0].attributes;\n",
       "      for (var i = 0; i < script_attrs.length; i++) {\n",
       "        toinsert[0].firstChild.setAttribute(script_attrs[i].name, script_attrs[i].value);\n",
       "      }\n",
       "      // store reference to server id on output_area\n",
       "      output_area._bokeh_server_id = output.metadata[EXEC_MIME_TYPE][\"server_id\"];\n",
       "    }\n",
       "  }\n",
       "\n",
       "  function register_renderer(events, OutputArea) {\n",
       "\n",
       "    function append_mime(data, metadata, element) {\n",
       "      // create a DOM node to render to\n",
       "      var toinsert = this.create_output_subarea(\n",
       "        metadata,\n",
       "        CLASS_NAME,\n",
       "        EXEC_MIME_TYPE\n",
       "      );\n",
       "      this.keyboard_manager.register_events(toinsert);\n",
       "      // Render to node\n",
       "      var props = {data: data, metadata: metadata[EXEC_MIME_TYPE]};\n",
       "      render(props, toinsert[0]);\n",
       "      element.append(toinsert);\n",
       "      return toinsert\n",
       "    }\n",
       "\n",
       "    /* Handle when an output is cleared or removed */\n",
       "    events.on('clear_output.CodeCell', handleClearOutput);\n",
       "    events.on('delete.Cell', handleClearOutput);\n",
       "\n",
       "    /* Handle when a new output is added */\n",
       "    events.on('output_added.OutputArea', handleAddOutput);\n",
       "\n",
       "    /**\n",
       "     * Register the mime type and append_mime function with output_area\n",
       "     */\n",
       "    OutputArea.prototype.register_mime_type(EXEC_MIME_TYPE, append_mime, {\n",
       "      /* Is output safe? */\n",
       "      safe: true,\n",
       "      /* Index of renderer in `output_area.display_order` */\n",
       "      index: 0\n",
       "    });\n",
       "  }\n",
       "\n",
       "  // register the mime type if in Jupyter Notebook environment and previously unregistered\n",
       "  if (root.Jupyter !== undefined) {\n",
       "    var events = require('base/js/events');\n",
       "    var OutputArea = require('notebook/js/outputarea').OutputArea;\n",
       "\n",
       "    if (OutputArea.prototype.mime_types().indexOf(EXEC_MIME_TYPE) == -1) {\n",
       "      register_renderer(events, OutputArea);\n",
       "    }\n",
       "  }\n",
       "\n",
       "  \n",
       "  if (typeof (root._bokeh_timeout) === \"undefined\" || force === true) {\n",
       "    root._bokeh_timeout = Date.now() + 5000;\n",
       "    root._bokeh_failed_load = false;\n",
       "  }\n",
       "\n",
       "  var NB_LOAD_WARNING = {'data': {'text/html':\n",
       "     \"<div style='background-color: #fdd'>\\n\"+\n",
       "     \"<p>\\n\"+\n",
       "     \"BokehJS does not appear to have successfully loaded. If loading BokehJS from CDN, this \\n\"+\n",
       "     \"may be due to a slow or bad network connection. Possible fixes:\\n\"+\n",
       "     \"</p>\\n\"+\n",
       "     \"<ul>\\n\"+\n",
       "     \"<li>re-rerun `output_notebook()` to attempt to load from CDN again, or</li>\\n\"+\n",
       "     \"<li>use INLINE resources instead, as so:</li>\\n\"+\n",
       "     \"</ul>\\n\"+\n",
       "     \"<code>\\n\"+\n",
       "     \"from bokeh.resources import INLINE\\n\"+\n",
       "     \"output_notebook(resources=INLINE)\\n\"+\n",
       "     \"</code>\\n\"+\n",
       "     \"</div>\"}};\n",
       "\n",
       "  function display_loaded() {\n",
       "    var el = document.getElementById(\"c8344d1b-e86a-426c-8dbd-e106e217b205\");\n",
       "    if (el != null) {\n",
       "      el.textContent = \"BokehJS is loading...\";\n",
       "    }\n",
       "    if (root.Bokeh !== undefined) {\n",
       "      if (el != null) {\n",
       "        el.textContent = \"BokehJS \" + root.Bokeh.version + \" successfully loaded.\";\n",
       "      }\n",
       "    } else if (Date.now() < root._bokeh_timeout) {\n",
       "      setTimeout(display_loaded, 100)\n",
       "    }\n",
       "  }\n",
       "\n",
       "\n",
       "  function run_callbacks() {\n",
       "    try {\n",
       "      root._bokeh_onload_callbacks.forEach(function(callback) { callback() });\n",
       "    }\n",
       "    finally {\n",
       "      delete root._bokeh_onload_callbacks\n",
       "    }\n",
       "    console.info(\"Bokeh: all callbacks have finished\");\n",
       "  }\n",
       "\n",
       "  function load_libs(js_urls, callback) {\n",
       "    root._bokeh_onload_callbacks.push(callback);\n",
       "    if (root._bokeh_is_loading > 0) {\n",
       "      console.log(\"Bokeh: BokehJS is being loaded, scheduling callback at\", now());\n",
       "      return null;\n",
       "    }\n",
       "    if (js_urls == null || js_urls.length === 0) {\n",
       "      run_callbacks();\n",
       "      return null;\n",
       "    }\n",
       "    console.log(\"Bokeh: BokehJS not loaded, scheduling load and callback at\", now());\n",
       "    root._bokeh_is_loading = js_urls.length;\n",
       "    for (var i = 0; i < js_urls.length; i++) {\n",
       "      var url = js_urls[i];\n",
       "      var s = document.createElement('script');\n",
       "      s.src = url;\n",
       "      s.async = false;\n",
       "      s.onreadystatechange = s.onload = function() {\n",
       "        root._bokeh_is_loading--;\n",
       "        if (root._bokeh_is_loading === 0) {\n",
       "          console.log(\"Bokeh: all BokehJS libraries loaded\");\n",
       "          run_callbacks()\n",
       "        }\n",
       "      };\n",
       "      s.onerror = function() {\n",
       "        console.warn(\"failed to load library \" + url);\n",
       "      };\n",
       "      console.log(\"Bokeh: injecting script tag for BokehJS library: \", url);\n",
       "      document.getElementsByTagName(\"head\")[0].appendChild(s);\n",
       "    }\n",
       "  };var element = document.getElementById(\"c8344d1b-e86a-426c-8dbd-e106e217b205\");\n",
       "  if (element == null) {\n",
       "    console.log(\"Bokeh: ERROR: autoload.js configured with elementid 'c8344d1b-e86a-426c-8dbd-e106e217b205' but no matching script tag was found. \")\n",
       "    return false;\n",
       "  }\n",
       "\n",
       "  var js_urls = [\"https://cdn.pydata.org/bokeh/release/bokeh-0.12.14.min.js\", \"https://cdn.pydata.org/bokeh/release/bokeh-widgets-0.12.14.min.js\", \"https://cdn.pydata.org/bokeh/release/bokeh-tables-0.12.14.min.js\", \"https://cdn.pydata.org/bokeh/release/bokeh-gl-0.12.14.min.js\"];\n",
       "\n",
       "  var inline_js = [\n",
       "    function(Bokeh) {\n",
       "      Bokeh.set_log_level(\"info\");\n",
       "    },\n",
       "    \n",
       "    function(Bokeh) {\n",
       "      \n",
       "    },\n",
       "    function(Bokeh) {\n",
       "      console.log(\"Bokeh: injecting CSS: https://cdn.pydata.org/bokeh/release/bokeh-0.12.14.min.css\");\n",
       "      Bokeh.embed.inject_css(\"https://cdn.pydata.org/bokeh/release/bokeh-0.12.14.min.css\");\n",
       "      console.log(\"Bokeh: injecting CSS: https://cdn.pydata.org/bokeh/release/bokeh-widgets-0.12.14.min.css\");\n",
       "      Bokeh.embed.inject_css(\"https://cdn.pydata.org/bokeh/release/bokeh-widgets-0.12.14.min.css\");\n",
       "      console.log(\"Bokeh: injecting CSS: https://cdn.pydata.org/bokeh/release/bokeh-tables-0.12.14.min.css\");\n",
       "      Bokeh.embed.inject_css(\"https://cdn.pydata.org/bokeh/release/bokeh-tables-0.12.14.min.css\");\n",
       "    }\n",
       "  ];\n",
       "\n",
       "  function run_inline_js() {\n",
       "    \n",
       "    if ((root.Bokeh !== undefined) || (force === true)) {\n",
       "      for (var i = 0; i < inline_js.length; i++) {\n",
       "        inline_js[i].call(root, root.Bokeh);\n",
       "      }if (force === true) {\n",
       "        display_loaded();\n",
       "      }} else if (Date.now() < root._bokeh_timeout) {\n",
       "      setTimeout(run_inline_js, 100);\n",
       "    } else if (!root._bokeh_failed_load) {\n",
       "      console.log(\"Bokeh: BokehJS failed to load within specified timeout.\");\n",
       "      root._bokeh_failed_load = true;\n",
       "    } else if (force !== true) {\n",
       "      var cell = $(document.getElementById(\"c8344d1b-e86a-426c-8dbd-e106e217b205\")).parents('.cell').data().cell;\n",
       "      cell.output_area.append_execute_result(NB_LOAD_WARNING)\n",
       "    }\n",
       "\n",
       "  }\n",
       "\n",
       "  if (root._bokeh_is_loading === 0) {\n",
       "    console.log(\"Bokeh: BokehJS loaded, going straight to plotting\");\n",
       "    run_inline_js();\n",
       "  } else {\n",
       "    load_libs(js_urls, function() {\n",
       "      console.log(\"Bokeh: BokehJS plotting callback run at\", now());\n",
       "      run_inline_js();\n",
       "    });\n",
       "  }\n",
       "}(window));"
      ],
      "application/vnd.bokehjs_load.v0+json": "\n(function(root) {\n  function now() {\n    return new Date();\n  }\n\n  var force = true;\n\n  if (typeof (root._bokeh_onload_callbacks) === \"undefined\" || force === true) {\n    root._bokeh_onload_callbacks = [];\n    root._bokeh_is_loading = undefined;\n  }\n\n  \n\n  \n  if (typeof (root._bokeh_timeout) === \"undefined\" || force === true) {\n    root._bokeh_timeout = Date.now() + 5000;\n    root._bokeh_failed_load = false;\n  }\n\n  var NB_LOAD_WARNING = {'data': {'text/html':\n     \"<div style='background-color: #fdd'>\\n\"+\n     \"<p>\\n\"+\n     \"BokehJS does not appear to have successfully loaded. If loading BokehJS from CDN, this \\n\"+\n     \"may be due to a slow or bad network connection. Possible fixes:\\n\"+\n     \"</p>\\n\"+\n     \"<ul>\\n\"+\n     \"<li>re-rerun `output_notebook()` to attempt to load from CDN again, or</li>\\n\"+\n     \"<li>use INLINE resources instead, as so:</li>\\n\"+\n     \"</ul>\\n\"+\n     \"<code>\\n\"+\n     \"from bokeh.resources import INLINE\\n\"+\n     \"output_notebook(resources=INLINE)\\n\"+\n     \"</code>\\n\"+\n     \"</div>\"}};\n\n  function display_loaded() {\n    var el = document.getElementById(\"c8344d1b-e86a-426c-8dbd-e106e217b205\");\n    if (el != null) {\n      el.textContent = \"BokehJS is loading...\";\n    }\n    if (root.Bokeh !== undefined) {\n      if (el != null) {\n        el.textContent = \"BokehJS \" + root.Bokeh.version + \" successfully loaded.\";\n      }\n    } else if (Date.now() < root._bokeh_timeout) {\n      setTimeout(display_loaded, 100)\n    }\n  }\n\n\n  function run_callbacks() {\n    try {\n      root._bokeh_onload_callbacks.forEach(function(callback) { callback() });\n    }\n    finally {\n      delete root._bokeh_onload_callbacks\n    }\n    console.info(\"Bokeh: all callbacks have finished\");\n  }\n\n  function load_libs(js_urls, callback) {\n    root._bokeh_onload_callbacks.push(callback);\n    if (root._bokeh_is_loading > 0) {\n      console.log(\"Bokeh: BokehJS is being loaded, scheduling callback at\", now());\n      return null;\n    }\n    if (js_urls == null || js_urls.length === 0) {\n      run_callbacks();\n      return null;\n    }\n    console.log(\"Bokeh: BokehJS not loaded, scheduling load and callback at\", now());\n    root._bokeh_is_loading = js_urls.length;\n    for (var i = 0; i < js_urls.length; i++) {\n      var url = js_urls[i];\n      var s = document.createElement('script');\n      s.src = url;\n      s.async = false;\n      s.onreadystatechange = s.onload = function() {\n        root._bokeh_is_loading--;\n        if (root._bokeh_is_loading === 0) {\n          console.log(\"Bokeh: all BokehJS libraries loaded\");\n          run_callbacks()\n        }\n      };\n      s.onerror = function() {\n        console.warn(\"failed to load library \" + url);\n      };\n      console.log(\"Bokeh: injecting script tag for BokehJS library: \", url);\n      document.getElementsByTagName(\"head\")[0].appendChild(s);\n    }\n  };var element = document.getElementById(\"c8344d1b-e86a-426c-8dbd-e106e217b205\");\n  if (element == null) {\n    console.log(\"Bokeh: ERROR: autoload.js configured with elementid 'c8344d1b-e86a-426c-8dbd-e106e217b205' but no matching script tag was found. \")\n    return false;\n  }\n\n  var js_urls = [\"https://cdn.pydata.org/bokeh/release/bokeh-0.12.14.min.js\", \"https://cdn.pydata.org/bokeh/release/bokeh-widgets-0.12.14.min.js\", \"https://cdn.pydata.org/bokeh/release/bokeh-tables-0.12.14.min.js\", \"https://cdn.pydata.org/bokeh/release/bokeh-gl-0.12.14.min.js\"];\n\n  var inline_js = [\n    function(Bokeh) {\n      Bokeh.set_log_level(\"info\");\n    },\n    \n    function(Bokeh) {\n      \n    },\n    function(Bokeh) {\n      console.log(\"Bokeh: injecting CSS: https://cdn.pydata.org/bokeh/release/bokeh-0.12.14.min.css\");\n      Bokeh.embed.inject_css(\"https://cdn.pydata.org/bokeh/release/bokeh-0.12.14.min.css\");\n      console.log(\"Bokeh: injecting CSS: https://cdn.pydata.org/bokeh/release/bokeh-widgets-0.12.14.min.css\");\n      Bokeh.embed.inject_css(\"https://cdn.pydata.org/bokeh/release/bokeh-widgets-0.12.14.min.css\");\n      console.log(\"Bokeh: injecting CSS: https://cdn.pydata.org/bokeh/release/bokeh-tables-0.12.14.min.css\");\n      Bokeh.embed.inject_css(\"https://cdn.pydata.org/bokeh/release/bokeh-tables-0.12.14.min.css\");\n    }\n  ];\n\n  function run_inline_js() {\n    \n    if ((root.Bokeh !== undefined) || (force === true)) {\n      for (var i = 0; i < inline_js.length; i++) {\n        inline_js[i].call(root, root.Bokeh);\n      }if (force === true) {\n        display_loaded();\n      }} else if (Date.now() < root._bokeh_timeout) {\n      setTimeout(run_inline_js, 100);\n    } else if (!root._bokeh_failed_load) {\n      console.log(\"Bokeh: BokehJS failed to load within specified timeout.\");\n      root._bokeh_failed_load = true;\n    } else if (force !== true) {\n      var cell = $(document.getElementById(\"c8344d1b-e86a-426c-8dbd-e106e217b205\")).parents('.cell').data().cell;\n      cell.output_area.append_execute_result(NB_LOAD_WARNING)\n    }\n\n  }\n\n  if (root._bokeh_is_loading === 0) {\n    console.log(\"Bokeh: BokehJS loaded, going straight to plotting\");\n    run_inline_js();\n  } else {\n    load_libs(js_urls, function() {\n      console.log(\"Bokeh: BokehJS plotting callback run at\", now());\n      run_inline_js();\n    });\n  }\n}(window));"
     },
     "metadata": {},
     "output_type": "display_data"
    }
   ],
   "source": [
    "# ライブラリの読み込み\n",
    "from ipywidgets import interact\n",
    "import numpy as np\n",
    "\n",
    "from bokeh.io import push_notebook, show, output_notebook\n",
    "from bokeh.plotting import figure\n",
    "\n",
    "output_notebook()"
   ]
  },
  {
   "cell_type": "code",
   "execution_count": 2,
   "metadata": {},
   "outputs": [],
   "source": [
    "# データの定義\n",
    "x = np.linspace(0, 2*np.pi, 2000)\n",
    "y = np.sin(x)"
   ]
  },
  {
   "cell_type": "code",
   "execution_count": 3,
   "metadata": {},
   "outputs": [],
   "source": [
    "# figure()を宣言\n",
    "p = figure(title = \"simple line example\",\n",
    "           plot_height = 300,\n",
    "           plot_width = 600,\n",
    "           y_range = (-5, 5))\n",
    "\n",
    "# rendererを追加\n",
    "# ただp.line()とするのではなく、変数rに格納する\n",
    "r = p.line(x, y, line_width = 3)"
   ]
  },
  {
   "cell_type": "code",
   "execution_count": 4,
   "metadata": {},
   "outputs": [],
   "source": [
    "# グリグリ動かすボタンを作るには、Interactorを定義する\n",
    "# 今回は、f, w, A, phiという4変数を動かすことで\"r\"と名付けたrendererを操作する\n",
    "def update(f, w=1, A=1, phi=0):\n",
    "    if  f == \"sin\": func = np.sin\n",
    "    elif f == \"cos\": func = np.cos\n",
    "    elif f == \"tan\": func = np.tan\n",
    "    r.data_source.data['y'] = A * func(x * w + phi)\n",
    "    push_notebook()"
   ]
  },
  {
   "cell_type": "code",
   "execution_count": 5,
   "metadata": {},
   "outputs": [
    {
     "data": {
      "text/html": [
       "\n",
       "<div class=\"bk-root\">\n",
       "    <div class=\"bk-plotdiv\" id=\"6c7cb2c2-b9eb-4b3f-82b9-d70741d077e3\"></div>\n",
       "</div>"
      ]
     },
     "metadata": {},
     "output_type": "display_data"
    },
    {
     "data": {
      "application/javascript": [
       "(function(root) {\n",
       "  function embed_document(root) {\n",
       "    \n",
       "  var docs_json = {\"164a100c-afc4-421a-990e-fd8acb5043e2\":{\"roots\":{\"references\":[{\"attributes\":{},\"id\":\"3386ec99-5e9d-4dc8-9780-380b7241f08e\",\"type\":\"HelpTool\"},{\"attributes\":{\"dimension\":1,\"plot\":{\"id\":\"fe4a1b71-5496-41cc-9fc0-8ad23cb54f1a\",\"subtype\":\"Figure\",\"type\":\"Plot\"},\"ticker\":{\"id\":\"cb5137e7-fc19-4d01-bea6-761a96a43284\",\"type\":\"BasicTicker\"}},\"id\":\"785ab759-1e2c-4811-a3f1-0c16ec2a1a9f\",\"type\":\"Grid\"},{\"attributes\":{\"bottom_units\":\"screen\",\"fill_alpha\":{\"value\":0.5},\"fill_color\":{\"value\":\"lightgrey\"},\"left_units\":\"screen\",\"level\":\"overlay\",\"line_alpha\":{\"value\":1.0},\"line_color\":{\"value\":\"black\"},\"line_dash\":[4,4],\"line_width\":{\"value\":2},\"plot\":null,\"render_mode\":\"css\",\"right_units\":\"screen\",\"top_units\":\"screen\"},\"id\":\"1bd3955f-e995-40a2-aecd-ce119110ae1c\",\"type\":\"BoxAnnotation\"},{\"attributes\":{},\"id\":\"b39fe9bd-a992-40bc-8fe9-5fba01028728\",\"type\":\"BasicTickFormatter\"},{\"attributes\":{\"line_alpha\":0.1,\"line_color\":\"#1f77b4\",\"line_width\":3,\"x\":{\"field\":\"x\"},\"y\":{\"field\":\"y\"}},\"id\":\"c79a82f0-9343-4cd6-b7b1-d1717bcad429\",\"type\":\"Line\"},{\"attributes\":{},\"id\":\"3765dac6-4066-44fe-86ab-e802448ff1b3\",\"type\":\"LinearScale\"},{\"attributes\":{\"callback\":null,\"end\":5,\"start\":-5},\"id\":\"ebe4c09e-968e-45e5-b610-39e18e814a83\",\"type\":\"Range1d\"},{\"attributes\":{},\"id\":\"fffcb889-3266-4e05-9736-cf9b5d0a0cc5\",\"type\":\"LinearScale\"},{\"attributes\":{\"line_color\":\"#1f77b4\",\"line_width\":3,\"x\":{\"field\":\"x\"},\"y\":{\"field\":\"y\"}},\"id\":\"ae895702-6c37-4ba8-8e69-8c42b35f4004\",\"type\":\"Line\"},{\"attributes\":{\"formatter\":{\"id\":\"bf31c971-9109-41c5-ac5e-01f8e688aa62\",\"type\":\"BasicTickFormatter\"},\"plot\":{\"id\":\"fe4a1b71-5496-41cc-9fc0-8ad23cb54f1a\",\"subtype\":\"Figure\",\"type\":\"Plot\"},\"ticker\":{\"id\":\"55fcd27e-2977-4e67-9070-a2c17113044b\",\"type\":\"BasicTicker\"}},\"id\":\"3761737a-791e-4b1d-9636-4c721c4acf69\",\"type\":\"LinearAxis\"},{\"attributes\":{},\"id\":\"55fcd27e-2977-4e67-9070-a2c17113044b\",\"type\":\"BasicTicker\"},{\"attributes\":{\"plot\":{\"id\":\"fe4a1b71-5496-41cc-9fc0-8ad23cb54f1a\",\"subtype\":\"Figure\",\"type\":\"Plot\"},\"ticker\":{\"id\":\"55fcd27e-2977-4e67-9070-a2c17113044b\",\"type\":\"BasicTicker\"}},\"id\":\"7f8f30e4-aacc-4378-8524-af13ca7c0d2d\",\"type\":\"Grid\"},{\"attributes\":{\"formatter\":{\"id\":\"b39fe9bd-a992-40bc-8fe9-5fba01028728\",\"type\":\"BasicTickFormatter\"},\"plot\":{\"id\":\"fe4a1b71-5496-41cc-9fc0-8ad23cb54f1a\",\"subtype\":\"Figure\",\"type\":\"Plot\"},\"ticker\":{\"id\":\"cb5137e7-fc19-4d01-bea6-761a96a43284\",\"type\":\"BasicTicker\"}},\"id\":\"8628f8ae-6ed7-419a-b90e-3fa55d90ba68\",\"type\":\"LinearAxis\"},{\"attributes\":{},\"id\":\"bf31c971-9109-41c5-ac5e-01f8e688aa62\",\"type\":\"BasicTickFormatter\"},{\"attributes\":{\"source\":{\"id\":\"9d919281-0098-44cb-9278-bfb367d88538\",\"type\":\"ColumnDataSource\"}},\"id\":\"6f0fe399-5135-4d16-92cf-695b9c69604d\",\"type\":\"CDSView\"},{\"attributes\":{},\"id\":\"cb5137e7-fc19-4d01-bea6-761a96a43284\",\"type\":\"BasicTicker\"},{\"attributes\":{\"callback\":null,\"column_names\":[\"x\",\"y\"],\"data\":{\"x\":{\"__ndarray__\":\"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\",\"dtype\":\"float64\",\"shape\":[2000]},\"y\":{\"__ndarray__\":\"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\",\"dtype\":\"float64\",\"shape\":[2000]}}},\"id\":\"9d919281-0098-44cb-9278-bfb367d88538\",\"type\":\"ColumnDataSource\"},{\"attributes\":{\"data_source\":{\"id\":\"9d919281-0098-44cb-9278-bfb367d88538\",\"type\":\"ColumnDataSource\"},\"glyph\":{\"id\":\"ae895702-6c37-4ba8-8e69-8c42b35f4004\",\"type\":\"Line\"},\"hover_glyph\":null,\"muted_glyph\":null,\"nonselection_glyph\":{\"id\":\"c79a82f0-9343-4cd6-b7b1-d1717bcad429\",\"type\":\"Line\"},\"selection_glyph\":null,\"view\":{\"id\":\"6f0fe399-5135-4d16-92cf-695b9c69604d\",\"type\":\"CDSView\"}},\"id\":\"e07288d1-f6c3-4bc9-8753-b05d3066006c\",\"type\":\"GlyphRenderer\"},{\"attributes\":{\"below\":[{\"id\":\"3761737a-791e-4b1d-9636-4c721c4acf69\",\"type\":\"LinearAxis\"}],\"left\":[{\"id\":\"8628f8ae-6ed7-419a-b90e-3fa55d90ba68\",\"type\":\"LinearAxis\"}],\"plot_height\":300,\"renderers\":[{\"id\":\"3761737a-791e-4b1d-9636-4c721c4acf69\",\"type\":\"LinearAxis\"},{\"id\":\"7f8f30e4-aacc-4378-8524-af13ca7c0d2d\",\"type\":\"Grid\"},{\"id\":\"8628f8ae-6ed7-419a-b90e-3fa55d90ba68\",\"type\":\"LinearAxis\"},{\"id\":\"785ab759-1e2c-4811-a3f1-0c16ec2a1a9f\",\"type\":\"Grid\"},{\"id\":\"1bd3955f-e995-40a2-aecd-ce119110ae1c\",\"type\":\"BoxAnnotation\"},{\"id\":\"e07288d1-f6c3-4bc9-8753-b05d3066006c\",\"type\":\"GlyphRenderer\"}],\"title\":{\"id\":\"822f48e4-f6d5-4032-a55d-9a52f3fde449\",\"type\":\"Title\"},\"toolbar\":{\"id\":\"b66002bc-4fe6-4346-bb59-57ca380f0fb0\",\"type\":\"Toolbar\"},\"x_range\":{\"id\":\"f93d241b-abf2-4e96-9c19-cf58f922b978\",\"type\":\"DataRange1d\"},\"x_scale\":{\"id\":\"3765dac6-4066-44fe-86ab-e802448ff1b3\",\"type\":\"LinearScale\"},\"y_range\":{\"id\":\"ebe4c09e-968e-45e5-b610-39e18e814a83\",\"type\":\"Range1d\"},\"y_scale\":{\"id\":\"fffcb889-3266-4e05-9736-cf9b5d0a0cc5\",\"type\":\"LinearScale\"}},\"id\":\"fe4a1b71-5496-41cc-9fc0-8ad23cb54f1a\",\"subtype\":\"Figure\",\"type\":\"Plot\"},{\"attributes\":{},\"id\":\"7c173be5-3374-4fb8-92ce-ce7269efca71\",\"type\":\"PanTool\"},{\"attributes\":{\"plot\":null,\"text\":\"simple line example\"},\"id\":\"822f48e4-f6d5-4032-a55d-9a52f3fde449\",\"type\":\"Title\"},{\"attributes\":{\"overlay\":{\"id\":\"1bd3955f-e995-40a2-aecd-ce119110ae1c\",\"type\":\"BoxAnnotation\"}},\"id\":\"89f07456-d47d-4e16-82ef-748ab803aa31\",\"type\":\"BoxZoomTool\"},{\"attributes\":{\"callback\":null},\"id\":\"f93d241b-abf2-4e96-9c19-cf58f922b978\",\"type\":\"DataRange1d\"},{\"attributes\":{},\"id\":\"4df42c85-7a9d-4595-8561-aafcb791a049\",\"type\":\"WheelZoomTool\"},{\"attributes\":{\"active_drag\":\"auto\",\"active_inspect\":\"auto\",\"active_scroll\":\"auto\",\"active_tap\":\"auto\",\"tools\":[{\"id\":\"7c173be5-3374-4fb8-92ce-ce7269efca71\",\"type\":\"PanTool\"},{\"id\":\"4df42c85-7a9d-4595-8561-aafcb791a049\",\"type\":\"WheelZoomTool\"},{\"id\":\"89f07456-d47d-4e16-82ef-748ab803aa31\",\"type\":\"BoxZoomTool\"},{\"id\":\"066bb48f-6b6f-4729-822a-decb6c2593a1\",\"type\":\"SaveTool\"},{\"id\":\"3816da14-1b80-491f-86ea-87a0dbb454a2\",\"type\":\"ResetTool\"},{\"id\":\"3386ec99-5e9d-4dc8-9780-380b7241f08e\",\"type\":\"HelpTool\"}]},\"id\":\"b66002bc-4fe6-4346-bb59-57ca380f0fb0\",\"type\":\"Toolbar\"},{\"attributes\":{},\"id\":\"3816da14-1b80-491f-86ea-87a0dbb454a2\",\"type\":\"ResetTool\"},{\"attributes\":{},\"id\":\"066bb48f-6b6f-4729-822a-decb6c2593a1\",\"type\":\"SaveTool\"}],\"root_ids\":[\"fe4a1b71-5496-41cc-9fc0-8ad23cb54f1a\"]},\"title\":\"Bokeh Application\",\"version\":\"0.12.14\"}};\n",
       "  var render_items = [{\"docid\":\"164a100c-afc4-421a-990e-fd8acb5043e2\",\"elementid\":\"6c7cb2c2-b9eb-4b3f-82b9-d70741d077e3\",\"modelid\":\"fe4a1b71-5496-41cc-9fc0-8ad23cb54f1a\",\"notebook_comms_target\":\"494ec3b8-f2fa-4a30-b4c2-5acbab5055b0\"}];\n",
       "  root.Bokeh.embed.embed_items_notebook(docs_json, render_items);\n",
       "\n",
       "  }\n",
       "  if (root.Bokeh !== undefined) {\n",
       "    embed_document(root);\n",
       "  } else {\n",
       "    var attempts = 0;\n",
       "    var timer = setInterval(function(root) {\n",
       "      if (root.Bokeh !== undefined) {\n",
       "        embed_document(root);\n",
       "        clearInterval(timer);\n",
       "      }\n",
       "      attempts++;\n",
       "      if (attempts > 100) {\n",
       "        console.log(\"Bokeh: ERROR: Unable to run BokehJS code because BokehJS library is missing\")\n",
       "        clearInterval(timer);\n",
       "      }\n",
       "    }, 10, root)\n",
       "  }\n",
       "})(window);"
      ],
      "application/vnd.bokehjs_exec.v0+json": ""
     },
     "metadata": {
      "application/vnd.bokehjs_exec.v0+json": {
       "id": "fe4a1b71-5496-41cc-9fc0-8ad23cb54f1a"
      }
     },
     "output_type": "display_data"
    },
    {
     "data": {
      "text/html": [
       "<p><code>&lt;Bokeh Notebook handle for <strong>In[5]</strong>&gt;</code></p>"
      ],
      "text/plain": [
       "<bokeh.io.notebook.CommsHandle at 0x109915518>"
      ]
     },
     "execution_count": 5,
     "metadata": {},
     "output_type": "execute_result"
    }
   ],
   "source": [
    "# 描画\n",
    "show(p, notebook_handle = True) # notebook_handle = Trueにすると、後から描画内容を操作出来る"
   ]
  },
  {
   "cell_type": "code",
   "execution_count": 6,
   "metadata": {},
   "outputs": [
    {
     "data": {
      "application/vnd.jupyter.widget-view+json": {
       "model_id": "a9a0185616094e889b3bbcbd859b135f",
       "version_major": 2,
       "version_minor": 0
      },
      "text/html": [
       "<p>Failed to display Jupyter Widget of type <code>interactive</code>.</p>\n",
       "<p>\n",
       "  If you're reading this message in the Jupyter Notebook or JupyterLab Notebook, it may mean\n",
       "  that the widgets JavaScript is still loading. If this message persists, it\n",
       "  likely means that the widgets JavaScript library is either not installed or\n",
       "  not enabled. See the <a href=\"https://ipywidgets.readthedocs.io/en/stable/user_install.html\">Jupyter\n",
       "  Widgets Documentation</a> for setup instructions.\n",
       "</p>\n",
       "<p>\n",
       "  If you're reading this message in another frontend (for example, a static\n",
       "  rendering on GitHub or <a href=\"https://nbviewer.jupyter.org/\">NBViewer</a>),\n",
       "  it may mean that your frontend doesn't currently support widgets.\n",
       "</p>\n"
      ],
      "text/plain": [
       "interactive(children=(Dropdown(description='f', options=('sin', 'cos', 'tan'), value='sin'), IntSlider(value=1, description='w'), IntSlider(value=1, description='A', max=5), FloatSlider(value=0.0, description='phi', max=20.0), Output()), _dom_classes=('widget-interact',))"
      ]
     },
     "metadata": {},
     "output_type": "display_data"
    },
    {
     "data": {
      "text/plain": [
       "<function __main__.update>"
      ]
     },
     "execution_count": 6,
     "metadata": {},
     "output_type": "execute_result"
    }
   ],
   "source": [
    "# interactorの実行\n",
    "# []はプルダウンリスト、()はスライダー\n",
    "interact(update, f = [\"sin\", \"cos\", \"tan\"], w = (0, 100), A = (0, 5), phi = (0, 20, 0.1))"
   ]
  },
  {
   "cell_type": "markdown",
   "metadata": {},
   "source": [
    "## Numba Image Example.ipynb"
   ]
  },
  {
   "cell_type": "markdown",
   "metadata": {},
   "source": [
    "要は、  \n",
    "@jitと@njitをnumpyの計算の前に宣言すると計算が早くなるよね  \n",
    "計算が早くなると画像のフィルタリングなどの計算が一瞬で終わるよね  \n",
    "Bokehでグリグリ動かしながらフィルターの掛かり具合を調整・可視化出来てカッケー  \n",
    "というお話"
   ]
  },
  {
   "cell_type": "markdown",
   "metadata": {},
   "source": [
    "# ベータ分布の描画"
   ]
  },
  {
   "cell_type": "markdown",
   "metadata": {
    "collapsed": true
   },
   "source": [
    "本題の、グリグリ動かせるベータ分布の描画コードを作成する。"
   ]
  },
  {
   "cell_type": "markdown",
   "metadata": {},
   "source": [
    "ベータ分布とは確率密度関数が  \n",
    "\n",
    "$$\n",
    "Beta(\\mu | a, b) = C_B(a, b) \\mu^{a-1} (1 - \\mu)^{b-1}\n",
    "$$\n",
    "\n",
    "という式になり、正の実数a, bを定義したときμ ∈ (0, 1)となるμの取りうる確率を生成してくれる分布  \n",
    "ベルヌーイ分布や二項分布の共役事前分布として使われることが多い\n",
    "\n",
    "ここで、Cは正規化項\n",
    "\n",
    "$$\n",
    "C_B(a, b) = \\frac{\\Gamma(a + b)}{\\Gamma(a) \\Gamma(b)}\n",
    "$$\n",
    "\n",
    "Γはガンマ関数といい、\n",
    "\n",
    "$$\n",
    "\\Gamma(x) = \\int t^{x-1} e^{-t}dt\n",
    "$$\n",
    "\n",
    "で表される。  \n",
    "これは階乗(n!)を一般化したもので、\n",
    "\n",
    "$$\n",
    "\\begin{split}\n",
    " \\Gamma(x+1) &= x \\Gamma(x) \\\\\n",
    " \\Gamma(1) &= 1\n",
    "\\end{split}\n",
    "$$\n",
    "\n",
    "という性質より、自然数nに対しては\n",
    "\n",
    "$$\n",
    "\\Gamma(n+1) = n!\n",
    "$$\n",
    "\n",
    "が成り立つ。"
   ]
  },
  {
   "cell_type": "code",
   "execution_count": 1,
   "metadata": {},
   "outputs": [
    {
     "data": {
      "text/html": [
       "\n",
       "    <div class=\"bk-root\">\n",
       "        <a href=\"https://bokeh.pydata.org\" target=\"_blank\" class=\"bk-logo bk-logo-small bk-logo-notebook\"></a>\n",
       "        <span id=\"47a74a9b-9d9f-4d3f-9f5a-b7e91c4a5d44\">Loading BokehJS ...</span>\n",
       "    </div>"
      ]
     },
     "metadata": {},
     "output_type": "display_data"
    },
    {
     "data": {
      "application/javascript": [
       "\n",
       "(function(root) {\n",
       "  function now() {\n",
       "    return new Date();\n",
       "  }\n",
       "\n",
       "  var force = true;\n",
       "\n",
       "  if (typeof (root._bokeh_onload_callbacks) === \"undefined\" || force === true) {\n",
       "    root._bokeh_onload_callbacks = [];\n",
       "    root._bokeh_is_loading = undefined;\n",
       "  }\n",
       "\n",
       "  var JS_MIME_TYPE = 'application/javascript';\n",
       "  var HTML_MIME_TYPE = 'text/html';\n",
       "  var EXEC_MIME_TYPE = 'application/vnd.bokehjs_exec.v0+json';\n",
       "  var CLASS_NAME = 'output_bokeh rendered_html';\n",
       "\n",
       "  /**\n",
       "   * Render data to the DOM node\n",
       "   */\n",
       "  function render(props, node) {\n",
       "    var script = document.createElement(\"script\");\n",
       "    node.appendChild(script);\n",
       "  }\n",
       "\n",
       "  /**\n",
       "   * Handle when an output is cleared or removed\n",
       "   */\n",
       "  function handleClearOutput(event, handle) {\n",
       "    var cell = handle.cell;\n",
       "\n",
       "    var id = cell.output_area._bokeh_element_id;\n",
       "    var server_id = cell.output_area._bokeh_server_id;\n",
       "    // Clean up Bokeh references\n",
       "    if (id !== undefined) {\n",
       "      Bokeh.index[id].model.document.clear();\n",
       "      delete Bokeh.index[id];\n",
       "    }\n",
       "\n",
       "    if (server_id !== undefined) {\n",
       "      // Clean up Bokeh references\n",
       "      var cmd = \"from bokeh.io.state import curstate; print(curstate().uuid_to_server['\" + server_id + \"'].get_sessions()[0].document.roots[0]._id)\";\n",
       "      cell.notebook.kernel.execute(cmd, {\n",
       "        iopub: {\n",
       "          output: function(msg) {\n",
       "            var element_id = msg.content.text.trim();\n",
       "            Bokeh.index[element_id].model.document.clear();\n",
       "            delete Bokeh.index[element_id];\n",
       "          }\n",
       "        }\n",
       "      });\n",
       "      // Destroy server and session\n",
       "      var cmd = \"import bokeh.io.notebook as ion; ion.destroy_server('\" + server_id + \"')\";\n",
       "      cell.notebook.kernel.execute(cmd);\n",
       "    }\n",
       "  }\n",
       "\n",
       "  /**\n",
       "   * Handle when a new output is added\n",
       "   */\n",
       "  function handleAddOutput(event, handle) {\n",
       "    var output_area = handle.output_area;\n",
       "    var output = handle.output;\n",
       "\n",
       "    // limit handleAddOutput to display_data with EXEC_MIME_TYPE content only\n",
       "    if ((output.output_type != \"display_data\") || (!output.data.hasOwnProperty(EXEC_MIME_TYPE))) {\n",
       "      return\n",
       "    }\n",
       "\n",
       "    var toinsert = output_area.element.find(\".\" + CLASS_NAME.split(' ')[0]);\n",
       "\n",
       "    if (output.metadata[EXEC_MIME_TYPE][\"id\"] !== undefined) {\n",
       "      toinsert[0].firstChild.textContent = output.data[JS_MIME_TYPE];\n",
       "      // store reference to embed id on output_area\n",
       "      output_area._bokeh_element_id = output.metadata[EXEC_MIME_TYPE][\"id\"];\n",
       "    }\n",
       "    if (output.metadata[EXEC_MIME_TYPE][\"server_id\"] !== undefined) {\n",
       "      var bk_div = document.createElement(\"div\");\n",
       "      bk_div.innerHTML = output.data[HTML_MIME_TYPE];\n",
       "      var script_attrs = bk_div.children[0].attributes;\n",
       "      for (var i = 0; i < script_attrs.length; i++) {\n",
       "        toinsert[0].firstChild.setAttribute(script_attrs[i].name, script_attrs[i].value);\n",
       "      }\n",
       "      // store reference to server id on output_area\n",
       "      output_area._bokeh_server_id = output.metadata[EXEC_MIME_TYPE][\"server_id\"];\n",
       "    }\n",
       "  }\n",
       "\n",
       "  function register_renderer(events, OutputArea) {\n",
       "\n",
       "    function append_mime(data, metadata, element) {\n",
       "      // create a DOM node to render to\n",
       "      var toinsert = this.create_output_subarea(\n",
       "        metadata,\n",
       "        CLASS_NAME,\n",
       "        EXEC_MIME_TYPE\n",
       "      );\n",
       "      this.keyboard_manager.register_events(toinsert);\n",
       "      // Render to node\n",
       "      var props = {data: data, metadata: metadata[EXEC_MIME_TYPE]};\n",
       "      render(props, toinsert[0]);\n",
       "      element.append(toinsert);\n",
       "      return toinsert\n",
       "    }\n",
       "\n",
       "    /* Handle when an output is cleared or removed */\n",
       "    events.on('clear_output.CodeCell', handleClearOutput);\n",
       "    events.on('delete.Cell', handleClearOutput);\n",
       "\n",
       "    /* Handle when a new output is added */\n",
       "    events.on('output_added.OutputArea', handleAddOutput);\n",
       "\n",
       "    /**\n",
       "     * Register the mime type and append_mime function with output_area\n",
       "     */\n",
       "    OutputArea.prototype.register_mime_type(EXEC_MIME_TYPE, append_mime, {\n",
       "      /* Is output safe? */\n",
       "      safe: true,\n",
       "      /* Index of renderer in `output_area.display_order` */\n",
       "      index: 0\n",
       "    });\n",
       "  }\n",
       "\n",
       "  // register the mime type if in Jupyter Notebook environment and previously unregistered\n",
       "  if (root.Jupyter !== undefined) {\n",
       "    var events = require('base/js/events');\n",
       "    var OutputArea = require('notebook/js/outputarea').OutputArea;\n",
       "\n",
       "    if (OutputArea.prototype.mime_types().indexOf(EXEC_MIME_TYPE) == -1) {\n",
       "      register_renderer(events, OutputArea);\n",
       "    }\n",
       "  }\n",
       "\n",
       "  \n",
       "  if (typeof (root._bokeh_timeout) === \"undefined\" || force === true) {\n",
       "    root._bokeh_timeout = Date.now() + 5000;\n",
       "    root._bokeh_failed_load = false;\n",
       "  }\n",
       "\n",
       "  var NB_LOAD_WARNING = {'data': {'text/html':\n",
       "     \"<div style='background-color: #fdd'>\\n\"+\n",
       "     \"<p>\\n\"+\n",
       "     \"BokehJS does not appear to have successfully loaded. If loading BokehJS from CDN, this \\n\"+\n",
       "     \"may be due to a slow or bad network connection. Possible fixes:\\n\"+\n",
       "     \"</p>\\n\"+\n",
       "     \"<ul>\\n\"+\n",
       "     \"<li>re-rerun `output_notebook()` to attempt to load from CDN again, or</li>\\n\"+\n",
       "     \"<li>use INLINE resources instead, as so:</li>\\n\"+\n",
       "     \"</ul>\\n\"+\n",
       "     \"<code>\\n\"+\n",
       "     \"from bokeh.resources import INLINE\\n\"+\n",
       "     \"output_notebook(resources=INLINE)\\n\"+\n",
       "     \"</code>\\n\"+\n",
       "     \"</div>\"}};\n",
       "\n",
       "  function display_loaded() {\n",
       "    var el = document.getElementById(\"47a74a9b-9d9f-4d3f-9f5a-b7e91c4a5d44\");\n",
       "    if (el != null) {\n",
       "      el.textContent = \"BokehJS is loading...\";\n",
       "    }\n",
       "    if (root.Bokeh !== undefined) {\n",
       "      if (el != null) {\n",
       "        el.textContent = \"BokehJS \" + root.Bokeh.version + \" successfully loaded.\";\n",
       "      }\n",
       "    } else if (Date.now() < root._bokeh_timeout) {\n",
       "      setTimeout(display_loaded, 100)\n",
       "    }\n",
       "  }\n",
       "\n",
       "\n",
       "  function run_callbacks() {\n",
       "    try {\n",
       "      root._bokeh_onload_callbacks.forEach(function(callback) { callback() });\n",
       "    }\n",
       "    finally {\n",
       "      delete root._bokeh_onload_callbacks\n",
       "    }\n",
       "    console.info(\"Bokeh: all callbacks have finished\");\n",
       "  }\n",
       "\n",
       "  function load_libs(js_urls, callback) {\n",
       "    root._bokeh_onload_callbacks.push(callback);\n",
       "    if (root._bokeh_is_loading > 0) {\n",
       "      console.log(\"Bokeh: BokehJS is being loaded, scheduling callback at\", now());\n",
       "      return null;\n",
       "    }\n",
       "    if (js_urls == null || js_urls.length === 0) {\n",
       "      run_callbacks();\n",
       "      return null;\n",
       "    }\n",
       "    console.log(\"Bokeh: BokehJS not loaded, scheduling load and callback at\", now());\n",
       "    root._bokeh_is_loading = js_urls.length;\n",
       "    for (var i = 0; i < js_urls.length; i++) {\n",
       "      var url = js_urls[i];\n",
       "      var s = document.createElement('script');\n",
       "      s.src = url;\n",
       "      s.async = false;\n",
       "      s.onreadystatechange = s.onload = function() {\n",
       "        root._bokeh_is_loading--;\n",
       "        if (root._bokeh_is_loading === 0) {\n",
       "          console.log(\"Bokeh: all BokehJS libraries loaded\");\n",
       "          run_callbacks()\n",
       "        }\n",
       "      };\n",
       "      s.onerror = function() {\n",
       "        console.warn(\"failed to load library \" + url);\n",
       "      };\n",
       "      console.log(\"Bokeh: injecting script tag for BokehJS library: \", url);\n",
       "      document.getElementsByTagName(\"head\")[0].appendChild(s);\n",
       "    }\n",
       "  };var element = document.getElementById(\"47a74a9b-9d9f-4d3f-9f5a-b7e91c4a5d44\");\n",
       "  if (element == null) {\n",
       "    console.log(\"Bokeh: ERROR: autoload.js configured with elementid '47a74a9b-9d9f-4d3f-9f5a-b7e91c4a5d44' but no matching script tag was found. \")\n",
       "    return false;\n",
       "  }\n",
       "\n",
       "  var js_urls = [\"https://cdn.pydata.org/bokeh/release/bokeh-0.12.14.min.js\", \"https://cdn.pydata.org/bokeh/release/bokeh-widgets-0.12.14.min.js\", \"https://cdn.pydata.org/bokeh/release/bokeh-tables-0.12.14.min.js\", \"https://cdn.pydata.org/bokeh/release/bokeh-gl-0.12.14.min.js\"];\n",
       "\n",
       "  var inline_js = [\n",
       "    function(Bokeh) {\n",
       "      Bokeh.set_log_level(\"info\");\n",
       "    },\n",
       "    \n",
       "    function(Bokeh) {\n",
       "      \n",
       "    },\n",
       "    function(Bokeh) {\n",
       "      console.log(\"Bokeh: injecting CSS: https://cdn.pydata.org/bokeh/release/bokeh-0.12.14.min.css\");\n",
       "      Bokeh.embed.inject_css(\"https://cdn.pydata.org/bokeh/release/bokeh-0.12.14.min.css\");\n",
       "      console.log(\"Bokeh: injecting CSS: https://cdn.pydata.org/bokeh/release/bokeh-widgets-0.12.14.min.css\");\n",
       "      Bokeh.embed.inject_css(\"https://cdn.pydata.org/bokeh/release/bokeh-widgets-0.12.14.min.css\");\n",
       "      console.log(\"Bokeh: injecting CSS: https://cdn.pydata.org/bokeh/release/bokeh-tables-0.12.14.min.css\");\n",
       "      Bokeh.embed.inject_css(\"https://cdn.pydata.org/bokeh/release/bokeh-tables-0.12.14.min.css\");\n",
       "    }\n",
       "  ];\n",
       "\n",
       "  function run_inline_js() {\n",
       "    \n",
       "    if ((root.Bokeh !== undefined) || (force === true)) {\n",
       "      for (var i = 0; i < inline_js.length; i++) {\n",
       "        inline_js[i].call(root, root.Bokeh);\n",
       "      }if (force === true) {\n",
       "        display_loaded();\n",
       "      }} else if (Date.now() < root._bokeh_timeout) {\n",
       "      setTimeout(run_inline_js, 100);\n",
       "    } else if (!root._bokeh_failed_load) {\n",
       "      console.log(\"Bokeh: BokehJS failed to load within specified timeout.\");\n",
       "      root._bokeh_failed_load = true;\n",
       "    } else if (force !== true) {\n",
       "      var cell = $(document.getElementById(\"47a74a9b-9d9f-4d3f-9f5a-b7e91c4a5d44\")).parents('.cell').data().cell;\n",
       "      cell.output_area.append_execute_result(NB_LOAD_WARNING)\n",
       "    }\n",
       "\n",
       "  }\n",
       "\n",
       "  if (root._bokeh_is_loading === 0) {\n",
       "    console.log(\"Bokeh: BokehJS loaded, going straight to plotting\");\n",
       "    run_inline_js();\n",
       "  } else {\n",
       "    load_libs(js_urls, function() {\n",
       "      console.log(\"Bokeh: BokehJS plotting callback run at\", now());\n",
       "      run_inline_js();\n",
       "    });\n",
       "  }\n",
       "}(window));"
      ],
      "application/vnd.bokehjs_load.v0+json": "\n(function(root) {\n  function now() {\n    return new Date();\n  }\n\n  var force = true;\n\n  if (typeof (root._bokeh_onload_callbacks) === \"undefined\" || force === true) {\n    root._bokeh_onload_callbacks = [];\n    root._bokeh_is_loading = undefined;\n  }\n\n  \n\n  \n  if (typeof (root._bokeh_timeout) === \"undefined\" || force === true) {\n    root._bokeh_timeout = Date.now() + 5000;\n    root._bokeh_failed_load = false;\n  }\n\n  var NB_LOAD_WARNING = {'data': {'text/html':\n     \"<div style='background-color: #fdd'>\\n\"+\n     \"<p>\\n\"+\n     \"BokehJS does not appear to have successfully loaded. If loading BokehJS from CDN, this \\n\"+\n     \"may be due to a slow or bad network connection. Possible fixes:\\n\"+\n     \"</p>\\n\"+\n     \"<ul>\\n\"+\n     \"<li>re-rerun `output_notebook()` to attempt to load from CDN again, or</li>\\n\"+\n     \"<li>use INLINE resources instead, as so:</li>\\n\"+\n     \"</ul>\\n\"+\n     \"<code>\\n\"+\n     \"from bokeh.resources import INLINE\\n\"+\n     \"output_notebook(resources=INLINE)\\n\"+\n     \"</code>\\n\"+\n     \"</div>\"}};\n\n  function display_loaded() {\n    var el = document.getElementById(\"47a74a9b-9d9f-4d3f-9f5a-b7e91c4a5d44\");\n    if (el != null) {\n      el.textContent = \"BokehJS is loading...\";\n    }\n    if (root.Bokeh !== undefined) {\n      if (el != null) {\n        el.textContent = \"BokehJS \" + root.Bokeh.version + \" successfully loaded.\";\n      }\n    } else if (Date.now() < root._bokeh_timeout) {\n      setTimeout(display_loaded, 100)\n    }\n  }\n\n\n  function run_callbacks() {\n    try {\n      root._bokeh_onload_callbacks.forEach(function(callback) { callback() });\n    }\n    finally {\n      delete root._bokeh_onload_callbacks\n    }\n    console.info(\"Bokeh: all callbacks have finished\");\n  }\n\n  function load_libs(js_urls, callback) {\n    root._bokeh_onload_callbacks.push(callback);\n    if (root._bokeh_is_loading > 0) {\n      console.log(\"Bokeh: BokehJS is being loaded, scheduling callback at\", now());\n      return null;\n    }\n    if (js_urls == null || js_urls.length === 0) {\n      run_callbacks();\n      return null;\n    }\n    console.log(\"Bokeh: BokehJS not loaded, scheduling load and callback at\", now());\n    root._bokeh_is_loading = js_urls.length;\n    for (var i = 0; i < js_urls.length; i++) {\n      var url = js_urls[i];\n      var s = document.createElement('script');\n      s.src = url;\n      s.async = false;\n      s.onreadystatechange = s.onload = function() {\n        root._bokeh_is_loading--;\n        if (root._bokeh_is_loading === 0) {\n          console.log(\"Bokeh: all BokehJS libraries loaded\");\n          run_callbacks()\n        }\n      };\n      s.onerror = function() {\n        console.warn(\"failed to load library \" + url);\n      };\n      console.log(\"Bokeh: injecting script tag for BokehJS library: \", url);\n      document.getElementsByTagName(\"head\")[0].appendChild(s);\n    }\n  };var element = document.getElementById(\"47a74a9b-9d9f-4d3f-9f5a-b7e91c4a5d44\");\n  if (element == null) {\n    console.log(\"Bokeh: ERROR: autoload.js configured with elementid '47a74a9b-9d9f-4d3f-9f5a-b7e91c4a5d44' but no matching script tag was found. \")\n    return false;\n  }\n\n  var js_urls = [\"https://cdn.pydata.org/bokeh/release/bokeh-0.12.14.min.js\", \"https://cdn.pydata.org/bokeh/release/bokeh-widgets-0.12.14.min.js\", \"https://cdn.pydata.org/bokeh/release/bokeh-tables-0.12.14.min.js\", \"https://cdn.pydata.org/bokeh/release/bokeh-gl-0.12.14.min.js\"];\n\n  var inline_js = [\n    function(Bokeh) {\n      Bokeh.set_log_level(\"info\");\n    },\n    \n    function(Bokeh) {\n      \n    },\n    function(Bokeh) {\n      console.log(\"Bokeh: injecting CSS: https://cdn.pydata.org/bokeh/release/bokeh-0.12.14.min.css\");\n      Bokeh.embed.inject_css(\"https://cdn.pydata.org/bokeh/release/bokeh-0.12.14.min.css\");\n      console.log(\"Bokeh: injecting CSS: https://cdn.pydata.org/bokeh/release/bokeh-widgets-0.12.14.min.css\");\n      Bokeh.embed.inject_css(\"https://cdn.pydata.org/bokeh/release/bokeh-widgets-0.12.14.min.css\");\n      console.log(\"Bokeh: injecting CSS: https://cdn.pydata.org/bokeh/release/bokeh-tables-0.12.14.min.css\");\n      Bokeh.embed.inject_css(\"https://cdn.pydata.org/bokeh/release/bokeh-tables-0.12.14.min.css\");\n    }\n  ];\n\n  function run_inline_js() {\n    \n    if ((root.Bokeh !== undefined) || (force === true)) {\n      for (var i = 0; i < inline_js.length; i++) {\n        inline_js[i].call(root, root.Bokeh);\n      }if (force === true) {\n        display_loaded();\n      }} else if (Date.now() < root._bokeh_timeout) {\n      setTimeout(run_inline_js, 100);\n    } else if (!root._bokeh_failed_load) {\n      console.log(\"Bokeh: BokehJS failed to load within specified timeout.\");\n      root._bokeh_failed_load = true;\n    } else if (force !== true) {\n      var cell = $(document.getElementById(\"47a74a9b-9d9f-4d3f-9f5a-b7e91c4a5d44\")).parents('.cell').data().cell;\n      cell.output_area.append_execute_result(NB_LOAD_WARNING)\n    }\n\n  }\n\n  if (root._bokeh_is_loading === 0) {\n    console.log(\"Bokeh: BokehJS loaded, going straight to plotting\");\n    run_inline_js();\n  } else {\n    load_libs(js_urls, function() {\n      console.log(\"Bokeh: BokehJS plotting callback run at\", now());\n      run_inline_js();\n    });\n  }\n}(window));"
     },
     "metadata": {},
     "output_type": "display_data"
    }
   ],
   "source": [
    "import numpy as np\n",
    "import pandas as pd\n",
    "from sympy import *\n",
    "from ipywidgets import interact\n",
    "from bokeh.io import push_notebook, show, output_notebook\n",
    "from bokeh.plotting import figure, output_file\n",
    "\n",
    "output_notebook()\n",
    "# sym.init_printing() これ実行すると描画システムに影響を与えるので実行しない"
   ]
  },
  {
   "cell_type": "markdown",
   "metadata": {},
   "source": [
    "[sympy](http://docs.sympy.org/latest/index.html)を使う  \n",
    "numpyは数値配列(離散的なデータ)を扱うのに対し、sympyは数式を数式のまま扱ってくれる  \n",
    "例えば、numpyは無理数に対して近似的な計算を行ってしまうが、sympyは無理数を無理数のままで計算するので、理論上誤差が発生しない  \n",
    "詳細は[ここ](http://docs.sympy.org/latest/tutorial/intro.html#what-is-symbolic-computation)を参照"
   ]
  },
  {
   "cell_type": "code",
   "execution_count": 2,
   "metadata": {},
   "outputs": [],
   "source": [
    "## データの定義\n",
    "data_x_array = np.arange(0, 1, 0.01)\n",
    "data_mu_array = np.arange(0, 1, 0.01)\n",
    "\n",
    "def my_beta(data_a, data_b, data_mu):\n",
    "    '''\n",
    "    ベータ分布の確率密度関数\n",
    "    a, bを設定した上で任意のmuを入れると、muがその値である確率を返す\n",
    "    data_a: a > 0\n",
    "    data_b: b > 0\n",
    "    data_mu: 0 <= mu <= 1\n",
    "    '''\n",
    "    # sympyでは、変数に使うアルファベットをあらかじめ定義する\n",
    "    # ここで使用したアルファベットを他の変数として使ってはならない\n",
    "    a, b, t, x, mu = symbols('a b t x mu')\n",
    "    \n",
    "    # 関数の定義\n",
    "    Gamma = Integral(t**(x - 1) * exp(-t), (t, 0, oo)) # ガンマ関数、この段階では積分を定義するだけで計算は行わない\n",
    "    C = Gamma.subs(x, a + b) / (Gamma.subs(x, a) * Gamma.subs(x, b)) # ベータ分布の正規化項\n",
    "    Beta = C * mu**(a - 1) * (1 - mu)**(b - 1) # ベータ分布の確率密度関数\n",
    "    \n",
    "    # a, bが与えられたときのmuの確率を計算\n",
    "    prob = Beta.subs([(a, data_a), (b, data_b), (mu, data_mu)]).doit() # doit()は積分を計算するコマンド\n",
    "    return np.float(prob)\n",
    "\n",
    "data_prob_array = np.array([my_beta(1, 1, data_mu) for data_mu in data_mu_array]) # デフォルトではa=1, b=1の分布を描画する\n",
    "# beta(a, b, mu)はsympy.core.numbers.NUMBERを返すので、floatに変換する必要がある"
   ]
  },
  {
   "cell_type": "code",
   "execution_count": 97,
   "metadata": {},
   "outputs": [],
   "source": [
    "# アウトプットファイル\n",
    "output_file(\"beta.html\")"
   ]
  },
  {
   "cell_type": "code",
   "execution_count": 4,
   "metadata": {},
   "outputs": [],
   "source": [
    "## figure()を宣言\n",
    "p = figure(title = \"Beta distribution\",\n",
    "          plot_height = 300,\n",
    "          plot_width = 600,\n",
    "          y_range = (0, 8))"
   ]
  },
  {
   "cell_type": "code",
   "execution_count": 5,
   "metadata": {},
   "outputs": [],
   "source": [
    "## rendererを追加\n",
    "r = p.line(data_x_array, data_prob_array, line_width = 3)"
   ]
  },
  {
   "cell_type": "code",
   "execution_count": 6,
   "metadata": {},
   "outputs": [],
   "source": [
    "## interactorを定義\n",
    "def update(data_a=1, data_b=1):\n",
    "    r.data_source.data['y'] = np.array([my_beta(data_a, data_b, data_mu) for data_mu in data_mu_array])\n",
    "    push_notebook()"
   ]
  },
  {
   "cell_type": "code",
   "execution_count": 7,
   "metadata": {
    "scrolled": true
   },
   "outputs": [
    {
     "data": {
      "text/html": [
       "\n",
       "<div class=\"bk-root\">\n",
       "    <div class=\"bk-plotdiv\" id=\"f02d4aba-45fd-44dd-ae12-bf7cd5383796\"></div>\n",
       "</div>"
      ]
     },
     "metadata": {},
     "output_type": "display_data"
    },
    {
     "data": {
      "application/javascript": [
       "(function(root) {\n",
       "  function embed_document(root) {\n",
       "    \n",
       "  var docs_json = {\"dd0f1058-e288-4c0f-8dec-749dbd169079\":{\"roots\":{\"references\":[{\"attributes\":{\"line_color\":\"#1f77b4\",\"line_width\":3,\"x\":{\"field\":\"x\"},\"y\":{\"field\":\"y\"}},\"id\":\"fa2292e6-dc24-4ee0-9599-29988c77501b\",\"type\":\"Line\"},{\"attributes\":{\"formatter\":{\"id\":\"9504ca7a-23a6-431b-a262-cd1c7a2b8632\",\"type\":\"BasicTickFormatter\"},\"plot\":{\"id\":\"d9d4ab5e-6c4a-49d8-b28a-e22b54eca92e\",\"subtype\":\"Figure\",\"type\":\"Plot\"},\"ticker\":{\"id\":\"270c9671-5802-4b0e-b6c6-1b68b4db7d7e\",\"type\":\"BasicTicker\"}},\"id\":\"ebbef78a-322a-4ccb-90fb-d89000d0933e\",\"type\":\"LinearAxis\"},{\"attributes\":{},\"id\":\"270c9671-5802-4b0e-b6c6-1b68b4db7d7e\",\"type\":\"BasicTicker\"},{\"attributes\":{\"plot\":null,\"text\":\"Beta distribution\"},\"id\":\"6145f239-e835-4602-9715-393f6ffd1f6a\",\"type\":\"Title\"},{\"attributes\":{},\"id\":\"10cbf5d3-b015-4709-9ee2-aed52d4e0056\",\"type\":\"HelpTool\"},{\"attributes\":{\"active_drag\":\"auto\",\"active_inspect\":\"auto\",\"active_scroll\":\"auto\",\"active_tap\":\"auto\",\"tools\":[{\"id\":\"e710fed5-4507-4f0e-bc08-c123fa70be65\",\"type\":\"PanTool\"},{\"id\":\"b13d8913-8a5f-4052-9d5b-e848f7cb7acc\",\"type\":\"WheelZoomTool\"},{\"id\":\"0da43538-c4a9-4751-b8df-827d7c076fe8\",\"type\":\"BoxZoomTool\"},{\"id\":\"0e16ffda-1fb4-4a18-b35c-6267f1aadfcb\",\"type\":\"SaveTool\"},{\"id\":\"53433735-7542-488d-8f77-d51f4f00a1da\",\"type\":\"ResetTool\"},{\"id\":\"10cbf5d3-b015-4709-9ee2-aed52d4e0056\",\"type\":\"HelpTool\"}]},\"id\":\"3305ac4a-cc9b-4855-85fd-dee95323e588\",\"type\":\"Toolbar\"},{\"attributes\":{},\"id\":\"e710fed5-4507-4f0e-bc08-c123fa70be65\",\"type\":\"PanTool\"},{\"attributes\":{},\"id\":\"e9798d0c-4e50-4513-b68d-9d63297de31c\",\"type\":\"BasicTicker\"},{\"attributes\":{},\"id\":\"dcad0804-c701-4fc0-9112-9774c8218f6c\",\"type\":\"LinearScale\"},{\"attributes\":{\"source\":{\"id\":\"9f10eae8-ce5d-4c69-857a-63c47d721d9d\",\"type\":\"ColumnDataSource\"}},\"id\":\"98c30157-acd0-4d87-a549-02dddcc93390\",\"type\":\"CDSView\"},{\"attributes\":{\"below\":[{\"id\":\"0916056e-dde9-4365-a949-8cc7b676a0b5\",\"type\":\"LinearAxis\"}],\"left\":[{\"id\":\"ebbef78a-322a-4ccb-90fb-d89000d0933e\",\"type\":\"LinearAxis\"}],\"plot_height\":300,\"renderers\":[{\"id\":\"0916056e-dde9-4365-a949-8cc7b676a0b5\",\"type\":\"LinearAxis\"},{\"id\":\"68d090cb-4e79-40ee-a345-e537de73cf0e\",\"type\":\"Grid\"},{\"id\":\"ebbef78a-322a-4ccb-90fb-d89000d0933e\",\"type\":\"LinearAxis\"},{\"id\":\"1b4674cd-e462-4cb7-9e94-36f9e6f7f510\",\"type\":\"Grid\"},{\"id\":\"04916336-5af0-483f-b28a-3fd375a309a8\",\"type\":\"BoxAnnotation\"},{\"id\":\"d5d8c6a4-2b0c-435e-a4f3-b2942847f2f4\",\"type\":\"GlyphRenderer\"}],\"title\":{\"id\":\"6145f239-e835-4602-9715-393f6ffd1f6a\",\"type\":\"Title\"},\"toolbar\":{\"id\":\"3305ac4a-cc9b-4855-85fd-dee95323e588\",\"type\":\"Toolbar\"},\"x_range\":{\"id\":\"2e824573-7bc8-4085-87eb-c06df9260445\",\"type\":\"DataRange1d\"},\"x_scale\":{\"id\":\"dcad0804-c701-4fc0-9112-9774c8218f6c\",\"type\":\"LinearScale\"},\"y_range\":{\"id\":\"58945cf4-547e-41d6-9301-30a769bd2c94\",\"type\":\"Range1d\"},\"y_scale\":{\"id\":\"8fbe3726-15a7-440a-bce7-43e5cfecc644\",\"type\":\"LinearScale\"}},\"id\":\"d9d4ab5e-6c4a-49d8-b28a-e22b54eca92e\",\"subtype\":\"Figure\",\"type\":\"Plot\"},{\"attributes\":{},\"id\":\"0e16ffda-1fb4-4a18-b35c-6267f1aadfcb\",\"type\":\"SaveTool\"},{\"attributes\":{},\"id\":\"6cf60f64-e164-4e23-bd89-65c9ec94c5d6\",\"type\":\"BasicTickFormatter\"},{\"attributes\":{\"callback\":null,\"end\":8},\"id\":\"58945cf4-547e-41d6-9301-30a769bd2c94\",\"type\":\"Range1d\"},{\"attributes\":{\"plot\":{\"id\":\"d9d4ab5e-6c4a-49d8-b28a-e22b54eca92e\",\"subtype\":\"Figure\",\"type\":\"Plot\"},\"ticker\":{\"id\":\"e9798d0c-4e50-4513-b68d-9d63297de31c\",\"type\":\"BasicTicker\"}},\"id\":\"68d090cb-4e79-40ee-a345-e537de73cf0e\",\"type\":\"Grid\"},{\"attributes\":{\"data_source\":{\"id\":\"9f10eae8-ce5d-4c69-857a-63c47d721d9d\",\"type\":\"ColumnDataSource\"},\"glyph\":{\"id\":\"fa2292e6-dc24-4ee0-9599-29988c77501b\",\"type\":\"Line\"},\"hover_glyph\":null,\"muted_glyph\":null,\"nonselection_glyph\":{\"id\":\"4bc218ed-80d2-402d-a091-e1442548d87f\",\"type\":\"Line\"},\"selection_glyph\":null,\"view\":{\"id\":\"98c30157-acd0-4d87-a549-02dddcc93390\",\"type\":\"CDSView\"}},\"id\":\"d5d8c6a4-2b0c-435e-a4f3-b2942847f2f4\",\"type\":\"GlyphRenderer\"},{\"attributes\":{\"dimension\":1,\"plot\":{\"id\":\"d9d4ab5e-6c4a-49d8-b28a-e22b54eca92e\",\"subtype\":\"Figure\",\"type\":\"Plot\"},\"ticker\":{\"id\":\"270c9671-5802-4b0e-b6c6-1b68b4db7d7e\",\"type\":\"BasicTicker\"}},\"id\":\"1b4674cd-e462-4cb7-9e94-36f9e6f7f510\",\"type\":\"Grid\"},{\"attributes\":{\"line_alpha\":0.1,\"line_color\":\"#1f77b4\",\"line_width\":3,\"x\":{\"field\":\"x\"},\"y\":{\"field\":\"y\"}},\"id\":\"4bc218ed-80d2-402d-a091-e1442548d87f\",\"type\":\"Line\"},{\"attributes\":{\"callback\":null,\"column_names\":[\"x\",\"y\"],\"data\":{\"x\":{\"__ndarray__\":\"AAAAAAAAAAB7FK5H4XqEP3sUrkfhepQ/uB6F61G4nj97FK5H4XqkP5qZmZmZmak/uB6F61G4rj/sUbgeheuxP3sUrkfherQ/CtejcD0Ktz+amZmZmZm5Pylcj8L1KLw/uB6F61G4vj+kcD0K16PAP+xRuB6F68E/MzMzMzMzwz97FK5H4XrEP8P1KFyPwsU/CtejcD0Kxz9SuB6F61HIP5qZmZmZmck/4XoUrkfhyj8pXI/C9SjMP3E9CtejcM0/uB6F61G4zj8AAAAAAADQP6RwPQrXo9A/SOF6FK5H0T/sUbgehevRP4/C9Shcj9I/MzMzMzMz0z/Xo3A9CtfTP3sUrkfhetQ/H4XrUbge1T/D9Shcj8LVP2dmZmZmZtY/CtejcD0K1z+uR+F6FK7XP1K4HoXrUdg/9ihcj8L12D+amZmZmZnZPz4K16NwPdo/4XoUrkfh2j+F61G4HoXbPylcj8L1KNw/zczMzMzM3D9xPQrXo3DdPxWuR+F6FN4/uB6F61G43j9cj8L1KFzfPwAAAAAAAOA/UrgehetR4D+kcD0K16PgP/YoXI/C9eA/SOF6FK5H4T+amZmZmZnhP+xRuB6F6+E/PgrXo3A94j+PwvUoXI/iP+F6FK5H4eI/MzMzMzMz4z+F61G4HoXjP9ejcD0K1+M/KVyPwvUo5D97FK5H4XrkP83MzMzMzOQ/H4XrUbge5T9xPQrXo3DlP8P1KFyPwuU/Fa5H4XoU5j9nZmZmZmbmP7gehetRuOY/CtejcD0K5z9cj8L1KFznP65H4XoUruc/AAAAAAAA6D9SuB6F61HoP6RwPQrXo+g/9ihcj8L16D9I4XoUrkfpP5qZmZmZmek/7FG4HoXr6T8+CtejcD3qP5DC9Shcj+o/4XoUrkfh6j8zMzMzMzPrP4XrUbgehes/16NwPQrX6z8pXI/C9SjsP3sUrkfheuw/zczMzMzM7D8fhetRuB7tP3E9CtejcO0/w/UoXI/C7T8VrkfhehTuP2dmZmZmZu4/uB6F61G47j8K16NwPQrvP1yPwvUoXO8/rkfhehSu7z8=\",\"dtype\":\"float64\",\"shape\":[100]},\"y\":{\"__ndarray__\":\"AAAAAAAA8D8AAAAAAADwPwAAAAAAAPA/AAAAAAAA8D8AAAAAAADwPwAAAAAAAPA/AAAAAAAA8D8AAAAAAADwPwAAAAAAAPA/AAAAAAAA8D8AAAAAAADwPwAAAAAAAPA/AAAAAAAA8D8AAAAAAADwPwAAAAAAAPA/AAAAAAAA8D8AAAAAAADwPwAAAAAAAPA/AAAAAAAA8D8AAAAAAADwPwAAAAAAAPA/AAAAAAAA8D8AAAAAAADwPwAAAAAAAPA/AAAAAAAA8D8AAAAAAADwPwAAAAAAAPA/AAAAAAAA8D8AAAAAAADwPwAAAAAAAPA/AAAAAAAA8D8AAAAAAADwPwAAAAAAAPA/AAAAAAAA8D8AAAAAAADwPwAAAAAAAPA/AAAAAAAA8D8AAAAAAADwPwAAAAAAAPA/AAAAAAAA8D8AAAAAAADwPwAAAAAAAPA/AAAAAAAA8D8AAAAAAADwPwAAAAAAAPA/AAAAAAAA8D8AAAAAAADwPwAAAAAAAPA/AAAAAAAA8D8AAAAAAADwPwAAAAAAAPA/AAAAAAAA8D8AAAAAAADwPwAAAAAAAPA/AAAAAAAA8D8AAAAAAADwPwAAAAAAAPA/AAAAAAAA8D8AAAAAAADwPwAAAAAAAPA/AAAAAAAA8D8AAAAAAADwPwAAAAAAAPA/AAAAAAAA8D8AAAAAAADwPwAAAAAAAPA/AAAAAAAA8D8AAAAAAADwPwAAAAAAAPA/AAAAAAAA8D8AAAAAAADwPwAAAAAAAPA/AAAAAAAA8D8AAAAAAADwPwAAAAAAAPA/AAAAAAAA8D8AAAAAAADwPwAAAAAAAPA/AAAAAAAA8D8AAAAAAADwPwAAAAAAAPA/AAAAAAAA8D8AAAAAAADwPwAAAAAAAPA/AAAAAAAA8D8AAAAAAADwPwAAAAAAAPA/AAAAAAAA8D8AAAAAAADwPwAAAAAAAPA/AAAAAAAA8D8AAAAAAADwPwAAAAAAAPA/AAAAAAAA8D8AAAAAAADwPwAAAAAAAPA/AAAAAAAA8D8AAAAAAADwPwAAAAAAAPA/AAAAAAAA8D8=\",\"dtype\":\"float64\",\"shape\":[100]}}},\"id\":\"9f10eae8-ce5d-4c69-857a-63c47d721d9d\",\"type\":\"ColumnDataSource\"},{\"attributes\":{},\"id\":\"9504ca7a-23a6-431b-a262-cd1c7a2b8632\",\"type\":\"BasicTickFormatter\"},{\"attributes\":{\"bottom_units\":\"screen\",\"fill_alpha\":{\"value\":0.5},\"fill_color\":{\"value\":\"lightgrey\"},\"left_units\":\"screen\",\"level\":\"overlay\",\"line_alpha\":{\"value\":1.0},\"line_color\":{\"value\":\"black\"},\"line_dash\":[4,4],\"line_width\":{\"value\":2},\"plot\":null,\"render_mode\":\"css\",\"right_units\":\"screen\",\"top_units\":\"screen\"},\"id\":\"04916336-5af0-483f-b28a-3fd375a309a8\",\"type\":\"BoxAnnotation\"},{\"attributes\":{\"overlay\":{\"id\":\"04916336-5af0-483f-b28a-3fd375a309a8\",\"type\":\"BoxAnnotation\"}},\"id\":\"0da43538-c4a9-4751-b8df-827d7c076fe8\",\"type\":\"BoxZoomTool\"},{\"attributes\":{},\"id\":\"53433735-7542-488d-8f77-d51f4f00a1da\",\"type\":\"ResetTool\"},{\"attributes\":{},\"id\":\"b13d8913-8a5f-4052-9d5b-e848f7cb7acc\",\"type\":\"WheelZoomTool\"},{\"attributes\":{\"callback\":null},\"id\":\"2e824573-7bc8-4085-87eb-c06df9260445\",\"type\":\"DataRange1d\"},{\"attributes\":{},\"id\":\"8fbe3726-15a7-440a-bce7-43e5cfecc644\",\"type\":\"LinearScale\"},{\"attributes\":{\"formatter\":{\"id\":\"6cf60f64-e164-4e23-bd89-65c9ec94c5d6\",\"type\":\"BasicTickFormatter\"},\"plot\":{\"id\":\"d9d4ab5e-6c4a-49d8-b28a-e22b54eca92e\",\"subtype\":\"Figure\",\"type\":\"Plot\"},\"ticker\":{\"id\":\"e9798d0c-4e50-4513-b68d-9d63297de31c\",\"type\":\"BasicTicker\"}},\"id\":\"0916056e-dde9-4365-a949-8cc7b676a0b5\",\"type\":\"LinearAxis\"}],\"root_ids\":[\"d9d4ab5e-6c4a-49d8-b28a-e22b54eca92e\"]},\"title\":\"Bokeh Application\",\"version\":\"0.12.14\"}};\n",
       "  var render_items = [{\"docid\":\"dd0f1058-e288-4c0f-8dec-749dbd169079\",\"elementid\":\"f02d4aba-45fd-44dd-ae12-bf7cd5383796\",\"modelid\":\"d9d4ab5e-6c4a-49d8-b28a-e22b54eca92e\",\"notebook_comms_target\":\"7d169f63-ca42-4b36-979e-20d53e4c2891\"}];\n",
       "  root.Bokeh.embed.embed_items_notebook(docs_json, render_items);\n",
       "\n",
       "  }\n",
       "  if (root.Bokeh !== undefined) {\n",
       "    embed_document(root);\n",
       "  } else {\n",
       "    var attempts = 0;\n",
       "    var timer = setInterval(function(root) {\n",
       "      if (root.Bokeh !== undefined) {\n",
       "        embed_document(root);\n",
       "        clearInterval(timer);\n",
       "      }\n",
       "      attempts++;\n",
       "      if (attempts > 100) {\n",
       "        console.log(\"Bokeh: ERROR: Unable to run BokehJS code because BokehJS library is missing\")\n",
       "        clearInterval(timer);\n",
       "      }\n",
       "    }, 10, root)\n",
       "  }\n",
       "})(window);"
      ],
      "application/vnd.bokehjs_exec.v0+json": ""
     },
     "metadata": {
      "application/vnd.bokehjs_exec.v0+json": {
       "id": "d9d4ab5e-6c4a-49d8-b28a-e22b54eca92e"
      }
     },
     "output_type": "display_data"
    },
    {
     "data": {
      "text/html": [
       "<p><code>&lt;Bokeh Notebook handle for <strong>In[7]</strong>&gt;</code></p>"
      ],
      "text/plain": [
       "<bokeh.io.notebook.CommsHandle at 0x110a132e8>"
      ]
     },
     "execution_count": 7,
     "metadata": {},
     "output_type": "execute_result"
    }
   ],
   "source": [
    "## 描画\n",
    "show(p, notebook_handle=True)"
   ]
  },
  {
   "cell_type": "code",
   "execution_count": 8,
   "metadata": {
    "scrolled": false
   },
   "outputs": [
    {
     "data": {
      "application/vnd.jupyter.widget-view+json": {
       "model_id": "1f06b4bb13d549d988562b6405947d88",
       "version_major": 2,
       "version_minor": 0
      },
      "text/html": [
       "<p>Failed to display Jupyter Widget of type <code>interactive</code>.</p>\n",
       "<p>\n",
       "  If you're reading this message in the Jupyter Notebook or JupyterLab Notebook, it may mean\n",
       "  that the widgets JavaScript is still loading. If this message persists, it\n",
       "  likely means that the widgets JavaScript library is either not installed or\n",
       "  not enabled. See the <a href=\"https://ipywidgets.readthedocs.io/en/stable/user_install.html\">Jupyter\n",
       "  Widgets Documentation</a> for setup instructions.\n",
       "</p>\n",
       "<p>\n",
       "  If you're reading this message in another frontend (for example, a static\n",
       "  rendering on GitHub or <a href=\"https://nbviewer.jupyter.org/\">NBViewer</a>),\n",
       "  it may mean that your frontend doesn't currently support widgets.\n",
       "</p>\n"
      ],
      "text/plain": [
       "interactive(children=(FloatSlider(value=1.0, description='data_a', max=20.0, step=0.5), FloatSlider(value=1.0, description='data_b', max=20.0, step=0.5), Output()), _dom_classes=('widget-interact',))"
      ]
     },
     "metadata": {},
     "output_type": "display_data"
    },
    {
     "data": {
      "text/plain": [
       "<function __main__.update>"
      ]
     },
     "execution_count": 8,
     "metadata": {},
     "output_type": "execute_result"
    }
   ],
   "source": [
    "## interactorの実行\n",
    "interact(update, data_a = (0, 20, 0.5), data_b = (0, 20, 0.5))"
   ]
  },
  {
   "cell_type": "code",
   "execution_count": 16,
   "metadata": {},
   "outputs": [
    {
     "data": {
      "text/html": [
       "\n",
       "<div class=\"bk-root\">\n",
       "    <div class=\"bk-plotdiv\" id=\"7c1a344a-9f2e-46d7-8868-0d5620d62a4b\"></div>\n",
       "</div>"
      ]
     },
     "metadata": {},
     "output_type": "display_data"
    },
    {
     "data": {
      "application/javascript": [
       "(function(root) {\n",
       "  function embed_document(root) {\n",
       "    \n",
       "  var docs_json = {\"55b75a24-440a-44cd-8985-6f15c8efcd9b\":{\"roots\":{\"references\":[{\"attributes\":{\"line_color\":\"#1f77b4\",\"line_width\":3,\"x\":{\"field\":\"x\"},\"y\":{\"field\":\"y\"}},\"id\":\"fa2292e6-dc24-4ee0-9599-29988c77501b\",\"type\":\"Line\"},{\"attributes\":{\"formatter\":{\"id\":\"9504ca7a-23a6-431b-a262-cd1c7a2b8632\",\"type\":\"BasicTickFormatter\"},\"plot\":{\"id\":\"d9d4ab5e-6c4a-49d8-b28a-e22b54eca92e\",\"subtype\":\"Figure\",\"type\":\"Plot\"},\"ticker\":{\"id\":\"270c9671-5802-4b0e-b6c6-1b68b4db7d7e\",\"type\":\"BasicTicker\"}},\"id\":\"ebbef78a-322a-4ccb-90fb-d89000d0933e\",\"type\":\"LinearAxis\"},{\"attributes\":{},\"id\":\"270c9671-5802-4b0e-b6c6-1b68b4db7d7e\",\"type\":\"BasicTicker\"},{\"attributes\":{\"plot\":null,\"text\":\"Beta distribution\"},\"id\":\"6145f239-e835-4602-9715-393f6ffd1f6a\",\"type\":\"Title\"},{\"attributes\":{},\"id\":\"10cbf5d3-b015-4709-9ee2-aed52d4e0056\",\"type\":\"HelpTool\"},{\"attributes\":{\"active_drag\":\"auto\",\"active_inspect\":\"auto\",\"active_scroll\":\"auto\",\"active_tap\":\"auto\",\"tools\":[{\"id\":\"e710fed5-4507-4f0e-bc08-c123fa70be65\",\"type\":\"PanTool\"},{\"id\":\"b13d8913-8a5f-4052-9d5b-e848f7cb7acc\",\"type\":\"WheelZoomTool\"},{\"id\":\"0da43538-c4a9-4751-b8df-827d7c076fe8\",\"type\":\"BoxZoomTool\"},{\"id\":\"0e16ffda-1fb4-4a18-b35c-6267f1aadfcb\",\"type\":\"SaveTool\"},{\"id\":\"53433735-7542-488d-8f77-d51f4f00a1da\",\"type\":\"ResetTool\"},{\"id\":\"10cbf5d3-b015-4709-9ee2-aed52d4e0056\",\"type\":\"HelpTool\"}]},\"id\":\"3305ac4a-cc9b-4855-85fd-dee95323e588\",\"type\":\"Toolbar\"},{\"attributes\":{},\"id\":\"e710fed5-4507-4f0e-bc08-c123fa70be65\",\"type\":\"PanTool\"},{\"attributes\":{},\"id\":\"e9798d0c-4e50-4513-b68d-9d63297de31c\",\"type\":\"BasicTicker\"},{\"attributes\":{},\"id\":\"dcad0804-c701-4fc0-9112-9774c8218f6c\",\"type\":\"LinearScale\"},{\"attributes\":{\"source\":{\"id\":\"9f10eae8-ce5d-4c69-857a-63c47d721d9d\",\"type\":\"ColumnDataSource\"}},\"id\":\"98c30157-acd0-4d87-a549-02dddcc93390\",\"type\":\"CDSView\"},{\"attributes\":{\"below\":[{\"id\":\"0916056e-dde9-4365-a949-8cc7b676a0b5\",\"type\":\"LinearAxis\"}],\"left\":[{\"id\":\"ebbef78a-322a-4ccb-90fb-d89000d0933e\",\"type\":\"LinearAxis\"}],\"plot_height\":300,\"renderers\":[{\"id\":\"0916056e-dde9-4365-a949-8cc7b676a0b5\",\"type\":\"LinearAxis\"},{\"id\":\"68d090cb-4e79-40ee-a345-e537de73cf0e\",\"type\":\"Grid\"},{\"id\":\"ebbef78a-322a-4ccb-90fb-d89000d0933e\",\"type\":\"LinearAxis\"},{\"id\":\"1b4674cd-e462-4cb7-9e94-36f9e6f7f510\",\"type\":\"Grid\"},{\"id\":\"04916336-5af0-483f-b28a-3fd375a309a8\",\"type\":\"BoxAnnotation\"},{\"id\":\"d5d8c6a4-2b0c-435e-a4f3-b2942847f2f4\",\"type\":\"GlyphRenderer\"}],\"title\":{\"id\":\"6145f239-e835-4602-9715-393f6ffd1f6a\",\"type\":\"Title\"},\"toolbar\":{\"id\":\"3305ac4a-cc9b-4855-85fd-dee95323e588\",\"type\":\"Toolbar\"},\"x_range\":{\"id\":\"2e824573-7bc8-4085-87eb-c06df9260445\",\"type\":\"DataRange1d\"},\"x_scale\":{\"id\":\"dcad0804-c701-4fc0-9112-9774c8218f6c\",\"type\":\"LinearScale\"},\"y_range\":{\"id\":\"58945cf4-547e-41d6-9301-30a769bd2c94\",\"type\":\"Range1d\"},\"y_scale\":{\"id\":\"8fbe3726-15a7-440a-bce7-43e5cfecc644\",\"type\":\"LinearScale\"}},\"id\":\"d9d4ab5e-6c4a-49d8-b28a-e22b54eca92e\",\"subtype\":\"Figure\",\"type\":\"Plot\"},{\"attributes\":{},\"id\":\"0e16ffda-1fb4-4a18-b35c-6267f1aadfcb\",\"type\":\"SaveTool\"},{\"attributes\":{},\"id\":\"6cf60f64-e164-4e23-bd89-65c9ec94c5d6\",\"type\":\"BasicTickFormatter\"},{\"attributes\":{\"callback\":null,\"end\":8},\"id\":\"58945cf4-547e-41d6-9301-30a769bd2c94\",\"type\":\"Range1d\"},{\"attributes\":{\"plot\":{\"id\":\"d9d4ab5e-6c4a-49d8-b28a-e22b54eca92e\",\"subtype\":\"Figure\",\"type\":\"Plot\"},\"ticker\":{\"id\":\"e9798d0c-4e50-4513-b68d-9d63297de31c\",\"type\":\"BasicTicker\"}},\"id\":\"68d090cb-4e79-40ee-a345-e537de73cf0e\",\"type\":\"Grid\"},{\"attributes\":{\"data_source\":{\"id\":\"9f10eae8-ce5d-4c69-857a-63c47d721d9d\",\"type\":\"ColumnDataSource\"},\"glyph\":{\"id\":\"fa2292e6-dc24-4ee0-9599-29988c77501b\",\"type\":\"Line\"},\"hover_glyph\":null,\"muted_glyph\":null,\"nonselection_glyph\":{\"id\":\"4bc218ed-80d2-402d-a091-e1442548d87f\",\"type\":\"Line\"},\"selection_glyph\":null,\"view\":{\"id\":\"98c30157-acd0-4d87-a549-02dddcc93390\",\"type\":\"CDSView\"}},\"id\":\"d5d8c6a4-2b0c-435e-a4f3-b2942847f2f4\",\"type\":\"GlyphRenderer\"},{\"attributes\":{\"dimension\":1,\"plot\":{\"id\":\"d9d4ab5e-6c4a-49d8-b28a-e22b54eca92e\",\"subtype\":\"Figure\",\"type\":\"Plot\"},\"ticker\":{\"id\":\"270c9671-5802-4b0e-b6c6-1b68b4db7d7e\",\"type\":\"BasicTicker\"}},\"id\":\"1b4674cd-e462-4cb7-9e94-36f9e6f7f510\",\"type\":\"Grid\"},{\"attributes\":{\"line_alpha\":0.1,\"line_color\":\"#1f77b4\",\"line_width\":3,\"x\":{\"field\":\"x\"},\"y\":{\"field\":\"y\"}},\"id\":\"4bc218ed-80d2-402d-a091-e1442548d87f\",\"type\":\"Line\"},{\"attributes\":{\"callback\":null,\"column_names\":[\"x\",\"y\"],\"data\":{\"x\":{\"__ndarray__\":\"AAAAAAAAAAB7FK5H4XqEP3sUrkfhepQ/uB6F61G4nj97FK5H4XqkP5qZmZmZmak/uB6F61G4rj/sUbgeheuxP3sUrkfherQ/CtejcD0Ktz+amZmZmZm5Pylcj8L1KLw/uB6F61G4vj+kcD0K16PAP+xRuB6F68E/MzMzMzMzwz97FK5H4XrEP8P1KFyPwsU/CtejcD0Kxz9SuB6F61HIP5qZmZmZmck/4XoUrkfhyj8pXI/C9SjMP3E9CtejcM0/uB6F61G4zj8AAAAAAADQP6RwPQrXo9A/SOF6FK5H0T/sUbgehevRP4/C9Shcj9I/MzMzMzMz0z/Xo3A9CtfTP3sUrkfhetQ/H4XrUbge1T/D9Shcj8LVP2dmZmZmZtY/CtejcD0K1z+uR+F6FK7XP1K4HoXrUdg/9ihcj8L12D+amZmZmZnZPz4K16NwPdo/4XoUrkfh2j+F61G4HoXbPylcj8L1KNw/zczMzMzM3D9xPQrXo3DdPxWuR+F6FN4/uB6F61G43j9cj8L1KFzfPwAAAAAAAOA/UrgehetR4D+kcD0K16PgP/YoXI/C9eA/SOF6FK5H4T+amZmZmZnhP+xRuB6F6+E/PgrXo3A94j+PwvUoXI/iP+F6FK5H4eI/MzMzMzMz4z+F61G4HoXjP9ejcD0K1+M/KVyPwvUo5D97FK5H4XrkP83MzMzMzOQ/H4XrUbge5T9xPQrXo3DlP8P1KFyPwuU/Fa5H4XoU5j9nZmZmZmbmP7gehetRuOY/CtejcD0K5z9cj8L1KFznP65H4XoUruc/AAAAAAAA6D9SuB6F61HoP6RwPQrXo+g/9ihcj8L16D9I4XoUrkfpP5qZmZmZmek/7FG4HoXr6T8+CtejcD3qP5DC9Shcj+o/4XoUrkfh6j8zMzMzMzPrP4XrUbgehes/16NwPQrX6z8pXI/C9SjsP3sUrkfheuw/zczMzMzM7D8fhetRuB7tP3E9CtejcO0/w/UoXI/C7T8VrkfhehTuP2dmZmZmZu4/uB6F61G47j8K16NwPQrvP1yPwvUoXO8/rkfhehSu7z8=\",\"dtype\":\"float64\",\"shape\":[100]},\"y\":{\"__ndarray__\":\"AAAAAAAAAAC5gCILDoakPDaKIqqyK3Y98zH89JHq7z03k7zMV81CPuIW1eFAjYI+/wojBHQWtT60e2hUF17gPtDvZRLpMwM/USwiFs0tIj992AHxvQo9P3PeTswPNVQ/l77p4LgTaT8SphLZZUB8P/ThyvjlS40/wR/QDI9FnD/QnjopOZ2pP/iySqbA8bU/A+pG6ELiwT8hQ+Zhw93LP3SDwYZ519Q/y1et/PII3j8SvrB0yunkP3kAEE6bN+w/2rHWHEh88j+xAqho75D3P0ZiC4JRSP0/K5Tr+kfCAUC2eGU0Cg4FQICqsYWsbQhA8ieuFdPDC0ALj9F/RfEOQI1/getw6xBAznxO58wrEkCND9GVJi0TQNrX14ms5RNAcV7EKd5OFEDtteUJ3mUUQCxSOpmAKxRAjGjXjhmkE0DTsZEgENcSQArdpGdGzhFAraCTIWOVEEDPTnYmHHIOQACC3ppdjAtAP6dMVXeSCECfWTfeR5sFQA/Ug9W4ugJAWYMDhSQBAECMoYb5D/b6P99GEcv3YfY/Ioc2JtNP8j9+vht9u4XtP+5eEe2Hcec/4865IZpV4j9fbQwlNTzcP5ZFx44mZtU/1sx91OXpzz91YBzxjGfHP1lRWtJ638A//96cEUjntz+P7R8QXqCwPy9Lz4DGsqY/o3IXrIdjnj8k3/cVGO+TP7Qp8r3pmok/EYWJDAMWgD9MA25AAcBzPxkYf9gBq2c/H94YlC6mWz8T1y8gW3FPP0AntDmFYEE/PQENBNeiMj9/EAlJ3VojP5GI9SKrbBM/rikwSMnKAj+f8d6dTnrxPjHG6C1mKN8+/dTdQxCGyj4XD2l3HHq1PojSPNU+d6A+kpbZ0CzHhz4/o7SVuhFwPkBihihJLlQ+e1/xNs9YNz6FGeMiQKAYPvCbgee+Y/c9a9TjVqGz0z2OPRfDM+KsPSZLWgyS/YE93n37ipl3Uj2MSmSEjQAePaqjFSjcQeI8ik/35kHUnjy0/ZQcViJQPLiNb+j8lPE7/QyawX3HfTuWEACjQKfmOgSd7EyHFBI6hG5wskUSozg=\",\"dtype\":\"float64\",\"shape\":[100]}}},\"id\":\"9f10eae8-ce5d-4c69-857a-63c47d721d9d\",\"type\":\"ColumnDataSource\"},{\"attributes\":{},\"id\":\"9504ca7a-23a6-431b-a262-cd1c7a2b8632\",\"type\":\"BasicTickFormatter\"},{\"attributes\":{\"bottom_units\":\"screen\",\"fill_alpha\":{\"value\":0.5},\"fill_color\":{\"value\":\"lightgrey\"},\"left_units\":\"screen\",\"level\":\"overlay\",\"line_alpha\":{\"value\":1.0},\"line_color\":{\"value\":\"black\"},\"line_dash\":[4,4],\"line_width\":{\"value\":2},\"plot\":null,\"render_mode\":\"css\",\"right_units\":\"screen\",\"top_units\":\"screen\"},\"id\":\"04916336-5af0-483f-b28a-3fd375a309a8\",\"type\":\"BoxAnnotation\"},{\"attributes\":{\"overlay\":{\"id\":\"04916336-5af0-483f-b28a-3fd375a309a8\",\"type\":\"BoxAnnotation\"}},\"id\":\"0da43538-c4a9-4751-b8df-827d7c076fe8\",\"type\":\"BoxZoomTool\"},{\"attributes\":{},\"id\":\"53433735-7542-488d-8f77-d51f4f00a1da\",\"type\":\"ResetTool\"},{\"attributes\":{},\"id\":\"b13d8913-8a5f-4052-9d5b-e848f7cb7acc\",\"type\":\"WheelZoomTool\"},{\"attributes\":{\"callback\":null},\"id\":\"2e824573-7bc8-4085-87eb-c06df9260445\",\"type\":\"DataRange1d\"},{\"attributes\":{},\"id\":\"8fbe3726-15a7-440a-bce7-43e5cfecc644\",\"type\":\"LinearScale\"},{\"attributes\":{\"formatter\":{\"id\":\"6cf60f64-e164-4e23-bd89-65c9ec94c5d6\",\"type\":\"BasicTickFormatter\"},\"plot\":{\"id\":\"d9d4ab5e-6c4a-49d8-b28a-e22b54eca92e\",\"subtype\":\"Figure\",\"type\":\"Plot\"},\"ticker\":{\"id\":\"e9798d0c-4e50-4513-b68d-9d63297de31c\",\"type\":\"BasicTicker\"}},\"id\":\"0916056e-dde9-4365-a949-8cc7b676a0b5\",\"type\":\"LinearAxis\"}],\"root_ids\":[\"d9d4ab5e-6c4a-49d8-b28a-e22b54eca92e\"]},\"title\":\"Bokeh Application\",\"version\":\"0.12.14\"}};\n",
       "  var render_items = [{\"docid\":\"55b75a24-440a-44cd-8985-6f15c8efcd9b\",\"elementid\":\"7c1a344a-9f2e-46d7-8868-0d5620d62a4b\",\"modelid\":\"d9d4ab5e-6c4a-49d8-b28a-e22b54eca92e\",\"notebook_comms_target\":\"ba472c65-20c1-469c-92ae-a7e649fd6191\"}];\n",
       "  root.Bokeh.embed.embed_items_notebook(docs_json, render_items);\n",
       "\n",
       "  }\n",
       "  if (root.Bokeh !== undefined) {\n",
       "    embed_document(root);\n",
       "  } else {\n",
       "    var attempts = 0;\n",
       "    var timer = setInterval(function(root) {\n",
       "      if (root.Bokeh !== undefined) {\n",
       "        embed_document(root);\n",
       "        clearInterval(timer);\n",
       "      }\n",
       "      attempts++;\n",
       "      if (attempts > 100) {\n",
       "        console.log(\"Bokeh: ERROR: Unable to run BokehJS code because BokehJS library is missing\")\n",
       "        clearInterval(timer);\n",
       "      }\n",
       "    }, 10, root)\n",
       "  }\n",
       "})(window);"
      ],
      "application/vnd.bokehjs_exec.v0+json": ""
     },
     "metadata": {
      "application/vnd.bokehjs_exec.v0+json": {
       "id": "d9d4ab5e-6c4a-49d8-b28a-e22b54eca92e"
      }
     },
     "output_type": "display_data"
    },
    {
     "data": {
      "application/vnd.jupyter.widget-view+json": {
       "model_id": "dab1954a911c4596a35b4608af82c2a6",
       "version_major": 2,
       "version_minor": 0
      },
      "text/html": [
       "<p>Failed to display Jupyter Widget of type <code>interactive</code>.</p>\n",
       "<p>\n",
       "  If you're reading this message in the Jupyter Notebook or JupyterLab Notebook, it may mean\n",
       "  that the widgets JavaScript is still loading. If this message persists, it\n",
       "  likely means that the widgets JavaScript library is either not installed or\n",
       "  not enabled. See the <a href=\"https://ipywidgets.readthedocs.io/en/stable/user_install.html\">Jupyter\n",
       "  Widgets Documentation</a> for setup instructions.\n",
       "</p>\n",
       "<p>\n",
       "  If you're reading this message in another frontend (for example, a static\n",
       "  rendering on GitHub or <a href=\"https://nbviewer.jupyter.org/\">NBViewer</a>),\n",
       "  it may mean that your frontend doesn't currently support widgets.\n",
       "</p>\n"
      ],
      "text/plain": [
       "interactive(children=(FloatSlider(value=1.0, description='data_a', max=20.0, step=0.5), FloatSlider(value=1.0, description='data_b', max=20.0, step=0.5), Output()), _dom_classes=('widget-interact',))"
      ]
     },
     "metadata": {},
     "output_type": "display_data"
    },
    {
     "data": {
      "text/plain": [
       "<function __main__.update>"
      ]
     },
     "execution_count": 16,
     "metadata": {},
     "output_type": "execute_result"
    }
   ],
   "source": [
    "show(p, notebook_handle=True)\n",
    "interact(update, data_a = (0, 20, 0.5), data_b = (0, 20, 0.5))"
   ]
  },
  {
   "cell_type": "markdown",
   "metadata": {},
   "source": [
    "めっちゃ遅いけど一応動く"
   ]
  },
  {
   "cell_type": "markdown",
   "metadata": {},
   "source": [
    "高速化したい  \n",
    "そもそもなぜ遅いか: update関数の中で、yの値を更新するのにとても時間がかかっている  \n",
    "\n",
    "解決策は2つ  \n",
    "* numpyとか既存のbeta分布関数を使う\n",
    "* あらかじめ全てのYを計算させておく  \n",
    "\n",
    "出来ればリアルタイムに計算させたい  \n",
    "なので、numpy.random.betaを使ってみる  \n",
    "→scipy.stats.betaに変更"
   ]
  },
  {
   "cell_type": "code",
   "execution_count": 12,
   "metadata": {},
   "outputs": [],
   "source": [
    "from scipy.stats import beta"
   ]
  },
  {
   "cell_type": "code",
   "execution_count": 13,
   "metadata": {},
   "outputs": [
    {
     "data": {
      "text/plain": [
       "nan"
      ]
     },
     "execution_count": 13,
     "metadata": {},
     "output_type": "execute_result"
    }
   ],
   "source": [
    "beta.ppf(0.5, 0, 0)"
   ]
  },
  {
   "cell_type": "markdown",
   "metadata": {},
   "source": [
    "確率を返してくれた、これで大丈夫"
   ]
  },
  {
   "cell_type": "code",
   "execution_count": 14,
   "metadata": {},
   "outputs": [],
   "source": [
    "def update_scipy(data_a = 1, data_b = 1):\n",
    "    r.data_source.data['y'] = np.array([beta.pdf(data_mu, data_a, data_b) for data_mu in data_mu_array])\n",
    "    push_notebook()"
   ]
  },
  {
   "cell_type": "code",
   "execution_count": 17,
   "metadata": {
    "scrolled": false
   },
   "outputs": [
    {
     "data": {
      "text/html": [
       "\n",
       "<div class=\"bk-root\">\n",
       "    <div class=\"bk-plotdiv\" id=\"806d67c0-810d-4861-a9bc-82852759895e\"></div>\n",
       "</div>"
      ]
     },
     "metadata": {},
     "output_type": "display_data"
    },
    {
     "data": {
      "application/javascript": [
       "(function(root) {\n",
       "  function embed_document(root) {\n",
       "    \n",
       "  var docs_json = {\"69fd4b23-1907-49b9-b1eb-e7192afc974c\":{\"roots\":{\"references\":[{\"attributes\":{\"line_color\":\"#1f77b4\",\"line_width\":3,\"x\":{\"field\":\"x\"},\"y\":{\"field\":\"y\"}},\"id\":\"fa2292e6-dc24-4ee0-9599-29988c77501b\",\"type\":\"Line\"},{\"attributes\":{\"formatter\":{\"id\":\"9504ca7a-23a6-431b-a262-cd1c7a2b8632\",\"type\":\"BasicTickFormatter\"},\"plot\":{\"id\":\"d9d4ab5e-6c4a-49d8-b28a-e22b54eca92e\",\"subtype\":\"Figure\",\"type\":\"Plot\"},\"ticker\":{\"id\":\"270c9671-5802-4b0e-b6c6-1b68b4db7d7e\",\"type\":\"BasicTicker\"}},\"id\":\"ebbef78a-322a-4ccb-90fb-d89000d0933e\",\"type\":\"LinearAxis\"},{\"attributes\":{},\"id\":\"270c9671-5802-4b0e-b6c6-1b68b4db7d7e\",\"type\":\"BasicTicker\"},{\"attributes\":{\"plot\":null,\"text\":\"Beta distribution\"},\"id\":\"6145f239-e835-4602-9715-393f6ffd1f6a\",\"type\":\"Title\"},{\"attributes\":{},\"id\":\"10cbf5d3-b015-4709-9ee2-aed52d4e0056\",\"type\":\"HelpTool\"},{\"attributes\":{\"active_drag\":\"auto\",\"active_inspect\":\"auto\",\"active_scroll\":\"auto\",\"active_tap\":\"auto\",\"tools\":[{\"id\":\"e710fed5-4507-4f0e-bc08-c123fa70be65\",\"type\":\"PanTool\"},{\"id\":\"b13d8913-8a5f-4052-9d5b-e848f7cb7acc\",\"type\":\"WheelZoomTool\"},{\"id\":\"0da43538-c4a9-4751-b8df-827d7c076fe8\",\"type\":\"BoxZoomTool\"},{\"id\":\"0e16ffda-1fb4-4a18-b35c-6267f1aadfcb\",\"type\":\"SaveTool\"},{\"id\":\"53433735-7542-488d-8f77-d51f4f00a1da\",\"type\":\"ResetTool\"},{\"id\":\"10cbf5d3-b015-4709-9ee2-aed52d4e0056\",\"type\":\"HelpTool\"}]},\"id\":\"3305ac4a-cc9b-4855-85fd-dee95323e588\",\"type\":\"Toolbar\"},{\"attributes\":{},\"id\":\"e710fed5-4507-4f0e-bc08-c123fa70be65\",\"type\":\"PanTool\"},{\"attributes\":{},\"id\":\"e9798d0c-4e50-4513-b68d-9d63297de31c\",\"type\":\"BasicTicker\"},{\"attributes\":{},\"id\":\"dcad0804-c701-4fc0-9112-9774c8218f6c\",\"type\":\"LinearScale\"},{\"attributes\":{\"source\":{\"id\":\"9f10eae8-ce5d-4c69-857a-63c47d721d9d\",\"type\":\"ColumnDataSource\"}},\"id\":\"98c30157-acd0-4d87-a549-02dddcc93390\",\"type\":\"CDSView\"},{\"attributes\":{\"below\":[{\"id\":\"0916056e-dde9-4365-a949-8cc7b676a0b5\",\"type\":\"LinearAxis\"}],\"left\":[{\"id\":\"ebbef78a-322a-4ccb-90fb-d89000d0933e\",\"type\":\"LinearAxis\"}],\"plot_height\":300,\"renderers\":[{\"id\":\"0916056e-dde9-4365-a949-8cc7b676a0b5\",\"type\":\"LinearAxis\"},{\"id\":\"68d090cb-4e79-40ee-a345-e537de73cf0e\",\"type\":\"Grid\"},{\"id\":\"ebbef78a-322a-4ccb-90fb-d89000d0933e\",\"type\":\"LinearAxis\"},{\"id\":\"1b4674cd-e462-4cb7-9e94-36f9e6f7f510\",\"type\":\"Grid\"},{\"id\":\"04916336-5af0-483f-b28a-3fd375a309a8\",\"type\":\"BoxAnnotation\"},{\"id\":\"d5d8c6a4-2b0c-435e-a4f3-b2942847f2f4\",\"type\":\"GlyphRenderer\"}],\"title\":{\"id\":\"6145f239-e835-4602-9715-393f6ffd1f6a\",\"type\":\"Title\"},\"toolbar\":{\"id\":\"3305ac4a-cc9b-4855-85fd-dee95323e588\",\"type\":\"Toolbar\"},\"x_range\":{\"id\":\"2e824573-7bc8-4085-87eb-c06df9260445\",\"type\":\"DataRange1d\"},\"x_scale\":{\"id\":\"dcad0804-c701-4fc0-9112-9774c8218f6c\",\"type\":\"LinearScale\"},\"y_range\":{\"id\":\"58945cf4-547e-41d6-9301-30a769bd2c94\",\"type\":\"Range1d\"},\"y_scale\":{\"id\":\"8fbe3726-15a7-440a-bce7-43e5cfecc644\",\"type\":\"LinearScale\"}},\"id\":\"d9d4ab5e-6c4a-49d8-b28a-e22b54eca92e\",\"subtype\":\"Figure\",\"type\":\"Plot\"},{\"attributes\":{},\"id\":\"0e16ffda-1fb4-4a18-b35c-6267f1aadfcb\",\"type\":\"SaveTool\"},{\"attributes\":{},\"id\":\"6cf60f64-e164-4e23-bd89-65c9ec94c5d6\",\"type\":\"BasicTickFormatter\"},{\"attributes\":{\"callback\":null,\"end\":8},\"id\":\"58945cf4-547e-41d6-9301-30a769bd2c94\",\"type\":\"Range1d\"},{\"attributes\":{\"plot\":{\"id\":\"d9d4ab5e-6c4a-49d8-b28a-e22b54eca92e\",\"subtype\":\"Figure\",\"type\":\"Plot\"},\"ticker\":{\"id\":\"e9798d0c-4e50-4513-b68d-9d63297de31c\",\"type\":\"BasicTicker\"}},\"id\":\"68d090cb-4e79-40ee-a345-e537de73cf0e\",\"type\":\"Grid\"},{\"attributes\":{\"data_source\":{\"id\":\"9f10eae8-ce5d-4c69-857a-63c47d721d9d\",\"type\":\"ColumnDataSource\"},\"glyph\":{\"id\":\"fa2292e6-dc24-4ee0-9599-29988c77501b\",\"type\":\"Line\"},\"hover_glyph\":null,\"muted_glyph\":null,\"nonselection_glyph\":{\"id\":\"4bc218ed-80d2-402d-a091-e1442548d87f\",\"type\":\"Line\"},\"selection_glyph\":null,\"view\":{\"id\":\"98c30157-acd0-4d87-a549-02dddcc93390\",\"type\":\"CDSView\"}},\"id\":\"d5d8c6a4-2b0c-435e-a4f3-b2942847f2f4\",\"type\":\"GlyphRenderer\"},{\"attributes\":{\"dimension\":1,\"plot\":{\"id\":\"d9d4ab5e-6c4a-49d8-b28a-e22b54eca92e\",\"subtype\":\"Figure\",\"type\":\"Plot\"},\"ticker\":{\"id\":\"270c9671-5802-4b0e-b6c6-1b68b4db7d7e\",\"type\":\"BasicTicker\"}},\"id\":\"1b4674cd-e462-4cb7-9e94-36f9e6f7f510\",\"type\":\"Grid\"},{\"attributes\":{\"line_alpha\":0.1,\"line_color\":\"#1f77b4\",\"line_width\":3,\"x\":{\"field\":\"x\"},\"y\":{\"field\":\"y\"}},\"id\":\"4bc218ed-80d2-402d-a091-e1442548d87f\",\"type\":\"Line\"},{\"attributes\":{\"callback\":null,\"column_names\":[\"x\",\"y\"],\"data\":{\"x\":{\"__ndarray__\":\"AAAAAAAAAAB7FK5H4XqEP3sUrkfhepQ/uB6F61G4nj97FK5H4XqkP5qZmZmZmak/uB6F61G4rj/sUbgeheuxP3sUrkfherQ/CtejcD0Ktz+amZmZmZm5Pylcj8L1KLw/uB6F61G4vj+kcD0K16PAP+xRuB6F68E/MzMzMzMzwz97FK5H4XrEP8P1KFyPwsU/CtejcD0Kxz9SuB6F61HIP5qZmZmZmck/4XoUrkfhyj8pXI/C9SjMP3E9CtejcM0/uB6F61G4zj8AAAAAAADQP6RwPQrXo9A/SOF6FK5H0T/sUbgehevRP4/C9Shcj9I/MzMzMzMz0z/Xo3A9CtfTP3sUrkfhetQ/H4XrUbge1T/D9Shcj8LVP2dmZmZmZtY/CtejcD0K1z+uR+F6FK7XP1K4HoXrUdg/9ihcj8L12D+amZmZmZnZPz4K16NwPdo/4XoUrkfh2j+F61G4HoXbPylcj8L1KNw/zczMzMzM3D9xPQrXo3DdPxWuR+F6FN4/uB6F61G43j9cj8L1KFzfPwAAAAAAAOA/UrgehetR4D+kcD0K16PgP/YoXI/C9eA/SOF6FK5H4T+amZmZmZnhP+xRuB6F6+E/PgrXo3A94j+PwvUoXI/iP+F6FK5H4eI/MzMzMzMz4z+F61G4HoXjP9ejcD0K1+M/KVyPwvUo5D97FK5H4XrkP83MzMzMzOQ/H4XrUbge5T9xPQrXo3DlP8P1KFyPwuU/Fa5H4XoU5j9nZmZmZmbmP7gehetRuOY/CtejcD0K5z9cj8L1KFznP65H4XoUruc/AAAAAAAA6D9SuB6F61HoP6RwPQrXo+g/9ihcj8L16D9I4XoUrkfpP5qZmZmZmek/7FG4HoXr6T8+CtejcD3qP5DC9Shcj+o/4XoUrkfh6j8zMzMzMzPrP4XrUbgehes/16NwPQrX6z8pXI/C9SjsP3sUrkfheuw/zczMzMzM7D8fhetRuB7tP3E9CtejcO0/w/UoXI/C7T8VrkfhehTuP2dmZmZmZu4/uB6F61G47j8K16NwPQrvP1yPwvUoXO8/rkfhehSu7z8=\",\"dtype\":\"float64\",\"shape\":[100]},\"y\":{\"__ndarray__\":\"AAAAAAAA8D8AAAAAAADwPwAAAAAAAPA/AAAAAAAA8D8AAAAAAADwPwAAAAAAAPA/AAAAAAAA8D8AAAAAAADwPwAAAAAAAPA/AAAAAAAA8D8AAAAAAADwPwAAAAAAAPA/AAAAAAAA8D8AAAAAAADwPwAAAAAAAPA/AAAAAAAA8D8AAAAAAADwPwAAAAAAAPA/AAAAAAAA8D8AAAAAAADwPwAAAAAAAPA/AAAAAAAA8D8AAAAAAADwPwAAAAAAAPA/AAAAAAAA8D8AAAAAAADwPwAAAAAAAPA/AAAAAAAA8D8AAAAAAADwPwAAAAAAAPA/AAAAAAAA8D8AAAAAAADwPwAAAAAAAPA/AAAAAAAA8D8AAAAAAADwPwAAAAAAAPA/AAAAAAAA8D8AAAAAAADwPwAAAAAAAPA/AAAAAAAA8D8AAAAAAADwPwAAAAAAAPA/AAAAAAAA8D8AAAAAAADwPwAAAAAAAPA/AAAAAAAA8D8AAAAAAADwPwAAAAAAAPA/AAAAAAAA8D8AAAAAAADwPwAAAAAAAPA/AAAAAAAA8D8AAAAAAADwPwAAAAAAAPA/AAAAAAAA8D8AAAAAAADwPwAAAAAAAPA/AAAAAAAA8D8AAAAAAADwPwAAAAAAAPA/AAAAAAAA8D8AAAAAAADwPwAAAAAAAPA/AAAAAAAA8D8AAAAAAADwPwAAAAAAAPA/AAAAAAAA8D8AAAAAAADwPwAAAAAAAPA/AAAAAAAA8D8AAAAAAADwPwAAAAAAAPA/AAAAAAAA8D8AAAAAAADwPwAAAAAAAPA/AAAAAAAA8D8AAAAAAADwPwAAAAAAAPA/AAAAAAAA8D8AAAAAAADwPwAAAAAAAPA/AAAAAAAA8D8AAAAAAADwPwAAAAAAAPA/AAAAAAAA8D8AAAAAAADwPwAAAAAAAPA/AAAAAAAA8D8AAAAAAADwPwAAAAAAAPA/AAAAAAAA8D8AAAAAAADwPwAAAAAAAPA/AAAAAAAA8D8AAAAAAADwPwAAAAAAAPA/AAAAAAAA8D8AAAAAAADwPwAAAAAAAPA/AAAAAAAA8D8=\",\"dtype\":\"float64\",\"shape\":[100]}}},\"id\":\"9f10eae8-ce5d-4c69-857a-63c47d721d9d\",\"type\":\"ColumnDataSource\"},{\"attributes\":{},\"id\":\"9504ca7a-23a6-431b-a262-cd1c7a2b8632\",\"type\":\"BasicTickFormatter\"},{\"attributes\":{\"bottom_units\":\"screen\",\"fill_alpha\":{\"value\":0.5},\"fill_color\":{\"value\":\"lightgrey\"},\"left_units\":\"screen\",\"level\":\"overlay\",\"line_alpha\":{\"value\":1.0},\"line_color\":{\"value\":\"black\"},\"line_dash\":[4,4],\"line_width\":{\"value\":2},\"plot\":null,\"render_mode\":\"css\",\"right_units\":\"screen\",\"top_units\":\"screen\"},\"id\":\"04916336-5af0-483f-b28a-3fd375a309a8\",\"type\":\"BoxAnnotation\"},{\"attributes\":{\"overlay\":{\"id\":\"04916336-5af0-483f-b28a-3fd375a309a8\",\"type\":\"BoxAnnotation\"}},\"id\":\"0da43538-c4a9-4751-b8df-827d7c076fe8\",\"type\":\"BoxZoomTool\"},{\"attributes\":{},\"id\":\"53433735-7542-488d-8f77-d51f4f00a1da\",\"type\":\"ResetTool\"},{\"attributes\":{},\"id\":\"b13d8913-8a5f-4052-9d5b-e848f7cb7acc\",\"type\":\"WheelZoomTool\"},{\"attributes\":{\"callback\":null},\"id\":\"2e824573-7bc8-4085-87eb-c06df9260445\",\"type\":\"DataRange1d\"},{\"attributes\":{},\"id\":\"8fbe3726-15a7-440a-bce7-43e5cfecc644\",\"type\":\"LinearScale\"},{\"attributes\":{\"formatter\":{\"id\":\"6cf60f64-e164-4e23-bd89-65c9ec94c5d6\",\"type\":\"BasicTickFormatter\"},\"plot\":{\"id\":\"d9d4ab5e-6c4a-49d8-b28a-e22b54eca92e\",\"subtype\":\"Figure\",\"type\":\"Plot\"},\"ticker\":{\"id\":\"e9798d0c-4e50-4513-b68d-9d63297de31c\",\"type\":\"BasicTicker\"}},\"id\":\"0916056e-dde9-4365-a949-8cc7b676a0b5\",\"type\":\"LinearAxis\"}],\"root_ids\":[\"d9d4ab5e-6c4a-49d8-b28a-e22b54eca92e\"]},\"title\":\"Bokeh Application\",\"version\":\"0.12.14\"}};\n",
       "  var render_items = [{\"docid\":\"69fd4b23-1907-49b9-b1eb-e7192afc974c\",\"elementid\":\"806d67c0-810d-4861-a9bc-82852759895e\",\"modelid\":\"d9d4ab5e-6c4a-49d8-b28a-e22b54eca92e\",\"notebook_comms_target\":\"6ab16a00-a210-4653-872b-254e71b653cd\"}];\n",
       "  root.Bokeh.embed.embed_items_notebook(docs_json, render_items);\n",
       "\n",
       "  }\n",
       "  if (root.Bokeh !== undefined) {\n",
       "    embed_document(root);\n",
       "  } else {\n",
       "    var attempts = 0;\n",
       "    var timer = setInterval(function(root) {\n",
       "      if (root.Bokeh !== undefined) {\n",
       "        embed_document(root);\n",
       "        clearInterval(timer);\n",
       "      }\n",
       "      attempts++;\n",
       "      if (attempts > 100) {\n",
       "        console.log(\"Bokeh: ERROR: Unable to run BokehJS code because BokehJS library is missing\")\n",
       "        clearInterval(timer);\n",
       "      }\n",
       "    }, 10, root)\n",
       "  }\n",
       "})(window);"
      ],
      "application/vnd.bokehjs_exec.v0+json": ""
     },
     "metadata": {
      "application/vnd.bokehjs_exec.v0+json": {
       "id": "d9d4ab5e-6c4a-49d8-b28a-e22b54eca92e"
      }
     },
     "output_type": "display_data"
    },
    {
     "data": {
      "application/vnd.jupyter.widget-view+json": {
       "model_id": "ba8dca3c48f64b889ba31acb5fde6913",
       "version_major": 2,
       "version_minor": 0
      },
      "text/html": [
       "<p>Failed to display Jupyter Widget of type <code>interactive</code>.</p>\n",
       "<p>\n",
       "  If you're reading this message in the Jupyter Notebook or JupyterLab Notebook, it may mean\n",
       "  that the widgets JavaScript is still loading. If this message persists, it\n",
       "  likely means that the widgets JavaScript library is either not installed or\n",
       "  not enabled. See the <a href=\"https://ipywidgets.readthedocs.io/en/stable/user_install.html\">Jupyter\n",
       "  Widgets Documentation</a> for setup instructions.\n",
       "</p>\n",
       "<p>\n",
       "  If you're reading this message in another frontend (for example, a static\n",
       "  rendering on GitHub or <a href=\"https://nbviewer.jupyter.org/\">NBViewer</a>),\n",
       "  it may mean that your frontend doesn't currently support widgets.\n",
       "</p>\n"
      ],
      "text/plain": [
       "interactive(children=(FloatSlider(value=1.0, description='data_a', max=50.0, min=0.01, step=0.01), FloatSlider(value=1.0, description='data_b', max=50.0, min=0.01, step=0.01), Output()), _dom_classes=('widget-interact',))"
      ]
     },
     "metadata": {},
     "output_type": "display_data"
    },
    {
     "data": {
      "text/plain": [
       "<function __main__.update_scipy>"
      ]
     },
     "execution_count": 17,
     "metadata": {},
     "output_type": "execute_result"
    }
   ],
   "source": [
    "show(p, notebook_handle=True)\n",
    "interact(update_scipy, data_a = (0.01, 50, 0.01), data_b = (0.01, 50, 0.01))"
   ]
  },
  {
   "cell_type": "code",
   "execution_count": null,
   "metadata": {},
   "outputs": [],
   "source": []
  },
  {
   "cell_type": "markdown",
   "metadata": {},
   "source": [
    "書けた!!!"
   ]
  },
  {
   "cell_type": "code",
   "execution_count": null,
   "metadata": {},
   "outputs": [],
   "source": []
  }
 ],
 "metadata": {
  "kernelspec": {
   "display_name": "Python 3",
   "language": "python",
   "name": "python3"
  },
  "language_info": {
   "codemirror_mode": {
    "name": "ipython",
    "version": 3
   },
   "file_extension": ".py",
   "mimetype": "text/x-python",
   "name": "python",
   "nbconvert_exporter": "python",
   "pygments_lexer": "ipython3",
   "version": "3.6.2"
  },
  "toc": {
   "nav_menu": {},
   "number_sections": true,
   "sideBar": true,
   "skip_h1_title": false,
   "toc_cell": false,
   "toc_position": {},
   "toc_section_display": true,
   "toc_window_display": false
  }
 },
 "nbformat": 4,
 "nbformat_minor": 2
}
