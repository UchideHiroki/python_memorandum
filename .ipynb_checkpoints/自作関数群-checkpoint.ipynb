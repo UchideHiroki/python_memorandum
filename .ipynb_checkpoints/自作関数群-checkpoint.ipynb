{
 "cells": [
  {
   "cell_type": "markdown",
   "metadata": {},
   "source": [
    "pd.DataFrmaeから1年単位の折れ線グラフを描く関数"
   ]
  },
  {
   "cell_type": "code",
   "execution_count": null,
   "metadata": {
    "collapsed": true
   },
   "outputs": [],
   "source": [
    "def plot_year_linegraph(df, y, fig_x=18, label=None, loc=\"upper left\", title=None, sharey=True):\n",
    "    \n",
    "    '''\n",
    "    1年単位で折れ線グラフを描く関数\n",
    "    縦の長さは年数に応じてよしなにやる\n",
    "    \n",
    "    df(pd.DataFrame): プロットしたいデータフレーム、datetime型のindexとintのyear列が入っている必要がある\n",
    "    y(str): 描画したい変数名\n",
    "    figsize(tuple): 全ての年を合わせたグラフの大きさ\n",
    "    label(str): ラベル\n",
    "    loc(str): ラベルの配置場所\n",
    "    title(str): タイトル\n",
    "    sharey(bool): y軸を揃えるかどうか\n",
    "    '''\n",
    "    \n",
    "\n",
    "    from datetime import datetime, date, timedelta\n",
    "    from matplotlib.dates import DateFormatter, MonthLocator\n",
    "    import matplotlib.ticker as ticker\n",
    "    \n",
    "    df = df.sort_index()\n",
    "    years = np.sort(df.year.unique())\n",
    "\n",
    "    fig, axes = plt.subplots(nrows=years.shape[0], ncols=1, sharey=sharey, figsize=(fig_x, years.shape[0]*3))\n",
    "    for i, year in enumerate(years):\n",
    "        df_selected = df[df.year == year]\n",
    "        axes[i].plot(df_selected.index, df_selected[y], label=label)\n",
    "    \n",
    "        # 表示形式の設定\n",
    "        mformat = DateFormatter(\"%m月\")\n",
    "        axes[i].xaxis.set_major_formatter(mformat)\n",
    "    \n",
    "        # 区切りの設定\n",
    "        mlocator = MonthLocator()\n",
    "        axes[i].xaxis.set_major_locator(mlocator)\n",
    "    \n",
    "        # 上限下限の設定\n",
    "        datemin = date(year, 1, 1)\n",
    "        datemax = date(year + 1, 1, 1)\n",
    "        axes[i].set_xlim(datemin, datemax)\n",
    "    \n",
    "        # ラベルの設定\n",
    "        if label != None:\n",
    "            axes[i].legend(loc=loc)\n",
    "        \n",
    "    # タイトルの設定\n",
    "    if title != None:\n",
    "        fig.suptitle(title)\n",
    "    \n",
    "    plt.show()\n",
    "    return "
   ]
  },
  {
   "cell_type": "code",
   "execution_count": null,
   "metadata": {
    "collapsed": true
   },
   "outputs": [],
   "source": []
  }
 ],
 "metadata": {
  "kernelspec": {
   "display_name": "Python 3",
   "language": "python",
   "name": "python3"
  },
  "language_info": {
   "codemirror_mode": {
    "name": "ipython",
    "version": 3
   },
   "file_extension": ".py",
   "mimetype": "text/x-python",
   "name": "python",
   "nbconvert_exporter": "python",
   "pygments_lexer": "ipython3",
   "version": "3.6.3"
  },
  "toc": {
   "nav_menu": {},
   "number_sections": true,
   "sideBar": true,
   "skip_h1_title": false,
   "title_cell": "Table of Contents",
   "title_sidebar": "Contents",
   "toc_cell": false,
   "toc_position": {},
   "toc_section_display": true,
   "toc_window_display": false
  }
 },
 "nbformat": 4,
 "nbformat_minor": 2
}
