{
 "cells": [
  {
   "cell_type": "markdown",
   "metadata": {},
   "source": [
    "pd.DataFrmaeから1年単位の折れ線グラフを描く関数"
   ]
  },
  {
   "cell_type": "code",
   "execution_count": null,
   "metadata": {
    "code_folding": [
     0
    ],
    "collapsed": true
   },
   "outputs": [],
   "source": [
    "# 1年単位で折れ線グラフを並べて描く関数\n",
    "def plot_year_linegraph(df, y, fig_x=18, label=None, loc=\"upper left\", title=None, sharey=True):\n",
    "    \n",
    "    '''\n",
    "    1年単位で折れ線グラフを描く関数\n",
    "    縦の長さは年数に応じてよしなにやる\n",
    "    \n",
    "    df(pd.DataFrame): プロットしたいデータフレーム、datetime型のindexとintのyear列が入っている必要がある\n",
    "    y(str): 描画したい変数名\n",
    "    figsize(tuple): 全ての年を合わせたグラフの大きさ\n",
    "    label(str): ラベル\n",
    "    loc(str): ラベルの配置場所\n",
    "    title(str): タイトル\n",
    "    sharey(bool): y軸を揃えるかどうか\n",
    "    '''\n",
    "    \n",
    "\n",
    "    from datetime import datetime, date, timedelta\n",
    "    from matplotlib.dates import DateFormatter, MonthLocator\n",
    "    import matplotlib.ticker as ticker\n",
    "    \n",
    "    df = df.sort_index()\n",
    "    years = np.sort(df.year.unique())\n",
    "\n",
    "    fig, axes = plt.subplots(nrows=years.shape[0], ncols=1, sharey=sharey, figsize=(fig_x, years.shape[0]*3))\n",
    "    for i, year in enumerate(years):\n",
    "        df_selected = df[df.year == year]\n",
    "        axes[i].plot(df_selected.index, df_selected[y], label=label)\n",
    "    \n",
    "        # 表示形式の設定\n",
    "        mformat = DateFormatter(\"%m月\")\n",
    "        axes[i].xaxis.set_major_formatter(mformat)\n",
    "    \n",
    "        # 区切りの設定\n",
    "        mlocator = MonthLocator()\n",
    "        axes[i].xaxis.set_major_locator(mlocator)\n",
    "    \n",
    "        # 上限下限の設定\n",
    "        datemin = date(year, 1, 1)\n",
    "        datemax = date(year + 1, 1, 1)\n",
    "        axes[i].set_xlim(datemin, datemax)\n",
    "    \n",
    "        # ラベルの設定\n",
    "        if label != None:\n",
    "            axes[i].legend(loc=loc)\n",
    "        \n",
    "    # タイトルの設定\n",
    "    if title != None:\n",
    "        fig.suptitle(title)\n",
    "    \n",
    "    plt.show()\n",
    "    return "
   ]
  },
  {
   "cell_type": "code",
   "execution_count": null,
   "metadata": {
    "code_folding": [
     1
    ],
    "collapsed": true
   },
   "outputs": [],
   "source": [
    "# 標準化をする自作関数\n",
    "def zscore(x, axis=None):\n",
    "    '''\n",
    "    np.arrayを標準化(平均0, 標準偏差1にする)関数\n",
    "    np.arrayを入力してnp.arrayを返す\n",
    "    \n",
    "    x(np.array): 標準化するデータ\n",
    "    axis(0 or 1): 標準化する軸、Noneはデータ全体、0は行方向、1は列方向に正規化する\n",
    "    '''\n",
    "    \n",
    "    x_mean = np.mean(x, axis=axis, keepdims=True)\n",
    "    x_std = np.std(x, axis=axis, keepdims=True) # keepdimsは返り値を(1, 1)のarrayにするかfloatにするか選ぶ\n",
    "    zscore = (x - x_mean) / x_std\n",
    "    return zscore"
   ]
  },
  {
   "cell_type": "code",
   "execution_count": null,
   "metadata": {
    "code_folding": [
     1
    ],
    "collapsed": true
   },
   "outputs": [],
   "source": [
    "# indexに2000年の日付、columnに年が入った移動平均のDFを作る関数\n",
    "def get_nday_walking_mean(df, y, ndays=1, min_periods=1):\n",
    "    '''\n",
    "    indexにpd.Timestamp型の日付、columnに描画したい変数のみを入れたdfを入れると\n",
    "    indexに2000年で同じ月日が入って、columnにyearが入るdfを返す関数\n",
    "    \n",
    "    df(pd.DataFrame): indexにpd.Timestamp型の日付、columnに描画したい変数が入ったdf\n",
    "    y(str): 使用する変数名\n",
    "    ndays(int): 何日移動平均を描画するか\n",
    "    min_periods(int): 移動平均において非NAが何日以上あれば欠測値にしないか\n",
    "    '''\n",
    "    \n",
    "    # dfを日付単位で行を整え、移動平均を求める\n",
    "    df_allday = df.resample('D').mean().sort_index()\n",
    "    df_allday['day'] = df_allday.index.day\n",
    "    df_allday['month'] = df_allday.index.month\n",
    "    df_allday['year'] = df_allday.index.year\n",
    "    df_allday['walking_mean'] = df_allday[y].rolling(window=ndays, min_periods=min_periods, center=True).mean()\n",
    "    \n",
    "    # 月日でピボットする\n",
    "    df_pivoted = df_allday.pivot_table(values='walking_mean', index=['month', 'day'], columns=['year'], dropna=False).reset_index(drop=False)\n",
    "    \n",
    "    # 2000年(閏年)のDFを作る\n",
    "    index_2000 = pd.date_range('2000/01/01', periods=366)\n",
    "    df_2000 = pd.DataFrame(index=index_2000)\n",
    "    df_2000['month'] = df_2000.index.month\n",
    "    df_2000['day'] = df_2000.index.day\n",
    "    \n",
    "    # 月日でマージする\n",
    "    df_merged = pd.merge(df_2000, df_pivoted, how='left', on=['month', 'day'])\n",
    "    \n",
    "    # indexを振り直して月日の行を削除\n",
    "    df_merged.index = index_2000\n",
    "    df_merged = df_merged.drop(['month', 'day'], axis=1)\n",
    "    \n",
    "    return df_merged"
   ]
  },
  {
   "cell_type": "code",
   "execution_count": null,
   "metadata": {
    "code_folding": [
     4
    ],
    "collapsed": true
   },
   "outputs": [],
   "source": [
    "from matplotlib.dates import DateFormatter, MonthLocator\n",
    "\n",
    "\n",
    "# get_nday_walking_meanで作ったDFを入れて、折れ線グラフを重ねて描画する関数\n",
    "def plot_year_multiline(df, years = None, xlim=None, ylim=None, title=None, figsize=(12, 8)):\n",
    "    '''\n",
    "    indexに1年分の日付、columnに年、valueに描画したい値が入ったDFから折れ線グラフを重ねて描画する関数\n",
    "    \n",
    "    df(pd.DataFrame): indexに1年分の日付、columnに年、valueに描画したい値が入ったDF\n",
    "    years(list): 描画したい年をintで入れたlist\n",
    "    xlim(tuple): X軸の描画範囲を指定する、始点と終点にpd.Timestampが入ったtuple\n",
    "    ylim(tuple): Y軸の描画範囲を指定する、始点と終点にint or floatが入ったtuple\n",
    "    title(str): タイトル\n",
    "    figsize(tuple): 描画の大きさを指定するtuple\n",
    "    '''\n",
    "\n",
    "    fig = plt.figure(figsize=figsize)\n",
    "    ax = fig.add_subplot(111)\n",
    "    \n",
    "    if years is not None:\n",
    "        [ax.plot(tmp.index, tmp.loc[:,column], label=column, alpha=0.5) for column in tmp.columns if column in years]\n",
    "    else:\n",
    "        [ax.plot(tmp.index, tmp.loc[:,column], label=column, alpha=0.5) for column in tmp.columns]\n",
    "\n",
    "    # Formatterの設定\n",
    "    mformatter = DateFormatter('%m月')\n",
    "\n",
    "    # Locatorの設定\n",
    "    mlocator = MonthLocator()\n",
    "    \n",
    "    # xlim, ylimの設定\n",
    "    if xlim is not None:\n",
    "        ax.set_xlim(xlim)\n",
    "    \n",
    "    if ylim is not None:\n",
    "        ax.set_ylim(ylim)\n",
    "        \n",
    "    # タイトルの設定\n",
    "    if title is not None:\n",
    "        ax.set_title(title)\n",
    "\n",
    "    ax.xaxis.set_major_formatter(mformatter)\n",
    "    ax.xaxis.set_major_locator(mlocator)\n",
    "    ax.legend()\n",
    "\n",
    "    plt.show()\n",
    "    return"
   ]
  },
  {
   "cell_type": "code",
   "execution_count": null,
   "metadata": {
    "code_folding": [
     1
    ],
    "collapsed": true
   },
   "outputs": [],
   "source": [
    "# indexに日付が入ったDFから曜日毎の箱ひげ図を描画する関数\n",
    "def plot_boxplot_per_weekday(df, y, ylim=None, yticks=None, title=None, figsize=(12, 8)):\n",
    "    '''\n",
    "    indexに日付が入ったDFから任意の変数に対して曜日ごとの箱ひげ図を描く関数\n",
    "    \n",
    "    df(pd.DataFrame): 使用するDF、indexに日付が入っている必要がある\n",
    "    y(str): 描画したい変数名\n",
    "    ylim(tuple): 描画するyの範囲を指定したtuple\n",
    "    yticks(tuple): 描画するyの区切りを指定したtuple, (始点、終点、区切り単位)\n",
    "    title(str): タイトル\n",
    "    figsize(tuple): 描画する大きさ\n",
    "    '''\n",
    "    \n",
    "    # 曜日列の設定\n",
    "    df_add_weekday = deepcopy(df)\n",
    "    df_add_weekday['weekday'] = df_add_weekday.index.weekday\n",
    "    \n",
    "    # 曜日ラベルのlistを作成\n",
    "    weekday_label = [\"月曜\", \"火曜\", \"水曜\", \"木曜\", \"金曜\", \"土曜\", \"日曜\"]\n",
    "    \n",
    "    # 曜日毎に値を代入したlistを束ねたlistを作る\n",
    "    data_list = []\n",
    "    for week_num, df_grouped in df.groupby('weekday'):\n",
    "        data_list.append(df_grouped[y].tolist())\n",
    "        \n",
    "    # 描画\n",
    "    fig = plt.figure(figsize=figsize)\n",
    "    ax = fig.add_subplot(111)\n",
    "    ax.boxplot(data_list)\n",
    "    \n",
    "    ax.set_xticklabels(weekday_label)\n",
    "    if ylim is not None:\n",
    "        ax.set_ylim(ylim)\n",
    "    if yticks is not None:\n",
    "        ax.set_yticks(np.arange(yticks))\n",
    "    if title is not None:\n",
    "        ax.set_title(title)\n",
    "        \n",
    "    return plt"
   ]
  }
 ],
 "metadata": {
  "kernelspec": {
   "display_name": "Python 3",
   "language": "python",
   "name": "python3"
  },
  "language_info": {
   "codemirror_mode": {
    "name": "ipython",
    "version": 3
   },
   "file_extension": ".py",
   "mimetype": "text/x-python",
   "name": "python",
   "nbconvert_exporter": "python",
   "pygments_lexer": "ipython3",
   "version": "3.6.3"
  },
  "toc": {
   "nav_menu": {},
   "number_sections": true,
   "sideBar": true,
   "skip_h1_title": false,
   "title_cell": "Table of Contents",
   "title_sidebar": "Contents",
   "toc_cell": false,
   "toc_position": {},
   "toc_section_display": true,
   "toc_window_display": false
  }
 },
 "nbformat": 4,
 "nbformat_minor": 2
}
