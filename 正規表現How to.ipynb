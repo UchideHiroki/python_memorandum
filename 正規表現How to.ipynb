{
 "cells": [
  {
   "cell_type": "markdown",
   "metadata": {},
   "source": [
    "自然言語処理周りが弱いので、これをやる  \n",
    "[素人の自然言語処理100本ノック: まとめ](https://qiita.com/segavvy/items/fb50ba8097d59475f760)"
   ]
  },
  {
   "cell_type": "markdown",
   "metadata": {},
   "source": [
    "先にPython公式の[正規表現How to](https://docs.python.jp/3/howto/regex.html)を終わらせる  \n",
    "Qiitaで[正規表現の使い方をまとめたサイト](https://qiita.com/wanwanland/items/ce272419dde2f95cdabc)が会ったので、使い方はそこを参考に、ここでは検索演算子を中心に説明する"
   ]
  },
  {
   "cell_type": "markdown",
   "metadata": {},
   "source": [
    "[忘れっぽい人のための正規表現チートシート](https://qiita.com/tossh/items/635aea9a529b9deb3038)と  \n",
    "[正規表現の使い方をまとめたサイト](https://qiita.com/wanwanland/items/ce272419dde2f95cdabc)を読めばそれで事足りる気もする"
   ]
  },
  {
   "cell_type": "markdown",
   "metadata": {},
   "source": [
    "# 文字のマッチング\n",
    "\n",
    "特殊文字 | 説明 | 例・同値の表現 | \n",
    ":---: | :--- | :---\n",
    "[] | 文字クラスの指定 | [a-c]: a, b, cのいずれか\n",
    "^ | 否定論理記号 | [^5]: \"5\"を除く任意の文字\n",
    "\\ | 特殊シーケンスの合図や特殊文字のエスケープ | \\\\[: \"[\"の検索\n",
    "\\w | 任意の英数字文字 | [a-zA-Z0-9_]\n",
    "\\W | 任意の非英数字文字 | [^a-zA-Z0-9_]\n",
    "\\d | 任意の10進数 | [0-9]\n",
    "\\D | 任意の非数字文字 | [^0-9]\n",
    "\\s | 任意の空白文字 | [ \\t\\n\\r\\f\\v]\n",
    "\\S | 任意の非空白文字 | [^ \\t\\n\\r\\f\\v]\n"
   ]
  },
  {
   "cell_type": "markdown",
   "metadata": {},
   "source": [
    "これらのシーケンスは文字クラスの中に含められる 例) [\\s,.]: 空白文字 or \",\" or \".\"にマッチ"
   ]
  },
  {
   "cell_type": "markdown",
   "metadata": {},
   "source": [
    "# 繰り返し"
   ]
  },
  {
   "cell_type": "markdown",
   "metadata": {},
   "source": [
    "特殊文字 | 説明 | 例・定義\n",
    ":---: | :---: | :---:\n",
    "\\* | 該当文字数がいくつでも反応 | ca*t: ct, cat, caat, とかとか\n",
    "\\+ | 該当文字数が0の場合には反応しない | ca+t: cat, caat, とかとか\n",
    "\\? | 該当文字数が0, 1の場合にのみ反応する | home-?brew: homebrew, home-brew\n",
    "\\{m} | m個の場合にのみ反応する | a/{1}: a/\n",
    "\\{m,} | m個以上の場合にのみ反応する | a/{1}: a/, a//, ,,,\n",
    "\\{m, n} | m個以上n個以下の場合に反応する | a/{1, 3}b: a/b, a//b, a///b('/'の数)\n",
    "\n",
    "\n",
    "{m, n}は万能だが冗長なので、*や+、?が利用出来る場合はそちらを使った方がよい\n",
    "\n",
    "* **\\*の発展的な書き方**  \n",
    " a[bcd]*b をabcbdにマッチされる場合、  \n",
    " aが正規表現にマッチ  \n",
    " ⇩  \n",
    " abcbdまで読み込み  \n",
    " ⇩  \n",
    " 終わりにbが無い  \n",
    " ⇩  \n",
    " abcbまで読み込み  \n",
    " ⇩  \n",
    " 終わりがd  \n",
    " ⇩  \n",
    " abcまで読み込み  \n",
    " ⇩  \n",
    " 終わりがb  \n",
    " ⇩  \n",
    " マッチ成功    \n",
    " というように動く"
   ]
  },
  {
   "cell_type": "markdown",
   "metadata": {},
   "source": [
    "# 正規表現の使い方"
   ]
  },
  {
   "cell_type": "markdown",
   "metadata": {},
   "source": [
    "## Pythonで正規表現を扱うモジュール"
   ]
  },
  {
   "cell_type": "markdown",
   "metadata": {},
   "source": [
    "Pythonでは正規表現を扱うreモジュールがある"
   ]
  },
  {
   "cell_type": "code",
   "execution_count": 1,
   "metadata": {
    "collapsed": true
   },
   "outputs": [],
   "source": [
    "import re"
   ]
  },
  {
   "cell_type": "markdown",
   "metadata": {},
   "source": [
    "## コンパイル方法"
   ]
  },
  {
   "cell_type": "markdown",
   "metadata": {},
   "source": [
    "正規表現をコンパイルする方法は、パターンを事前にコンパイルする方法(1)と検索時にパターンを設定する方法(2)がある  \n",
    "文字列内のバックスラッシュをそのまま扱えるようになるので、**パターンの最初にrを付ける**よう心がける"
   ]
  },
  {
   "cell_type": "markdown",
   "metadata": {},
   "source": [
    "通常の文字列 | raw string記法\n",
    ":---: | :---:\n",
    "\"ab\\*\" | r\"ab\\*\" \n",
    "\"\\\\\\\\section | r\"\\\\section\n"
   ]
  },
  {
   "cell_type": "code",
   "execution_count": 3,
   "metadata": {
    "collapsed": true
   },
   "outputs": [],
   "source": [
    "# (1)\n",
    "pattern = r\"ca\"\n",
    "text = \"caabsacasca\"\n",
    "repatter = re.compile(pattern)\n",
    "matchOB = repatter.match(text)"
   ]
  },
  {
   "cell_type": "code",
   "execution_count": 7,
   "metadata": {
    "collapsed": true
   },
   "outputs": [],
   "source": [
    "# (2)\n",
    "pattern = r\"ca\"\n",
    "text = \"caabsacasca\"\n",
    "matchOB = re.match(pattern , text)"
   ]
  },
  {
   "cell_type": "markdown",
   "metadata": {},
   "source": [
    "## 検索方法"
   ]
  },
  {
   "cell_type": "markdown",
   "metadata": {},
   "source": [
    "関数 | 目的\n",
    ":--- | :---\n",
    "match() | 文字列の先頭がマッチするか判定\n",
    "search() | 文字列の中でマッチするか判定、最初の箇所しか返さない\n",
    "findall() | 文字列の中でパターンとマッチする部分すべてをリストで返す\n",
    "finditer() | 文字列の中でパターンとマッチする部分をiteratorとして返す"
   ]
  },
  {
   "cell_type": "markdown",
   "metadata": {},
   "source": [
    "### match()"
   ]
  },
  {
   "cell_type": "code",
   "execution_count": 12,
   "metadata": {},
   "outputs": [
    {
     "name": "stdout",
     "output_type": "stream",
     "text": [
      "ca\n",
      "0\n",
      "2\n",
      "(0, 2)\n"
     ]
    },
    {
     "data": {
      "text/plain": [
       "(0, 2)"
      ]
     },
     "execution_count": 12,
     "metadata": {},
     "output_type": "execute_result"
    }
   ],
   "source": [
    "print(matchOB.group()) # 正規表現にマッチした文字列を返す\n",
    "print(matchOB.start()) # マッチした開始位置を返す\n",
    "print(matchOB.end()) # マッチした終了位置を返す\n",
    "print(matchOB.span()) # マッチの位置(start, end)を含むタプルを返す\n",
    "matchOB.start(), matchOB.end() # カンマ区切りはタプルになる"
   ]
  },
  {
   "cell_type": "markdown",
   "metadata": {},
   "source": [
    "### search()"
   ]
  },
  {
   "cell_type": "code",
   "execution_count": 16,
   "metadata": {},
   "outputs": [
    {
     "name": "stdout",
     "output_type": "stream",
     "text": [
      "<_sre.SRE_Match object; span=(0, 2), match='ca'>\n",
      "ca\n",
      "0\n",
      "2\n",
      "(0, 2)\n"
     ]
    }
   ],
   "source": [
    "pattern = r\"ca\"\n",
    "text = \"caabsacasca\"\n",
    "matchOB = re.search(pattern , text)\n",
    "\n",
    "if matchOB:\n",
    "    print(matchOB)\n",
    "    print(matchOB.group()) # マッチした文字列を返す # ca\n",
    "    print(matchOB.start()) # マッチの開始位置を返す # 0\n",
    "    print(matchOB.end())  # マッチの終了位置を返す # 2\n",
    "    print(matchOB.span())  # マッチの位置(start, end)を含むタプルを返す # (0, 2)"
   ]
  },
  {
   "cell_type": "markdown",
   "metadata": {},
   "source": [
    "### findall()"
   ]
  },
  {
   "cell_type": "code",
   "execution_count": 15,
   "metadata": {},
   "outputs": [
    {
     "name": "stdout",
     "output_type": "stream",
     "text": [
      "['ca', 'ca', 'ca']\n"
     ]
    }
   ],
   "source": [
    "pattern = r\"ca\"\n",
    "text = \"caabsacasca\"\n",
    "# パターンにマッチしたすべてをリストとして返す\n",
    "matchedList = re.findall(pattern,text)\n",
    "if matchedList:\n",
    "    print(matchedList) # ['34567', '34567']"
   ]
  },
  {
   "cell_type": "code",
   "execution_count": 17,
   "metadata": {},
   "outputs": [
    {
     "name": "stdout",
     "output_type": "stream",
     "text": [
      "ca\n",
      "0\n",
      "2\n",
      "(0, 2)\n",
      "ca\n",
      "6\n",
      "8\n",
      "(6, 8)\n",
      "ca\n",
      "9\n",
      "11\n",
      "(9, 11)\n"
     ]
    }
   ],
   "source": [
    "pattern = r\"ca\"\n",
    "text = \"caabsacasca\"\n",
    "# パターンにマッチしたすべてをイテレータとして返す\n",
    "iterator = re.finditer(pattern ,text)\n",
    "for match in iterator:\n",
    "    print(match.group())   # 1回目: ca      2回目: ca   \n",
    "    print(match.start())    # 1回目: 0       2回目: 6      \n",
    "    print(match.end())      # 1回目: 2       2回目: 8      \n",
    "    print(match.span())    # 1回目: (0, 2)  2回目: (6, 8)"
   ]
  },
  {
   "cell_type": "markdown",
   "metadata": {},
   "source": [
    "## プロパティ"
   ]
  },
  {
   "cell_type": "markdown",
   "metadata": {},
   "source": [
    "正規表現で検索をかけるときに、条件を設定することが出来る  \n",
    "\n",
    "プロパティ | 意味\n",
    ":-- | :--\n",
    "ASCII, A | \\w, \\b, \\s, そして \\d などをそれぞれのプロパティをもつ ASCII 文字だけにマッチさせる\n",
    "DOTALL, S | . を改行を含む任意の文字にマッチするようにします\n",
    "IGNORECASE, I | 大文字小文字を区別しないマッチを行います\n",
    "MULTILINE, M | ^ や $ に作用して、複数行にマッチング\n",
    "VERBOSE, X (for ‘extended’) | 冗長な正規表現を利用できるようにして、よりきれいで理解しやすくまとめることができます。"
   ]
  },
  {
   "cell_type": "code",
   "execution_count": 20,
   "metadata": {},
   "outputs": [
    {
     "name": "stdout",
     "output_type": "stream",
     "text": [
      "AVscsa\n"
     ]
    }
   ],
   "source": [
    "pattern = r\"avSCSA\"\n",
    "text = \"AVscsa\"\n",
    "\n",
    "#コンパイルするパターン\n",
    "repatter = re.compile(pattern, re.IGNORECASE)#大文字小文字の区別をしない\n",
    "matchOB = repatter.match(text)\n",
    "\n",
    "#コンパイルしないパターン\n",
    "matchOB = re.match(pattern , text, re.IGNORECASE)#大文字小文字の区別をしない\n",
    "\n",
    "if matchOB:\n",
    "    print(matchOB.group())  # ''"
   ]
  },
  {
   "cell_type": "code",
   "execution_count": 1,
   "metadata": {},
   "outputs": [
    {
     "data": {
      "text/plain": [
       "b'\\xe6\\x97\\xa5\\xe6\\x9c\\xac\\xe8\\xaa\\x9e'"
      ]
     },
     "execution_count": 1,
     "metadata": {},
     "output_type": "execute_result"
    }
   ],
   "source": [
    "u = \"日本語\".encode(\"utf-8\")\n",
    "u"
   ]
  },
  {
   "cell_type": "code",
   "execution_count": 2,
   "metadata": {},
   "outputs": [
    {
     "data": {
      "text/plain": [
       "'日本語'"
      ]
     },
     "execution_count": 2,
     "metadata": {},
     "output_type": "execute_result"
    }
   ],
   "source": [
    "s = u.decode(\"utf-8\")\n",
    "s"
   ]
  },
  {
   "cell_type": "code",
   "execution_count": 7,
   "metadata": {},
   "outputs": [
    {
     "data": {
      "text/plain": [
       "(bytes, str)"
      ]
     },
     "execution_count": 7,
     "metadata": {},
     "output_type": "execute_result"
    }
   ],
   "source": [
    "type(u), type(s)"
   ]
  },
  {
   "cell_type": "code",
   "execution_count": 3,
   "metadata": {},
   "outputs": [
    {
     "data": {
      "text/plain": [
       "str"
      ]
     },
     "execution_count": 3,
     "metadata": {},
     "output_type": "execute_result"
    }
   ],
   "source": [
    "type(u\"日本語\")"
   ]
  },
  {
   "cell_type": "markdown",
   "metadata": {},
   "source": [
    "# 特殊文字"
   ]
  },
  {
   "cell_type": "markdown",
   "metadata": {},
   "source": [
    "特殊文字 | 説明 | 例・同値の表現\n",
    ":---: | :--- | :---\n",
    "shift+¥(縦棒])　|  比較演算子(or) | \n",
    "^ | 行の先頭にマッチ | \"^From\": 文章の冒頭にFromが書いてあった場合のみ反応\n",
    "$ | 行の末尾にマッチ |　\"}\\$\": 文章の末尾に}が書いてあった場合のみ反応\n",
    "\\\\A | 文字列の先頭にのみマッチ | \n",
    "\\\\Z | 文字列の末尾にのみマッチ |\n",
    "\\\\b | 納入箇所が空白か非英数文字の場合にのみマッチ | r'\\\\bclass\\\\b':  \"class\"がそのものの単語だった場合のみ反応\n",
    "\\\\B | \\\\bの逆 | \n",
    "\n",
    "\n",
    "* MULTILINEを指定しない場合は^と\\\\A、$とZは同様の動きをする\n",
    "* \\\\bはパターンの文字列の前にrをつける、つけない場合はバックスラッシュが認識されない"
   ]
  },
  {
   "cell_type": "code",
   "execution_count": 42,
   "metadata": {},
   "outputs": [
    {
     "name": "stdout",
     "output_type": "stream",
     "text": [
      "(3, 8)\n",
      "(0, 5)\n",
      "None\n"
     ]
    }
   ],
   "source": [
    "# \\bの挙動確認\n",
    "p = re.compile(r'\\bclass\\b')\n",
    "print(p.search('no class at all').span())\n",
    "print(p.search('class at all').span())\n",
    "print(p.search('no classes at all'))"
   ]
  },
  {
   "cell_type": "markdown",
   "metadata": {},
   "source": [
    "# グルーピング"
   ]
  },
  {
   "cell_type": "markdown",
   "metadata": {},
   "source": [
    "パターンに複数の文字を使いたい場合、()で囲むとよい  "
   ]
  },
  {
   "cell_type": "code",
   "execution_count": 4,
   "metadata": {},
   "outputs": [
    {
     "data": {
      "text/plain": [
       "(0, 20)"
      ]
     },
     "execution_count": 4,
     "metadata": {},
     "output_type": "execute_result"
    }
   ],
   "source": [
    "m = re.match(r\"(ab)*\", \"abababababababababab\")\n",
    "m.span()"
   ]
  },
  {
   "cell_type": "markdown",
   "metadata": {},
   "source": [
    "()はネストされた検索にも使える"
   ]
  },
  {
   "cell_type": "code",
   "execution_count": 22,
   "metadata": {},
   "outputs": [
    {
     "name": "stdout",
     "output_type": "stream",
     "text": [
      "abc\n",
      "ab\n",
      "a\n",
      "(0, 3)\n",
      "(0, 2)\n",
      "(0, 1)\n",
      "('a', 'ab', 'abc')\n",
      "('ab', 'a')\n"
     ]
    }
   ],
   "source": [
    "m = re.match(r\"((a)b)c\", \"abccabc\")\n",
    "print(m.group(0))\n",
    "print(m.group(1))\n",
    "print(m.group(2))\n",
    "print(m.span(0))\n",
    "print(m.span(1))\n",
    "print(m.span(2))\n",
    "print(m.group(2, 1, 0))\n",
    "print(m.groups())"
   ]
  },
  {
   "cell_type": "markdown",
   "metadata": {},
   "source": [
    "# キャプション"
   ]
  },
  {
   "cell_type": "markdown",
   "metadata": {},
   "source": [
    "パターンの文字列の一部を再利用することが出来る  \n",
    "例えば、#や$で書き込まれた文字をマッチしたいときは  "
   ]
  },
  {
   "cell_type": "markdown",
   "metadata": {},
   "source": [
    "([#$]).+\\1"
   ]
  },
  {
   "cell_type": "markdown",
   "metadata": {},
   "source": [
    "と記述する  \n",
    "このコードは()で囲まれた文字を\\1に代入している  \n",
    "\n",
    "キャプションは複数使うことができて、  "
   ]
  },
  {
   "cell_type": "markdown",
   "metadata": {},
   "source": [
    "(a)(b)c(\\2)(\\1) "
   ]
  },
  {
   "cell_type": "markdown",
   "metadata": {},
   "source": [
    "と記述する場合、abcbaという文字に一致する"
   ]
  },
  {
   "cell_type": "markdown",
   "metadata": {},
   "source": [
    "# 文字列の変更"
   ]
  },
  {
   "cell_type": "markdown",
   "metadata": {},
   "source": [
    "文字列を置き換えたり分割したりする"
   ]
  },
  {
   "cell_type": "markdown",
   "metadata": {},
   "source": [
    "関数 | 目的\n",
    ":--- | :---\n",
    "split(パターン, [分割回数]) | 文字列をパターンを用いてリストに分割する、正規表現がマッチした全ての場所で分割を行う\n",
    "sub(置き換えられる単語, 置き換える単語, [置き換える回数]) | 正規表現にマッチした全ての文字列を発見し、別の文字列に置き換える\n",
    "subn(置き換えられる単語, 置き換える単語, [置き換える回数]) | sub()と同じだが、置き換えた文章と置き換えた回数のタプルを返す"
   ]
  },
  {
   "cell_type": "code",
   "execution_count": 26,
   "metadata": {
    "scrolled": true
   },
   "outputs": [
    {
     "data": {
      "text/plain": [
       "['This', 'is', 'a', 'test, short and sweet, of split().']"
      ]
     },
     "execution_count": 26,
     "metadata": {},
     "output_type": "execute_result"
    }
   ],
   "source": [
    "p = re.compile(r'\\W+', )\n",
    "p.split('This is a test, short and sweet, of split().', maxsplit=3)"
   ]
  },
  {
   "cell_type": "code",
   "execution_count": 28,
   "metadata": {},
   "outputs": [
    {
     "data": {
      "text/plain": [
       "('colour socks and colour shoes', 2)"
      ]
     },
     "execution_count": 28,
     "metadata": {},
     "output_type": "execute_result"
    }
   ],
   "source": [
    "re.subn('(blue|white|red)', 'colour', 'blue socks and red shoes')"
   ]
  }
 ],
 "metadata": {
  "kernelspec": {
   "display_name": "Python 3",
   "language": "python",
   "name": "python3"
  },
  "language_info": {
   "codemirror_mode": {
    "name": "ipython",
    "version": 3
   },
   "file_extension": ".py",
   "mimetype": "text/x-python",
   "name": "python",
   "nbconvert_exporter": "python",
   "pygments_lexer": "ipython3",
   "version": "3.6.2"
  },
  "toc": {
   "nav_menu": {},
   "number_sections": true,
   "sideBar": true,
   "skip_h1_title": false,
   "toc_cell": false,
   "toc_position": {},
   "toc_section_display": true,
   "toc_window_display": false
  }
 },
 "nbformat": 4,
 "nbformat_minor": 2
}
