{
 "cells": [
  {
   "cell_type": "markdown",
   "metadata": {},
   "source": [
    "pd.DataFrmaeから1年単位の折れ線グラフを描く関数"
   ]
  },
  {
   "cell_type": "code",
   "execution_count": null,
   "metadata": {
    "code_folding": [
     0
    ],
    "collapsed": true
   },
   "outputs": [],
   "source": [
    "# 1年単位で折れ線グラフを並べて描く関数\n",
    "def plot_year_linegraph(df, y, fig_x=18, label=None, loc=\"upper left\", title=None, sharey=True):\n",
    "    \n",
    "    '''\n",
    "    1年単位で折れ線グラフを描く関数\n",
    "    縦の長さは年数に応じてよしなにやる\n",
    "    \n",
    "    df(pd.DataFrame): プロットしたいデータフレーム、datetime型のindexとintのyear列が入っている必要がある\n",
    "    y(str): 描画したい変数名\n",
    "    figsize(tuple): 全ての年を合わせたグラフの大きさ\n",
    "    label(str): ラベル\n",
    "    loc(str): ラベルの配置場所\n",
    "    title(str): タイトル\n",
    "    sharey(bool): y軸を揃えるかどうか\n",
    "    '''\n",
    "    \n",
    "\n",
    "    from datetime import datetime, date, timedelta\n",
    "    from matplotlib.dates import DateFormatter, MonthLocator\n",
    "    import matplotlib.ticker as ticker\n",
    "    \n",
    "    df = df.sort_index()\n",
    "    years = np.sort(df.year.unique())\n",
    "\n",
    "    fig, axes = plt.subplots(nrows=years.shape[0], ncols=1, sharey=sharey, figsize=(fig_x, years.shape[0]*3))\n",
    "    for i, year in enumerate(years):\n",
    "        df_selected = df[df.year == year]\n",
    "        axes[i].plot(df_selected.index, df_selected[y], label=label)\n",
    "    \n",
    "        # 表示形式の設定\n",
    "        mformat = DateFormatter(\"%m月\")\n",
    "        axes[i].xaxis.set_major_formatter(mformat)\n",
    "    \n",
    "        # 区切りの設定\n",
    "        mlocator = MonthLocator()\n",
    "        axes[i].xaxis.set_major_locator(mlocator)\n",
    "    \n",
    "        # 上限下限の設定\n",
    "        datemin = date(year, 1, 1)\n",
    "        datemax = date(year + 1, 1, 1)\n",
    "        axes[i].set_xlim(datemin, datemax)\n",
    "    \n",
    "        # ラベルの設定\n",
    "        if label != None:\n",
    "            axes[i].legend(loc=loc)\n",
    "        \n",
    "    # タイトルの設定\n",
    "    if title != None:\n",
    "        fig.suptitle(title)\n",
    "    \n",
    "    plt.show()\n",
    "    return "
   ]
  },
  {
   "cell_type": "code",
   "execution_count": null,
   "metadata": {
    "code_folding": [
     0
    ],
    "collapsed": true
   },
   "outputs": [],
   "source": [
    "# 1年単位で折れ線グラフを同時に描く関数\n",
    "def plot_year_linegraph_multi_layer(df, y, ymin=None, ymax=None, figsize=(18, 8), title=None, alpha=1):\n",
    "    '''\n",
    "    1年単位で折れ線グラフを重ねて描く関数\n",
    "    \n",
    "    df(pd.DataFrame): プロットしたいデータフレーム、datetime型のindexとintのyear列が入っている必要がある\n",
    "    y(str): 描画したい変数名\n",
    "    ymin(int): yの最小値\n",
    "    ymax(int): yの最大値、範囲を指定したいときはymin, ymax両方指定する\n",
    "    figsize(tuple): 全ての年を合わせたグラフの大きさ\n",
    "    title(str): タイトル\n",
    "    alpha(float): 線の濃さ\n",
    "    '''\n",
    "    \n",
    "    from datetime import datetime, date, timedelta\n",
    "    from matplotlib.dates import DateFormatter, MonthLocator\n",
    "    import matplotlib.ticker as ticker\n",
    "    import pandas as pd\n",
    "    import numpy as np\n",
    "    \n",
    "\n",
    "    df = df.sort_index()\n",
    "    years = np.sort(df[\"year\"].unique())\n",
    "\n",
    "    fig = plt.figure(figsize=(18, 8))\n",
    "    ax = fig.add_subplot(111)\n",
    "    for i, year in enumerate(years):\n",
    "        df_selected = df[df[\"year\"] == year]\n",
    "        ax.plot(df_selected.index - timedelta(days=365 * i), df_selected[y], label=year, alpha=alpha)\n",
    "        \n",
    "        # ylimの設定\n",
    "        if  ymin!= None and ymax != None:\n",
    "            ax.set_ylim(ymin, ymax)\n",
    "\n",
    "    # タイトルの設定\n",
    "    if title != None:\n",
    "        ax.set_title(title)\n",
    "    \n",
    "    # 表示形式の設定\n",
    "    mformatter = DateFormatter(\"%m月\")\n",
    "    ax.xaxis.set_major_formatter(mformatter)\n",
    "    \n",
    "    # 区切りの設定\n",
    "    mlocator = MonthLocator()\n",
    "    ax.xaxis.set_major_locator(mlocator)\n",
    "\n",
    "    # ラベルの設定\n",
    "    ax.legend()\n",
    "\n",
    "    plt.show()\n",
    "    return"
   ]
  },
  {
   "cell_type": "code",
   "execution_count": null,
   "metadata": {
    "code_folding": [
     1
    ],
    "collapsed": true
   },
   "outputs": [],
   "source": [
    "# 標準化をする自作関数\n",
    "def zscore(x, axis=None):\n",
    "    '''\n",
    "    np.arrayを標準化(平均0, 標準偏差1にする)関数\n",
    "    np.arrayを入力してnp.arrayを返す\n",
    "    \n",
    "    x(np.array): 標準化するデータ\n",
    "    axis(0 or 1): 標準化する軸、Noneはデータ全体、0は行方向、1は列方向に正規化する\n",
    "    '''\n",
    "    \n",
    "    x_mean = np.mean(x, axis=axis, keepdims=True)\n",
    "    x_std = np.std(x, axis=axis, keepdims=True) # keepdimsは返り値を(1, 1)のarrayにするかfloatにするか選ぶ\n",
    "    zscore = (x - x_mean) / x_std\n",
    "    return zscore"
   ]
  }
 ],
 "metadata": {
  "kernelspec": {
   "display_name": "Python 3",
   "language": "python",
   "name": "python3"
  },
  "language_info": {
   "codemirror_mode": {
    "name": "ipython",
    "version": 3
   },
   "file_extension": ".py",
   "mimetype": "text/x-python",
   "name": "python",
   "nbconvert_exporter": "python",
   "pygments_lexer": "ipython3",
   "version": "3.6.3"
  },
  "toc": {
   "nav_menu": {},
   "number_sections": true,
   "sideBar": true,
   "skip_h1_title": false,
   "title_cell": "Table of Contents",
   "title_sidebar": "Contents",
   "toc_cell": false,
   "toc_position": {},
   "toc_section_display": true,
   "toc_window_display": false
  }
 },
 "nbformat": 4,
 "nbformat_minor": 2
}
